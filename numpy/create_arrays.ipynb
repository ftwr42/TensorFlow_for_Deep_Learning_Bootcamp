{
 "cells": [
  {
   "cell_type": "code",
   "id": "initial_id",
   "metadata": {
    "collapsed": true,
    "ExecuteTime": {
     "end_time": "2025-02-01T14:25:27.381945Z",
     "start_time": "2025-02-01T14:25:27.231640Z"
    }
   },
   "source": "import numpy as np",
   "outputs": [],
   "execution_count": 1
  },
  {
   "metadata": {
    "ExecuteTime": {
     "end_time": "2025-02-01T14:25:48.128195Z",
     "start_time": "2025-02-01T14:25:48.122730Z"
    }
   },
   "cell_type": "code",
   "source": [
    "a1 = np.array([1, 2, 3])\n",
    "a1"
   ],
   "id": "3e327abcabce37e8",
   "outputs": [
    {
     "data": {
      "text/plain": [
       "array([1, 2, 3])"
      ]
     },
     "execution_count": 3,
     "metadata": {},
     "output_type": "execute_result"
    }
   ],
   "execution_count": 3
  },
  {
   "metadata": {
    "ExecuteTime": {
     "end_time": "2025-02-01T14:26:17.907811Z",
     "start_time": "2025-02-01T14:26:17.901857Z"
    }
   },
   "cell_type": "code",
   "source": [
    "m1 = np.array([[1, 2, 3], [4, 5, 6]])\n",
    "m1"
   ],
   "id": "d34b3e19b192dc0d",
   "outputs": [
    {
     "data": {
      "text/plain": [
       "array([[1, 2, 3],\n",
       "       [4, 5, 6]])"
      ]
     },
     "execution_count": 4,
     "metadata": {},
     "output_type": "execute_result"
    }
   ],
   "execution_count": 4
  },
  {
   "metadata": {
    "ExecuteTime": {
     "end_time": "2025-02-01T14:28:53.043361Z",
     "start_time": "2025-02-01T14:28:53.034654Z"
    }
   },
   "cell_type": "code",
   "source": [
    "r1 = np.arange(0, 10, 2)\n",
    "r1"
   ],
   "id": "827c008e820cfbeb",
   "outputs": [
    {
     "data": {
      "text/plain": [
       "array([0, 2, 4, 6, 8])"
      ]
     },
     "execution_count": 5,
     "metadata": {},
     "output_type": "execute_result"
    }
   ],
   "execution_count": 5
  },
  {
   "metadata": {
    "ExecuteTime": {
     "end_time": "2025-02-01T14:30:41.061684Z",
     "start_time": "2025-02-01T14:30:41.056956Z"
    }
   },
   "cell_type": "code",
   "source": [
    "l1 = np.linspace(0, 10, 11) # in 11 elements from 0 to 10\n",
    "l1"
   ],
   "id": "1e706087f6eeab8a",
   "outputs": [
    {
     "data": {
      "text/plain": [
       "array([ 0.,  1.,  2.,  3.,  4.,  5.,  6.,  7.,  8.,  9., 10.])"
      ]
     },
     "execution_count": 12,
     "metadata": {},
     "output_type": "execute_result"
    }
   ],
   "execution_count": 12
  }
 ],
 "metadata": {
  "kernelspec": {
   "display_name": "Python 3",
   "language": "python",
   "name": "python3"
  },
  "language_info": {
   "codemirror_mode": {
    "name": "ipython",
    "version": 2
   },
   "file_extension": ".py",
   "mimetype": "text/x-python",
   "name": "python",
   "nbconvert_exporter": "python",
   "pygments_lexer": "ipython2",
   "version": "2.7.6"
  }
 },
 "nbformat": 4,
 "nbformat_minor": 5
}
