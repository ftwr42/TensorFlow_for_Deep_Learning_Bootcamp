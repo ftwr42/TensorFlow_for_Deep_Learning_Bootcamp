{
 "cells": [
  {
   "metadata": {},
   "cell_type": "markdown",
   "source": "Classification means that dependent on the input it might be 1, 2 or 3 as result and the solution is given as percentage factor.",
   "id": "5deea2ef31fdbe71"
  },
  {
   "metadata": {
    "ExecuteTime": {
     "end_time": "2025-04-02T15:31:03.092270Z",
     "start_time": "2025-04-02T15:30:49.270935Z"
    }
   },
   "cell_type": "code",
   "source": [
    "import numpy as np\n",
    "import tensorflow as tf\n",
    "import matplotlib.pyplot as plt\n",
    "import pandas as pd\n",
    "from tensorflow import keras as ks\n",
    "import os\n",
    "import logging\n",
    "os.environ['TF_CPP_MIN_LOG_LEVEL'] = '2'\n",
    "logging.getLogger('absl').setLevel(logging.ERROR)"
   ],
   "id": "d365f7e6ce41e265",
   "outputs": [],
   "execution_count": 1
  },
  {
   "metadata": {},
   "cell_type": "code",
   "outputs": [],
   "execution_count": null,
   "source": [
    "model = ks.Sequential()\n",
    "model.add(ks.layers.Input(shape=(224, 224, 3)))\n",
    "model.add(ks.layers.Dense(64, activation='relu'))\n",
    "model.add(ks.layers.Dense(3, activation='softmax'))\n",
    "\n",
    "model.compile(optimizer=ks.optimizers.Adam(), loss=ks.losses.CategoricalCrossentropy(), metrics=['accuracy'])"
   ],
   "id": "e2c5c5aeb608efa"
  },
  {
   "metadata": {},
   "cell_type": "code",
   "outputs": [],
   "execution_count": null,
   "source": "",
   "id": "c189962d3deda54f"
  }
 ],
 "metadata": {
  "kernelspec": {
   "display_name": "Python 3",
   "language": "python",
   "name": "python3"
  },
  "language_info": {
   "codemirror_mode": {
    "name": "ipython",
    "version": 2
   },
   "file_extension": ".py",
   "mimetype": "text/x-python",
   "name": "python",
   "nbconvert_exporter": "python",
   "pygments_lexer": "ipython2",
   "version": "2.7.6"
  }
 },
 "nbformat": 4,
 "nbformat_minor": 5
}
