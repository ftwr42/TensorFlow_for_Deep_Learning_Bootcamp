{
 "cells": [
  {
   "cell_type": "code",
   "id": "initial_id",
   "metadata": {
    "collapsed": true,
    "ExecuteTime": {
     "end_time": "2025-03-21T16:51:44.072835Z",
     "start_time": "2025-03-21T16:51:39.906179Z"
    }
   },
   "source": [
    "import numpy as np\n",
    "import tensorflow as tf\n",
    "import matplotlib.pyplot as plt\n",
    "import pandas as pd\n",
    "from tensorflow import keras as ks\n",
    "import os\n",
    "import logging\n",
    "os.environ['TF_CPP_MIN_LOG_LEVEL'] = '2'\n",
    "logging.getLogger('absl').setLevel(logging.ERROR)"
   ],
   "outputs": [],
   "execution_count": 1
  },
  {
   "metadata": {
    "ExecuteTime": {
     "end_time": "2025-03-21T17:25:30.014725Z",
     "start_time": "2025-03-21T17:25:30.005699Z"
    }
   },
   "cell_type": "code",
   "source": [
    "x_original = tf.constant([-7.0, -4.0, -1.0, 2.0, 5.0, 8.0, 11.0, 14.0])\n",
    "y_original = tf.constant([3.0, 6.0, 9.0, 12.0, 15.0, 18.0, 21.0, 24.0])\n",
    "\n",
    "x = tf.identity(x_original)\n",
    "y = tf.identity(y_original)\n",
    "\n",
    "x_original, y_original"
   ],
   "id": "6ba306d45ad9c9d",
   "outputs": [
    {
     "data": {
      "text/plain": [
       "(<tf.Tensor: shape=(8,), dtype=float32, numpy=array([-7., -4., -1.,  2.,  5.,  8., 11., 14.], dtype=float32)>,\n",
       " <tf.Tensor: shape=(8,), dtype=float32, numpy=array([ 3.,  6.,  9., 12., 15., 18., 21., 24.], dtype=float32)>)"
      ]
     },
     "execution_count": 23,
     "metadata": {},
     "output_type": "execute_result"
    }
   ],
   "execution_count": 23
  },
  {
   "metadata": {
    "ExecuteTime": {
     "end_time": "2025-03-21T17:25:31.844065Z",
     "start_time": "2025-03-21T17:25:31.702942Z"
    }
   },
   "cell_type": "code",
   "source": [
    "plt.scatter(x=x_original, y=y_original, c='green', label='original data')\n",
    "plt.legend()"
   ],
   "id": "b95e58bc5ca43cb",
   "outputs": [
    {
     "data": {
      "text/plain": [
       "<matplotlib.legend.Legend at 0x30d4c6d00>"
      ]
     },
     "execution_count": 24,
     "metadata": {},
     "output_type": "execute_result"
    },
    {
     "data": {
      "text/plain": [
       "<Figure size 640x480 with 1 Axes>"
      ],
      "image/png": "[encoded data removed]"
     },
     "metadata": {},
     "output_type": "display_data"
    }
   ],
   "execution_count": 24
  },
  {
   "metadata": {
    "ExecuteTime": {
     "end_time": "2025-03-21T17:30:42.521652Z",
     "start_time": "2025-03-21T17:30:42.469833Z"
    }
   },
   "cell_type": "code",
   "source": [
    "div = int(len(x)*0.7)\n",
    "\n",
    "x_train = x[0:div]\n",
    "y_train = y[0:div]\n",
    "\n",
    "x_test = x[div:]\n",
    "y_test = y[div:]\n",
    "\n",
    "div, x_train, y_train, x_test, y_test"
   ],
   "id": "f0e883a8c8e0459f",
   "outputs": [
    {
     "data": {
      "text/plain": [
       "(5,\n",
       " <tf.Tensor: shape=(5,), dtype=float32, numpy=array([-7., -4., -1.,  2.,  5.], dtype=float32)>,\n",
       " <tf.Tensor: shape=(5,), dtype=float32, numpy=array([ 3.,  6.,  9., 12., 15.], dtype=float32)>,\n",
       " <tf.Tensor: shape=(3,), dtype=float32, numpy=array([ 8., 11., 14.], dtype=float32)>,\n",
       " <tf.Tensor: shape=(3,), dtype=float32, numpy=array([18., 21., 24.], dtype=float32)>)"
      ]
     },
     "execution_count": 27,
     "metadata": {},
     "output_type": "execute_result"
    }
   ],
   "execution_count": 27
  },
  {
   "metadata": {
    "ExecuteTime": {
     "end_time": "2025-03-21T17:42:38.990573Z",
     "start_time": "2025-03-21T17:42:38.370100Z"
    }
   },
   "cell_type": "code",
   "source": [
    "tf.random.set_seed(13)\n",
    "\n",
    "model1 = ks.Sequential()\n",
    "model1.add(ks.layers.Input(shape=(1,)))\n",
    "model1.add(ks.layers.Dense(10))\n",
    "model1.add(ks.layers.Dense(10))\n",
    "model1.add(ks.layers.Dense(1))\n",
    "\n",
    "model1.compile(loss=ks.losses.mae,\n",
    "               optimizer=ks.optimizers.SGD(learning_rate=0.01),\n",
    "               metrics=['mae'])\n",
    "model1.fit(x_train,y_train,epochs=20)"
   ],
   "id": "7f8d809d490b0e90",
   "outputs": [
    {
     "name": "stdout",
     "output_type": "stream",
     "text": [
      "Epoch 1/20\n",
      "1/1 [==============================] - 0s 251ms/step - loss: 9.1875 - mse: 96.2927\n",
      "Epoch 2/20\n",
      "1/1 [==============================] - 0s 12ms/step - loss: 9.0969 - mse: 96.1874\n",
      "Epoch 3/20\n",
      "1/1 [==============================] - 0s 10ms/step - loss: 9.0069 - mse: 96.1913\n",
      "Epoch 4/20\n",
      "1/1 [==============================] - 0s 11ms/step - loss: 8.9171 - mse: 96.3025\n",
      "Epoch 5/20\n",
      "1/1 [==============================] - 0s 11ms/step - loss: 8.8274 - mse: 96.5206\n",
      "Epoch 6/20\n",
      "1/1 [==============================] - 0s 9ms/step - loss: 8.7374 - mse: 96.8463\n",
      "Epoch 7/20\n",
      "1/1 [==============================] - 0s 10ms/step - loss: 8.6469 - mse: 97.2815\n",
      "Epoch 8/20\n",
      "1/1 [==============================] - 0s 11ms/step - loss: 8.5556 - mse: 97.8298\n",
      "Epoch 9/20\n",
      "1/1 [==============================] - 0s 10ms/step - loss: 8.4632 - mse: 98.4960\n",
      "Epoch 10/20\n",
      "1/1 [==============================] - 0s 10ms/step - loss: 8.3695 - mse: 99.2861\n",
      "Epoch 11/20\n",
      "1/1 [==============================] - 0s 10ms/step - loss: 8.2742 - mse: 100.2079\n",
      "Epoch 12/20\n",
      "1/1 [==============================] - 0s 9ms/step - loss: 8.2244 - mse: 101.2710\n",
      "Epoch 13/20\n",
      "1/1 [==============================] - 0s 11ms/step - loss: 8.2504 - mse: 97.8273\n",
      "Epoch 14/20\n",
      "1/1 [==============================] - 0s 10ms/step - loss: 8.1526 - mse: 98.8007\n",
      "Epoch 15/20\n",
      "1/1 [==============================] - 0s 8ms/step - loss: 8.1820 - mse: 99.9230\n",
      "Epoch 16/20\n",
      "1/1 [==============================] - 0s 9ms/step - loss: 8.1271 - mse: 96.3785\n",
      "Epoch 17/20\n",
      "1/1 [==============================] - 0s 10ms/step - loss: 8.0648 - mse: 97.4096\n",
      "Epoch 18/20\n",
      "1/1 [==============================] - 0s 10ms/step - loss: 8.1004 - mse: 94.0116\n",
      "Epoch 19/20\n",
      "1/1 [==============================] - 0s 9ms/step - loss: 7.9987 - mse: 94.9533\n",
      "Epoch 20/20\n",
      "1/1 [==============================] - 0s 10ms/step - loss: 8.0220 - mse: 96.0501\n"
     ]
    },
    {
     "data": {
      "text/plain": [
       "<keras.src.callbacks.History at 0x312aca850>"
      ]
     },
     "execution_count": 46,
     "metadata": {},
     "output_type": "execute_result"
    }
   ],
   "execution_count": 46
  },
  {
   "metadata": {
    "ExecuteTime": {
     "end_time": "2025-03-21T17:42:55.426768Z",
     "start_time": "2025-03-21T17:42:55.294967Z"
    }
   },
   "cell_type": "code",
   "source": "model1.evaluate(x=x_test, y=y_test)",
   "id": "5ca7bc60c752955a",
   "outputs": [
    {
     "name": "stdout",
     "output_type": "stream",
     "text": [
      "1/1 [==============================] - 0s 98ms/step - loss: 23.2029 - mse: 548.0419\n"
     ]
    },
    {
     "data": {
      "text/plain": [
       "[23.202871322631836, 548.0418701171875]"
      ]
     },
     "execution_count": 47,
     "metadata": {},
     "output_type": "execute_result"
    }
   ],
   "execution_count": 47
  },
  {
   "metadata": {
    "ExecuteTime": {
     "end_time": "2025-03-21T17:43:07.533263Z",
     "start_time": "2025-03-21T17:43:07.463991Z"
    }
   },
   "cell_type": "code",
   "source": [
    "print(x_test)\n",
    "print(y_test)\n",
    "model1.predict(x_test)"
   ],
   "id": "3f50f62a0688471e",
   "outputs": [
    {
     "name": "stdout",
     "output_type": "stream",
     "text": [
      "tf.Tensor([ 8. 11. 14.], shape=(3,), dtype=float32)\n",
      "tf.Tensor([18. 21. 24.], shape=(3,), dtype=float32)\n",
      "1/1 [==============================] - 0s 36ms/step\n"
     ]
    },
    {
     "data": {
      "text/plain": [
       "array([[-1.3945848],\n",
       "       [-2.2028701],\n",
       "       [-3.0111544]], dtype=float32)"
      ]
     },
     "execution_count": 48,
     "metadata": {},
     "output_type": "execute_result"
    }
   ],
   "execution_count": 48
  }
 ],
 "metadata": {
  "kernelspec": {
   "display_name": "Python 3",
   "language": "python",
   "name": "python3"
  },
  "language_info": {
   "codemirror_mode": {
    "name": "ipython",
    "version": 2
   },
   "file_extension": ".py",
   "mimetype": "text/x-python",
   "name": "python",
   "nbconvert_exporter": "python",
   "pygments_lexer": "ipython2",
   "version": "2.7.6"
  }
 },
 "nbformat": 4,
 "nbformat_minor": 5
}
