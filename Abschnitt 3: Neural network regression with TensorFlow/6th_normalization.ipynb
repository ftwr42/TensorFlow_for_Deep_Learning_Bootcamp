{
 "cells": [
  {
   "metadata": {
    "ExecuteTime": {
     "end_time": "2025-03-29T13:12:22.025469Z",
     "start_time": "2025-03-29T13:12:22.022374Z"
    }
   },
   "cell_type": "code",
   "source": [
    "import numpy as np\n",
    "import tensorflow as tf\n",
    "import matplotlib.pyplot as plt\n",
    "import pandas as pd\n",
    "from tensorflow import keras as ks\n",
    "import os\n",
    "import logging\n",
    "os.environ['TF_CPP_MIN_LOG_LEVEL'] = '2'\n",
    "logging.getLogger('absl').setLevel(logging.ERROR)"
   ],
   "id": "b464901acf843d33",
   "outputs": [],
   "execution_count": 86
  },
  {
   "metadata": {
    "collapsed": true,
    "ExecuteTime": {
     "end_time": "2025-03-29T13:12:22.037460Z",
     "start_time": "2025-03-29T13:12:22.030606Z"
    }
   },
   "cell_type": "code",
   "source": "insurance_dataset_original = pd.read_csv('insurance.csv')",
   "id": "initial_id",
   "outputs": [],
   "execution_count": 87
  },
  {
   "metadata": {
    "ExecuteTime": {
     "end_time": "2025-03-29T13:12:22.060871Z",
     "start_time": "2025-03-29T13:12:22.051573Z"
    }
   },
   "cell_type": "code",
   "source": [
    "insurance = insurance_dataset_original.copy()\n",
    "insurance"
   ],
   "id": "78219a922f62f19c",
   "outputs": [
    {
     "data": {
      "text/plain": [
       "      age     sex     bmi  children smoker     region      charges\n",
       "0      19  female  27.900         0    yes  southwest  16884.92400\n",
       "1      18    male  33.770         1     no  southeast   1725.55230\n",
       "2      28    male  33.000         3     no  southeast   4449.46200\n",
       "3      33    male  22.705         0     no  northwest  21984.47061\n",
       "4      32    male  28.880         0     no  northwest   3866.85520\n",
       "...   ...     ...     ...       ...    ...        ...          ...\n",
       "1333   50    male  30.970         3     no  northwest  10600.54830\n",
       "1334   18  female  31.920         0     no  northeast   2205.98080\n",
       "1335   18  female  36.850         0     no  southeast   1629.83350\n",
       "1336   21  female  25.800         0     no  southwest   2007.94500\n",
       "1337   61  female  29.070         0    yes  northwest  29141.36030\n",
       "\n",
       "[1338 rows x 7 columns]"
      ],
      "text/html": [
       "<div>\n",
       "<style scoped>\n",
       "    .dataframe tbody tr th:only-of-type {\n",
       "        vertical-align: middle;\n",
       "    }\n",
       "\n",
       "    .dataframe tbody tr th {\n",
       "        vertical-align: top;\n",
       "    }\n",
       "\n",
       "    .dataframe thead th {\n",
       "        text-align: right;\n",
       "    }\n",
       "</style>\n",
       "<table border=\"1\" class=\"dataframe\">\n",
       "  <thead>\n",
       "    <tr style=\"text-align: right;\">\n",
       "      <th></th>\n",
       "      <th>age</th>\n",
       "      <th>sex</th>\n",
       "      <th>bmi</th>\n",
       "      <th>children</th>\n",
       "      <th>smoker</th>\n",
       "      <th>region</th>\n",
       "      <th>charges</th>\n",
       "    </tr>\n",
       "  </thead>\n",
       "  <tbody>\n",
       "    <tr>\n",
       "      <th>0</th>\n",
       "      <td>19</td>\n",
       "      <td>female</td>\n",
       "      <td>27.900</td>\n",
       "      <td>0</td>\n",
       "      <td>yes</td>\n",
       "      <td>southwest</td>\n",
       "      <td>16884.92400</td>\n",
       "    </tr>\n",
       "    <tr>\n",
       "      <th>1</th>\n",
       "      <td>18</td>\n",
       "      <td>male</td>\n",
       "      <td>33.770</td>\n",
       "      <td>1</td>\n",
       "      <td>no</td>\n",
       "      <td>southeast</td>\n",
       "      <td>1725.55230</td>\n",
       "    </tr>\n",
       "    <tr>\n",
       "      <th>2</th>\n",
       "      <td>28</td>\n",
       "      <td>male</td>\n",
       "      <td>33.000</td>\n",
       "      <td>3</td>\n",
       "      <td>no</td>\n",
       "      <td>southeast</td>\n",
       "      <td>4449.46200</td>\n",
       "    </tr>\n",
       "    <tr>\n",
       "      <th>3</th>\n",
       "      <td>33</td>\n",
       "      <td>male</td>\n",
       "      <td>22.705</td>\n",
       "      <td>0</td>\n",
       "      <td>no</td>\n",
       "      <td>northwest</td>\n",
       "      <td>21984.47061</td>\n",
       "    </tr>\n",
       "    <tr>\n",
       "      <th>4</th>\n",
       "      <td>32</td>\n",
       "      <td>male</td>\n",
       "      <td>28.880</td>\n",
       "      <td>0</td>\n",
       "      <td>no</td>\n",
       "      <td>northwest</td>\n",
       "      <td>3866.85520</td>\n",
       "    </tr>\n",
       "    <tr>\n",
       "      <th>...</th>\n",
       "      <td>...</td>\n",
       "      <td>...</td>\n",
       "      <td>...</td>\n",
       "      <td>...</td>\n",
       "      <td>...</td>\n",
       "      <td>...</td>\n",
       "      <td>...</td>\n",
       "    </tr>\n",
       "    <tr>\n",
       "      <th>1333</th>\n",
       "      <td>50</td>\n",
       "      <td>male</td>\n",
       "      <td>30.970</td>\n",
       "      <td>3</td>\n",
       "      <td>no</td>\n",
       "      <td>northwest</td>\n",
       "      <td>10600.54830</td>\n",
       "    </tr>\n",
       "    <tr>\n",
       "      <th>1334</th>\n",
       "      <td>18</td>\n",
       "      <td>female</td>\n",
       "      <td>31.920</td>\n",
       "      <td>0</td>\n",
       "      <td>no</td>\n",
       "      <td>northeast</td>\n",
       "      <td>2205.98080</td>\n",
       "    </tr>\n",
       "    <tr>\n",
       "      <th>1335</th>\n",
       "      <td>18</td>\n",
       "      <td>female</td>\n",
       "      <td>36.850</td>\n",
       "      <td>0</td>\n",
       "      <td>no</td>\n",
       "      <td>southeast</td>\n",
       "      <td>1629.83350</td>\n",
       "    </tr>\n",
       "    <tr>\n",
       "      <th>1336</th>\n",
       "      <td>21</td>\n",
       "      <td>female</td>\n",
       "      <td>25.800</td>\n",
       "      <td>0</td>\n",
       "      <td>no</td>\n",
       "      <td>southwest</td>\n",
       "      <td>2007.94500</td>\n",
       "    </tr>\n",
       "    <tr>\n",
       "      <th>1337</th>\n",
       "      <td>61</td>\n",
       "      <td>female</td>\n",
       "      <td>29.070</td>\n",
       "      <td>0</td>\n",
       "      <td>yes</td>\n",
       "      <td>northwest</td>\n",
       "      <td>29141.36030</td>\n",
       "    </tr>\n",
       "  </tbody>\n",
       "</table>\n",
       "<p>1338 rows × 7 columns</p>\n",
       "</div>"
      ]
     },
     "execution_count": 88,
     "metadata": {},
     "output_type": "execute_result"
    }
   ],
   "execution_count": 88
  },
  {
   "metadata": {
    "ExecuteTime": {
     "end_time": "2025-03-29T13:12:22.080815Z",
     "start_time": "2025-03-29T13:12:22.077829Z"
    }
   },
   "cell_type": "code",
   "source": [
    "from sklearn.compose import make_column_transformer\n",
    "from sklearn.preprocessing import MinMaxScaler, OneHotEncoder\n",
    "from sklearn.model_selection import train_test_split"
   ],
   "id": "58d64194b939346b",
   "outputs": [],
   "execution_count": 89
  },
  {
   "metadata": {
    "ExecuteTime": {
     "end_time": "2025-03-29T13:12:22.124391Z",
     "start_time": "2025-03-29T13:12:22.112444Z"
    }
   },
   "cell_type": "code",
   "source": "insurance",
   "id": "f131471c62aebc83",
   "outputs": [
    {
     "data": {
      "text/plain": [
       "      age     sex     bmi  children smoker     region      charges\n",
       "0      19  female  27.900         0    yes  southwest  16884.92400\n",
       "1      18    male  33.770         1     no  southeast   1725.55230\n",
       "2      28    male  33.000         3     no  southeast   4449.46200\n",
       "3      33    male  22.705         0     no  northwest  21984.47061\n",
       "4      32    male  28.880         0     no  northwest   3866.85520\n",
       "...   ...     ...     ...       ...    ...        ...          ...\n",
       "1333   50    male  30.970         3     no  northwest  10600.54830\n",
       "1334   18  female  31.920         0     no  northeast   2205.98080\n",
       "1335   18  female  36.850         0     no  southeast   1629.83350\n",
       "1336   21  female  25.800         0     no  southwest   2007.94500\n",
       "1337   61  female  29.070         0    yes  northwest  29141.36030\n",
       "\n",
       "[1338 rows x 7 columns]"
      ],
      "text/html": [
       "<div>\n",
       "<style scoped>\n",
       "    .dataframe tbody tr th:only-of-type {\n",
       "        vertical-align: middle;\n",
       "    }\n",
       "\n",
       "    .dataframe tbody tr th {\n",
       "        vertical-align: top;\n",
       "    }\n",
       "\n",
       "    .dataframe thead th {\n",
       "        text-align: right;\n",
       "    }\n",
       "</style>\n",
       "<table border=\"1\" class=\"dataframe\">\n",
       "  <thead>\n",
       "    <tr style=\"text-align: right;\">\n",
       "      <th></th>\n",
       "      <th>age</th>\n",
       "      <th>sex</th>\n",
       "      <th>bmi</th>\n",
       "      <th>children</th>\n",
       "      <th>smoker</th>\n",
       "      <th>region</th>\n",
       "      <th>charges</th>\n",
       "    </tr>\n",
       "  </thead>\n",
       "  <tbody>\n",
       "    <tr>\n",
       "      <th>0</th>\n",
       "      <td>19</td>\n",
       "      <td>female</td>\n",
       "      <td>27.900</td>\n",
       "      <td>0</td>\n",
       "      <td>yes</td>\n",
       "      <td>southwest</td>\n",
       "      <td>16884.92400</td>\n",
       "    </tr>\n",
       "    <tr>\n",
       "      <th>1</th>\n",
       "      <td>18</td>\n",
       "      <td>male</td>\n",
       "      <td>33.770</td>\n",
       "      <td>1</td>\n",
       "      <td>no</td>\n",
       "      <td>southeast</td>\n",
       "      <td>1725.55230</td>\n",
       "    </tr>\n",
       "    <tr>\n",
       "      <th>2</th>\n",
       "      <td>28</td>\n",
       "      <td>male</td>\n",
       "      <td>33.000</td>\n",
       "      <td>3</td>\n",
       "      <td>no</td>\n",
       "      <td>southeast</td>\n",
       "      <td>4449.46200</td>\n",
       "    </tr>\n",
       "    <tr>\n",
       "      <th>3</th>\n",
       "      <td>33</td>\n",
       "      <td>male</td>\n",
       "      <td>22.705</td>\n",
       "      <td>0</td>\n",
       "      <td>no</td>\n",
       "      <td>northwest</td>\n",
       "      <td>21984.47061</td>\n",
       "    </tr>\n",
       "    <tr>\n",
       "      <th>4</th>\n",
       "      <td>32</td>\n",
       "      <td>male</td>\n",
       "      <td>28.880</td>\n",
       "      <td>0</td>\n",
       "      <td>no</td>\n",
       "      <td>northwest</td>\n",
       "      <td>3866.85520</td>\n",
       "    </tr>\n",
       "    <tr>\n",
       "      <th>...</th>\n",
       "      <td>...</td>\n",
       "      <td>...</td>\n",
       "      <td>...</td>\n",
       "      <td>...</td>\n",
       "      <td>...</td>\n",
       "      <td>...</td>\n",
       "      <td>...</td>\n",
       "    </tr>\n",
       "    <tr>\n",
       "      <th>1333</th>\n",
       "      <td>50</td>\n",
       "      <td>male</td>\n",
       "      <td>30.970</td>\n",
       "      <td>3</td>\n",
       "      <td>no</td>\n",
       "      <td>northwest</td>\n",
       "      <td>10600.54830</td>\n",
       "    </tr>\n",
       "    <tr>\n",
       "      <th>1334</th>\n",
       "      <td>18</td>\n",
       "      <td>female</td>\n",
       "      <td>31.920</td>\n",
       "      <td>0</td>\n",
       "      <td>no</td>\n",
       "      <td>northeast</td>\n",
       "      <td>2205.98080</td>\n",
       "    </tr>\n",
       "    <tr>\n",
       "      <th>1335</th>\n",
       "      <td>18</td>\n",
       "      <td>female</td>\n",
       "      <td>36.850</td>\n",
       "      <td>0</td>\n",
       "      <td>no</td>\n",
       "      <td>southeast</td>\n",
       "      <td>1629.83350</td>\n",
       "    </tr>\n",
       "    <tr>\n",
       "      <th>1336</th>\n",
       "      <td>21</td>\n",
       "      <td>female</td>\n",
       "      <td>25.800</td>\n",
       "      <td>0</td>\n",
       "      <td>no</td>\n",
       "      <td>southwest</td>\n",
       "      <td>2007.94500</td>\n",
       "    </tr>\n",
       "    <tr>\n",
       "      <th>1337</th>\n",
       "      <td>61</td>\n",
       "      <td>female</td>\n",
       "      <td>29.070</td>\n",
       "      <td>0</td>\n",
       "      <td>yes</td>\n",
       "      <td>northwest</td>\n",
       "      <td>29141.36030</td>\n",
       "    </tr>\n",
       "  </tbody>\n",
       "</table>\n",
       "<p>1338 rows × 7 columns</p>\n",
       "</div>"
      ]
     },
     "execution_count": 90,
     "metadata": {},
     "output_type": "execute_result"
    }
   ],
   "execution_count": 90
  },
  {
   "metadata": {
    "ExecuteTime": {
     "end_time": "2025-03-29T13:12:22.198669Z",
     "start_time": "2025-03-29T13:12:22.188726Z"
    }
   },
   "cell_type": "code",
   "source": [
    "ct = make_column_transformer(\n",
    "    (MinMaxScaler(), ['age', 'bmi', 'children']),\n",
    "    (OneHotEncoder(handle_unknown='ignore'), ['sex', 'smoker', 'region']),\n",
    ")\n",
    "\n",
    "y = insurance['charges']\n",
    "x = insurance.drop('charges', axis=1, inplace=False)\n",
    "\n",
    "x_train, x_test, y_train, y_test = train_test_split(x, y, test_size=0.2, random_state=42)\n",
    "x_train"
   ],
   "id": "ac401464d19abce6",
   "outputs": [
    {
     "data": {
      "text/plain": [
       "      age     sex     bmi  children smoker     region\n",
       "560    46  female  19.950         2     no  northwest\n",
       "1285   47  female  24.320         0     no  northeast\n",
       "1142   52  female  24.860         0     no  southeast\n",
       "969    39  female  34.320         5     no  southeast\n",
       "486    54  female  21.470         3     no  northwest\n",
       "...   ...     ...     ...       ...    ...        ...\n",
       "1095   18  female  31.350         4     no  northeast\n",
       "1130   39  female  23.870         5     no  southeast\n",
       "1294   58    male  25.175         0     no  northeast\n",
       "860    37  female  47.600         2    yes  southwest\n",
       "1126   55    male  29.900         0     no  southwest\n",
       "\n",
       "[1070 rows x 6 columns]"
      ],
      "text/html": [
       "<div>\n",
       "<style scoped>\n",
       "    .dataframe tbody tr th:only-of-type {\n",
       "        vertical-align: middle;\n",
       "    }\n",
       "\n",
       "    .dataframe tbody tr th {\n",
       "        vertical-align: top;\n",
       "    }\n",
       "\n",
       "    .dataframe thead th {\n",
       "        text-align: right;\n",
       "    }\n",
       "</style>\n",
       "<table border=\"1\" class=\"dataframe\">\n",
       "  <thead>\n",
       "    <tr style=\"text-align: right;\">\n",
       "      <th></th>\n",
       "      <th>age</th>\n",
       "      <th>sex</th>\n",
       "      <th>bmi</th>\n",
       "      <th>children</th>\n",
       "      <th>smoker</th>\n",
       "      <th>region</th>\n",
       "    </tr>\n",
       "  </thead>\n",
       "  <tbody>\n",
       "    <tr>\n",
       "      <th>560</th>\n",
       "      <td>46</td>\n",
       "      <td>female</td>\n",
       "      <td>19.950</td>\n",
       "      <td>2</td>\n",
       "      <td>no</td>\n",
       "      <td>northwest</td>\n",
       "    </tr>\n",
       "    <tr>\n",
       "      <th>1285</th>\n",
       "      <td>47</td>\n",
       "      <td>female</td>\n",
       "      <td>24.320</td>\n",
       "      <td>0</td>\n",
       "      <td>no</td>\n",
       "      <td>northeast</td>\n",
       "    </tr>\n",
       "    <tr>\n",
       "      <th>1142</th>\n",
       "      <td>52</td>\n",
       "      <td>female</td>\n",
       "      <td>24.860</td>\n",
       "      <td>0</td>\n",
       "      <td>no</td>\n",
       "      <td>southeast</td>\n",
       "    </tr>\n",
       "    <tr>\n",
       "      <th>969</th>\n",
       "      <td>39</td>\n",
       "      <td>female</td>\n",
       "      <td>34.320</td>\n",
       "      <td>5</td>\n",
       "      <td>no</td>\n",
       "      <td>southeast</td>\n",
       "    </tr>\n",
       "    <tr>\n",
       "      <th>486</th>\n",
       "      <td>54</td>\n",
       "      <td>female</td>\n",
       "      <td>21.470</td>\n",
       "      <td>3</td>\n",
       "      <td>no</td>\n",
       "      <td>northwest</td>\n",
       "    </tr>\n",
       "    <tr>\n",
       "      <th>...</th>\n",
       "      <td>...</td>\n",
       "      <td>...</td>\n",
       "      <td>...</td>\n",
       "      <td>...</td>\n",
       "      <td>...</td>\n",
       "      <td>...</td>\n",
       "    </tr>\n",
       "    <tr>\n",
       "      <th>1095</th>\n",
       "      <td>18</td>\n",
       "      <td>female</td>\n",
       "      <td>31.350</td>\n",
       "      <td>4</td>\n",
       "      <td>no</td>\n",
       "      <td>northeast</td>\n",
       "    </tr>\n",
       "    <tr>\n",
       "      <th>1130</th>\n",
       "      <td>39</td>\n",
       "      <td>female</td>\n",
       "      <td>23.870</td>\n",
       "      <td>5</td>\n",
       "      <td>no</td>\n",
       "      <td>southeast</td>\n",
       "    </tr>\n",
       "    <tr>\n",
       "      <th>1294</th>\n",
       "      <td>58</td>\n",
       "      <td>male</td>\n",
       "      <td>25.175</td>\n",
       "      <td>0</td>\n",
       "      <td>no</td>\n",
       "      <td>northeast</td>\n",
       "    </tr>\n",
       "    <tr>\n",
       "      <th>860</th>\n",
       "      <td>37</td>\n",
       "      <td>female</td>\n",
       "      <td>47.600</td>\n",
       "      <td>2</td>\n",
       "      <td>yes</td>\n",
       "      <td>southwest</td>\n",
       "    </tr>\n",
       "    <tr>\n",
       "      <th>1126</th>\n",
       "      <td>55</td>\n",
       "      <td>male</td>\n",
       "      <td>29.900</td>\n",
       "      <td>0</td>\n",
       "      <td>no</td>\n",
       "      <td>southwest</td>\n",
       "    </tr>\n",
       "  </tbody>\n",
       "</table>\n",
       "<p>1070 rows × 6 columns</p>\n",
       "</div>"
      ]
     },
     "execution_count": 91,
     "metadata": {},
     "output_type": "execute_result"
    }
   ],
   "execution_count": 91
  },
  {
   "metadata": {
    "ExecuteTime": {
     "end_time": "2025-03-29T13:12:22.259103Z",
     "start_time": "2025-03-29T13:12:22.255682Z"
    }
   },
   "cell_type": "code",
   "source": "y_train",
   "id": "11a44d88aaecf673",
   "outputs": [
    {
     "data": {
      "text/plain": [
       "560      9193.83850\n",
       "1285     8534.67180\n",
       "1142    27117.99378\n",
       "969      8596.82780\n",
       "486     12475.35130\n",
       "           ...     \n",
       "1095     4561.18850\n",
       "1130     8582.30230\n",
       "1294    11931.12525\n",
       "860     46113.51100\n",
       "1126    10214.63600\n",
       "Name: charges, Length: 1070, dtype: float64"
      ]
     },
     "execution_count": 92,
     "metadata": {},
     "output_type": "execute_result"
    }
   ],
   "execution_count": 92
  },
  {
   "metadata": {
    "ExecuteTime": {
     "end_time": "2025-03-29T13:12:22.420317Z",
     "start_time": "2025-03-29T13:12:22.320620Z"
    }
   },
   "cell_type": "code",
   "source": "x['age'].plot(kind='hist')",
   "id": "40f4b242629fd1c8",
   "outputs": [
    {
     "data": {
      "text/plain": [
       "<Axes: ylabel='Frequency'>"
      ]
     },
     "execution_count": 93,
     "metadata": {},
     "output_type": "execute_result"
    },
    {
     "data": {
      "text/plain": [
       "<Figure size 640x480 with 1 Axes>"
      ],
      "image/png": "[encoded data removed]"
     },
     "metadata": {},
     "output_type": "display_data"
    }
   ],
   "execution_count": 93
  },
  {
   "metadata": {
    "ExecuteTime": {
     "end_time": "2025-03-29T13:12:22.541890Z",
     "start_time": "2025-03-29T13:12:22.450527Z"
    }
   },
   "cell_type": "code",
   "source": [
    "print(type(y))\n",
    "y.plot(kind='hist')"
   ],
   "id": "99a9d293bfafb7a8",
   "outputs": [
    {
     "name": "stdout",
     "output_type": "stream",
     "text": [
      "<class 'pandas.core.series.Series'>\n"
     ]
    },
    {
     "data": {
      "text/plain": [
       "<Axes: ylabel='Frequency'>"
      ]
     },
     "execution_count": 94,
     "metadata": {},
     "output_type": "execute_result"
    },
    {
     "data": {
      "text/plain": [
       "<Figure size 640x480 with 1 Axes>"
      ],
      "image/png": "[encoded data removed]"
     },
     "metadata": {},
     "output_type": "display_data"
    }
   ],
   "execution_count": 94
  },
  {
   "metadata": {},
   "cell_type": "markdown",
   "source": "my idea here is, every relation has to be thought about and every relation tuple or triple (permutation like with all parameters) has to be normalized and be done by a separate easy nn. all these smaller nn have to be then checked in a bigger nn in order to find the interfaces between those. those nn have to be then again be permuted and so on. this looks and sounds terrifying because a simple problem like this can be logical be overthought like hell.",
   "id": "519ce06715667f8c"
  },
  {
   "metadata": {
    "ExecuteTime": {
     "end_time": "2025-03-29T13:12:22.696997Z",
     "start_time": "2025-03-29T13:12:22.676739Z"
    }
   },
   "cell_type": "code",
   "source": [
    "ct.fit(x_train)\n",
    "x_train_normal = ct.transform(x_train)\n",
    "# ct.transform(x_test)\n",
    "x_train_normal"
   ],
   "id": "5fef01bb4952194d",
   "outputs": [
    {
     "data": {
      "text/plain": [
       "array([[0.60869565, 0.10734463, 0.4       , ..., 1.        , 0.        ,\n",
       "        0.        ],\n",
       "       [0.63043478, 0.22491256, 0.        , ..., 0.        , 0.        ,\n",
       "        0.        ],\n",
       "       [0.73913043, 0.23944041, 0.        , ..., 0.        , 1.        ,\n",
       "        0.        ],\n",
       "       ...,\n",
       "       [0.86956522, 0.24791499, 0.        , ..., 0.        , 0.        ,\n",
       "        0.        ],\n",
       "       [0.41304348, 0.85122411, 0.4       , ..., 0.        , 0.        ,\n",
       "        1.        ],\n",
       "       [0.80434783, 0.37503363, 0.        , ..., 0.        , 0.        ,\n",
       "        1.        ]])"
      ]
     },
     "execution_count": 95,
     "metadata": {},
     "output_type": "execute_result"
    }
   ],
   "execution_count": 95
  },
  {
   "metadata": {
    "ExecuteTime": {
     "end_time": "2025-03-29T13:13:12.019685Z",
     "start_time": "2025-03-29T13:13:12.012509Z"
    }
   },
   "cell_type": "code",
   "source": "y_train",
   "id": "c741c2a38e795007",
   "outputs": [
    {
     "data": {
      "text/plain": [
       "560      9193.83850\n",
       "1285     8534.67180\n",
       "1142    27117.99378\n",
       "969      8596.82780\n",
       "486     12475.35130\n",
       "           ...     \n",
       "1095     4561.18850\n",
       "1130     8582.30230\n",
       "1294    11931.12525\n",
       "860     46113.51100\n",
       "1126    10214.63600\n",
       "Name: charges, Length: 1070, dtype: float64"
      ]
     },
     "execution_count": 99,
     "metadata": {},
     "output_type": "execute_result"
    }
   ],
   "execution_count": 99
  },
  {
   "metadata": {
    "ExecuteTime": {
     "end_time": "2025-03-29T13:16:14.180360Z",
     "start_time": "2025-03-29T13:16:14.167432Z"
    }
   },
   "cell_type": "code",
   "source": [
    "ct_y = make_column_transformer(\n",
    "    (MinMaxScaler(), ['charges']),\n",
    ")\n",
    "\n",
    "y_train_df = pd.DataFrame(y_train, columns=['charges'])\n",
    "\n",
    "ct_y.fit(y_train_df)\n",
    "y_train_normal = ct_y.transform(y_train_df)\n",
    "y_train_normal"
   ],
   "id": "4eae0bcd15766ed2",
   "outputs": [
    {
     "data": {
      "text/plain": [
       "array([[0.13131338],\n",
       "       [0.12059016],\n",
       "       [0.42290056],\n",
       "       ...,\n",
       "       [0.1758431 ],\n",
       "       [0.73191648],\n",
       "       [0.14791954]])"
      ]
     },
     "execution_count": 104,
     "metadata": {},
     "output_type": "execute_result"
    }
   ],
   "execution_count": 104
  },
  {
   "metadata": {
    "ExecuteTime": {
     "end_time": "2025-03-29T13:16:18.141476Z",
     "start_time": "2025-03-29T13:16:18.051004Z"
    }
   },
   "cell_type": "code",
   "source": [
    "print(type(x_train_normal))\n",
    "plt.hist(x_train_normal[0])"
   ],
   "id": "1698e02509c4529b",
   "outputs": [
    {
     "name": "stdout",
     "output_type": "stream",
     "text": [
      "<class 'numpy.ndarray'>\n"
     ]
    },
    {
     "data": {
      "text/plain": [
       "(array([5., 1., 0., 0., 1., 0., 1., 0., 0., 3.]),\n",
       " array([0. , 0.1, 0.2, 0.3, 0.4, 0.5, 0.6, 0.7, 0.8, 0.9, 1. ]),\n",
       " <BarContainer object of 10 artists>)"
      ]
     },
     "execution_count": 105,
     "metadata": {},
     "output_type": "execute_result"
    },
    {
     "data": {
      "text/plain": [
       "<Figure size 640x480 with 1 Axes>"
      ],
      "image/png": "[encoded data removed]"
     },
     "metadata": {},
     "output_type": "display_data"
    }
   ],
   "execution_count": 105
  },
  {
   "metadata": {},
   "cell_type": "markdown",
   "source": "here we can see that there are alot very young and alot very old patients in this data block, this sucks hard.",
   "id": "9540e6cf061564a7"
  },
  {
   "metadata": {
    "ExecuteTime": {
     "end_time": "2025-03-29T13:12:22.834235Z",
     "start_time": "2025-03-29T12:42:28.429619Z"
    }
   },
   "cell_type": "code",
   "source": [
    "# x_train = tf.convert_to_tensor(x_train)\n",
    "# y_train = tf.convert_to_tensor(y_train)"
   ],
   "id": "5c3b4f23ba836dca",
   "outputs": [],
   "execution_count": 76
  },
  {
   "metadata": {
    "ExecuteTime": {
     "end_time": "2025-03-29T13:23:09.961940Z",
     "start_time": "2025-03-29T13:22:53.035955Z"
    }
   },
   "cell_type": "code",
   "source": [
    "model = ks.models.Sequential()\n",
    "model.add(ks.layers.Dense(15, activation=tf.keras.activations.sigmoid))\n",
    "model.add(ks.layers.Dense(14, activation=tf.keras.activations.sigmoid))\n",
    "model.add(ks.layers.Dense(15, activation=tf.keras.activations.relu))\n",
    "model.add(ks.layers.Dense(15, activation=tf.keras.activations.sigmoid))\n",
    "model.add(ks.layers.Dense(1))\n",
    "\n",
    "model.compile(loss='mse', optimizer=tf.optimizers.Adam(learning_rate=0.8), metrics=['mse'])\n",
    "\n",
    "history = model.fit(x_train_normal, y_train, epochs=100)"
   ],
   "id": "db24a1b0d7e3849b",
   "outputs": [
    {
     "name": "stdout",
     "output_type": "stream",
     "text": [
      "Epoch 1/100\n",
      "34/34 [==============================] - 1s 7ms/step - loss: 319550112.0000 - mse: 319550112.0000\n",
      "Epoch 2/100\n",
      "34/34 [==============================] - 0s 5ms/step - loss: 313861376.0000 - mse: 313861376.0000\n",
      "Epoch 3/100\n",
      "34/34 [==============================] - 0s 5ms/step - loss: 308342912.0000 - mse: 308342912.0000\n",
      "Epoch 4/100\n",
      "34/34 [==============================] - 0s 5ms/step - loss: 302966624.0000 - mse: 302966624.0000\n",
      "Epoch 5/100\n",
      "34/34 [==============================] - 0s 5ms/step - loss: 297752896.0000 - mse: 297752896.0000\n",
      "Epoch 6/100\n",
      "34/34 [==============================] - 0s 5ms/step - loss: 292645376.0000 - mse: 292645376.0000\n",
      "Epoch 7/100\n",
      "34/34 [==============================] - 0s 5ms/step - loss: 287703744.0000 - mse: 287703744.0000\n",
      "Epoch 8/100\n",
      "34/34 [==============================] - 0s 6ms/step - loss: 282818496.0000 - mse: 282818496.0000\n",
      "Epoch 9/100\n",
      "34/34 [==============================] - 0s 5ms/step - loss: 278135840.0000 - mse: 278135840.0000\n",
      "Epoch 10/100\n",
      "34/34 [==============================] - 0s 5ms/step - loss: 273509504.0000 - mse: 273509504.0000\n",
      "Epoch 11/100\n",
      "34/34 [==============================] - 0s 6ms/step - loss: 268999616.0000 - mse: 268999616.0000\n",
      "Epoch 12/100\n",
      "34/34 [==============================] - 0s 6ms/step - loss: 264671520.0000 - mse: 264671520.0000\n",
      "Epoch 13/100\n",
      "34/34 [==============================] - 0s 5ms/step - loss: 260383168.0000 - mse: 260383168.0000\n",
      "Epoch 14/100\n",
      "34/34 [==============================] - 0s 5ms/step - loss: 256267024.0000 - mse: 256267024.0000\n",
      "Epoch 15/100\n",
      "34/34 [==============================] - 0s 5ms/step - loss: 252226160.0000 - mse: 252226160.0000\n",
      "Epoch 16/100\n",
      "34/34 [==============================] - 0s 5ms/step - loss: 248360432.0000 - mse: 248360432.0000\n",
      "Epoch 17/100\n",
      "34/34 [==============================] - 0s 5ms/step - loss: 244553824.0000 - mse: 244553824.0000\n",
      "Epoch 18/100\n",
      "34/34 [==============================] - 0s 5ms/step - loss: 240861952.0000 - mse: 240861952.0000\n",
      "Epoch 19/100\n",
      "34/34 [==============================] - 0s 5ms/step - loss: 237262464.0000 - mse: 237262464.0000\n",
      "Epoch 20/100\n",
      "34/34 [==============================] - 0s 5ms/step - loss: 233770416.0000 - mse: 233770416.0000\n",
      "Epoch 21/100\n",
      "34/34 [==============================] - 0s 5ms/step - loss: 230374512.0000 - mse: 230374512.0000\n",
      "Epoch 22/100\n",
      "34/34 [==============================] - 0s 5ms/step - loss: 227055248.0000 - mse: 227055248.0000\n",
      "Epoch 23/100\n",
      "34/34 [==============================] - 0s 5ms/step - loss: 223863200.0000 - mse: 223863200.0000\n",
      "Epoch 24/100\n",
      "34/34 [==============================] - 0s 5ms/step - loss: 220829680.0000 - mse: 220829680.0000\n",
      "Epoch 25/100\n",
      "34/34 [==============================] - 0s 5ms/step - loss: 217758928.0000 - mse: 217758928.0000\n",
      "Epoch 26/100\n",
      "34/34 [==============================] - 0s 5ms/step - loss: 214848656.0000 - mse: 214848656.0000\n",
      "Epoch 27/100\n",
      "34/34 [==============================] - 0s 5ms/step - loss: 212008192.0000 - mse: 212008192.0000\n",
      "Epoch 28/100\n",
      "34/34 [==============================] - 0s 5ms/step - loss: 209252848.0000 - mse: 209252848.0000\n",
      "Epoch 29/100\n",
      "34/34 [==============================] - 0s 5ms/step - loss: 206592128.0000 - mse: 206592128.0000\n",
      "Epoch 30/100\n",
      "34/34 [==============================] - 0s 5ms/step - loss: 203999040.0000 - mse: 203999040.0000\n",
      "Epoch 31/100\n",
      "34/34 [==============================] - 0s 5ms/step - loss: 201498944.0000 - mse: 201498944.0000\n",
      "Epoch 32/100\n",
      "34/34 [==============================] - 0s 5ms/step - loss: 199067712.0000 - mse: 199067712.0000\n",
      "Epoch 33/100\n",
      "34/34 [==============================] - 0s 5ms/step - loss: 196748272.0000 - mse: 196748272.0000\n",
      "Epoch 34/100\n",
      "34/34 [==============================] - 0s 5ms/step - loss: 194473088.0000 - mse: 194473088.0000\n",
      "Epoch 35/100\n",
      "34/34 [==============================] - 0s 5ms/step - loss: 192278528.0000 - mse: 192278528.0000\n",
      "Epoch 36/100\n",
      "34/34 [==============================] - 0s 5ms/step - loss: 190180128.0000 - mse: 190180128.0000\n",
      "Epoch 37/100\n",
      "34/34 [==============================] - 0s 5ms/step - loss: 188159152.0000 - mse: 188159152.0000\n",
      "Epoch 38/100\n",
      "34/34 [==============================] - 0s 5ms/step - loss: 186146752.0000 - mse: 186146752.0000\n",
      "Epoch 39/100\n",
      "34/34 [==============================] - 0s 5ms/step - loss: 184250784.0000 - mse: 184250784.0000\n",
      "Epoch 40/100\n",
      "34/34 [==============================] - 0s 5ms/step - loss: 182427760.0000 - mse: 182427760.0000\n",
      "Epoch 41/100\n",
      "34/34 [==============================] - 0s 5ms/step - loss: 180633664.0000 - mse: 180633664.0000\n",
      "Epoch 42/100\n",
      "34/34 [==============================] - 0s 5ms/step - loss: 178907696.0000 - mse: 178907696.0000\n",
      "Epoch 43/100\n",
      "34/34 [==============================] - 0s 5ms/step - loss: 177255024.0000 - mse: 177255024.0000\n",
      "Epoch 44/100\n",
      "34/34 [==============================] - 0s 5ms/step - loss: 175686432.0000 - mse: 175686432.0000\n",
      "Epoch 45/100\n",
      "34/34 [==============================] - 0s 5ms/step - loss: 174129552.0000 - mse: 174129552.0000\n",
      "Epoch 46/100\n",
      "34/34 [==============================] - 0s 5ms/step - loss: 172646912.0000 - mse: 172646912.0000\n",
      "Epoch 47/100\n",
      "34/34 [==============================] - 0s 5ms/step - loss: 171234320.0000 - mse: 171234320.0000\n",
      "Epoch 48/100\n",
      "34/34 [==============================] - 0s 5ms/step - loss: 169870432.0000 - mse: 169870432.0000\n",
      "Epoch 49/100\n",
      "34/34 [==============================] - 0s 5ms/step - loss: 168550928.0000 - mse: 168550928.0000\n",
      "Epoch 50/100\n",
      "34/34 [==============================] - 0s 5ms/step - loss: 167300048.0000 - mse: 167300048.0000\n",
      "Epoch 51/100\n",
      "34/34 [==============================] - 0s 5ms/step - loss: 166086128.0000 - mse: 166086128.0000\n",
      "Epoch 52/100\n",
      "34/34 [==============================] - 0s 5ms/step - loss: 164935424.0000 - mse: 164935424.0000\n",
      "Epoch 53/100\n",
      "34/34 [==============================] - 0s 5ms/step - loss: 163826544.0000 - mse: 163826544.0000\n",
      "Epoch 54/100\n",
      "34/34 [==============================] - 0s 5ms/step - loss: 162770016.0000 - mse: 162770016.0000\n",
      "Epoch 55/100\n",
      "34/34 [==============================] - 0s 5ms/step - loss: 161734080.0000 - mse: 161734080.0000\n",
      "Epoch 56/100\n",
      "34/34 [==============================] - 0s 5ms/step - loss: 160772240.0000 - mse: 160772240.0000\n",
      "Epoch 57/100\n",
      "34/34 [==============================] - 0s 5ms/step - loss: 159858800.0000 - mse: 159858800.0000\n",
      "Epoch 58/100\n",
      "34/34 [==============================] - 0s 5ms/step - loss: 158968736.0000 - mse: 158968736.0000\n",
      "Epoch 59/100\n",
      "34/34 [==============================] - 0s 5ms/step - loss: 158128000.0000 - mse: 158128000.0000\n",
      "Epoch 60/100\n",
      "34/34 [==============================] - 0s 5ms/step - loss: 157321584.0000 - mse: 157321584.0000\n",
      "Epoch 61/100\n",
      "34/34 [==============================] - 0s 5ms/step - loss: 156550752.0000 - mse: 156550752.0000\n",
      "Epoch 62/100\n",
      "34/34 [==============================] - 0s 5ms/step - loss: 155805088.0000 - mse: 155805088.0000\n",
      "Epoch 63/100\n",
      "34/34 [==============================] - 0s 5ms/step - loss: 155109280.0000 - mse: 155109280.0000\n",
      "Epoch 64/100\n",
      "34/34 [==============================] - 0s 5ms/step - loss: 154453712.0000 - mse: 154453712.0000\n",
      "Epoch 65/100\n",
      "34/34 [==============================] - 0s 5ms/step - loss: 153799632.0000 - mse: 153799632.0000\n",
      "Epoch 66/100\n",
      "34/34 [==============================] - 0s 5ms/step - loss: 153192608.0000 - mse: 153192608.0000\n",
      "Epoch 67/100\n",
      "34/34 [==============================] - 0s 5ms/step - loss: 152639568.0000 - mse: 152639568.0000\n",
      "Epoch 68/100\n",
      "34/34 [==============================] - 0s 5ms/step - loss: 152090656.0000 - mse: 152090656.0000\n",
      "Epoch 69/100\n",
      "34/34 [==============================] - 0s 5ms/step - loss: 151571888.0000 - mse: 151571888.0000\n",
      "Epoch 70/100\n",
      "34/34 [==============================] - 0s 5ms/step - loss: 151091552.0000 - mse: 151091552.0000\n",
      "Epoch 71/100\n",
      "34/34 [==============================] - 0s 5ms/step - loss: 150631440.0000 - mse: 150631440.0000\n",
      "Epoch 72/100\n",
      "34/34 [==============================] - 0s 5ms/step - loss: 150174896.0000 - mse: 150174896.0000\n",
      "Epoch 73/100\n",
      "34/34 [==============================] - 0s 5ms/step - loss: 149762992.0000 - mse: 149762992.0000\n",
      "Epoch 74/100\n",
      "34/34 [==============================] - 0s 5ms/step - loss: 149377824.0000 - mse: 149377824.0000\n",
      "Epoch 75/100\n",
      "34/34 [==============================] - 0s 5ms/step - loss: 149006064.0000 - mse: 149006064.0000\n",
      "Epoch 76/100\n",
      "34/34 [==============================] - 0s 5ms/step - loss: 148686640.0000 - mse: 148686640.0000\n",
      "Epoch 77/100\n",
      "34/34 [==============================] - 0s 5ms/step - loss: 148368816.0000 - mse: 148368816.0000\n",
      "Epoch 78/100\n",
      "34/34 [==============================] - 0s 5ms/step - loss: 148063696.0000 - mse: 148063696.0000\n",
      "Epoch 79/100\n",
      "34/34 [==============================] - 0s 5ms/step - loss: 147789472.0000 - mse: 147789472.0000\n",
      "Epoch 80/100\n",
      "34/34 [==============================] - 0s 5ms/step - loss: 147521600.0000 - mse: 147521600.0000\n",
      "Epoch 81/100\n",
      "34/34 [==============================] - 0s 5ms/step - loss: 147288864.0000 - mse: 147288864.0000\n",
      "Epoch 82/100\n",
      "34/34 [==============================] - 0s 5ms/step - loss: 147030640.0000 - mse: 147030640.0000\n",
      "Epoch 83/100\n",
      "34/34 [==============================] - 0s 5ms/step - loss: 146818912.0000 - mse: 146818912.0000\n",
      "Epoch 84/100\n",
      "34/34 [==============================] - 0s 5ms/step - loss: 146619616.0000 - mse: 146619632.0000\n",
      "Epoch 85/100\n",
      "34/34 [==============================] - 0s 5ms/step - loss: 146435856.0000 - mse: 146435856.0000\n",
      "Epoch 86/100\n",
      "34/34 [==============================] - 0s 5ms/step - loss: 146248784.0000 - mse: 146248784.0000\n",
      "Epoch 87/100\n",
      "34/34 [==============================] - 0s 5ms/step - loss: 146096816.0000 - mse: 146096816.0000\n",
      "Epoch 88/100\n",
      "34/34 [==============================] - 0s 5ms/step - loss: 145949440.0000 - mse: 145949440.0000\n",
      "Epoch 89/100\n",
      "34/34 [==============================] - 0s 5ms/step - loss: 145835376.0000 - mse: 145835376.0000\n",
      "Epoch 90/100\n",
      "34/34 [==============================] - 0s 5ms/step - loss: 145692176.0000 - mse: 145692176.0000\n",
      "Epoch 91/100\n",
      "34/34 [==============================] - 0s 5ms/step - loss: 145568624.0000 - mse: 145568624.0000\n",
      "Epoch 92/100\n",
      "34/34 [==============================] - 0s 5ms/step - loss: 145456736.0000 - mse: 145456736.0000\n",
      "Epoch 93/100\n",
      "34/34 [==============================] - 0s 5ms/step - loss: 145354336.0000 - mse: 145354336.0000\n",
      "Epoch 94/100\n",
      "34/34 [==============================] - 0s 5ms/step - loss: 145265728.0000 - mse: 145265728.0000\n",
      "Epoch 95/100\n",
      "34/34 [==============================] - 0s 5ms/step - loss: 145182496.0000 - mse: 145182496.0000\n",
      "Epoch 96/100\n",
      "34/34 [==============================] - 0s 5ms/step - loss: 145099120.0000 - mse: 145099120.0000\n",
      "Epoch 97/100\n",
      "34/34 [==============================] - 0s 5ms/step - loss: 145023952.0000 - mse: 145023952.0000\n",
      "Epoch 98/100\n",
      "34/34 [==============================] - 0s 5ms/step - loss: 144957920.0000 - mse: 144957920.0000\n",
      "Epoch 99/100\n",
      "34/34 [==============================] - 0s 5ms/step - loss: 144902048.0000 - mse: 144902048.0000\n",
      "Epoch 100/100\n",
      "34/34 [==============================] - 0s 5ms/step - loss: 144851792.0000 - mse: 144851792.0000\n"
     ]
    }
   ],
   "execution_count": 121
  },
  {
   "metadata": {
    "ExecuteTime": {
     "end_time": "2025-03-29T13:23:11.968830Z",
     "start_time": "2025-03-29T13:23:11.884335Z"
    }
   },
   "cell_type": "code",
   "source": "plt.plot(history.history['loss'])",
   "id": "291f9c2ffe3892d7",
   "outputs": [
    {
     "data": {
      "text/plain": [
       "[<matplotlib.lines.Line2D at 0x15dde32e0>]"
      ]
     },
     "execution_count": 122,
     "metadata": {},
     "output_type": "execute_result"
    },
    {
     "data": {
      "text/plain": [
       "<Figure size 640x480 with 1 Axes>"
      ],
      "image/png": "[encoded data removed]"
     },
     "metadata": {},
     "output_type": "display_data"
    }
   ],
   "execution_count": 122
  },
  {
   "metadata": {
    "ExecuteTime": {
     "end_time": "2025-03-29T13:24:20.404806Z",
     "start_time": "2025-03-29T13:24:20.250193Z"
    }
   },
   "cell_type": "code",
   "source": "model.evaluate(x_train_normal, y_train)",
   "id": "af4980ac5e6928a9",
   "outputs": [
    {
     "name": "stdout",
     "output_type": "stream",
     "text": [
      "34/34 [==============================] - 0s 3ms/step - loss: 144806080.0000 - mse: 144806080.0000\n"
     ]
    },
    {
     "data": {
      "text/plain": [
       "[144806080.0, 144806080.0]"
      ]
     },
     "execution_count": 124,
     "metadata": {},
     "output_type": "execute_result"
    }
   ],
   "execution_count": 124
  },
  {
   "metadata": {
    "ExecuteTime": {
     "end_time": "2025-03-29T13:25:25.801777Z",
     "start_time": "2025-03-29T13:25:25.795813Z"
    }
   },
   "cell_type": "code",
   "source": "y_train.median()**2",
   "id": "3f881e4ab46afb99",
   "outputs": [
    {
     "data": {
      "text/plain": [
       "-53116988.58954759"
      ]
     },
     "execution_count": 127,
     "metadata": {},
     "output_type": "execute_result"
    }
   ],
   "execution_count": 127
  }
 ],
 "metadata": {
  "kernelspec": {
   "display_name": "Python 3",
   "language": "python",
   "name": "python3"
  },
  "language_info": {
   "codemirror_mode": {
    "name": "ipython",
    "version": 2
   },
   "file_extension": ".py",
   "mimetype": "text/x-python",
   "name": "python",
   "nbconvert_exporter": "python",
   "pygments_lexer": "ipython2",
   "version": "2.7.6"
  }
 },
 "nbformat": 4,
 "nbformat_minor": 5
}
