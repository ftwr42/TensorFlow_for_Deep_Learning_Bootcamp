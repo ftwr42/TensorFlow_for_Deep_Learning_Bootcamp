{
 "cells": [
  {
   "metadata": {},
   "cell_type": "markdown",
   "source": "Saving and Storing models",
   "id": "2ff116e50f396b70"
  },
  {
   "metadata": {
    "ExecuteTime": {
     "end_time": "2025-03-23T18:40:19.093306Z",
     "start_time": "2025-03-23T18:40:19.088367Z"
    }
   },
   "cell_type": "code",
   "source": [
    "import numpy as np\n",
    "import tensorflow as tf\n",
    "import matplotlib.pyplot as plt\n",
    "import pandas as pd\n",
    "from tensorflow import keras as ks\n",
    "import os\n",
    "import logging\n",
    "os.environ['TF_CPP_MIN_LOG_LEVEL'] = '2'\n",
    "logging.getLogger('absl').setLevel(logging.ERROR)"
   ],
   "id": "44905e7f2a613e5e",
   "outputs": [],
   "execution_count": 10
  },
  {
   "metadata": {
    "ExecuteTime": {
     "end_time": "2025-03-23T18:40:19.214662Z",
     "start_time": "2025-03-23T18:40:19.100412Z"
    }
   },
   "cell_type": "code",
   "source": [
    "x_original = tf.range(start=-7, limit=-7 + 3 * 10, delta=3, dtype=tf.int32)\n",
    "y_original = tf.range(start=3, limit=3 + 3 * 10, delta=3, dtype=tf.int32)\n",
    "\n",
    "x = tf.identity(x_original)\n",
    "y = tf.identity(y_original)\n",
    "\n",
    "plt.figure(figsize=(12,7))\n",
    "plt.scatter(x=x, y=y, c='green', label='original data')\n",
    "plt.legend()\n",
    "plt.show()"
   ],
   "id": "9b07b15ef5e28e87",
   "outputs": [
    {
     "data": {
      "text/plain": [
       "<Figure size 1200x700 with 1 Axes>"
      ],
      "image/png": "[encoded data removed]"
     },
     "metadata": {},
     "output_type": "display_data"
    }
   ],
   "execution_count": 11
  },
  {
   "metadata": {
    "ExecuteTime": {
     "end_time": "2025-03-23T18:41:19.737438Z",
     "start_time": "2025-03-23T18:41:19.721703Z"
    }
   },
   "cell_type": "code",
   "source": [
    "div = int(len(x)*0.7)\n",
    "\n",
    "x_train = x[0:div]\n",
    "y_train = y[0:div]\n",
    "\n",
    "x_test = x[div:]\n",
    "y_test = y[div:]\n",
    "\n",
    "x = tf.reshape(x, (-1, 1))\n",
    "y = tf.reshape(y, (-1, 1))\n",
    "\n",
    "x_train = tf.reshape(x_train, (-1, 1))\n",
    "y_train = tf.reshape(y_train, (-1, 1))\n",
    "\n",
    "x_test = tf.reshape(x_test, (-1, 1))\n",
    "y_test = tf.reshape(y_test, (-1, 1))\n",
    "\n",
    "div, x_train, y_train, x_test, y_test"
   ],
   "id": "d6480ee949b4cf26",
   "outputs": [
    {
     "data": {
      "text/plain": [
       "(7,\n",
       " <tf.Tensor: shape=(7, 1), dtype=int32, numpy=\n",
       " array([[-7],\n",
       "        [-4],\n",
       "        [-1],\n",
       "        [ 2],\n",
       "        [ 5],\n",
       "        [ 8],\n",
       "        [11]], dtype=int32)>,\n",
       " <tf.Tensor: shape=(7, 1), dtype=int32, numpy=\n",
       " array([[ 3],\n",
       "        [ 6],\n",
       "        [ 9],\n",
       "        [12],\n",
       "        [15],\n",
       "        [18],\n",
       "        [21]], dtype=int32)>,\n",
       " <tf.Tensor: shape=(3, 1), dtype=int32, numpy=\n",
       " array([[14],\n",
       "        [17],\n",
       "        [20]], dtype=int32)>,\n",
       " <tf.Tensor: shape=(3, 1), dtype=int32, numpy=\n",
       " array([[24],\n",
       "        [27],\n",
       "        [30]], dtype=int32)>)"
      ]
     },
     "execution_count": 16,
     "metadata": {},
     "output_type": "execute_result"
    }
   ],
   "execution_count": 16
  },
  {
   "metadata": {
    "ExecuteTime": {
     "end_time": "2025-03-23T18:44:26.072335Z",
     "start_time": "2025-03-23T18:44:24.864859Z"
    }
   },
   "cell_type": "code",
   "source": [
    "tf.random.set_seed(42)\n",
    "\n",
    "model = tf.keras.Sequential([\n",
    "    tf.keras.layers.Dense(10),\n",
    "    tf.keras.layers.Dense(10),\n",
    "    tf.keras.layers.Dense(1),\n",
    "])\n",
    "\n",
    "model.compile(loss=tf.keras.losses.mae,\n",
    "               optimizer=tf.keras.optimizers.Adam(learning_rate=0.1),\n",
    "               metrics=['mae'])\n",
    "\n",
    "model.fit(x_train,y_train,epochs=30)\n",
    "\n",
    "y_predicts = model.predict(x_test)\n",
    "\n",
    "plt.figure(figsize=(12,7))\n",
    "plt.scatter(x=x_train, y=y_train, c='blue', label='train data')\n",
    "plt.scatter(x=x_test, y=y_test, c='green', label='test data')\n",
    "plt.scatter(x=x_test, y=y_predicts, c='red', label='predicted data')\n",
    "plt.legend()\n",
    "plt.show()"
   ],
   "id": "aa6dd647ac995103",
   "outputs": [
    {
     "name": "stdout",
     "output_type": "stream",
     "text": [
      "Epoch 1/30\n",
      "1/1 [==============================] - 1s 717ms/step - loss: 11.1743 - mae: 11.1743\n",
      "Epoch 2/30\n",
      "1/1 [==============================] - 0s 9ms/step - loss: 8.0288 - mae: 8.0288\n",
      "Epoch 3/30\n",
      "1/1 [==============================] - 0s 7ms/step - loss: 7.1972 - mae: 7.1972\n",
      "Epoch 4/30\n",
      "1/1 [==============================] - 0s 9ms/step - loss: 8.0954 - mae: 8.0954\n",
      "Epoch 5/30\n",
      "1/1 [==============================] - 0s 9ms/step - loss: 6.3945 - mae: 6.3945\n",
      "Epoch 6/30\n",
      "1/1 [==============================] - 0s 9ms/step - loss: 7.2915 - mae: 7.2915\n",
      "Epoch 7/30\n",
      "1/1 [==============================] - 0s 8ms/step - loss: 5.2803 - mae: 5.2803\n",
      "Epoch 8/30\n",
      "1/1 [==============================] - 0s 9ms/step - loss: 3.8758 - mae: 3.8758\n",
      "Epoch 9/30\n",
      "1/1 [==============================] - 0s 7ms/step - loss: 3.2347 - mae: 3.2347\n",
      "Epoch 10/30\n",
      "1/1 [==============================] - 0s 7ms/step - loss: 1.1504 - mae: 1.1504\n",
      "Epoch 11/30\n",
      "1/1 [==============================] - 0s 7ms/step - loss: 2.8612 - mae: 2.8612\n",
      "Epoch 12/30\n",
      "1/1 [==============================] - 0s 7ms/step - loss: 3.6968 - mae: 3.6968\n",
      "Epoch 13/30\n",
      "1/1 [==============================] - 0s 7ms/step - loss: 3.2017 - mae: 3.2017\n",
      "Epoch 14/30\n",
      "1/1 [==============================] - 0s 8ms/step - loss: 3.1476 - mae: 3.1476\n",
      "Epoch 15/30\n",
      "1/1 [==============================] - 0s 7ms/step - loss: 1.6215 - mae: 1.6215\n",
      "Epoch 16/30\n",
      "1/1 [==============================] - 0s 8ms/step - loss: 1.0593 - mae: 1.0593\n",
      "Epoch 17/30\n",
      "1/1 [==============================] - 0s 7ms/step - loss: 1.0986 - mae: 1.0986\n",
      "Epoch 18/30\n",
      "1/1 [==============================] - 0s 8ms/step - loss: 1.7661 - mae: 1.7661\n",
      "Epoch 19/30\n",
      "1/1 [==============================] - 0s 7ms/step - loss: 2.1452 - mae: 2.1452\n",
      "Epoch 20/30\n",
      "1/1 [==============================] - 0s 7ms/step - loss: 1.6388 - mae: 1.6388\n",
      "Epoch 21/30\n",
      "1/1 [==============================] - 0s 7ms/step - loss: 1.7308 - mae: 1.7308\n",
      "Epoch 22/30\n",
      "1/1 [==============================] - 0s 7ms/step - loss: 1.9477 - mae: 1.9477\n",
      "Epoch 23/30\n",
      "1/1 [==============================] - 0s 7ms/step - loss: 1.1093 - mae: 1.1093\n",
      "Epoch 24/30\n",
      "1/1 [==============================] - 0s 7ms/step - loss: 0.6866 - mae: 0.6866\n",
      "Epoch 25/30\n",
      "1/1 [==============================] - 0s 8ms/step - loss: 1.1301 - mae: 1.1301\n",
      "Epoch 26/30\n",
      "1/1 [==============================] - 0s 7ms/step - loss: 0.9011 - mae: 0.9011\n",
      "Epoch 27/30\n",
      "1/1 [==============================] - 0s 8ms/step - loss: 1.2498 - mae: 1.2498\n",
      "Epoch 28/30\n",
      "1/1 [==============================] - 0s 7ms/step - loss: 1.0853 - mae: 1.0853\n",
      "Epoch 29/30\n",
      "1/1 [==============================] - 0s 8ms/step - loss: 0.4367 - mae: 0.4367\n",
      "Epoch 30/30\n",
      "1/1 [==============================] - 0s 7ms/step - loss: 0.4768 - mae: 0.4768\n",
      "1/1 [==============================] - 0s 24ms/step\n"
     ]
    },
    {
     "data": {
      "text/plain": [
       "<Figure size 1200x700 with 1 Axes>"
      ],
      "image/png": "[encoded data removed]"
     },
     "metadata": {},
     "output_type": "display_data"
    }
   ],
   "execution_count": 28
  },
  {
   "metadata": {
    "ExecuteTime": {
     "end_time": "2025-03-23T18:48:58.040835Z",
     "start_time": "2025-03-23T18:48:58.002274Z"
    }
   },
   "cell_type": "code",
   "source": "model.save('first_save.keras', save_format='keras')",
   "id": "56bb2fd819d73526",
   "outputs": [],
   "execution_count": 32
  },
  {
   "metadata": {
    "ExecuteTime": {
     "end_time": "2025-03-23T18:50:46.028208Z",
     "start_time": "2025-03-23T18:50:45.932766Z"
    }
   },
   "cell_type": "code",
   "source": "model = tf.keras.models.load_model(\"first_save.keras\")",
   "id": "66536d2a17e668a4",
   "outputs": [
    {
     "name": "stderr",
     "output_type": "stream",
     "text": [
      "WARNING:absl:At this time, the v2.11+ optimizer `tf.keras.optimizers.Adam` runs slowly on M1/M2 Macs, please use the legacy Keras optimizer instead, located at `tf.keras.optimizers.legacy.Adam`.\n",
      "WARNING:absl:There is a known slowdown when using v2.11+ Keras optimizers on M1/M2 Macs. Falling back to the legacy Keras optimizer, i.e., `tf.keras.optimizers.legacy.Adam`.\n"
     ]
    },
    {
     "ename": "AttributeError",
     "evalue": "'Adam' object has no attribute 'build'",
     "output_type": "error",
     "traceback": [
      "\u001B[0;31m---------------------------------------------------------------------------\u001B[0m",
      "\u001B[0;31mAttributeError\u001B[0m                            Traceback (most recent call last)",
      "Cell \u001B[0;32mIn[35], line 1\u001B[0m\n\u001B[0;32m----> 1\u001B[0m model \u001B[38;5;241m=\u001B[39m \u001B[43mtf\u001B[49m\u001B[38;5;241;43m.\u001B[39;49m\u001B[43mkeras\u001B[49m\u001B[38;5;241;43m.\u001B[39;49m\u001B[43mmodels\u001B[49m\u001B[38;5;241;43m.\u001B[39;49m\u001B[43mload_model\u001B[49m\u001B[43m(\u001B[49m\u001B[38;5;124;43m\"\u001B[39;49m\u001B[38;5;124;43mfirst_save.keras\u001B[39;49m\u001B[38;5;124;43m\"\u001B[39;49m\u001B[43m)\u001B[49m\n",
      "File \u001B[0;32m~/.venvs/default_ai_tools/lib/python3.8/site-packages/keras/src/saving/saving_api.py:230\u001B[0m, in \u001B[0;36mload_model\u001B[0;34m(filepath, custom_objects, compile, safe_mode, **kwargs)\u001B[0m\n\u001B[1;32m    225\u001B[0m     \u001B[38;5;28;01mif\u001B[39;00m kwargs:\n\u001B[1;32m    226\u001B[0m         \u001B[38;5;28;01mraise\u001B[39;00m \u001B[38;5;167;01mValueError\u001B[39;00m(\n\u001B[1;32m    227\u001B[0m             \u001B[38;5;124m\"\u001B[39m\u001B[38;5;124mThe following argument(s) are not supported \u001B[39m\u001B[38;5;124m\"\u001B[39m\n\u001B[1;32m    228\u001B[0m             \u001B[38;5;124mf\u001B[39m\u001B[38;5;124m\"\u001B[39m\u001B[38;5;124mwith the native Keras format: \u001B[39m\u001B[38;5;132;01m{\u001B[39;00m\u001B[38;5;28mlist\u001B[39m(kwargs\u001B[38;5;241m.\u001B[39mkeys())\u001B[38;5;132;01m}\u001B[39;00m\u001B[38;5;124m\"\u001B[39m\n\u001B[1;32m    229\u001B[0m         )\n\u001B[0;32m--> 230\u001B[0m     \u001B[38;5;28;01mreturn\u001B[39;00m \u001B[43msaving_lib\u001B[49m\u001B[38;5;241;43m.\u001B[39;49m\u001B[43mload_model\u001B[49m\u001B[43m(\u001B[49m\n\u001B[1;32m    231\u001B[0m \u001B[43m        \u001B[49m\u001B[43mfilepath\u001B[49m\u001B[43m,\u001B[49m\n\u001B[1;32m    232\u001B[0m \u001B[43m        \u001B[49m\u001B[43mcustom_objects\u001B[49m\u001B[38;5;241;43m=\u001B[39;49m\u001B[43mcustom_objects\u001B[49m\u001B[43m,\u001B[49m\n\u001B[1;32m    233\u001B[0m \u001B[43m        \u001B[49m\u001B[38;5;28;43mcompile\u001B[39;49m\u001B[38;5;241;43m=\u001B[39;49m\u001B[38;5;28;43mcompile\u001B[39;49m\u001B[43m,\u001B[49m\n\u001B[1;32m    234\u001B[0m \u001B[43m        \u001B[49m\u001B[43msafe_mode\u001B[49m\u001B[38;5;241;43m=\u001B[39;49m\u001B[43msafe_mode\u001B[49m\u001B[43m,\u001B[49m\n\u001B[1;32m    235\u001B[0m \u001B[43m    \u001B[49m\u001B[43m)\u001B[49m\n\u001B[1;32m    237\u001B[0m \u001B[38;5;66;03m# Legacy case.\u001B[39;00m\n\u001B[1;32m    238\u001B[0m \u001B[38;5;28;01mreturn\u001B[39;00m legacy_sm_saving_lib\u001B[38;5;241m.\u001B[39mload_model(\n\u001B[1;32m    239\u001B[0m     filepath, custom_objects\u001B[38;5;241m=\u001B[39mcustom_objects, \u001B[38;5;28mcompile\u001B[39m\u001B[38;5;241m=\u001B[39m\u001B[38;5;28mcompile\u001B[39m, \u001B[38;5;241m*\u001B[39m\u001B[38;5;241m*\u001B[39mkwargs\n\u001B[1;32m    240\u001B[0m )\n",
      "File \u001B[0;32m~/.venvs/default_ai_tools/lib/python3.8/site-packages/keras/src/saving/saving_lib.py:275\u001B[0m, in \u001B[0;36mload_model\u001B[0;34m(filepath, custom_objects, compile, safe_mode)\u001B[0m\n\u001B[1;32m    272\u001B[0m             asset_store\u001B[38;5;241m.\u001B[39mclose()\n\u001B[1;32m    274\u001B[0m \u001B[38;5;28;01mexcept\u001B[39;00m \u001B[38;5;167;01mException\u001B[39;00m \u001B[38;5;28;01mas\u001B[39;00m e:\n\u001B[0;32m--> 275\u001B[0m     \u001B[38;5;28;01mraise\u001B[39;00m e\n\u001B[1;32m    276\u001B[0m \u001B[38;5;28;01melse\u001B[39;00m:\n\u001B[1;32m    277\u001B[0m     \u001B[38;5;28;01mreturn\u001B[39;00m model\n",
      "File \u001B[0;32m~/.venvs/default_ai_tools/lib/python3.8/site-packages/keras/src/saving/saving_lib.py:240\u001B[0m, in \u001B[0;36mload_model\u001B[0;34m(filepath, custom_objects, compile, safe_mode)\u001B[0m\n\u001B[1;32m    238\u001B[0m \u001B[38;5;66;03m# Construct the model from the configuration file in the archive.\u001B[39;00m\n\u001B[1;32m    239\u001B[0m \u001B[38;5;28;01mwith\u001B[39;00m ObjectSharingScope():\n\u001B[0;32m--> 240\u001B[0m     model \u001B[38;5;241m=\u001B[39m \u001B[43mdeserialize_keras_object\u001B[49m\u001B[43m(\u001B[49m\n\u001B[1;32m    241\u001B[0m \u001B[43m        \u001B[49m\u001B[43mconfig_dict\u001B[49m\u001B[43m,\u001B[49m\u001B[43m \u001B[49m\u001B[43mcustom_objects\u001B[49m\u001B[43m,\u001B[49m\u001B[43m \u001B[49m\u001B[43msafe_mode\u001B[49m\u001B[38;5;241;43m=\u001B[39;49m\u001B[43msafe_mode\u001B[49m\n\u001B[1;32m    242\u001B[0m \u001B[43m    \u001B[49m\u001B[43m)\u001B[49m\n\u001B[1;32m    244\u001B[0m all_filenames \u001B[38;5;241m=\u001B[39m zf\u001B[38;5;241m.\u001B[39mnamelist()\n\u001B[1;32m    245\u001B[0m \u001B[38;5;28;01mif\u001B[39;00m _VARS_FNAME \u001B[38;5;241m+\u001B[39m \u001B[38;5;124m\"\u001B[39m\u001B[38;5;124m.h5\u001B[39m\u001B[38;5;124m\"\u001B[39m \u001B[38;5;129;01min\u001B[39;00m all_filenames:\n",
      "File \u001B[0;32m~/.venvs/default_ai_tools/lib/python3.8/site-packages/keras/src/saving/serialization_lib.py:710\u001B[0m, in \u001B[0;36mdeserialize_keras_object\u001B[0;34m(config, custom_objects, safe_mode, **kwargs)\u001B[0m\n\u001B[1;32m    708\u001B[0m     compile_config \u001B[38;5;241m=\u001B[39m config\u001B[38;5;241m.\u001B[39mget(\u001B[38;5;124m\"\u001B[39m\u001B[38;5;124mcompile_config\u001B[39m\u001B[38;5;124m\"\u001B[39m, \u001B[38;5;28;01mNone\u001B[39;00m)\n\u001B[1;32m    709\u001B[0m     \u001B[38;5;28;01mif\u001B[39;00m compile_config:\n\u001B[0;32m--> 710\u001B[0m         \u001B[43minstance\u001B[49m\u001B[38;5;241;43m.\u001B[39;49m\u001B[43mcompile_from_config\u001B[49m\u001B[43m(\u001B[49m\u001B[43mcompile_config\u001B[49m\u001B[43m)\u001B[49m\n\u001B[1;32m    712\u001B[0m \u001B[38;5;28;01mif\u001B[39;00m \u001B[38;5;124m\"\u001B[39m\u001B[38;5;124mshared_object_id\u001B[39m\u001B[38;5;124m\"\u001B[39m \u001B[38;5;129;01min\u001B[39;00m config:\n\u001B[1;32m    713\u001B[0m     record_object_after_deserialization(\n\u001B[1;32m    714\u001B[0m         instance, config[\u001B[38;5;124m\"\u001B[39m\u001B[38;5;124mshared_object_id\u001B[39m\u001B[38;5;124m\"\u001B[39m]\n\u001B[1;32m    715\u001B[0m     )\n",
      "File \u001B[0;32m~/.venvs/default_ai_tools/lib/python3.8/site-packages/keras/src/engine/training.py:3582\u001B[0m, in \u001B[0;36mModel.compile_from_config\u001B[0;34m(self, config)\u001B[0m\n\u001B[1;32m   3579\u001B[0m \u001B[38;5;28mself\u001B[39m\u001B[38;5;241m.\u001B[39mcompile(\u001B[38;5;241m*\u001B[39m\u001B[38;5;241m*\u001B[39mconfig)\n\u001B[1;32m   3580\u001B[0m \u001B[38;5;28;01mif\u001B[39;00m \u001B[38;5;28mhasattr\u001B[39m(\u001B[38;5;28mself\u001B[39m, \u001B[38;5;124m\"\u001B[39m\u001B[38;5;124moptimizer\u001B[39m\u001B[38;5;124m\"\u001B[39m) \u001B[38;5;129;01mand\u001B[39;00m \u001B[38;5;28mself\u001B[39m\u001B[38;5;241m.\u001B[39mbuilt:\n\u001B[1;32m   3581\u001B[0m     \u001B[38;5;66;03m# Create optimizer variables.\u001B[39;00m\n\u001B[0;32m-> 3582\u001B[0m     \u001B[38;5;28;43mself\u001B[39;49m\u001B[38;5;241;43m.\u001B[39;49m\u001B[43moptimizer\u001B[49m\u001B[38;5;241;43m.\u001B[39;49m\u001B[43mbuild\u001B[49m(\u001B[38;5;28mself\u001B[39m\u001B[38;5;241m.\u001B[39mtrainable_variables)\n",
      "File \u001B[0;32m~/.venvs/default_ai_tools/lib/python3.8/site-packages/keras/src/optimizers/legacy/optimizer_v2.py:997\u001B[0m, in \u001B[0;36mOptimizerV2.__getattribute__\u001B[0;34m(self, name)\u001B[0m\n\u001B[1;32m    995\u001B[0m \u001B[38;5;28;01mif\u001B[39;00m name \u001B[38;5;129;01min\u001B[39;00m \u001B[38;5;28mself\u001B[39m\u001B[38;5;241m.\u001B[39m_hyper:\n\u001B[1;32m    996\u001B[0m     \u001B[38;5;28;01mreturn\u001B[39;00m \u001B[38;5;28mself\u001B[39m\u001B[38;5;241m.\u001B[39m_get_hyper(name)\n\u001B[0;32m--> 997\u001B[0m \u001B[38;5;28;01mraise\u001B[39;00m e\n",
      "File \u001B[0;32m~/.venvs/default_ai_tools/lib/python3.8/site-packages/keras/src/optimizers/legacy/optimizer_v2.py:987\u001B[0m, in \u001B[0;36mOptimizerV2.__getattribute__\u001B[0;34m(self, name)\u001B[0m\n\u001B[1;32m    985\u001B[0m \u001B[38;5;250m\u001B[39m\u001B[38;5;124;03m\"\"\"Overridden to support hyperparameter access.\"\"\"\u001B[39;00m\n\u001B[1;32m    986\u001B[0m \u001B[38;5;28;01mtry\u001B[39;00m:\n\u001B[0;32m--> 987\u001B[0m     \u001B[38;5;28;01mreturn\u001B[39;00m \u001B[38;5;28;43msuper\u001B[39;49m\u001B[43m(\u001B[49m\u001B[43m)\u001B[49m\u001B[38;5;241;43m.\u001B[39;49m\u001B[38;5;21;43m__getattribute__\u001B[39;49m\u001B[43m(\u001B[49m\u001B[43mname\u001B[49m\u001B[43m)\u001B[49m\n\u001B[1;32m    988\u001B[0m \u001B[38;5;28;01mexcept\u001B[39;00m \u001B[38;5;167;01mAttributeError\u001B[39;00m \u001B[38;5;28;01mas\u001B[39;00m e:\n\u001B[1;32m    989\u001B[0m     \u001B[38;5;66;03m# Needed to avoid infinite recursion with __setattr__.\u001B[39;00m\n\u001B[1;32m    990\u001B[0m     \u001B[38;5;28;01mif\u001B[39;00m name \u001B[38;5;241m==\u001B[39m \u001B[38;5;124m\"\u001B[39m\u001B[38;5;124m_hyper\u001B[39m\u001B[38;5;124m\"\u001B[39m:\n",
      "\u001B[0;31mAttributeError\u001B[0m: 'Adam' object has no attribute 'build'"
     ]
    }
   ],
   "execution_count": 35
  }
 ],
 "metadata": {
  "kernelspec": {
   "display_name": "Python 3",
   "language": "python",
   "name": "python3"
  },
  "language_info": {
   "codemirror_mode": {
    "name": "ipython",
    "version": 2
   },
   "file_extension": ".py",
   "mimetype": "text/x-python",
   "name": "python",
   "nbconvert_exporter": "python",
   "pygments_lexer": "ipython2",
   "version": "2.7.6"
  }
 },
 "nbformat": 4,
 "nbformat_minor": 5
}
