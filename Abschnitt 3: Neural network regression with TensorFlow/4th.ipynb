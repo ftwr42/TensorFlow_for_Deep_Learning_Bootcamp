{
 "cells": [
  {
   "metadata": {},
   "cell_type": "markdown",
   "source": "Saving and Storing models",
   "id": "2ff116e50f396b70"
  },
  {
   "metadata": {
    "ExecuteTime": {
     "end_time": "2025-03-27T11:17:02.497030Z",
     "start_time": "2025-03-27T11:16:48.224473Z"
    }
   },
   "cell_type": "code",
   "source": [
    "import numpy as np\n",
    "import tensorflow as tf\n",
    "import matplotlib.pyplot as plt\n",
    "import pandas as pd\n",
    "from tensorflow import keras as ks\n",
    "import os\n",
    "import logging\n",
    "os.environ['TF_CPP_MIN_LOG_LEVEL'] = '2'\n",
    "logging.getLogger('absl').setLevel(logging.ERROR)"
   ],
   "id": "44905e7f2a613e5e",
   "outputs": [],
   "execution_count": 1
  },
  {
   "metadata": {
    "ExecuteTime": {
     "end_time": "2025-03-27T11:17:02.922975Z",
     "start_time": "2025-03-27T11:17:02.506028Z"
    }
   },
   "cell_type": "code",
   "source": [
    "x_original = tf.range(start=-7, limit=-7 + 3 * 10, delta=3, dtype=tf.int32)\n",
    "y_original = tf.range(start=3, limit=3 + 3 * 10, delta=3, dtype=tf.int32)\n",
    "\n",
    "x = tf.identity(x_original)\n",
    "y = tf.identity(y_original)\n",
    "\n",
    "plt.figure(figsize=(12,7))\n",
    "plt.scatter(x=x, y=y, c='green', label='original data')\n",
    "plt.legend()\n",
    "plt.show()"
   ],
   "id": "9b07b15ef5e28e87",
   "outputs": [
    {
     "data": {
      "text/plain": [
       "<Figure size 1200x700 with 1 Axes>"
      ],
      "image/png": "[encoded data removed]"
     },
     "metadata": {},
     "output_type": "display_data"
    }
   ],
   "execution_count": 2
  },
  {
   "metadata": {
    "ExecuteTime": {
     "end_time": "2025-03-27T11:17:03.067458Z",
     "start_time": "2025-03-27T11:17:03.051410Z"
    }
   },
   "cell_type": "code",
   "source": [
    "div = int(len(x)*0.7)\n",
    "\n",
    "x_train = x[0:div]\n",
    "y_train = y[0:div]\n",
    "\n",
    "x_test = x[div:]\n",
    "y_test = y[div:]\n",
    "\n",
    "x = tf.reshape(x, (-1, 1))\n",
    "y = tf.reshape(y, (-1, 1))\n",
    "\n",
    "x_train = tf.reshape(x_train, (-1, 1))\n",
    "y_train = tf.reshape(y_train, (-1, 1))\n",
    "\n",
    "x_test = tf.reshape(x_test, (-1, 1))\n",
    "y_test = tf.reshape(y_test, (-1, 1))\n",
    "\n",
    "div, x_train, y_train, x_test, y_test"
   ],
   "id": "d6480ee949b4cf26",
   "outputs": [
    {
     "data": {
      "text/plain": [
       "(7,\n",
       " <tf.Tensor: shape=(7, 1), dtype=int32, numpy=\n",
       " array([[-7],\n",
       "        [-4],\n",
       "        [-1],\n",
       "        [ 2],\n",
       "        [ 5],\n",
       "        [ 8],\n",
       "        [11]], dtype=int32)>,\n",
       " <tf.Tensor: shape=(7, 1), dtype=int32, numpy=\n",
       " array([[ 3],\n",
       "        [ 6],\n",
       "        [ 9],\n",
       "        [12],\n",
       "        [15],\n",
       "        [18],\n",
       "        [21]], dtype=int32)>,\n",
       " <tf.Tensor: shape=(3, 1), dtype=int32, numpy=\n",
       " array([[14],\n",
       "        [17],\n",
       "        [20]], dtype=int32)>,\n",
       " <tf.Tensor: shape=(3, 1), dtype=int32, numpy=\n",
       " array([[24],\n",
       "        [27],\n",
       "        [30]], dtype=int32)>)"
      ]
     },
     "execution_count": 3,
     "metadata": {},
     "output_type": "execute_result"
    }
   ],
   "execution_count": 3
  },
  {
   "metadata": {
    "ExecuteTime": {
     "end_time": "2025-03-27T11:17:05.622448Z",
     "start_time": "2025-03-27T11:17:03.152835Z"
    }
   },
   "cell_type": "code",
   "source": [
    "tf.random.set_seed(42)\n",
    "\n",
    "model = tf.keras.Sequential([\n",
    "    tf.keras.layers.Dense(10),\n",
    "    tf.keras.layers.Dense(10),\n",
    "    tf.keras.layers.Dense(1),\n",
    "])\n",
    "\n",
    "model.compile(loss=tf.keras.losses.mae,\n",
    "               optimizer=tf.keras.optimizers.Adam(learning_rate=0.1),\n",
    "               metrics=['mae'])\n",
    "\n",
    "model.fit(x_train,y_train,epochs=30)\n",
    "\n",
    "y_predicts = model.predict(x_test)\n",
    "\n",
    "plt.figure(figsize=(12,7))\n",
    "plt.scatter(x=x_train, y=y_train, c='blue', label='train data')\n",
    "plt.scatter(x=x_test, y=y_test, c='green', label='test data')\n",
    "plt.scatter(x=x_test, y=y_predicts, c='red', label='predicted data')\n",
    "plt.legend()\n",
    "plt.show()"
   ],
   "id": "aa6dd647ac995103",
   "outputs": [
    {
     "name": "stdout",
     "output_type": "stream",
     "text": [
      "Epoch 1/30\n",
      "1/1 [==============================] - 1s 1s/step - loss: 11.6998 - mae: 11.6998\n",
      "Epoch 2/30\n",
      "1/1 [==============================] - 0s 12ms/step - loss: 8.8553 - mae: 8.8553\n",
      "Epoch 3/30\n",
      "1/1 [==============================] - 0s 17ms/step - loss: 8.0158 - mae: 8.0158\n",
      "Epoch 4/30\n",
      "1/1 [==============================] - 0s 15ms/step - loss: 7.5611 - mae: 7.5611\n",
      "Epoch 5/30\n",
      "1/1 [==============================] - 0s 12ms/step - loss: 5.8273 - mae: 5.8273\n",
      "Epoch 6/30\n",
      "1/1 [==============================] - 0s 13ms/step - loss: 7.1132 - mae: 7.1132\n",
      "Epoch 7/30\n",
      "1/1 [==============================] - 0s 12ms/step - loss: 5.5552 - mae: 5.5552\n",
      "Epoch 8/30\n",
      "1/1 [==============================] - 0s 11ms/step - loss: 3.4512 - mae: 3.4512\n",
      "Epoch 9/30\n",
      "1/1 [==============================] - 0s 14ms/step - loss: 3.0593 - mae: 3.0593\n",
      "Epoch 10/30\n",
      "1/1 [==============================] - 0s 10ms/step - loss: 1.2579 - mae: 1.2579\n",
      "Epoch 11/30\n",
      "1/1 [==============================] - 0s 10ms/step - loss: 2.3169 - mae: 2.3169\n",
      "Epoch 12/30\n",
      "1/1 [==============================] - 0s 9ms/step - loss: 3.1422 - mae: 3.1422\n",
      "Epoch 13/30\n",
      "1/1 [==============================] - 0s 9ms/step - loss: 2.5057 - mae: 2.5057\n",
      "Epoch 14/30\n",
      "1/1 [==============================] - 0s 11ms/step - loss: 2.2982 - mae: 2.2982\n",
      "Epoch 15/30\n",
      "1/1 [==============================] - 0s 10ms/step - loss: 0.7583 - mae: 0.7583\n",
      "Epoch 16/30\n",
      "1/1 [==============================] - 0s 10ms/step - loss: 0.7739 - mae: 0.7739\n",
      "Epoch 17/30\n",
      "1/1 [==============================] - 0s 11ms/step - loss: 1.6749 - mae: 1.6749\n",
      "Epoch 18/30\n",
      "1/1 [==============================] - 0s 16ms/step - loss: 2.0212 - mae: 2.0212\n",
      "Epoch 19/30\n",
      "1/1 [==============================] - 0s 16ms/step - loss: 1.4413 - mae: 1.4413\n",
      "Epoch 20/30\n",
      "1/1 [==============================] - 0s 15ms/step - loss: 1.8390 - mae: 1.8390\n",
      "Epoch 21/30\n",
      "1/1 [==============================] - 0s 12ms/step - loss: 1.3783 - mae: 1.3783\n",
      "Epoch 22/30\n",
      "1/1 [==============================] - 0s 11ms/step - loss: 0.5826 - mae: 0.5826\n",
      "Epoch 23/30\n",
      "1/1 [==============================] - 0s 13ms/step - loss: 0.5578 - mae: 0.5578\n",
      "Epoch 24/30\n",
      "1/1 [==============================] - 0s 11ms/step - loss: 1.3943 - mae: 1.3943\n",
      "Epoch 25/30\n",
      "1/1 [==============================] - 0s 10ms/step - loss: 1.1989 - mae: 1.1989\n",
      "Epoch 26/30\n",
      "1/1 [==============================] - 0s 8ms/step - loss: 1.3960 - mae: 1.3960\n",
      "Epoch 27/30\n",
      "1/1 [==============================] - 0s 11ms/step - loss: 1.3428 - mae: 1.3428\n",
      "Epoch 28/30\n",
      "1/1 [==============================] - 0s 9ms/step - loss: 0.3831 - mae: 0.3831\n",
      "Epoch 29/30\n",
      "1/1 [==============================] - 0s 9ms/step - loss: 1.7202 - mae: 1.7202\n",
      "Epoch 30/30\n",
      "1/1 [==============================] - 0s 8ms/step - loss: 2.1317 - mae: 2.1317\n",
      "1/1 [==============================] - 0s 470ms/step\n"
     ]
    },
    {
     "data": {
      "text/plain": [
       "<Figure size 1200x700 with 1 Axes>"
      ],
      "image/png": "[encoded data removed]"
     },
     "metadata": {},
     "output_type": "display_data"
    }
   ],
   "execution_count": 4
  },
  {
   "metadata": {
    "ExecuteTime": {
     "end_time": "2025-03-27T11:17:05.645061Z",
     "start_time": "2025-03-27T11:17:05.637783Z"
    }
   },
   "cell_type": "code",
   "source": "# model.save('first_save.keras', save_format='keras')\n",
   "id": "56bb2fd819d73526",
   "outputs": [],
   "execution_count": 5
  },
  {
   "metadata": {
    "ExecuteTime": {
     "end_time": "2025-03-27T11:17:31.350325Z",
     "start_time": "2025-03-27T11:17:31.348394Z"
    }
   },
   "cell_type": "code",
   "source": "# model = tf.keras.models.load_model(\"first_save.keras\")",
   "id": "66536d2a17e668a4",
   "outputs": [],
   "execution_count": 7
  },
  {
   "metadata": {},
   "cell_type": "markdown",
   "source": "I need to google this when it comes to this again, bcs information about saving and storing was very raw! Skipping here videos from 60. to 62.",
   "id": "9c6f4c21052f4508"
  },
  {
   "metadata": {},
   "cell_type": "markdown",
   "source": "",
   "id": "aba4a3dcdc2dfc52"
  }
 ],
 "metadata": {
  "kernelspec": {
   "display_name": "Python 3",
   "language": "python",
   "name": "python3"
  },
  "language_info": {
   "codemirror_mode": {
    "name": "ipython",
    "version": 2
   },
   "file_extension": ".py",
   "mimetype": "text/x-python",
   "name": "python",
   "nbconvert_exporter": "python",
   "pygments_lexer": "ipython2",
   "version": "2.7.6"
  }
 },
 "nbformat": 4,
 "nbformat_minor": 5
}
