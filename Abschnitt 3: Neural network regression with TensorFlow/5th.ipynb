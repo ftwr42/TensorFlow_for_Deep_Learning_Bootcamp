{
 "cells": [
  {
   "metadata": {},
   "cell_type": "markdown",
   "source": [
    "Putting all together what we have learned to far. Theirfor we use more complex data from [Kaggle](www.kaggle.com).\n",
    "\n",
    "Kaggle is a website to find datasets, learn more about nn and stuff and compete in competitions!\n",
    "\n",
    "For this example we are using this [dataset](https://www.kaggle.com/datasets/mirichoi0218/insurance)\n",
    "\n",
    "on [github](https://github.com/stedy/Machine-Learning-with-R-datasets)\n",
    "\n"
   ],
   "id": "d87a5d019199e01f"
  },
  {
   "metadata": {
    "ExecuteTime": {
     "end_time": "2025-03-28T14:32:04.683472Z",
     "start_time": "2025-03-28T14:31:59.937519Z"
    }
   },
   "cell_type": "code",
   "source": [
    "import numpy as np\n",
    "import tensorflow as tf\n",
    "import matplotlib.pyplot as plt\n",
    "import pandas as pd\n",
    "from tensorflow import keras as ks\n",
    "import os\n",
    "import logging\n",
    "os.environ['TF_CPP_MIN_LOG_LEVEL'] = '2'\n",
    "logging.getLogger('absl').setLevel(logging.ERROR)"
   ],
   "id": "1de7da067a1406f8",
   "outputs": [],
   "execution_count": 2
  },
  {
   "metadata": {
    "ExecuteTime": {
     "end_time": "2025-03-28T14:32:04.696424Z",
     "start_time": "2025-03-28T14:32:04.688311Z"
    }
   },
   "cell_type": "code",
   "source": [
    "# run wget https://raw.githubusercontent.com/stedy/Machine-Learning-with-R-datasets/refs/heads/master/insurance.csv\n",
    "insurance_dataset_original = pd.read_csv('insurance.csv')"
   ],
   "id": "d811ace56802f12",
   "outputs": [],
   "execution_count": 3
  },
  {
   "metadata": {
    "ExecuteTime": {
     "end_time": "2025-03-28T14:32:04.746801Z",
     "start_time": "2025-03-28T14:32:04.732899Z"
    }
   },
   "cell_type": "code",
   "source": "insurance_dataset_original",
   "id": "b19f8b1a1c376092",
   "outputs": [
    {
     "data": {
      "text/plain": [
       "      age     sex     bmi  children smoker     region      charges\n",
       "0      19  female  27.900         0    yes  southwest  16884.92400\n",
       "1      18    male  33.770         1     no  southeast   1725.55230\n",
       "2      28    male  33.000         3     no  southeast   4449.46200\n",
       "3      33    male  22.705         0     no  northwest  21984.47061\n",
       "4      32    male  28.880         0     no  northwest   3866.85520\n",
       "...   ...     ...     ...       ...    ...        ...          ...\n",
       "1333   50    male  30.970         3     no  northwest  10600.54830\n",
       "1334   18  female  31.920         0     no  northeast   2205.98080\n",
       "1335   18  female  36.850         0     no  southeast   1629.83350\n",
       "1336   21  female  25.800         0     no  southwest   2007.94500\n",
       "1337   61  female  29.070         0    yes  northwest  29141.36030\n",
       "\n",
       "[1338 rows x 7 columns]"
      ],
      "text/html": [
       "<div>\n",
       "<style scoped>\n",
       "    .dataframe tbody tr th:only-of-type {\n",
       "        vertical-align: middle;\n",
       "    }\n",
       "\n",
       "    .dataframe tbody tr th {\n",
       "        vertical-align: top;\n",
       "    }\n",
       "\n",
       "    .dataframe thead th {\n",
       "        text-align: right;\n",
       "    }\n",
       "</style>\n",
       "<table border=\"1\" class=\"dataframe\">\n",
       "  <thead>\n",
       "    <tr style=\"text-align: right;\">\n",
       "      <th></th>\n",
       "      <th>age</th>\n",
       "      <th>sex</th>\n",
       "      <th>bmi</th>\n",
       "      <th>children</th>\n",
       "      <th>smoker</th>\n",
       "      <th>region</th>\n",
       "      <th>charges</th>\n",
       "    </tr>\n",
       "  </thead>\n",
       "  <tbody>\n",
       "    <tr>\n",
       "      <th>0</th>\n",
       "      <td>19</td>\n",
       "      <td>female</td>\n",
       "      <td>27.900</td>\n",
       "      <td>0</td>\n",
       "      <td>yes</td>\n",
       "      <td>southwest</td>\n",
       "      <td>16884.92400</td>\n",
       "    </tr>\n",
       "    <tr>\n",
       "      <th>1</th>\n",
       "      <td>18</td>\n",
       "      <td>male</td>\n",
       "      <td>33.770</td>\n",
       "      <td>1</td>\n",
       "      <td>no</td>\n",
       "      <td>southeast</td>\n",
       "      <td>1725.55230</td>\n",
       "    </tr>\n",
       "    <tr>\n",
       "      <th>2</th>\n",
       "      <td>28</td>\n",
       "      <td>male</td>\n",
       "      <td>33.000</td>\n",
       "      <td>3</td>\n",
       "      <td>no</td>\n",
       "      <td>southeast</td>\n",
       "      <td>4449.46200</td>\n",
       "    </tr>\n",
       "    <tr>\n",
       "      <th>3</th>\n",
       "      <td>33</td>\n",
       "      <td>male</td>\n",
       "      <td>22.705</td>\n",
       "      <td>0</td>\n",
       "      <td>no</td>\n",
       "      <td>northwest</td>\n",
       "      <td>21984.47061</td>\n",
       "    </tr>\n",
       "    <tr>\n",
       "      <th>4</th>\n",
       "      <td>32</td>\n",
       "      <td>male</td>\n",
       "      <td>28.880</td>\n",
       "      <td>0</td>\n",
       "      <td>no</td>\n",
       "      <td>northwest</td>\n",
       "      <td>3866.85520</td>\n",
       "    </tr>\n",
       "    <tr>\n",
       "      <th>...</th>\n",
       "      <td>...</td>\n",
       "      <td>...</td>\n",
       "      <td>...</td>\n",
       "      <td>...</td>\n",
       "      <td>...</td>\n",
       "      <td>...</td>\n",
       "      <td>...</td>\n",
       "    </tr>\n",
       "    <tr>\n",
       "      <th>1333</th>\n",
       "      <td>50</td>\n",
       "      <td>male</td>\n",
       "      <td>30.970</td>\n",
       "      <td>3</td>\n",
       "      <td>no</td>\n",
       "      <td>northwest</td>\n",
       "      <td>10600.54830</td>\n",
       "    </tr>\n",
       "    <tr>\n",
       "      <th>1334</th>\n",
       "      <td>18</td>\n",
       "      <td>female</td>\n",
       "      <td>31.920</td>\n",
       "      <td>0</td>\n",
       "      <td>no</td>\n",
       "      <td>northeast</td>\n",
       "      <td>2205.98080</td>\n",
       "    </tr>\n",
       "    <tr>\n",
       "      <th>1335</th>\n",
       "      <td>18</td>\n",
       "      <td>female</td>\n",
       "      <td>36.850</td>\n",
       "      <td>0</td>\n",
       "      <td>no</td>\n",
       "      <td>southeast</td>\n",
       "      <td>1629.83350</td>\n",
       "    </tr>\n",
       "    <tr>\n",
       "      <th>1336</th>\n",
       "      <td>21</td>\n",
       "      <td>female</td>\n",
       "      <td>25.800</td>\n",
       "      <td>0</td>\n",
       "      <td>no</td>\n",
       "      <td>southwest</td>\n",
       "      <td>2007.94500</td>\n",
       "    </tr>\n",
       "    <tr>\n",
       "      <th>1337</th>\n",
       "      <td>61</td>\n",
       "      <td>female</td>\n",
       "      <td>29.070</td>\n",
       "      <td>0</td>\n",
       "      <td>yes</td>\n",
       "      <td>northwest</td>\n",
       "      <td>29141.36030</td>\n",
       "    </tr>\n",
       "  </tbody>\n",
       "</table>\n",
       "<p>1338 rows × 7 columns</p>\n",
       "</div>"
      ]
     },
     "execution_count": 4,
     "metadata": {},
     "output_type": "execute_result"
    }
   ],
   "execution_count": 4
  },
  {
   "metadata": {},
   "cell_type": "markdown",
   "source": [
    "First step is to normalize the dataset\n",
    "\n",
    "1) age is of type\n",
    "2) sex is of type\n",
    "3) bmi is of type\n",
    "4) children is of type\n",
    "5) smoker is of type\n",
    "6) region is of type\n",
    "7) charges is of type"
   ],
   "id": "ef87c183d4ab252b"
  },
  {
   "metadata": {
    "ExecuteTime": {
     "end_time": "2025-03-28T14:32:04.776725Z",
     "start_time": "2025-03-28T14:32:04.773026Z"
    }
   },
   "cell_type": "code",
   "source": "insurance_dataset = insurance_dataset_original.copy(deep=True)",
   "id": "125a57cc4e666194",
   "outputs": [],
   "execution_count": 5
  },
  {
   "metadata": {
    "ExecuteTime": {
     "end_time": "2025-03-28T14:32:04.819088Z",
     "start_time": "2025-03-28T14:32:04.813360Z"
    }
   },
   "cell_type": "code",
   "source": [
    "# make data more easy\n",
    "def round_3(n):\n",
    "    if n in [0,1,2]:\n",
    "        return -n\n",
    "    elif n in [3,4,5,6,7]:\n",
    "        return -n+5\n",
    "    elif n in [8,9]:\n",
    "        return -n+10\n",
    "\n",
    "def round_4(n):\n",
    "    if n in [0,1]:\n",
    "        return -n\n",
    "    elif n in [2,3,4]:\n",
    "        return -n+3\n",
    "    elif n in [5,6,7]:\n",
    "        return -n+6\n",
    "    elif n in [8,9]:\n",
    "        return -n+10\n",
    "\n",
    "def round_children(n):\n",
    "    if n == 0:\n",
    "        return 'none'\n",
    "    elif n in [1,2]:\n",
    "        return 'some'\n",
    "    elif n > 2:\n",
    "        return 'many'\n"
   ],
   "id": "303701fa33577bd3",
   "outputs": [],
   "execution_count": 6
  },
  {
   "metadata": {
    "ExecuteTime": {
     "end_time": "2025-03-28T14:32:04.935151Z",
     "start_time": "2025-03-28T14:32:04.908611Z"
    }
   },
   "cell_type": "code",
   "source": [
    "age_dataset = insurance_dataset['age']\n",
    "insurance_dataset['age'] = age_dataset.apply(lambda x: x+round_3(x%10))\n",
    "\n",
    "bmi_dataset = insurance_dataset['bmi']\n",
    "insurance_dataset['bmi'] = bmi_dataset.apply(lambda x: round(x)+round_4(round(x)%10))\n",
    "\n",
    "children_dataset = insurance_dataset['children'].infer_objects()\n",
    "insurance_dataset['children'] = children_dataset.apply(lambda x: round_children(x))\n",
    "\n",
    "charges_dataset = pd.to_numeric(insurance_dataset['charges'])\n",
    "insurance_dataset['charges'] = charges_dataset.apply(lambda x: int(x/1000))\n",
    "\n",
    "insurance_dataset"
   ],
   "id": "db2c02719a0e15c8",
   "outputs": [
    {
     "data": {
      "text/plain": [
       "      age     sex  bmi children smoker     region  charges\n",
       "0      20  female   30     none    yes  southwest       16\n",
       "1      20    male   33     some     no  southeast        1\n",
       "2      30    male   33     many     no  southeast        4\n",
       "3      35    male   23     none     no  northwest       21\n",
       "4      30    male   30     none     no  northwest        3\n",
       "...   ...     ...  ...      ...    ...        ...      ...\n",
       "1333   50    male   30     many     no  northwest       10\n",
       "1334   20  female   33     none     no  northeast        2\n",
       "1335   20  female   36     none     no  southeast        1\n",
       "1336   20  female   26     none     no  southwest        2\n",
       "1337   60  female   30     none    yes  northwest       29\n",
       "\n",
       "[1338 rows x 7 columns]"
      ],
      "text/html": [
       "<div>\n",
       "<style scoped>\n",
       "    .dataframe tbody tr th:only-of-type {\n",
       "        vertical-align: middle;\n",
       "    }\n",
       "\n",
       "    .dataframe tbody tr th {\n",
       "        vertical-align: top;\n",
       "    }\n",
       "\n",
       "    .dataframe thead th {\n",
       "        text-align: right;\n",
       "    }\n",
       "</style>\n",
       "<table border=\"1\" class=\"dataframe\">\n",
       "  <thead>\n",
       "    <tr style=\"text-align: right;\">\n",
       "      <th></th>\n",
       "      <th>age</th>\n",
       "      <th>sex</th>\n",
       "      <th>bmi</th>\n",
       "      <th>children</th>\n",
       "      <th>smoker</th>\n",
       "      <th>region</th>\n",
       "      <th>charges</th>\n",
       "    </tr>\n",
       "  </thead>\n",
       "  <tbody>\n",
       "    <tr>\n",
       "      <th>0</th>\n",
       "      <td>20</td>\n",
       "      <td>female</td>\n",
       "      <td>30</td>\n",
       "      <td>none</td>\n",
       "      <td>yes</td>\n",
       "      <td>southwest</td>\n",
       "      <td>16</td>\n",
       "    </tr>\n",
       "    <tr>\n",
       "      <th>1</th>\n",
       "      <td>20</td>\n",
       "      <td>male</td>\n",
       "      <td>33</td>\n",
       "      <td>some</td>\n",
       "      <td>no</td>\n",
       "      <td>southeast</td>\n",
       "      <td>1</td>\n",
       "    </tr>\n",
       "    <tr>\n",
       "      <th>2</th>\n",
       "      <td>30</td>\n",
       "      <td>male</td>\n",
       "      <td>33</td>\n",
       "      <td>many</td>\n",
       "      <td>no</td>\n",
       "      <td>southeast</td>\n",
       "      <td>4</td>\n",
       "    </tr>\n",
       "    <tr>\n",
       "      <th>3</th>\n",
       "      <td>35</td>\n",
       "      <td>male</td>\n",
       "      <td>23</td>\n",
       "      <td>none</td>\n",
       "      <td>no</td>\n",
       "      <td>northwest</td>\n",
       "      <td>21</td>\n",
       "    </tr>\n",
       "    <tr>\n",
       "      <th>4</th>\n",
       "      <td>30</td>\n",
       "      <td>male</td>\n",
       "      <td>30</td>\n",
       "      <td>none</td>\n",
       "      <td>no</td>\n",
       "      <td>northwest</td>\n",
       "      <td>3</td>\n",
       "    </tr>\n",
       "    <tr>\n",
       "      <th>...</th>\n",
       "      <td>...</td>\n",
       "      <td>...</td>\n",
       "      <td>...</td>\n",
       "      <td>...</td>\n",
       "      <td>...</td>\n",
       "      <td>...</td>\n",
       "      <td>...</td>\n",
       "    </tr>\n",
       "    <tr>\n",
       "      <th>1333</th>\n",
       "      <td>50</td>\n",
       "      <td>male</td>\n",
       "      <td>30</td>\n",
       "      <td>many</td>\n",
       "      <td>no</td>\n",
       "      <td>northwest</td>\n",
       "      <td>10</td>\n",
       "    </tr>\n",
       "    <tr>\n",
       "      <th>1334</th>\n",
       "      <td>20</td>\n",
       "      <td>female</td>\n",
       "      <td>33</td>\n",
       "      <td>none</td>\n",
       "      <td>no</td>\n",
       "      <td>northeast</td>\n",
       "      <td>2</td>\n",
       "    </tr>\n",
       "    <tr>\n",
       "      <th>1335</th>\n",
       "      <td>20</td>\n",
       "      <td>female</td>\n",
       "      <td>36</td>\n",
       "      <td>none</td>\n",
       "      <td>no</td>\n",
       "      <td>southeast</td>\n",
       "      <td>1</td>\n",
       "    </tr>\n",
       "    <tr>\n",
       "      <th>1336</th>\n",
       "      <td>20</td>\n",
       "      <td>female</td>\n",
       "      <td>26</td>\n",
       "      <td>none</td>\n",
       "      <td>no</td>\n",
       "      <td>southwest</td>\n",
       "      <td>2</td>\n",
       "    </tr>\n",
       "    <tr>\n",
       "      <th>1337</th>\n",
       "      <td>60</td>\n",
       "      <td>female</td>\n",
       "      <td>30</td>\n",
       "      <td>none</td>\n",
       "      <td>yes</td>\n",
       "      <td>northwest</td>\n",
       "      <td>29</td>\n",
       "    </tr>\n",
       "  </tbody>\n",
       "</table>\n",
       "<p>1338 rows × 7 columns</p>\n",
       "</div>"
      ]
     },
     "execution_count": 7,
     "metadata": {},
     "output_type": "execute_result"
    }
   ],
   "execution_count": 7
  },
  {
   "metadata": {
    "ExecuteTime": {
     "end_time": "2025-03-28T14:32:05.027323Z",
     "start_time": "2025-03-28T14:32:05.010694Z"
    }
   },
   "cell_type": "code",
   "source": [
    "insurance_dataset_one_hot = pd.get_dummies(insurance_dataset)\n",
    "insurance_dataset_one_hot"
   ],
   "id": "58ed327475d12f05",
   "outputs": [
    {
     "data": {
      "text/plain": [
       "      age  bmi  charges  sex_female  sex_male  children_many  children_none  \\\n",
       "0      20   30       16        True     False          False           True   \n",
       "1      20   33        1       False      True          False          False   \n",
       "2      30   33        4       False      True           True          False   \n",
       "3      35   23       21       False      True          False           True   \n",
       "4      30   30        3       False      True          False           True   \n",
       "...   ...  ...      ...         ...       ...            ...            ...   \n",
       "1333   50   30       10       False      True           True          False   \n",
       "1334   20   33        2        True     False          False           True   \n",
       "1335   20   36        1        True     False          False           True   \n",
       "1336   20   26        2        True     False          False           True   \n",
       "1337   60   30       29        True     False          False           True   \n",
       "\n",
       "      children_some  smoker_no  smoker_yes  region_northeast  \\\n",
       "0             False      False        True             False   \n",
       "1              True       True       False             False   \n",
       "2             False       True       False             False   \n",
       "3             False       True       False             False   \n",
       "4             False       True       False             False   \n",
       "...             ...        ...         ...               ...   \n",
       "1333          False       True       False             False   \n",
       "1334          False       True       False              True   \n",
       "1335          False       True       False             False   \n",
       "1336          False       True       False             False   \n",
       "1337          False      False        True             False   \n",
       "\n",
       "      region_northwest  region_southeast  region_southwest  \n",
       "0                False             False              True  \n",
       "1                False              True             False  \n",
       "2                False              True             False  \n",
       "3                 True             False             False  \n",
       "4                 True             False             False  \n",
       "...                ...               ...               ...  \n",
       "1333              True             False             False  \n",
       "1334             False             False             False  \n",
       "1335             False              True             False  \n",
       "1336             False             False              True  \n",
       "1337              True             False             False  \n",
       "\n",
       "[1338 rows x 14 columns]"
      ],
      "text/html": [
       "<div>\n",
       "<style scoped>\n",
       "    .dataframe tbody tr th:only-of-type {\n",
       "        vertical-align: middle;\n",
       "    }\n",
       "\n",
       "    .dataframe tbody tr th {\n",
       "        vertical-align: top;\n",
       "    }\n",
       "\n",
       "    .dataframe thead th {\n",
       "        text-align: right;\n",
       "    }\n",
       "</style>\n",
       "<table border=\"1\" class=\"dataframe\">\n",
       "  <thead>\n",
       "    <tr style=\"text-align: right;\">\n",
       "      <th></th>\n",
       "      <th>age</th>\n",
       "      <th>bmi</th>\n",
       "      <th>charges</th>\n",
       "      <th>sex_female</th>\n",
       "      <th>sex_male</th>\n",
       "      <th>children_many</th>\n",
       "      <th>children_none</th>\n",
       "      <th>children_some</th>\n",
       "      <th>smoker_no</th>\n",
       "      <th>smoker_yes</th>\n",
       "      <th>region_northeast</th>\n",
       "      <th>region_northwest</th>\n",
       "      <th>region_southeast</th>\n",
       "      <th>region_southwest</th>\n",
       "    </tr>\n",
       "  </thead>\n",
       "  <tbody>\n",
       "    <tr>\n",
       "      <th>0</th>\n",
       "      <td>20</td>\n",
       "      <td>30</td>\n",
       "      <td>16</td>\n",
       "      <td>True</td>\n",
       "      <td>False</td>\n",
       "      <td>False</td>\n",
       "      <td>True</td>\n",
       "      <td>False</td>\n",
       "      <td>False</td>\n",
       "      <td>True</td>\n",
       "      <td>False</td>\n",
       "      <td>False</td>\n",
       "      <td>False</td>\n",
       "      <td>True</td>\n",
       "    </tr>\n",
       "    <tr>\n",
       "      <th>1</th>\n",
       "      <td>20</td>\n",
       "      <td>33</td>\n",
       "      <td>1</td>\n",
       "      <td>False</td>\n",
       "      <td>True</td>\n",
       "      <td>False</td>\n",
       "      <td>False</td>\n",
       "      <td>True</td>\n",
       "      <td>True</td>\n",
       "      <td>False</td>\n",
       "      <td>False</td>\n",
       "      <td>False</td>\n",
       "      <td>True</td>\n",
       "      <td>False</td>\n",
       "    </tr>\n",
       "    <tr>\n",
       "      <th>2</th>\n",
       "      <td>30</td>\n",
       "      <td>33</td>\n",
       "      <td>4</td>\n",
       "      <td>False</td>\n",
       "      <td>True</td>\n",
       "      <td>True</td>\n",
       "      <td>False</td>\n",
       "      <td>False</td>\n",
       "      <td>True</td>\n",
       "      <td>False</td>\n",
       "      <td>False</td>\n",
       "      <td>False</td>\n",
       "      <td>True</td>\n",
       "      <td>False</td>\n",
       "    </tr>\n",
       "    <tr>\n",
       "      <th>3</th>\n",
       "      <td>35</td>\n",
       "      <td>23</td>\n",
       "      <td>21</td>\n",
       "      <td>False</td>\n",
       "      <td>True</td>\n",
       "      <td>False</td>\n",
       "      <td>True</td>\n",
       "      <td>False</td>\n",
       "      <td>True</td>\n",
       "      <td>False</td>\n",
       "      <td>False</td>\n",
       "      <td>True</td>\n",
       "      <td>False</td>\n",
       "      <td>False</td>\n",
       "    </tr>\n",
       "    <tr>\n",
       "      <th>4</th>\n",
       "      <td>30</td>\n",
       "      <td>30</td>\n",
       "      <td>3</td>\n",
       "      <td>False</td>\n",
       "      <td>True</td>\n",
       "      <td>False</td>\n",
       "      <td>True</td>\n",
       "      <td>False</td>\n",
       "      <td>True</td>\n",
       "      <td>False</td>\n",
       "      <td>False</td>\n",
       "      <td>True</td>\n",
       "      <td>False</td>\n",
       "      <td>False</td>\n",
       "    </tr>\n",
       "    <tr>\n",
       "      <th>...</th>\n",
       "      <td>...</td>\n",
       "      <td>...</td>\n",
       "      <td>...</td>\n",
       "      <td>...</td>\n",
       "      <td>...</td>\n",
       "      <td>...</td>\n",
       "      <td>...</td>\n",
       "      <td>...</td>\n",
       "      <td>...</td>\n",
       "      <td>...</td>\n",
       "      <td>...</td>\n",
       "      <td>...</td>\n",
       "      <td>...</td>\n",
       "      <td>...</td>\n",
       "    </tr>\n",
       "    <tr>\n",
       "      <th>1333</th>\n",
       "      <td>50</td>\n",
       "      <td>30</td>\n",
       "      <td>10</td>\n",
       "      <td>False</td>\n",
       "      <td>True</td>\n",
       "      <td>True</td>\n",
       "      <td>False</td>\n",
       "      <td>False</td>\n",
       "      <td>True</td>\n",
       "      <td>False</td>\n",
       "      <td>False</td>\n",
       "      <td>True</td>\n",
       "      <td>False</td>\n",
       "      <td>False</td>\n",
       "    </tr>\n",
       "    <tr>\n",
       "      <th>1334</th>\n",
       "      <td>20</td>\n",
       "      <td>33</td>\n",
       "      <td>2</td>\n",
       "      <td>True</td>\n",
       "      <td>False</td>\n",
       "      <td>False</td>\n",
       "      <td>True</td>\n",
       "      <td>False</td>\n",
       "      <td>True</td>\n",
       "      <td>False</td>\n",
       "      <td>True</td>\n",
       "      <td>False</td>\n",
       "      <td>False</td>\n",
       "      <td>False</td>\n",
       "    </tr>\n",
       "    <tr>\n",
       "      <th>1335</th>\n",
       "      <td>20</td>\n",
       "      <td>36</td>\n",
       "      <td>1</td>\n",
       "      <td>True</td>\n",
       "      <td>False</td>\n",
       "      <td>False</td>\n",
       "      <td>True</td>\n",
       "      <td>False</td>\n",
       "      <td>True</td>\n",
       "      <td>False</td>\n",
       "      <td>False</td>\n",
       "      <td>False</td>\n",
       "      <td>True</td>\n",
       "      <td>False</td>\n",
       "    </tr>\n",
       "    <tr>\n",
       "      <th>1336</th>\n",
       "      <td>20</td>\n",
       "      <td>26</td>\n",
       "      <td>2</td>\n",
       "      <td>True</td>\n",
       "      <td>False</td>\n",
       "      <td>False</td>\n",
       "      <td>True</td>\n",
       "      <td>False</td>\n",
       "      <td>True</td>\n",
       "      <td>False</td>\n",
       "      <td>False</td>\n",
       "      <td>False</td>\n",
       "      <td>False</td>\n",
       "      <td>True</td>\n",
       "    </tr>\n",
       "    <tr>\n",
       "      <th>1337</th>\n",
       "      <td>60</td>\n",
       "      <td>30</td>\n",
       "      <td>29</td>\n",
       "      <td>True</td>\n",
       "      <td>False</td>\n",
       "      <td>False</td>\n",
       "      <td>True</td>\n",
       "      <td>False</td>\n",
       "      <td>False</td>\n",
       "      <td>True</td>\n",
       "      <td>False</td>\n",
       "      <td>True</td>\n",
       "      <td>False</td>\n",
       "      <td>False</td>\n",
       "    </tr>\n",
       "  </tbody>\n",
       "</table>\n",
       "<p>1338 rows × 14 columns</p>\n",
       "</div>"
      ]
     },
     "execution_count": 8,
     "metadata": {},
     "output_type": "execute_result"
    }
   ],
   "execution_count": 8
  },
  {
   "metadata": {
    "ExecuteTime": {
     "end_time": "2025-03-28T14:36:10.390758Z",
     "start_time": "2025-03-28T14:36:10.267250Z"
    }
   },
   "cell_type": "code",
   "source": [
    "# normalize here\n",
    "insurance_dataset_one_hot['age'].plot(kind='hist')"
   ],
   "id": "565a4199c2edfad1",
   "outputs": [
    {
     "data": {
      "text/plain": [
       "<Axes: ylabel='Frequency'>"
      ]
     },
     "execution_count": 27,
     "metadata": {},
     "output_type": "execute_result"
    },
    {
     "data": {
      "text/plain": [
       "<Figure size 640x480 with 1 Axes>"
      ],
      "image/png": "[encoded data removed]"
     },
     "metadata": {},
     "output_type": "display_data"
    }
   ],
   "execution_count": 27
  },
  {
   "metadata": {
    "ExecuteTime": {
     "end_time": "2025-03-28T14:36:50.703270Z",
     "start_time": "2025-03-28T14:36:50.437163Z"
    }
   },
   "cell_type": "code",
   "source": "insurance_dataset_one_hot['bmi'].plot(kind='hist')",
   "id": "26338d33434be306",
   "outputs": [
    {
     "data": {
      "text/plain": [
       "<Axes: ylabel='Frequency'>"
      ]
     },
     "execution_count": 28,
     "metadata": {},
     "output_type": "execute_result"
    },
    {
     "data": {
      "text/plain": [
       "<Figure size 640x480 with 1 Axes>"
      ],
      "image/png": "[encoded data removed]"
     },
     "metadata": {},
     "output_type": "display_data"
    }
   ],
   "execution_count": 28
  },
  {
   "metadata": {
    "ExecuteTime": {
     "end_time": "2025-03-28T14:32:05.271454Z",
     "start_time": "2025-03-28T14:32:05.265616Z"
    }
   },
   "cell_type": "code",
   "source": [
    "y_insurance_dataset_one_hot = insurance_dataset_one_hot['charges']\n",
    "x_insurance_dataset_one_hot = insurance_dataset_one_hot.drop(columns=['charges'])"
   ],
   "id": "9493e08e7bb48359",
   "outputs": [],
   "execution_count": 10
  },
  {
   "metadata": {
    "ExecuteTime": {
     "end_time": "2025-03-28T14:32:05.344839Z",
     "start_time": "2025-03-28T14:32:05.339642Z"
    }
   },
   "cell_type": "code",
   "source": [
    "# create test and training data 30 / 70\n",
    "perc = int(len(insurance_dataset_one_hot.age) * (7/10))\n",
    "x_insurance_dataset_one_hot_train = x_insurance_dataset_one_hot[0:perc]\n",
    "y_insurance_dataset_one_hot_train = y_insurance_dataset_one_hot[0:perc]\n",
    "\n",
    "x_insurance_dataset_one_hot_test = x_insurance_dataset_one_hot[perc:]\n",
    "y_insurance_dataset_one_hot_test = y_insurance_dataset_one_hot[perc:]"
   ],
   "id": "ca8309b487adc382",
   "outputs": [],
   "execution_count": 11
  },
  {
   "metadata": {
    "ExecuteTime": {
     "end_time": "2025-03-28T14:32:05.397990Z",
     "start_time": "2025-03-28T14:32:05.395498Z"
    }
   },
   "cell_type": "code",
   "source": "",
   "id": "5a2e99bc06f4c5c4",
   "outputs": [],
   "execution_count": null
  },
  {
   "metadata": {
    "ExecuteTime": {
     "end_time": "2025-03-28T14:32:06.123566Z",
     "start_time": "2025-03-28T14:32:05.439240Z"
    }
   },
   "cell_type": "code",
   "source": [
    "# doing the splitting and converting with sklearn\n",
    "from sklearn.model_selection import train_test_split\n",
    "\n",
    "y_insurance_dataset_one_hot = insurance_dataset_one_hot['charges']\n",
    "x_insurance_dataset_one_hot = insurance_dataset_one_hot.drop(columns=['charges'])\n",
    "x_train, x_test, y_train, y_test = train_test_split(x_insurance_dataset_one_hot, y_insurance_dataset_one_hot, train_size=0.2, random_state=42)"
   ],
   "id": "aea3a8fb7e61e651",
   "outputs": [],
   "execution_count": 12
  },
  {
   "metadata": {
    "ExecuteTime": {
     "end_time": "2025-03-28T14:32:06.182967Z",
     "start_time": "2025-03-28T14:32:06.171268Z"
    }
   },
   "cell_type": "code",
   "source": "x_train.shape, y_train.shape",
   "id": "995d48ec1e92e9be",
   "outputs": [
    {
     "data": {
      "text/plain": [
       "((267, 13), (267,))"
      ]
     },
     "execution_count": 13,
     "metadata": {},
     "output_type": "execute_result"
    }
   ],
   "execution_count": 13
  },
  {
   "metadata": {
    "ExecuteTime": {
     "end_time": "2025-03-28T14:32:06.278057Z",
     "start_time": "2025-03-28T14:32:06.257743Z"
    }
   },
   "cell_type": "code",
   "source": "x_train.shape",
   "id": "1be4eb31fe29a04a",
   "outputs": [
    {
     "data": {
      "text/plain": [
       "(267, 13)"
      ]
     },
     "execution_count": 14,
     "metadata": {},
     "output_type": "execute_result"
    }
   ],
   "execution_count": 14
  },
  {
   "metadata": {
    "ExecuteTime": {
     "end_time": "2025-03-28T14:32:06.355923Z",
     "start_time": "2025-03-28T14:32:06.314815Z"
    }
   },
   "cell_type": "code",
   "source": [
    "x_train = tf.convert_to_tensor(x_train, dtype=tf.float32)\n",
    "x_train"
   ],
   "id": "4057919245e69471",
   "outputs": [
    {
     "data": {
      "text/plain": [
       "<tf.Tensor: shape=(267, 13), dtype=float32, numpy=\n",
       "array([[55., 33.,  1., ...,  0.,  1.,  0.],\n",
       "       [25., 30.,  0., ...,  0.,  0.,  0.],\n",
       "       [20., 26.,  0., ...,  0.,  0.,  0.],\n",
       "       ...,\n",
       "       [60., 26.,  0., ...,  0.,  0.,  0.],\n",
       "       [35., 50.,  1., ...,  0.,  0.,  1.],\n",
       "       [55., 30.,  0., ...,  0.,  0.,  1.]], dtype=float32)>"
      ]
     },
     "execution_count": 15,
     "metadata": {},
     "output_type": "execute_result"
    }
   ],
   "execution_count": 15
  },
  {
   "metadata": {
    "ExecuteTime": {
     "end_time": "2025-03-28T14:32:06.491148Z",
     "start_time": "2025-03-28T14:32:06.478381Z"
    }
   },
   "cell_type": "code",
   "source": [
    "y_train = tf.convert_to_tensor(y_train)\n",
    "y_train"
   ],
   "id": "2aa83b9508280973",
   "outputs": [
    {
     "data": {
      "text/plain": [
       "<tf.Tensor: shape=(267,), dtype=int64, numpy=\n",
       "array([10, 35, 15, 10,  1,  3, 26, 16, 26, 40, 28,  3, 11,  4, 11, 14,  5,\n",
       "       46,  9,  2,  3, 21,  2, 11, 11,  5, 20, 12,  7, 34,  4,  7, 21, 41,\n",
       "        2,  3,  6,  7,  6,  6, 11, 14, 30,  3, 13, 37,  7, 10, 20, 62,  6,\n",
       "        5,  1,  1,  4, 19, 11,  3, 26, 34,  6,  1, 24,  5,  1,  6, 13,  6,\n",
       "       13, 13, 48,  5, 40, 14, 20, 11, 14, 11,  3,  2,  4, 18,  1,  4,  8,\n",
       "       46,  9,  2, 41,  9,  2, 13,  7, 12, 14,  4,  5,  8, 24, 25, 32,  1,\n",
       "        4, 10,  4, 47, 16, 20, 37,  7,  1,  4, 10,  1,  5,  2, 11,  3,  2,\n",
       "       14, 18, 10, 36,  8,  1, 58,  8,  9, 38,  4,  6,  4,  8,  3,  9,  3,\n",
       "        8,  9, 43,  5,  7,  2, 11,  8,  7,  8, 16,  8, 11,  9, 13,  2,  2,\n",
       "       40,  9, 22,  1,  4, 22, 13,  8,  6,  9,  2,  2, 14,  3,  3,  7, 16,\n",
       "       47, 14,  2,  2, 18, 10,  8, 40, 25, 14, 39,  7,  5,  2, 27,  5,  3,\n",
       "       10,  1,  8,  6, 13, 12,  1,  2, 21,  1,  9,  7,  8, 36,  6,  8,  9,\n",
       "        1,  2, 35,  2, 20,  4, 51, 10,  3, 19, 10,  2,  2,  6,  5, 11,  9,\n",
       "        1, 30,  4,  1, 13,  6, 11,  5, 34,  2, 21,  7, 12,  4, 16,  3, 11,\n",
       "        5, 25, 40,  1, 44,  4,  7, 18,  2,  3, 12,  1,  7, 13,  6, 12,  3,\n",
       "       18, 11, 48,  6, 13,  1, 11,  4,  8, 11, 46, 10])>"
      ]
     },
     "execution_count": 16,
     "metadata": {},
     "output_type": "execute_result"
    }
   ],
   "execution_count": 16
  },
  {
   "metadata": {
    "ExecuteTime": {
     "end_time": "2025-03-28T14:32:14.295685Z",
     "start_time": "2025-03-28T14:32:06.685333Z"
    }
   },
   "cell_type": "code",
   "source": [
    "model = ks.models.Sequential()\n",
    "model.add(ks.layers.Dense(10, activation=tf.keras.activations.sigmoid))\n",
    "model.add(ks.layers.Dense(9, activation=tf.keras.activations.sigmoid))\n",
    "model.add(ks.layers.Dense(10, activation=tf.keras.activations.relu))\n",
    "model.add(ks.layers.Dense(10, activation=tf.keras.activations.sigmoid))\n",
    "model.add(ks.layers.Dense(1))\n",
    "\n",
    "model.compile(loss='mae', optimizer=tf.optimizers.Adam(learning_rate=0.01), metrics=['mae'])\n",
    "\n",
    "history = model.fit(x_train, y_train, epochs=100)"
   ],
   "id": "ede90ed7b54ec02f",
   "outputs": [
    {
     "name": "stdout",
     "output_type": "stream",
     "text": [
      "Epoch 1/100\n",
      "9/9 [==============================] - 1s 20ms/step - loss: 11.3013 - mae: 11.3013\n",
      "Epoch 2/100\n",
      "9/9 [==============================] - 0s 7ms/step - loss: 10.3288 - mae: 10.3288\n",
      "Epoch 3/100\n",
      "9/9 [==============================] - 0s 8ms/step - loss: 9.6108 - mae: 9.6108\n",
      "Epoch 4/100\n",
      "9/9 [==============================] - 0s 7ms/step - loss: 9.1103 - mae: 9.1103\n",
      "Epoch 5/100\n",
      "9/9 [==============================] - 0s 7ms/step - loss: 8.8530 - mae: 8.8530\n",
      "Epoch 6/100\n",
      "9/9 [==============================] - 0s 8ms/step - loss: 8.7042 - mae: 8.7042\n",
      "Epoch 7/100\n",
      "9/9 [==============================] - 0s 8ms/step - loss: 8.5927 - mae: 8.5927\n",
      "Epoch 8/100\n",
      "9/9 [==============================] - 0s 7ms/step - loss: 8.5416 - mae: 8.5416\n",
      "Epoch 9/100\n",
      "9/9 [==============================] - 0s 7ms/step - loss: 8.5051 - mae: 8.5051\n",
      "Epoch 10/100\n",
      "9/9 [==============================] - 0s 7ms/step - loss: 8.4779 - mae: 8.4779\n",
      "Epoch 11/100\n",
      "9/9 [==============================] - 0s 6ms/step - loss: 8.4548 - mae: 8.4548\n",
      "Epoch 12/100\n",
      "9/9 [==============================] - 0s 7ms/step - loss: 8.4596 - mae: 8.4596\n",
      "Epoch 13/100\n",
      "9/9 [==============================] - 0s 6ms/step - loss: 8.4561 - mae: 8.4561\n",
      "Epoch 14/100\n",
      "9/9 [==============================] - 0s 7ms/step - loss: 8.4551 - mae: 8.4551\n",
      "Epoch 15/100\n",
      "9/9 [==============================] - 0s 7ms/step - loss: 8.4540 - mae: 8.4540\n",
      "Epoch 16/100\n",
      "9/9 [==============================] - 0s 7ms/step - loss: 8.4510 - mae: 8.4510\n",
      "Epoch 17/100\n",
      "9/9 [==============================] - 0s 7ms/step - loss: 8.4482 - mae: 8.4482\n",
      "Epoch 18/100\n",
      "9/9 [==============================] - 0s 6ms/step - loss: 8.4402 - mae: 8.4402\n",
      "Epoch 19/100\n",
      "9/9 [==============================] - 0s 6ms/step - loss: 8.4213 - mae: 8.4213\n",
      "Epoch 20/100\n",
      "9/9 [==============================] - 0s 6ms/step - loss: 8.3883 - mae: 8.3883\n",
      "Epoch 21/100\n",
      "9/9 [==============================] - 0s 7ms/step - loss: 8.3087 - mae: 8.3087\n",
      "Epoch 22/100\n",
      "9/9 [==============================] - 0s 7ms/step - loss: 8.1672 - mae: 8.1672\n",
      "Epoch 23/100\n",
      "9/9 [==============================] - 0s 8ms/step - loss: 7.9325 - mae: 7.9325\n",
      "Epoch 24/100\n",
      "9/9 [==============================] - 0s 6ms/step - loss: 7.5886 - mae: 7.5886\n",
      "Epoch 25/100\n",
      "9/9 [==============================] - 0s 7ms/step - loss: 7.2601 - mae: 7.2601\n",
      "Epoch 26/100\n",
      "9/9 [==============================] - 0s 7ms/step - loss: 7.0188 - mae: 7.0188\n",
      "Epoch 27/100\n",
      "9/9 [==============================] - 0s 7ms/step - loss: 6.6270 - mae: 6.6270\n",
      "Epoch 28/100\n",
      "9/9 [==============================] - 0s 7ms/step - loss: 6.4888 - mae: 6.4888\n",
      "Epoch 29/100\n",
      "9/9 [==============================] - 0s 6ms/step - loss: 6.5965 - mae: 6.5965\n",
      "Epoch 30/100\n",
      "9/9 [==============================] - 0s 7ms/step - loss: 6.1629 - mae: 6.1629\n",
      "Epoch 31/100\n",
      "9/9 [==============================] - 0s 8ms/step - loss: 5.9756 - mae: 5.9756\n",
      "Epoch 32/100\n",
      "9/9 [==============================] - 0s 7ms/step - loss: 5.8495 - mae: 5.8495\n",
      "Epoch 33/100\n",
      "9/9 [==============================] - 0s 7ms/step - loss: 5.7073 - mae: 5.7073\n",
      "Epoch 34/100\n",
      "9/9 [==============================] - 0s 7ms/step - loss: 5.5175 - mae: 5.5175\n",
      "Epoch 35/100\n",
      "9/9 [==============================] - 0s 6ms/step - loss: 5.3810 - mae: 5.3810\n",
      "Epoch 36/100\n",
      "9/9 [==============================] - 0s 6ms/step - loss: 5.5469 - mae: 5.5469\n",
      "Epoch 37/100\n",
      "9/9 [==============================] - 0s 6ms/step - loss: 5.3685 - mae: 5.3685\n",
      "Epoch 38/100\n",
      "9/9 [==============================] - 0s 7ms/step - loss: 5.1472 - mae: 5.1472\n",
      "Epoch 39/100\n",
      "9/9 [==============================] - 0s 7ms/step - loss: 5.0345 - mae: 5.0345\n",
      "Epoch 40/100\n",
      "9/9 [==============================] - 0s 6ms/step - loss: 5.1212 - mae: 5.1212\n",
      "Epoch 41/100\n",
      "9/9 [==============================] - 0s 7ms/step - loss: 5.8151 - mae: 5.8151\n",
      "Epoch 42/100\n",
      "9/9 [==============================] - 0s 7ms/step - loss: 5.4149 - mae: 5.4149\n",
      "Epoch 43/100\n",
      "9/9 [==============================] - 0s 6ms/step - loss: 5.3995 - mae: 5.3995\n",
      "Epoch 44/100\n",
      "9/9 [==============================] - 0s 6ms/step - loss: 4.8999 - mae: 4.8999\n",
      "Epoch 45/100\n",
      "9/9 [==============================] - 0s 6ms/step - loss: 4.9291 - mae: 4.9291\n",
      "Epoch 46/100\n",
      "9/9 [==============================] - 0s 7ms/step - loss: 4.6554 - mae: 4.6554\n",
      "Epoch 47/100\n",
      "9/9 [==============================] - 0s 7ms/step - loss: 4.7587 - mae: 4.7587\n",
      "Epoch 48/100\n",
      "9/9 [==============================] - 0s 7ms/step - loss: 4.4862 - mae: 4.4862\n",
      "Epoch 49/100\n",
      "9/9 [==============================] - 0s 7ms/step - loss: 4.4396 - mae: 4.4396\n",
      "Epoch 50/100\n",
      "9/9 [==============================] - 0s 7ms/step - loss: 4.3749 - mae: 4.3749\n",
      "Epoch 51/100\n",
      "9/9 [==============================] - 0s 6ms/step - loss: 4.3395 - mae: 4.3395\n",
      "Epoch 52/100\n",
      "9/9 [==============================] - 0s 6ms/step - loss: 4.2410 - mae: 4.2410\n",
      "Epoch 53/100\n",
      "9/9 [==============================] - 0s 6ms/step - loss: 4.2974 - mae: 4.2974\n",
      "Epoch 54/100\n",
      "9/9 [==============================] - 0s 7ms/step - loss: 4.2451 - mae: 4.2451\n",
      "Epoch 55/100\n",
      "9/9 [==============================] - 0s 7ms/step - loss: 4.3128 - mae: 4.3128\n",
      "Epoch 56/100\n",
      "9/9 [==============================] - 0s 7ms/step - loss: 4.3606 - mae: 4.3606\n",
      "Epoch 57/100\n",
      "9/9 [==============================] - 0s 6ms/step - loss: 4.2073 - mae: 4.2073\n",
      "Epoch 58/100\n",
      "9/9 [==============================] - 0s 7ms/step - loss: 4.1064 - mae: 4.1064\n",
      "Epoch 59/100\n",
      "9/9 [==============================] - 0s 6ms/step - loss: 4.2328 - mae: 4.2328\n",
      "Epoch 60/100\n",
      "9/9 [==============================] - 0s 7ms/step - loss: 4.2244 - mae: 4.2244\n",
      "Epoch 61/100\n",
      "9/9 [==============================] - 0s 7ms/step - loss: 4.1038 - mae: 4.1038\n",
      "Epoch 62/100\n",
      "9/9 [==============================] - 0s 7ms/step - loss: 4.0468 - mae: 4.0468\n",
      "Epoch 63/100\n",
      "9/9 [==============================] - 0s 7ms/step - loss: 3.9675 - mae: 3.9675\n",
      "Epoch 64/100\n",
      "9/9 [==============================] - 0s 7ms/step - loss: 4.0163 - mae: 4.0163\n",
      "Epoch 65/100\n",
      "9/9 [==============================] - 0s 6ms/step - loss: 4.1778 - mae: 4.1778\n",
      "Epoch 66/100\n",
      "9/9 [==============================] - 0s 7ms/step - loss: 4.0013 - mae: 4.0013\n",
      "Epoch 67/100\n",
      "9/9 [==============================] - 0s 7ms/step - loss: 3.9196 - mae: 3.9196\n",
      "Epoch 68/100\n",
      "9/9 [==============================] - 0s 7ms/step - loss: 4.0559 - mae: 4.0559\n",
      "Epoch 69/100\n",
      "9/9 [==============================] - 0s 7ms/step - loss: 4.1304 - mae: 4.1304\n",
      "Epoch 70/100\n",
      "9/9 [==============================] - 0s 7ms/step - loss: 3.9187 - mae: 3.9187\n",
      "Epoch 71/100\n",
      "9/9 [==============================] - 0s 6ms/step - loss: 4.0234 - mae: 4.0234\n",
      "Epoch 72/100\n",
      "9/9 [==============================] - 0s 7ms/step - loss: 4.0863 - mae: 4.0863\n",
      "Epoch 73/100\n",
      "9/9 [==============================] - 0s 6ms/step - loss: 4.0010 - mae: 4.0010\n",
      "Epoch 74/100\n",
      "9/9 [==============================] - 0s 6ms/step - loss: 3.9744 - mae: 3.9744\n",
      "Epoch 75/100\n",
      "9/9 [==============================] - 0s 7ms/step - loss: 3.8321 - mae: 3.8321\n",
      "Epoch 76/100\n",
      "9/9 [==============================] - 0s 6ms/step - loss: 3.8433 - mae: 3.8433\n",
      "Epoch 77/100\n",
      "9/9 [==============================] - 0s 7ms/step - loss: 3.8926 - mae: 3.8926\n",
      "Epoch 78/100\n",
      "9/9 [==============================] - 0s 7ms/step - loss: 3.8736 - mae: 3.8736\n",
      "Epoch 79/100\n",
      "9/9 [==============================] - 0s 6ms/step - loss: 3.8279 - mae: 3.8279\n",
      "Epoch 80/100\n",
      "9/9 [==============================] - 0s 7ms/step - loss: 3.8097 - mae: 3.8097\n",
      "Epoch 81/100\n",
      "9/9 [==============================] - 0s 6ms/step - loss: 3.8381 - mae: 3.8381\n",
      "Epoch 82/100\n",
      "9/9 [==============================] - 0s 6ms/step - loss: 3.8653 - mae: 3.8653\n",
      "Epoch 83/100\n",
      "9/9 [==============================] - 0s 6ms/step - loss: 3.8710 - mae: 3.8710\n",
      "Epoch 84/100\n",
      "9/9 [==============================] - 0s 7ms/step - loss: 3.8716 - mae: 3.8716\n",
      "Epoch 85/100\n",
      "9/9 [==============================] - 0s 7ms/step - loss: 3.8779 - mae: 3.8779\n",
      "Epoch 86/100\n",
      "9/9 [==============================] - 0s 7ms/step - loss: 3.7718 - mae: 3.7718\n",
      "Epoch 87/100\n",
      "9/9 [==============================] - 0s 7ms/step - loss: 3.7595 - mae: 3.7595\n",
      "Epoch 88/100\n",
      "9/9 [==============================] - 0s 7ms/step - loss: 3.7798 - mae: 3.7798\n",
      "Epoch 89/100\n",
      "9/9 [==============================] - 0s 7ms/step - loss: 3.8102 - mae: 3.8102\n",
      "Epoch 90/100\n",
      "9/9 [==============================] - 0s 7ms/step - loss: 3.7571 - mae: 3.7571\n",
      "Epoch 91/100\n",
      "9/9 [==============================] - 0s 7ms/step - loss: 3.9305 - mae: 3.9305\n",
      "Epoch 92/100\n",
      "9/9 [==============================] - 0s 6ms/step - loss: 4.0657 - mae: 4.0657\n",
      "Epoch 93/100\n",
      "9/9 [==============================] - 0s 7ms/step - loss: 4.0589 - mae: 4.0589\n",
      "Epoch 94/100\n",
      "9/9 [==============================] - 0s 7ms/step - loss: 4.0156 - mae: 4.0156\n",
      "Epoch 95/100\n",
      "9/9 [==============================] - 0s 7ms/step - loss: 3.9913 - mae: 3.9913\n",
      "Epoch 96/100\n",
      "9/9 [==============================] - 0s 7ms/step - loss: 4.0661 - mae: 4.0661\n",
      "Epoch 97/100\n",
      "9/9 [==============================] - 0s 7ms/step - loss: 3.8480 - mae: 3.8480\n",
      "Epoch 98/100\n",
      "9/9 [==============================] - 0s 6ms/step - loss: 3.8658 - mae: 3.8658\n",
      "Epoch 99/100\n",
      "9/9 [==============================] - 0s 6ms/step - loss: 3.8516 - mae: 3.8516\n",
      "Epoch 100/100\n",
      "9/9 [==============================] - 0s 7ms/step - loss: 3.7531 - mae: 3.7531\n"
     ]
    }
   ],
   "execution_count": 17
  },
  {
   "metadata": {
    "ExecuteTime": {
     "end_time": "2025-03-28T14:32:14.669092Z",
     "start_time": "2025-03-28T14:32:14.324351Z"
    }
   },
   "cell_type": "code",
   "source": [
    "x_test = tf.convert_to_tensor(x_test, dtype=tf.float32)\n",
    "y_test = tf.convert_to_tensor(y_test)\n",
    "model.evaluate(x_test, y_test)"
   ],
   "id": "9d49a5191cb3953f",
   "outputs": [
    {
     "name": "stdout",
     "output_type": "stream",
     "text": [
      "34/34 [==============================] - 0s 5ms/step - loss: 3.7419 - mae: 3.7419\n"
     ]
    },
    {
     "data": {
      "text/plain": [
       "[3.7418785095214844, 3.7418785095214844]"
      ]
     },
     "execution_count": 18,
     "metadata": {},
     "output_type": "execute_result"
    }
   ],
   "execution_count": 18
  },
  {
   "metadata": {
    "ExecuteTime": {
     "end_time": "2025-03-28T14:32:14.835725Z",
     "start_time": "2025-03-28T14:32:14.674003Z"
    }
   },
   "cell_type": "code",
   "source": [
    "np.median(y_test.numpy()), np.mean(y_test.numpy())\n",
    "model_history = model.history\n",
    "pd.DataFrame(history.history).plot(figsize=(8, 5))\n",
    "plt.ylabel('Loss')\n",
    "plt.xlabel('Epoch')\n",
    "plt.show()"
   ],
   "id": "8eea36a76832451f",
   "outputs": [
    {
     "data": {
      "text/plain": [
       "<Figure size 800x500 with 1 Axes>"
      ],
      "image/png": "[encoded data removed]"
     },
     "metadata": {},
     "output_type": "display_data"
    }
   ],
   "execution_count": 19
  },
  {
   "metadata": {},
   "cell_type": "markdown",
   "source": "Normalization of the data",
   "id": "11900032e3c3f21"
  },
  {
   "metadata": {
    "ExecuteTime": {
     "end_time": "2025-03-28T14:34:45.948865Z",
     "start_time": "2025-03-28T14:34:45.941815Z"
    }
   },
   "cell_type": "code",
   "source": "",
   "id": "d2db9455f8c091f3",
   "outputs": [
    {
     "data": {
      "text/plain": [
       "array([[55., 33.,  1., ...,  0.,  1.,  0.],\n",
       "       [25., 30.,  0., ...,  0.,  0.,  0.],\n",
       "       [20., 26.,  0., ...,  0.,  0.,  0.],\n",
       "       ...,\n",
       "       [60., 26.,  0., ...,  0.,  0.,  0.],\n",
       "       [35., 50.,  1., ...,  0.,  0.,  1.],\n",
       "       [55., 30.,  0., ...,  0.,  0.,  1.]], dtype=float32)"
      ]
     },
     "execution_count": 24,
     "metadata": {},
     "output_type": "execute_result"
    }
   ],
   "execution_count": 24
  }
 ],
 "metadata": {
  "kernelspec": {
   "display_name": "Python 3",
   "language": "python",
   "name": "python3"
  },
  "language_info": {
   "codemirror_mode": {
    "name": "ipython",
    "version": 2
   },
   "file_extension": ".py",
   "mimetype": "text/x-python",
   "name": "python",
   "nbconvert_exporter": "python",
   "pygments_lexer": "ipython2",
   "version": "2.7.6"
  }
 },
 "nbformat": 4,
 "nbformat_minor": 5
}
