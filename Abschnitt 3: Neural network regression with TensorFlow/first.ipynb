{
 "cells": [
  {
   "metadata": {},
   "cell_type": "markdown",
   "source": [
    "## Video 39\n",
    "\n",
    "\n",
    " What is a regression problem?\n",
    " - predict something out of the data, the question is not a yes or no question, but a number. So the solution might be, the thing on that image is a cat for about 75%.\n",
    "  - Questions like: How much, how many, how ... can be answered with regression."
   ],
   "id": "b94301de5172f179"
  },
  {
   "metadata": {},
   "cell_type": "markdown",
   "source": [
    "## Video 40\n",
    "\n",
    "\n",
    "What kind of data is needed for a regression problem?\n",
    "Ok some kind of data what you think are relevant to predict the answer from the neural network.\n",
    "\n",
    "The way data has to be converted for a nn is for example the one hot encoding. So this means you create a list as long as all possible interpretations the data can have.\n",
    "Is the data a cat or a dog or a mouse? One-Hot list maybe [0,1,0] for a dog.\n",
    "\n",
    "This interpretation is also called a feature encoding and data representation.\n",
    "1. Categorical Data Encoding\n",
    "    - One-Hot Encoding: Converts categorical variables into binary vectors.\n",
    "    - Label Encoding: Assigns each category a unique integer.\n",
    "    - Ordinal Encoding: Like label encoding, but assumes an order in the categories.\n",
    "    - Binary Encoding: Converts category indices to binary and stores them in multiple bits.\n",
    "    - Target Encoding (Mean Encoding): Replaces categories with the mean of the target variable (useful for supervised learning).\n",
    "2. Numerical Data Scaling & Normalization\n",
    "    - Min-Max Scaling: Rescales values between 0 and 1.\n",
    "    - Standardization (Z-score normalization): Centers values around 0 with unit variance.\n",
    "    - Log Transformation: Used for skewed distributions.\n",
    "    - Quantile Transformation: Maps data to a normal distribution.\n",
    "3. Text Data Encoding\n",
    "    - Bag of Words (BoW): Counts word occurrences.\n",
    "    - TF-IDF (Term Frequency-Inverse Document Frequency): Adjusts word importance based on frequency across documents.\n",
    "    - Word Embeddings (Word2Vec, GloVe, FastText): Maps words to dense vector spaces.\n",
    "    - Character-Level Encoding: Similar to word embeddings, but on a character level.\n",
    "4. Image Data Encoding\n",
    "    - Raw Pixel Values: Direct input of pixel intensities.\n",
    "    - Normalized Pixel Values: Pixels scaled to a range (e.g., 0-1 or -1 to 1).\n",
    "    - Feature Extraction (HOG, SIFT, CNNs): Extracts meaningful features instead of raw pixels.\n",
    "5. Graph Data Encoding\n",
    "    - Adjacency Matrix Encoding: Represents connections between nodes as a matrix.\n",
    "    - Graph Embeddings (Node2Vec, GCNs): Maps nodes to vector spaces.\n",
    "6. Time Series & Sequential Data Encoding\n",
    "    - Sliding Windows: Transforms time series into overlapping windows for learning.\n",
    "    - Fourier Transform / Wavelet Transform: Extracts frequency-domain features.\n",
    "    - Lag Features: Uses past values as inputs.\n",
    "\n"
   ],
   "id": "3032e7a1fccee16b"
  },
  {
   "metadata": {},
   "cell_type": "markdown",
   "source": [
    "## Video 41\n",
    "\n",
    "Architectures of Neural Networks\n",
    "1. Feedforward Neural Networks (FNNs)\n",
    "    - Basic neural network architecture\n",
    "    - No feedback loops between neurons\n",
    "    - Used for regression and classification tasks.\n",
    "    - Variants\n",
    "        - Single-layer perceptron: One layer of input nodes and one layer of output nodes, no hidden layers.\n",
    "        - Multi-layer perceptron: Contains one or more hidden layers between the input and output layers.\n",
    "2. Convolutional Neural Networks (CNNs)\n",
    "    - Specialized for image data\n",
    "    - Contains convolutional layers for feature extraction\n",
    "        - Convolutional layers: Apply filters to input data to detect patterns.\n",
    "        - Pooling layers: Reduce spatial dimensions of the data.\n",
    "        - Fully connected layers: Perform classification based on extracted features.\n",
    "    - Used for image classification, object detection, and segmentation tasks.\n",
    "3. Recurrent Neural Networks (RNNs)\n",
    "4. Transformer Neural Networks\n",
    "5. Autoencoder Neural Networks\n",
    "6. Generative Adversarial Networks (GANs)\n",
    "7. Graph Neural Networks (GNNs)\n",
    "8. Spike Neural Networks\n",
    "9. etc.\n",
    "\n"
   ],
   "id": "999d52f46faf3a78"
  },
  {
   "metadata": {},
   "cell_type": "markdown",
   "source": [
    "## Video 42\n",
    "\n",
    "**Definition of a regression problem:**\n",
    "Method of the smallest absolute deviation ..."
   ],
   "id": "d51e70067bd464a9"
  },
  {
   "metadata": {
    "ExecuteTime": {
     "end_time": "2025-03-21T14:05:04.769665Z",
     "start_time": "2025-03-21T14:05:04.635091Z"
    }
   },
   "cell_type": "code",
   "source": [
    "import os\n",
    "import numpy\n",
    "from fontTools.subset.svg import xpath"
   ],
   "id": "91bb8bb1a391ecec",
   "outputs": [],
   "execution_count": 1
  },
  {
   "metadata": {
    "ExecuteTime": {
     "end_time": "2025-03-21T14:05:04.792479Z",
     "start_time": "2025-03-21T14:05:04.782555Z"
    }
   },
   "cell_type": "code",
   "source": [
    "# disable the NUMA warning/support\n",
    "# import os\n",
    "# from cProfile import label\n",
    "\n",
    "# from keras.src.backend import shape\n",
    "# from keras.src.backend.jax.core import unstack\n",
    "\n",
    "os.environ['TF_NUMA_ENABLED'] = '0'"
   ],
   "id": "71bad6c4345fea1d",
   "outputs": [],
   "execution_count": 2
  },
  {
   "metadata": {
    "ExecuteTime": {
     "end_time": "2025-03-21T14:05:07.449384Z",
     "start_time": "2025-03-21T14:05:04.899785Z"
    }
   },
   "cell_type": "code",
   "source": [
    "import numpy as np\n",
    "import tensorflow as tf\n",
    "import matplotlib.pyplot as plt\n",
    "from tensorflow import keras as ks\n",
    "import os\n",
    "import logging\n",
    "os.environ['TF_CPP_MIN_LOG_LEVEL'] = '2'\n",
    "logging.getLogger('absl').setLevel(logging.ERROR)\n",
    "\n",
    "# print(tf.__version__)"
   ],
   "id": "ef4d879f9231ec8a",
   "outputs": [],
   "execution_count": 3
  },
  {
   "metadata": {
    "ExecuteTime": {
     "end_time": "2025-03-21T14:05:07.552445Z",
     "start_time": "2025-03-21T14:05:07.467786Z"
    }
   },
   "cell_type": "code",
   "source": [
    "# create some data for first regression example\n",
    "\n",
    "x = np.array([-7.0, -4.0, -1.0, 2.0, 5.0, 8.0, 11.0, 14.0])\n",
    "y = np.array([3.0, 6.0, 9.0, 12.0, 15.0, 18.0, 21.0, 24.0])\n",
    "\n",
    "plt.scatter(x, y)"
   ],
   "id": "fef168d166d09045",
   "outputs": [
    {
     "data": {
      "text/plain": [
       "<matplotlib.collections.PathCollection at 0x3060316d0>"
      ]
     },
     "execution_count": 4,
     "metadata": {},
     "output_type": "execute_result"
    },
    {
     "data": {
      "text/plain": [
       "<Figure size 640x480 with 1 Axes>"
      ],
      "image/png": "[encoded data removed]"
     },
     "metadata": {},
     "output_type": "display_data"
    }
   ],
   "execution_count": 4
  },
  {
   "metadata": {
    "ExecuteTime": {
     "end_time": "2025-03-21T14:05:07.576070Z",
     "start_time": "2025-03-21T14:05:07.571121Z"
    }
   },
   "cell_type": "code",
   "source": [
    "# check the pattern in the data idea\n",
    "x + 10"
   ],
   "id": "d11d7047d0cf1154",
   "outputs": [
    {
     "data": {
      "text/plain": [
       "array([ 3.,  6.,  9., 12., 15., 18., 21., 24.])"
      ]
     },
     "execution_count": 5,
     "metadata": {},
     "output_type": "execute_result"
    }
   ],
   "execution_count": 5
  },
  {
   "metadata": {
    "ExecuteTime": {
     "end_time": "2025-03-21T14:05:07.596667Z",
     "start_time": "2025-03-21T14:05:07.591115Z"
    }
   },
   "cell_type": "code",
   "source": "y == x + 10",
   "id": "f54279a2c46b5295",
   "outputs": [
    {
     "data": {
      "text/plain": [
       "array([ True,  True,  True,  True,  True,  True,  True,  True])"
      ]
     },
     "execution_count": 6,
     "metadata": {},
     "output_type": "execute_result"
    }
   ],
   "execution_count": 6
  },
  {
   "metadata": {
    "ExecuteTime": {
     "end_time": "2025-03-21T14:05:07.624974Z",
     "start_time": "2025-03-21T14:05:07.611426Z"
    }
   },
   "cell_type": "code",
   "source": [
    "# example of housing info, video example\n",
    "house_info = tf.constant(['bedroom', 'bathroom', 'garage'])\n",
    "house_price = tf.constant([939700])\n",
    "house_info, house_price"
   ],
   "id": "df75da7178243e93",
   "outputs": [
    {
     "data": {
      "text/plain": [
       "(<tf.Tensor: shape=(3,), dtype=string, numpy=array([b'bedroom', b'bathroom', b'garage'], dtype=object)>,\n",
       " <tf.Tensor: shape=(1,), dtype=int32, numpy=array([939700], dtype=int32)>)"
      ]
     },
     "execution_count": 7,
     "metadata": {},
     "output_type": "execute_result"
    }
   ],
   "execution_count": 7
  },
  {
   "metadata": {},
   "cell_type": "markdown",
   "source": [
    "in this example the house_info has  the shape of 3 and the house_price has the shape of 1.\n",
    "So what wr are trying to do is to make conclusions of the house_price out of the house_info."
   ],
   "id": "2e3deb930ecceaf5"
  },
  {
   "metadata": {},
   "cell_type": "markdown",
   "source": [
    "## Video 44\n",
    "\n"
   ],
   "id": "eae60a2a3dac384a"
  },
  {
   "metadata": {
    "ExecuteTime": {
     "end_time": "2025-03-21T14:05:07.647745Z",
     "start_time": "2025-03-21T14:05:07.636463Z"
    }
   },
   "cell_type": "code",
   "source": [
    "# turn numpy arrays into tensors\n",
    "x = tf.constant(x)\n",
    "y = tf.constant(y)\n",
    "x, y"
   ],
   "id": "63b5f3621df7e822",
   "outputs": [
    {
     "data": {
      "text/plain": [
       "(<tf.Tensor: shape=(8,), dtype=float64, numpy=array([-7., -4., -1.,  2.,  5.,  8., 11., 14.])>,\n",
       " <tf.Tensor: shape=(8,), dtype=float64, numpy=array([ 3.,  6.,  9., 12., 15., 18., 21., 24.])>)"
      ]
     },
     "execution_count": 8,
     "metadata": {},
     "output_type": "execute_result"
    }
   ],
   "execution_count": 8
  },
  {
   "metadata": {
    "ExecuteTime": {
     "end_time": "2025-03-21T14:05:07.666242Z",
     "start_time": "2025-03-21T14:05:07.659301Z"
    }
   },
   "cell_type": "code",
   "source": [
    "input_shape_x = x[0].shape\n",
    "input_shape_y = y[0].shape\n",
    "input_shape_x, input_shape_y"
   ],
   "id": "278e8ee3d7912a9d",
   "outputs": [
    {
     "data": {
      "text/plain": [
       "(TensorShape([]), TensorShape([]))"
      ]
     },
     "execution_count": 9,
     "metadata": {},
     "output_type": "execute_result"
    }
   ],
   "execution_count": 9
  },
  {
   "metadata": {
    "ExecuteTime": {
     "end_time": "2025-03-21T14:05:07.752730Z",
     "start_time": "2025-03-21T14:05:07.679633Z"
    }
   },
   "cell_type": "code",
   "source": "plt.scatter(x, y)",
   "id": "b4dd8d870c764256",
   "outputs": [
    {
     "data": {
      "text/plain": [
       "<matplotlib.collections.PathCollection at 0x306d61fd0>"
      ]
     },
     "execution_count": 10,
     "metadata": {},
     "output_type": "execute_result"
    },
    {
     "data": {
      "text/plain": [
       "<Figure size 640x480 with 1 Axes>"
      ],
      "image/png": "[encoded data removed]"
     },
     "metadata": {},
     "output_type": "display_data"
    }
   ],
   "execution_count": 10
  },
  {
   "metadata": {},
   "cell_type": "markdown",
   "source": [
    "## Start modelling with TensorFlow\n",
    "\n",
    "1. Create a model: define input layer and hidden layers and output layer\n",
    "2. Compile a model: define the loss function and the optimizer\n",
    "3. Fit a model: let the model find patterns between X and y\n",
    "4. Evaluate a model: check how well the model is doing"
   ],
   "id": "bab1652fd5e302ff"
  },
  {
   "metadata": {
    "ExecuteTime": {
     "end_time": "2025-03-21T14:05:08.096505Z",
     "start_time": "2025-03-21T14:05:07.763003Z"
    }
   },
   "cell_type": "code",
   "source": [
    "# x = tf.cast(x, dtype=tf.float32)\n",
    "# y = tf.cast(y, dtype=tf.float32)# set random seed\n",
    "\n",
    "tf.random.set_seed(42)\n",
    "\n",
    "# 1. create a model\n",
    "model = ks.Sequential()\n",
    "model.add(ks.layers.Input(shape=(1,)))\n",
    "model.add(ks.layers.Dense(1))\n",
    "\n",
    "# 2. compile the model\n",
    "model.compile(loss=ks.losses.mae,\n",
    "              optimizer=tf.keras.optimizers.SGD(),\n",
    "              metrics=['mae'])\n",
    "\n",
    "model.fit(x, y, epochs=5)\n"
   ],
   "id": "efd982b96443f24a",
   "outputs": [
    {
     "name": "stdout",
     "output_type": "stream",
     "text": [
      "Epoch 1/5\n",
      "1/1 [==============================] - 0s 168ms/step - loss: 7.8862 - mae: 7.8862\n",
      "Epoch 2/5\n",
      "1/1 [==============================] - 0s 7ms/step - loss: 7.7537 - mae: 7.7537\n",
      "Epoch 3/5\n",
      "1/1 [==============================] - 0s 7ms/step - loss: 7.6212 - mae: 7.6212\n",
      "Epoch 4/5\n",
      "1/1 [==============================] - 0s 7ms/step - loss: 7.4887 - mae: 7.4887\n",
      "Epoch 5/5\n",
      "1/1 [==============================] - 0s 7ms/step - loss: 7.4700 - mae: 7.4700\n"
     ]
    },
    {
     "data": {
      "text/plain": [
       "<keras.src.callbacks.History at 0x307c76a00>"
      ]
     },
     "execution_count": 11,
     "metadata": {},
     "output_type": "execute_result"
    }
   ],
   "execution_count": 11
  },
  {
   "metadata": {
    "ExecuteTime": {
     "end_time": "2025-03-21T14:05:08.113579Z",
     "start_time": "2025-03-21T14:05:08.110745Z"
    }
   },
   "cell_type": "code",
   "source": "x.dtype, y.dtype",
   "id": "c6b548870bd0e039",
   "outputs": [
    {
     "data": {
      "text/plain": [
       "(tf.float64, tf.float64)"
      ]
     },
     "execution_count": 12,
     "metadata": {},
     "output_type": "execute_result"
    }
   ],
   "execution_count": 12
  },
  {
   "metadata": {
    "ExecuteTime": {
     "end_time": "2025-03-21T14:05:08.132588Z",
     "start_time": "2025-03-21T14:05:08.129141Z"
    }
   },
   "cell_type": "code",
   "source": [
    "x = tf.cast(x, dtype=tf.float32)\n",
    "y = tf.cast(y, dtype=tf.float32)\n",
    "x.dtype, y.dtype"
   ],
   "id": "9c6e3065da47b102",
   "outputs": [
    {
     "data": {
      "text/plain": [
       "(tf.float32, tf.float32)"
      ]
     },
     "execution_count": 13,
     "metadata": {},
     "output_type": "execute_result"
    }
   ],
   "execution_count": 13
  },
  {
   "metadata": {
    "ExecuteTime": {
     "end_time": "2025-03-21T14:05:08.150042Z",
     "start_time": "2025-03-21T14:05:08.147163Z"
    }
   },
   "cell_type": "code",
   "source": "x, y",
   "id": "71f590104df8ea23",
   "outputs": [
    {
     "data": {
      "text/plain": [
       "(<tf.Tensor: shape=(8,), dtype=float32, numpy=array([-7., -4., -1.,  2.,  5.,  8., 11., 14.], dtype=float32)>,\n",
       " <tf.Tensor: shape=(8,), dtype=float32, numpy=array([ 3.,  6.,  9., 12., 15., 18., 21., 24.], dtype=float32)>)"
      ]
     },
     "execution_count": 14,
     "metadata": {},
     "output_type": "execute_result"
    }
   ],
   "execution_count": 14
  },
  {
   "metadata": {
    "ExecuteTime": {
     "end_time": "2025-03-21T14:05:08.167840Z",
     "start_time": "2025-03-21T14:05:08.164650Z"
    }
   },
   "cell_type": "code",
   "source": [
    "# 3. fit the model\n",
    "type(x), type(y)"
   ],
   "id": "40233e7ca2b18f52",
   "outputs": [
    {
     "data": {
      "text/plain": [
       "(tensorflow.python.framework.ops.EagerTensor,\n",
       " tensorflow.python.framework.ops.EagerTensor)"
      ]
     },
     "execution_count": 15,
     "metadata": {},
     "output_type": "execute_result"
    }
   ],
   "execution_count": 15
  },
  {
   "metadata": {
    "ExecuteTime": {
     "end_time": "2025-03-21T14:05:08.440929Z",
     "start_time": "2025-03-21T14:05:08.182777Z"
    }
   },
   "cell_type": "code",
   "source": "model.fit(x, y, epochs=20)",
   "id": "58a2bbbf51a17fc4",
   "outputs": [
    {
     "name": "stdout",
     "output_type": "stream",
     "text": [
      "Epoch 1/20\n",
      "1/1 [==============================] - 0s 87ms/step - loss: 7.4644 - mae: 7.4644\n",
      "Epoch 2/20\n",
      "1/1 [==============================] - 0s 7ms/step - loss: 7.4588 - mae: 7.4588\n",
      "Epoch 3/20\n",
      "1/1 [==============================] - 0s 7ms/step - loss: 7.4531 - mae: 7.4531\n",
      "Epoch 4/20\n",
      "1/1 [==============================] - 0s 7ms/step - loss: 7.4475 - mae: 7.4475\n",
      "Epoch 5/20\n",
      "1/1 [==============================] - 0s 6ms/step - loss: 7.4419 - mae: 7.4419\n",
      "Epoch 6/20\n",
      "1/1 [==============================] - 0s 6ms/step - loss: 7.4363 - mae: 7.4363\n",
      "Epoch 7/20\n",
      "1/1 [==============================] - 0s 6ms/step - loss: 7.4306 - mae: 7.4306\n",
      "Epoch 8/20\n",
      "1/1 [==============================] - 0s 6ms/step - loss: 7.4250 - mae: 7.4250\n",
      "Epoch 9/20\n",
      "1/1 [==============================] - 0s 5ms/step - loss: 7.4194 - mae: 7.4194\n",
      "Epoch 10/20\n",
      "1/1 [==============================] - 0s 5ms/step - loss: 7.4137 - mae: 7.4137\n",
      "Epoch 11/20\n",
      "1/1 [==============================] - 0s 5ms/step - loss: 7.4081 - mae: 7.4081\n",
      "Epoch 12/20\n",
      "1/1 [==============================] - 0s 5ms/step - loss: 7.4025 - mae: 7.4025\n",
      "Epoch 13/20\n",
      "1/1 [==============================] - 0s 5ms/step - loss: 7.3969 - mae: 7.3969\n",
      "Epoch 14/20\n",
      "1/1 [==============================] - 0s 6ms/step - loss: 7.3912 - mae: 7.3912\n",
      "Epoch 15/20\n",
      "1/1 [==============================] - 0s 6ms/step - loss: 7.3856 - mae: 7.3856\n",
      "Epoch 16/20\n",
      "1/1 [==============================] - 0s 6ms/step - loss: 7.3800 - mae: 7.3800\n",
      "Epoch 17/20\n",
      "1/1 [==============================] - 0s 6ms/step - loss: 7.3744 - mae: 7.3744\n",
      "Epoch 18/20\n",
      "1/1 [==============================] - 0s 6ms/step - loss: 7.3687 - mae: 7.3687\n",
      "Epoch 19/20\n",
      "1/1 [==============================] - 0s 6ms/step - loss: 7.3631 - mae: 7.3631\n",
      "Epoch 20/20\n",
      "1/1 [==============================] - 0s 6ms/step - loss: 7.3575 - mae: 7.3575\n"
     ]
    },
    {
     "data": {
      "text/plain": [
       "<keras.src.callbacks.History at 0x307056bb0>"
      ]
     },
     "execution_count": 16,
     "metadata": {},
     "output_type": "execute_result"
    }
   ],
   "execution_count": 16
  },
  {
   "metadata": {
    "ExecuteTime": {
     "end_time": "2025-03-21T14:05:08.457659Z",
     "start_time": "2025-03-21T14:05:08.454079Z"
    }
   },
   "cell_type": "code",
   "source": [
    "try_1 = tf.constant([17.0])\n",
    "try_1"
   ],
   "id": "a8533cf0b77737f4",
   "outputs": [
    {
     "data": {
      "text/plain": [
       "<tf.Tensor: shape=(1,), dtype=float32, numpy=array([17.], dtype=float32)>"
      ]
     },
     "execution_count": 17,
     "metadata": {},
     "output_type": "execute_result"
    }
   ],
   "execution_count": 17
  },
  {
   "metadata": {
    "ExecuteTime": {
     "end_time": "2025-03-21T14:05:08.526746Z",
     "start_time": "2025-03-21T14:05:08.470546Z"
    }
   },
   "cell_type": "code",
   "source": [
    "pred_1 = model.predict(try_1)\n",
    "pred_1"
   ],
   "id": "be2100db304f197d",
   "outputs": [
    {
     "name": "stdout",
     "output_type": "stream",
     "text": [
      "1/1 [==============================] - 0s 36ms/step\n"
     ]
    },
    {
     "data": {
      "text/plain": [
       "array([[29.844416]], dtype=float32)"
      ]
     },
     "execution_count": 18,
     "metadata": {},
     "output_type": "execute_result"
    }
   ],
   "execution_count": 18
  },
  {
   "metadata": {
    "ExecuteTime": {
     "end_time": "2025-03-21T14:05:08.629582Z",
     "start_time": "2025-03-21T14:05:08.626541Z"
    }
   },
   "cell_type": "code",
   "source": "type(pred_1)",
   "id": "b6f87d4b55325083",
   "outputs": [
    {
     "data": {
      "text/plain": [
       "numpy.ndarray"
      ]
     },
     "execution_count": 19,
     "metadata": {},
     "output_type": "execute_result"
    }
   ],
   "execution_count": 19
  },
  {
   "metadata": {
    "ExecuteTime": {
     "end_time": "2025-03-21T14:05:08.714360Z",
     "start_time": "2025-03-21T14:05:08.668023Z"
    }
   },
   "cell_type": "code",
   "source": [
    "X_test = tf.constant([17, 20, 23, 26, 29, 31, 34, 37], dtype=tf.float32, shape=(8,))\n",
    "predict = tf.cast(model.predict(X_test), dtype=tf.float32)\n",
    "predict = tf.reshape(predict, shape=(8,))\n",
    "X_test, predict"
   ],
   "id": "66c770ea332b8207",
   "outputs": [
    {
     "name": "stdout",
     "output_type": "stream",
     "text": [
      "1/1 [==============================] - 0s 19ms/step\n"
     ]
    },
    {
     "data": {
      "text/plain": [
       "(<tf.Tensor: shape=(8,), dtype=float32, numpy=array([17., 20., 23., 26., 29., 31., 34., 37.], dtype=float32)>,\n",
       " <tf.Tensor: shape=(8,), dtype=float32, numpy=\n",
       " array([29.844416, 35.07622 , 40.30803 , 45.53984 , 50.77165 , 54.25952 ,\n",
       "        59.49133 , 64.723145], dtype=float32)>)"
      ]
     },
     "execution_count": 20,
     "metadata": {},
     "output_type": "execute_result"
    }
   ],
   "execution_count": 20
  },
  {
   "metadata": {
    "ExecuteTime": {
     "end_time": "2025-03-21T14:05:08.928378Z",
     "start_time": "2025-03-21T14:05:08.722685Z"
    }
   },
   "cell_type": "code",
   "source": [
    "x_all = tf.concat([x, X_test], axis=0)\n",
    "y_all = tf.concat([y, predict], axis=0)\n",
    "plt.scatter(x_all, y_all)"
   ],
   "id": "e49cfcf266919a0f",
   "outputs": [
    {
     "data": {
      "text/plain": [
       "<matplotlib.collections.PathCollection at 0x305f58a30>"
      ]
     },
     "execution_count": 21,
     "metadata": {},
     "output_type": "execute_result"
    },
    {
     "data": {
      "text/plain": [
       "<Figure size 640x480 with 1 Axes>"
      ],
      "image/png": "[encoded data removed]"
     },
     "metadata": {},
     "output_type": "display_data"
    }
   ],
   "execution_count": 21
  },
  {
   "metadata": {
    "ExecuteTime": {
     "end_time": "2025-03-21T14:05:09.009135Z",
     "start_time": "2025-03-21T14:05:08.990465Z"
    }
   },
   "cell_type": "code",
   "source": [
    "def concat_pred_and_print(x_test: list, x, y, model):\n",
    "    test = tf.cast(x_test, dtype=tf.float32)\n",
    "\n",
    "    test_predict = model.predict(test)\n",
    "    test_reshape = tf.reshape(test_predict, shape=(len(x_test),))\n",
    "\n",
    "    x_all = tf.concat([x, test], axis=0)\n",
    "    y_all = tf.concat([y, test_reshape], axis=0)\n",
    "    plt.scatter(x_all, y_all)"
   ],
   "id": "4ea06ff605dd10de",
   "outputs": [],
   "execution_count": 22
  },
  {
   "metadata": {
    "ExecuteTime": {
     "end_time": "2025-03-21T14:05:09.226164Z",
     "start_time": "2025-03-21T14:05:09.037086Z"
    }
   },
   "cell_type": "code",
   "source": "concat_pred_and_print([17, 20, 23, 26, 29, 31, 34, 37], x, y, model)",
   "id": "c583524354d8186d",
   "outputs": [
    {
     "name": "stdout",
     "output_type": "stream",
     "text": [
      "1/1 [==============================] - 0s 11ms/step\n"
     ]
    },
    {
     "data": {
      "text/plain": [
       "<Figure size 640x480 with 1 Axes>"
      ],
      "image/png": "[encoded data removed]"
     },
     "metadata": {},
     "output_type": "display_data"
    }
   ],
   "execution_count": 23
  },
  {
   "metadata": {},
   "cell_type": "markdown",
   "source": [
    "## Video 45\n",
    "\n",
    "Optimierung des Modells\n",
    "\n",
    "Idea, test to shuffle the learn data"
   ],
   "id": "7bd49a065685749d"
  },
  {
   "metadata": {
    "ExecuteTime": {
     "end_time": "2025-03-21T14:05:09.253319Z",
     "start_time": "2025-03-21T14:05:09.244026Z"
    }
   },
   "cell_type": "code",
   "source": [
    "stacked = tf.stack([x, y], axis=1)\n",
    "stacked"
   ],
   "id": "2cf7aee4d4dd7c5c",
   "outputs": [
    {
     "data": {
      "text/plain": [
       "<tf.Tensor: shape=(8, 2), dtype=float32, numpy=\n",
       "array([[-7.,  3.],\n",
       "       [-4.,  6.],\n",
       "       [-1.,  9.],\n",
       "       [ 2., 12.],\n",
       "       [ 5., 15.],\n",
       "       [ 8., 18.],\n",
       "       [11., 21.],\n",
       "       [14., 24.]], dtype=float32)>"
      ]
     },
     "execution_count": 24,
     "metadata": {},
     "output_type": "execute_result"
    }
   ],
   "execution_count": 24
  },
  {
   "metadata": {
    "ExecuteTime": {
     "end_time": "2025-03-21T14:05:09.326601Z",
     "start_time": "2025-03-21T14:05:09.319443Z"
    }
   },
   "cell_type": "code",
   "source": [
    "shuffled = tf.random.shuffle(stacked)\n",
    "shuffled"
   ],
   "id": "4fe7b4b5a3c832ad",
   "outputs": [
    {
     "data": {
      "text/plain": [
       "<tf.Tensor: shape=(8, 2), dtype=float32, numpy=\n",
       "array([[14., 24.],\n",
       "       [-1.,  9.],\n",
       "       [-7.,  3.],\n",
       "       [ 5., 15.],\n",
       "       [ 2., 12.],\n",
       "       [-4.,  6.],\n",
       "       [ 8., 18.],\n",
       "       [11., 21.]], dtype=float32)>"
      ]
     },
     "execution_count": 25,
     "metadata": {},
     "output_type": "execute_result"
    }
   ],
   "execution_count": 25
  },
  {
   "metadata": {
    "ExecuteTime": {
     "end_time": "2025-03-21T14:05:09.392101Z",
     "start_time": "2025-03-21T14:05:09.387371Z"
    }
   },
   "cell_type": "code",
   "source": [
    "x, y = tf.unstack(shuffled, axis=1)\n",
    "x, y"
   ],
   "id": "19f47efb6ac616e3",
   "outputs": [
    {
     "data": {
      "text/plain": [
       "(<tf.Tensor: shape=(8,), dtype=float32, numpy=array([14., -1., -7.,  5.,  2., -4.,  8., 11.], dtype=float32)>,\n",
       " <tf.Tensor: shape=(8,), dtype=float32, numpy=array([24.,  9.,  3., 15., 12.,  6., 18., 21.], dtype=float32)>)"
      ]
     },
     "execution_count": 26,
     "metadata": {},
     "output_type": "execute_result"
    }
   ],
   "execution_count": 26
  },
  {
   "metadata": {
    "ExecuteTime": {
     "end_time": "2025-03-21T14:05:09.591155Z",
     "start_time": "2025-03-21T14:05:09.450376Z"
    }
   },
   "cell_type": "code",
   "source": "model.fit(x, y, epochs=5)",
   "id": "b1dc96cf19a6a669",
   "outputs": [
    {
     "name": "stdout",
     "output_type": "stream",
     "text": [
      "Epoch 1/5\n",
      "1/1 [==============================] - 0s 16ms/step - loss: 7.3519 - mae: 7.3519\n",
      "Epoch 2/5\n",
      "1/1 [==============================] - 0s 12ms/step - loss: 7.3463 - mae: 7.3463\n",
      "Epoch 3/5\n",
      "1/1 [==============================] - 0s 14ms/step - loss: 7.3406 - mae: 7.3406\n",
      "Epoch 4/5\n",
      "1/1 [==============================] - 0s 16ms/step - loss: 7.3350 - mae: 7.3350\n",
      "Epoch 5/5\n",
      "1/1 [==============================] - 0s 20ms/step - loss: 7.3294 - mae: 7.3294\n"
     ]
    },
    {
     "data": {
      "text/plain": [
       "<keras.src.callbacks.History at 0x3082c3550>"
      ]
     },
     "execution_count": 27,
     "metadata": {},
     "output_type": "execute_result"
    }
   ],
   "execution_count": 27
  },
  {
   "metadata": {
    "ExecuteTime": {
     "end_time": "2025-03-21T14:05:09.815180Z",
     "start_time": "2025-03-21T14:05:09.677571Z"
    }
   },
   "cell_type": "code",
   "source": "concat_pred_and_print([17, 20, 23, 26, 29, 31, 34, 37], x, y, model)",
   "id": "8645fd2fbfbd546e",
   "outputs": [
    {
     "name": "stdout",
     "output_type": "stream",
     "text": [
      "1/1 [==============================] - 0s 13ms/step\n"
     ]
    },
    {
     "data": {
      "text/plain": [
       "<Figure size 640x480 with 1 Axes>"
      ],
      "image/png": "[encoded data removed]"
     },
     "metadata": {},
     "output_type": "display_data"
    }
   ],
   "execution_count": 28
  },
  {
   "metadata": {
    "ExecuteTime": {
     "end_time": "2025-03-21T14:05:10.582961Z",
     "start_time": "2025-03-21T14:05:09.822397Z"
    }
   },
   "cell_type": "code",
   "source": [
    "x = tf.constant([-7.0, -4.0, -1.0, 2.0, 5.0, 8.0, 11.0, 14.0], dtype=tf.float32) # 17, 20\n",
    "y = tf.constant([3.0, 6.0, 9.0, 12.0, 15.0, 18.0, 21.0, 24.0], dtype=tf.float32) # 27, 30\n",
    "\n",
    "# 1. create a model\n",
    "model = ks.Sequential()\n",
    "model.add(ks.layers.Input(shape=(1,)))\n",
    "model.add(ks.layers.Dense(100,  activation='relu'))\n",
    "model.add(ks.layers.Dense(100, activation='relu'))\n",
    "model.add(ks.layers.Dense(100, activation='relu'))\n",
    "model.add(ks.layers.Dense(1, activation='relu'))\n",
    "\n",
    "# 2. compile the model\n",
    "model.compile(loss=ks.losses.MAE,\n",
    "              optimizer=ks.optimizers.Adam(learning_rate=0.001),\n",
    "              metrics=['mae'])\n",
    "\n",
    "# 3. fit the model\n",
    "model.fit(x, y, epochs=40)"
   ],
   "id": "e98af34a6d4584f",
   "outputs": [
    {
     "name": "stdout",
     "output_type": "stream",
     "text": [
      "Epoch 1/40\n",
      "1/1 [==============================] - 0s 327ms/step - loss: 12.5317 - mae: 12.5317\n",
      "Epoch 2/40\n",
      "1/1 [==============================] - 0s 7ms/step - loss: 12.1845 - mae: 12.1845\n",
      "Epoch 3/40\n",
      "1/1 [==============================] - 0s 7ms/step - loss: 11.8122 - mae: 11.8122\n",
      "Epoch 4/40\n",
      "1/1 [==============================] - 0s 7ms/step - loss: 11.4484 - mae: 11.4484\n",
      "Epoch 5/40\n",
      "1/1 [==============================] - 0s 6ms/step - loss: 11.0813 - mae: 11.0813\n",
      "Epoch 6/40\n",
      "1/1 [==============================] - 0s 7ms/step - loss: 10.7144 - mae: 10.7144\n",
      "Epoch 7/40\n",
      "1/1 [==============================] - 0s 6ms/step - loss: 10.3323 - mae: 10.3323\n",
      "Epoch 8/40\n",
      "1/1 [==============================] - 0s 7ms/step - loss: 9.9394 - mae: 9.9394\n",
      "Epoch 9/40\n",
      "1/1 [==============================] - 0s 7ms/step - loss: 9.5335 - mae: 9.5335\n",
      "Epoch 10/40\n",
      "1/1 [==============================] - 0s 8ms/step - loss: 9.1085 - mae: 9.1085\n",
      "Epoch 11/40\n",
      "1/1 [==============================] - 0s 8ms/step - loss: 8.6681 - mae: 8.6681\n",
      "Epoch 12/40\n",
      "1/1 [==============================] - 0s 7ms/step - loss: 8.2128 - mae: 8.2128\n",
      "Epoch 13/40\n",
      "1/1 [==============================] - 0s 7ms/step - loss: 7.7370 - mae: 7.7370\n",
      "Epoch 14/40\n",
      "1/1 [==============================] - 0s 7ms/step - loss: 7.3649 - mae: 7.3649\n",
      "Epoch 15/40\n",
      "1/1 [==============================] - 0s 7ms/step - loss: 7.3498 - mae: 7.3498\n",
      "Epoch 16/40\n",
      "1/1 [==============================] - 0s 7ms/step - loss: 7.6440 - mae: 7.6440\n",
      "Epoch 17/40\n",
      "1/1 [==============================] - 0s 6ms/step - loss: 7.9531 - mae: 7.9531\n",
      "Epoch 18/40\n",
      "1/1 [==============================] - 0s 6ms/step - loss: 8.2209 - mae: 8.2209\n",
      "Epoch 19/40\n",
      "1/1 [==============================] - 0s 7ms/step - loss: 8.5573 - mae: 8.5573\n",
      "Epoch 20/40\n",
      "1/1 [==============================] - 0s 6ms/step - loss: 8.7630 - mae: 8.7630\n",
      "Epoch 21/40\n",
      "1/1 [==============================] - 0s 7ms/step - loss: 8.8602 - mae: 8.8602\n",
      "Epoch 22/40\n",
      "1/1 [==============================] - 0s 7ms/step - loss: 8.8643 - mae: 8.8643\n",
      "Epoch 23/40\n",
      "1/1 [==============================] - 0s 7ms/step - loss: 8.7884 - mae: 8.7884\n",
      "Epoch 24/40\n",
      "1/1 [==============================] - 0s 7ms/step - loss: 8.6452 - mae: 8.6452\n",
      "Epoch 25/40\n",
      "1/1 [==============================] - 0s 7ms/step - loss: 8.4463 - mae: 8.4463\n",
      "Epoch 26/40\n",
      "1/1 [==============================] - 0s 7ms/step - loss: 8.2018 - mae: 8.2018\n",
      "Epoch 27/40\n",
      "1/1 [==============================] - 0s 7ms/step - loss: 8.0324 - mae: 8.0324\n",
      "Epoch 28/40\n",
      "1/1 [==============================] - 0s 6ms/step - loss: 7.8740 - mae: 7.8740\n",
      "Epoch 29/40\n",
      "1/1 [==============================] - 0s 7ms/step - loss: 7.7187 - mae: 7.7187\n",
      "Epoch 30/40\n",
      "1/1 [==============================] - 0s 7ms/step - loss: 7.5666 - mae: 7.5666\n",
      "Epoch 31/40\n",
      "1/1 [==============================] - 0s 6ms/step - loss: 7.4176 - mae: 7.4176\n",
      "Epoch 32/40\n",
      "1/1 [==============================] - 0s 6ms/step - loss: 7.2884 - mae: 7.2884\n",
      "Epoch 33/40\n",
      "1/1 [==============================] - 0s 8ms/step - loss: 7.2887 - mae: 7.2887\n",
      "Epoch 34/40\n",
      "1/1 [==============================] - 0s 7ms/step - loss: 7.2876 - mae: 7.2876\n",
      "Epoch 35/40\n",
      "1/1 [==============================] - 0s 8ms/step - loss: 7.2854 - mae: 7.2854\n",
      "Epoch 36/40\n",
      "1/1 [==============================] - 0s 7ms/step - loss: 7.2820 - mae: 7.2820\n",
      "Epoch 37/40\n",
      "1/1 [==============================] - 0s 7ms/step - loss: 7.2777 - mae: 7.2777\n",
      "Epoch 38/40\n",
      "1/1 [==============================] - 0s 7ms/step - loss: 7.2726 - mae: 7.2726\n",
      "Epoch 39/40\n",
      "1/1 [==============================] - 0s 6ms/step - loss: 7.2666 - mae: 7.2666\n",
      "Epoch 40/40\n",
      "1/1 [==============================] - 0s 7ms/step - loss: 7.2598 - mae: 7.2598\n"
     ]
    },
    {
     "data": {
      "text/plain": [
       "<keras.src.callbacks.History at 0x307e574c0>"
      ]
     },
     "execution_count": 29,
     "metadata": {},
     "output_type": "execute_result"
    }
   ],
   "execution_count": 29
  },
  {
   "metadata": {},
   "cell_type": "markdown",
   "source": [
    "Optimizers\n",
    "- Stochastic Gradient Descent (SGD): Updates weights based on the gradient of the loss function.\n",
    "- Adam: Adaptive Moment Estimation, combines the advantages of RMSprop and momentum.\n",
    "- RMSprop: Divides the learning rate by the moving average of the root mean square of the gradients.\n",
    "- Adagrad: Adapts the learning rate to the parameters.\n",
    "- Adadelta: Extends Adagrad to reduce aggressive, monotonically decreasing learning rates.\n",
    "- Adamax: Generalization of Adam based on the infinity norm.\n",
    "- Nadam: Adam with Nesterov momentum.\n",
    "- FTRL: Follow the regularized leader optimizer."
   ],
   "id": "d54dd86dc3202743"
  },
  {
   "metadata": {
    "ExecuteTime": {
     "end_time": "2025-03-21T14:05:10.601170Z",
     "start_time": "2025-03-21T14:05:10.596145Z"
    }
   },
   "cell_type": "code",
   "source": [
    "x_test = tf.constant([17.0, 20.0, 23.0, 26.0, 29.0, 31.0, 34.0, 37.0], dtype=tf.float32, shape=(8,))\n",
    "y_test = tf.constant([27.0, 30.0, 33.0, 36.0, 39.0, 42.0, 45.0, 48.0], dtype=tf.float32)\n",
    "x_test, y_test"
   ],
   "id": "6f435b1fabae78ea",
   "outputs": [
    {
     "data": {
      "text/plain": [
       "(<tf.Tensor: shape=(8,), dtype=float32, numpy=array([17., 20., 23., 26., 29., 31., 34., 37.], dtype=float32)>,\n",
       " <tf.Tensor: shape=(8,), dtype=float32, numpy=array([27., 30., 33., 36., 39., 42., 45., 48.], dtype=float32)>)"
      ]
     },
     "execution_count": 30,
     "metadata": {},
     "output_type": "execute_result"
    }
   ],
   "execution_count": 30
  },
  {
   "metadata": {},
   "cell_type": "markdown",
   "source": [
    "## Video 48\n",
    "\n",
    "Visualize, Visualize, Visualize"
   ],
   "id": "a0c6e782175dff72"
  },
  {
   "metadata": {
    "ExecuteTime": {
     "end_time": "2025-03-21T14:05:10.622445Z",
     "start_time": "2025-03-21T14:05:10.614728Z"
    }
   },
   "cell_type": "code",
   "source": [
    "x1_generated = [-7.0 + i*3 for i in range(100)]\n",
    "y1_generated = [3.0 + i*3 for i in range(100)]\n",
    "stack = tf.stack([x1_generated, y1_generated], axis=1)\n",
    "stack"
   ],
   "id": "f733dcf513b632f4",
   "outputs": [
    {
     "data": {
      "text/plain": [
       "<tf.Tensor: shape=(100, 2), dtype=float32, numpy=\n",
       "array([[ -7.,   3.],\n",
       "       [ -4.,   6.],\n",
       "       [ -1.,   9.],\n",
       "       [  2.,  12.],\n",
       "       [  5.,  15.],\n",
       "       [  8.,  18.],\n",
       "       [ 11.,  21.],\n",
       "       [ 14.,  24.],\n",
       "       [ 17.,  27.],\n",
       "       [ 20.,  30.],\n",
       "       [ 23.,  33.],\n",
       "       [ 26.,  36.],\n",
       "       [ 29.,  39.],\n",
       "       [ 32.,  42.],\n",
       "       [ 35.,  45.],\n",
       "       [ 38.,  48.],\n",
       "       [ 41.,  51.],\n",
       "       [ 44.,  54.],\n",
       "       [ 47.,  57.],\n",
       "       [ 50.,  60.],\n",
       "       [ 53.,  63.],\n",
       "       [ 56.,  66.],\n",
       "       [ 59.,  69.],\n",
       "       [ 62.,  72.],\n",
       "       [ 65.,  75.],\n",
       "       [ 68.,  78.],\n",
       "       [ 71.,  81.],\n",
       "       [ 74.,  84.],\n",
       "       [ 77.,  87.],\n",
       "       [ 80.,  90.],\n",
       "       [ 83.,  93.],\n",
       "       [ 86.,  96.],\n",
       "       [ 89.,  99.],\n",
       "       [ 92., 102.],\n",
       "       [ 95., 105.],\n",
       "       [ 98., 108.],\n",
       "       [101., 111.],\n",
       "       [104., 114.],\n",
       "       [107., 117.],\n",
       "       [110., 120.],\n",
       "       [113., 123.],\n",
       "       [116., 126.],\n",
       "       [119., 129.],\n",
       "       [122., 132.],\n",
       "       [125., 135.],\n",
       "       [128., 138.],\n",
       "       [131., 141.],\n",
       "       [134., 144.],\n",
       "       [137., 147.],\n",
       "       [140., 150.],\n",
       "       [143., 153.],\n",
       "       [146., 156.],\n",
       "       [149., 159.],\n",
       "       [152., 162.],\n",
       "       [155., 165.],\n",
       "       [158., 168.],\n",
       "       [161., 171.],\n",
       "       [164., 174.],\n",
       "       [167., 177.],\n",
       "       [170., 180.],\n",
       "       [173., 183.],\n",
       "       [176., 186.],\n",
       "       [179., 189.],\n",
       "       [182., 192.],\n",
       "       [185., 195.],\n",
       "       [188., 198.],\n",
       "       [191., 201.],\n",
       "       [194., 204.],\n",
       "       [197., 207.],\n",
       "       [200., 210.],\n",
       "       [203., 213.],\n",
       "       [206., 216.],\n",
       "       [209., 219.],\n",
       "       [212., 222.],\n",
       "       [215., 225.],\n",
       "       [218., 228.],\n",
       "       [221., 231.],\n",
       "       [224., 234.],\n",
       "       [227., 237.],\n",
       "       [230., 240.],\n",
       "       [233., 243.],\n",
       "       [236., 246.],\n",
       "       [239., 249.],\n",
       "       [242., 252.],\n",
       "       [245., 255.],\n",
       "       [248., 258.],\n",
       "       [251., 261.],\n",
       "       [254., 264.],\n",
       "       [257., 267.],\n",
       "       [260., 270.],\n",
       "       [263., 273.],\n",
       "       [266., 276.],\n",
       "       [269., 279.],\n",
       "       [272., 282.],\n",
       "       [275., 285.],\n",
       "       [278., 288.],\n",
       "       [281., 291.],\n",
       "       [284., 294.],\n",
       "       [287., 297.],\n",
       "       [290., 300.]], dtype=float32)>"
      ]
     },
     "execution_count": 31,
     "metadata": {},
     "output_type": "execute_result"
    }
   ],
   "execution_count": 31
  },
  {
   "metadata": {
    "ExecuteTime": {
     "end_time": "2025-03-21T14:05:13.362819Z",
     "start_time": "2025-03-21T14:05:10.662220Z"
    }
   },
   "cell_type": "code",
   "source": [
    "x1, y1 = tf.unstack(stack, axis=1)\n",
    "\n",
    "model1 = ks.Sequential()\n",
    "model1.add(ks.layers.Input(shape=(1,)))\n",
    "model1.add(ks.layers.Dense(20, activation='relu'))\n",
    "model1.add(ks.layers.Dense(20, activation='relu'))\n",
    "model1.add(ks.layers.Dense(20, activation='relu'))\n",
    "model1.add(ks.layers.Dense(20, activation='relu'))\n",
    "model1.add(ks.layers.Dense(1))\n",
    "\n",
    "# 2. compile the model\n",
    "model1.compile(loss=ks.losses.MAE,\n",
    "              optimizer=ks.optimizers.Adam(),\n",
    "              metrics=['mae'])\n",
    "\n",
    "# 3. fit the model\n",
    "model1.fit(x1, y1, epochs=100)"
   ],
   "id": "90aaa9434376d02",
   "outputs": [
    {
     "name": "stdout",
     "output_type": "stream",
     "text": [
      "Epoch 1/100\n",
      "4/4 [==============================] - 0s 31ms/step - loss: 154.5399 - mae: 154.5399\n",
      "Epoch 2/100\n",
      "4/4 [==============================] - 0s 9ms/step - loss: 140.8284 - mae: 140.8284\n",
      "Epoch 3/100\n",
      "4/4 [==============================] - 0s 5ms/step - loss: 127.7116 - mae: 127.7116\n",
      "Epoch 4/100\n",
      "4/4 [==============================] - 0s 5ms/step - loss: 115.4667 - mae: 115.4667\n",
      "Epoch 5/100\n",
      "4/4 [==============================] - 0s 6ms/step - loss: 103.8527 - mae: 103.8527\n",
      "Epoch 6/100\n",
      "4/4 [==============================] - 0s 5ms/step - loss: 91.2725 - mae: 91.2725\n",
      "Epoch 7/100\n",
      "4/4 [==============================] - 0s 5ms/step - loss: 76.3282 - mae: 76.3282\n",
      "Epoch 8/100\n",
      "4/4 [==============================] - 0s 5ms/step - loss: 59.1312 - mae: 59.1312\n",
      "Epoch 9/100\n",
      "4/4 [==============================] - 0s 6ms/step - loss: 40.0383 - mae: 40.0383\n",
      "Epoch 10/100\n",
      "4/4 [==============================] - 0s 5ms/step - loss: 17.5129 - mae: 17.5129\n",
      "Epoch 11/100\n",
      "4/4 [==============================] - 0s 5ms/step - loss: 10.4416 - mae: 10.4416\n",
      "Epoch 12/100\n",
      "4/4 [==============================] - 0s 5ms/step - loss: 16.2502 - mae: 16.2502\n",
      "Epoch 13/100\n",
      "4/4 [==============================] - 0s 5ms/step - loss: 7.3111 - mae: 7.3111\n",
      "Epoch 14/100\n",
      "4/4 [==============================] - 0s 5ms/step - loss: 11.5255 - mae: 11.5255\n",
      "Epoch 15/100\n",
      "4/4 [==============================] - 0s 5ms/step - loss: 6.9629 - mae: 6.9629\n",
      "Epoch 16/100\n",
      "4/4 [==============================] - 0s 5ms/step - loss: 8.2984 - mae: 8.2984\n",
      "Epoch 17/100\n",
      "4/4 [==============================] - 0s 5ms/step - loss: 5.5181 - mae: 5.5181\n",
      "Epoch 18/100\n",
      "4/4 [==============================] - 0s 5ms/step - loss: 7.6736 - mae: 7.6736\n",
      "Epoch 19/100\n",
      "4/4 [==============================] - 0s 5ms/step - loss: 4.7788 - mae: 4.7788\n",
      "Epoch 20/100\n",
      "4/4 [==============================] - 0s 5ms/step - loss: 6.3145 - mae: 6.3145\n",
      "Epoch 21/100\n",
      "4/4 [==============================] - 0s 5ms/step - loss: 4.9158 - mae: 4.9158\n",
      "Epoch 22/100\n",
      "4/4 [==============================] - 0s 5ms/step - loss: 4.6614 - mae: 4.6614\n",
      "Epoch 23/100\n",
      "4/4 [==============================] - 0s 5ms/step - loss: 4.8292 - mae: 4.8292\n",
      "Epoch 24/100\n",
      "4/4 [==============================] - 0s 5ms/step - loss: 4.6274 - mae: 4.6274\n",
      "Epoch 25/100\n",
      "4/4 [==============================] - 0s 5ms/step - loss: 4.1733 - mae: 4.1733\n",
      "Epoch 26/100\n",
      "4/4 [==============================] - 0s 5ms/step - loss: 5.0124 - mae: 5.0124\n",
      "Epoch 27/100\n",
      "4/4 [==============================] - 0s 5ms/step - loss: 4.5497 - mae: 4.5497\n",
      "Epoch 28/100\n",
      "4/4 [==============================] - 0s 5ms/step - loss: 4.2341 - mae: 4.2341\n",
      "Epoch 29/100\n",
      "4/4 [==============================] - 0s 5ms/step - loss: 4.3940 - mae: 4.3940\n",
      "Epoch 30/100\n",
      "4/4 [==============================] - 0s 5ms/step - loss: 4.8865 - mae: 4.8865\n",
      "Epoch 31/100\n",
      "4/4 [==============================] - 0s 5ms/step - loss: 5.3621 - mae: 5.3621\n",
      "Epoch 32/100\n",
      "4/4 [==============================] - 0s 5ms/step - loss: 4.6059 - mae: 4.6059\n",
      "Epoch 33/100\n",
      "4/4 [==============================] - 0s 5ms/step - loss: 4.4480 - mae: 4.4480\n",
      "Epoch 34/100\n",
      "4/4 [==============================] - 0s 5ms/step - loss: 4.0656 - mae: 4.0656\n",
      "Epoch 35/100\n",
      "4/4 [==============================] - 0s 5ms/step - loss: 4.1643 - mae: 4.1643\n",
      "Epoch 36/100\n",
      "4/4 [==============================] - 0s 5ms/step - loss: 4.1814 - mae: 4.1814\n",
      "Epoch 37/100\n",
      "4/4 [==============================] - 0s 5ms/step - loss: 4.5336 - mae: 4.5336\n",
      "Epoch 38/100\n",
      "4/4 [==============================] - 0s 5ms/step - loss: 4.9865 - mae: 4.9865\n",
      "Epoch 39/100\n",
      "4/4 [==============================] - 0s 5ms/step - loss: 8.1249 - mae: 8.1249\n",
      "Epoch 40/100\n",
      "4/4 [==============================] - 0s 5ms/step - loss: 5.1182 - mae: 5.1182\n",
      "Epoch 41/100\n",
      "4/4 [==============================] - 0s 5ms/step - loss: 4.4225 - mae: 4.4225\n",
      "Epoch 42/100\n",
      "4/4 [==============================] - 0s 5ms/step - loss: 4.6362 - mae: 4.6362\n",
      "Epoch 43/100\n",
      "4/4 [==============================] - 0s 5ms/step - loss: 4.2453 - mae: 4.2453\n",
      "Epoch 44/100\n",
      "4/4 [==============================] - 0s 5ms/step - loss: 3.8662 - mae: 3.8662\n",
      "Epoch 45/100\n",
      "4/4 [==============================] - 0s 5ms/step - loss: 4.0878 - mae: 4.0878\n",
      "Epoch 46/100\n",
      "4/4 [==============================] - 0s 5ms/step - loss: 4.0386 - mae: 4.0386\n",
      "Epoch 47/100\n",
      "4/4 [==============================] - 0s 5ms/step - loss: 3.8559 - mae: 3.8559\n",
      "Epoch 48/100\n",
      "4/4 [==============================] - 0s 5ms/step - loss: 4.2087 - mae: 4.2087\n",
      "Epoch 49/100\n",
      "4/4 [==============================] - 0s 5ms/step - loss: 4.5044 - mae: 4.5044\n",
      "Epoch 50/100\n",
      "4/4 [==============================] - 0s 5ms/step - loss: 7.3001 - mae: 7.3001\n",
      "Epoch 51/100\n",
      "4/4 [==============================] - 0s 5ms/step - loss: 8.3596 - mae: 8.3596\n",
      "Epoch 52/100\n",
      "4/4 [==============================] - 0s 5ms/step - loss: 6.8033 - mae: 6.8033\n",
      "Epoch 53/100\n",
      "4/4 [==============================] - 0s 5ms/step - loss: 7.0225 - mae: 7.0225\n",
      "Epoch 54/100\n",
      "4/4 [==============================] - 0s 5ms/step - loss: 7.4092 - mae: 7.4092\n",
      "Epoch 55/100\n",
      "4/4 [==============================] - 0s 5ms/step - loss: 5.8293 - mae: 5.8293\n",
      "Epoch 56/100\n",
      "4/4 [==============================] - 0s 5ms/step - loss: 5.1697 - mae: 5.1697\n",
      "Epoch 57/100\n",
      "4/4 [==============================] - 0s 5ms/step - loss: 5.1127 - mae: 5.1127\n",
      "Epoch 58/100\n",
      "4/4 [==============================] - 0s 5ms/step - loss: 4.8742 - mae: 4.8742\n",
      "Epoch 59/100\n",
      "4/4 [==============================] - 0s 5ms/step - loss: 6.2844 - mae: 6.2844\n",
      "Epoch 60/100\n",
      "4/4 [==============================] - 0s 5ms/step - loss: 10.5747 - mae: 10.5747\n",
      "Epoch 61/100\n",
      "4/4 [==============================] - 0s 5ms/step - loss: 6.0153 - mae: 6.0153\n",
      "Epoch 62/100\n",
      "4/4 [==============================] - 0s 5ms/step - loss: 6.0060 - mae: 6.0060\n",
      "Epoch 63/100\n",
      "4/4 [==============================] - 0s 5ms/step - loss: 6.2011 - mae: 6.2011\n",
      "Epoch 64/100\n",
      "4/4 [==============================] - 0s 5ms/step - loss: 7.6684 - mae: 7.6684\n",
      "Epoch 65/100\n",
      "4/4 [==============================] - 0s 5ms/step - loss: 5.2067 - mae: 5.2067\n",
      "Epoch 66/100\n",
      "4/4 [==============================] - 0s 5ms/step - loss: 4.7665 - mae: 4.7665\n",
      "Epoch 67/100\n",
      "4/4 [==============================] - 0s 5ms/step - loss: 5.1449 - mae: 5.1449\n",
      "Epoch 68/100\n",
      "4/4 [==============================] - 0s 5ms/step - loss: 5.5121 - mae: 5.5121\n",
      "Epoch 69/100\n",
      "4/4 [==============================] - 0s 5ms/step - loss: 5.6508 - mae: 5.6508\n",
      "Epoch 70/100\n",
      "4/4 [==============================] - 0s 5ms/step - loss: 5.9003 - mae: 5.9003\n",
      "Epoch 71/100\n",
      "4/4 [==============================] - 0s 5ms/step - loss: 8.5256 - mae: 8.5256\n",
      "Epoch 72/100\n",
      "4/4 [==============================] - 0s 5ms/step - loss: 8.3068 - mae: 8.3068\n",
      "Epoch 73/100\n",
      "4/4 [==============================] - 0s 5ms/step - loss: 10.2770 - mae: 10.2770\n",
      "Epoch 74/100\n",
      "4/4 [==============================] - 0s 5ms/step - loss: 16.6238 - mae: 16.6238\n",
      "Epoch 75/100\n",
      "4/4 [==============================] - 0s 5ms/step - loss: 13.9654 - mae: 13.9654\n",
      "Epoch 76/100\n",
      "4/4 [==============================] - 0s 5ms/step - loss: 9.8542 - mae: 9.8542\n",
      "Epoch 77/100\n",
      "4/4 [==============================] - 0s 5ms/step - loss: 9.4477 - mae: 9.4477\n",
      "Epoch 78/100\n",
      "4/4 [==============================] - 0s 5ms/step - loss: 10.4281 - mae: 10.4281\n",
      "Epoch 79/100\n",
      "4/4 [==============================] - 0s 5ms/step - loss: 8.9123 - mae: 8.9123\n",
      "Epoch 80/100\n",
      "4/4 [==============================] - 0s 5ms/step - loss: 8.2502 - mae: 8.2502\n",
      "Epoch 81/100\n",
      "4/4 [==============================] - 0s 5ms/step - loss: 9.8728 - mae: 9.8728\n",
      "Epoch 82/100\n",
      "4/4 [==============================] - 0s 5ms/step - loss: 7.2786 - mae: 7.2786\n",
      "Epoch 83/100\n",
      "4/4 [==============================] - 0s 5ms/step - loss: 7.8479 - mae: 7.8479\n",
      "Epoch 84/100\n",
      "4/4 [==============================] - 0s 5ms/step - loss: 9.0667 - mae: 9.0667\n",
      "Epoch 85/100\n",
      "4/4 [==============================] - 0s 5ms/step - loss: 24.0635 - mae: 24.0635\n",
      "Epoch 86/100\n",
      "4/4 [==============================] - 0s 5ms/step - loss: 16.3969 - mae: 16.3969\n",
      "Epoch 87/100\n",
      "4/4 [==============================] - 0s 5ms/step - loss: 14.2713 - mae: 14.2713\n",
      "Epoch 88/100\n",
      "4/4 [==============================] - 0s 5ms/step - loss: 13.5889 - mae: 13.5889\n",
      "Epoch 89/100\n",
      "4/4 [==============================] - 0s 5ms/step - loss: 9.8520 - mae: 9.8520\n",
      "Epoch 90/100\n",
      "4/4 [==============================] - 0s 5ms/step - loss: 9.8478 - mae: 9.8478\n",
      "Epoch 91/100\n",
      "4/4 [==============================] - 0s 5ms/step - loss: 6.8551 - mae: 6.8551\n",
      "Epoch 92/100\n",
      "4/4 [==============================] - 0s 5ms/step - loss: 7.2916 - mae: 7.2916\n",
      "Epoch 93/100\n",
      "4/4 [==============================] - 0s 5ms/step - loss: 10.4005 - mae: 10.4005\n",
      "Epoch 94/100\n",
      "4/4 [==============================] - 0s 5ms/step - loss: 21.3012 - mae: 21.3012\n",
      "Epoch 95/100\n",
      "4/4 [==============================] - 0s 5ms/step - loss: 17.1686 - mae: 17.1686\n",
      "Epoch 96/100\n",
      "4/4 [==============================] - 0s 5ms/step - loss: 9.2126 - mae: 9.2126\n",
      "Epoch 97/100\n",
      "4/4 [==============================] - 0s 5ms/step - loss: 12.9588 - mae: 12.9588\n",
      "Epoch 98/100\n",
      "4/4 [==============================] - 0s 5ms/step - loss: 8.0515 - mae: 8.0515\n",
      "Epoch 99/100\n",
      "4/4 [==============================] - 0s 5ms/step - loss: 11.4415 - mae: 11.4415\n",
      "Epoch 100/100\n",
      "4/4 [==============================] - 0s 5ms/step - loss: 8.5047 - mae: 8.5047\n"
     ]
    },
    {
     "data": {
      "text/plain": [
       "<keras.src.callbacks.History at 0x308f5fbb0>"
      ]
     },
     "execution_count": 32,
     "metadata": {},
     "output_type": "execute_result"
    }
   ],
   "execution_count": 32
  },
  {
   "metadata": {
    "ExecuteTime": {
     "end_time": "2025-03-21T14:05:13.457477Z",
     "start_time": "2025-03-21T14:05:13.392597Z"
    }
   },
   "cell_type": "code",
   "source": [
    "a = np.arange(0, 9, 0.3)\n",
    "model1.predict(a)"
   ],
   "id": "dae57573099520c3",
   "outputs": [
    {
     "name": "stdout",
     "output_type": "stream",
     "text": [
      "1/1 [==============================] - 0s 39ms/step\n"
     ]
    },
    {
     "data": {
      "text/plain": [
       "array([[ 2.1991441],\n",
       "       [ 2.5265157],\n",
       "       [ 2.8538868],\n",
       "       [ 3.1812584],\n",
       "       [ 3.5086281],\n",
       "       [ 3.8360019],\n",
       "       [ 4.1633716],\n",
       "       [ 4.4907446],\n",
       "       [ 4.818114 ],\n",
       "       [ 5.145488 ],\n",
       "       [ 5.4728575],\n",
       "       [ 5.800228 ],\n",
       "       [ 6.127602 ],\n",
       "       [ 6.454984 ],\n",
       "       [ 6.7823405],\n",
       "       [ 7.109715 ],\n",
       "       [ 7.4370923],\n",
       "       [ 7.7644525],\n",
       "       [ 8.09183  ],\n",
       "       [ 8.419209 ],\n",
       "       [ 8.746575 ],\n",
       "       [ 9.073946 ],\n",
       "       [ 9.401303 ],\n",
       "       [ 9.728698 ],\n",
       "       [10.05607  ],\n",
       "       [10.383423 ],\n",
       "       [10.710798 ],\n",
       "       [11.038166 ],\n",
       "       [11.365532 ],\n",
       "       [11.692926 ]], dtype=float32)"
      ]
     },
     "execution_count": 33,
     "metadata": {},
     "output_type": "execute_result"
    }
   ],
   "execution_count": 33
  },
  {
   "metadata": {
    "ExecuteTime": {
     "end_time": "2025-03-21T14:05:13.493253Z",
     "start_time": "2025-03-21T14:05:13.489488Z"
    }
   },
   "cell_type": "code",
   "source": [
    "a = np.arange(0, 30, 3)\n",
    "a_test = np.arange(30, 60, 3)\n",
    "b = np.arange(-7, 23, 3)\n",
    "b_test = np.arange(23, 51, 3)\n",
    "a, b, a_test, b_test"
   ],
   "id": "99a5c692abf5019f",
   "outputs": [
    {
     "data": {
      "text/plain": [
       "(array([ 0,  3,  6,  9, 12, 15, 18, 21, 24, 27]),\n",
       " array([-7, -4, -1,  2,  5,  8, 11, 14, 17, 20]),\n",
       " array([30, 33, 36, 39, 42, 45, 48, 51, 54, 57]),\n",
       " array([23, 26, 29, 32, 35, 38, 41, 44, 47, 50]))"
      ]
     },
     "execution_count": 34,
     "metadata": {},
     "output_type": "execute_result"
    }
   ],
   "execution_count": 34
  },
  {
   "metadata": {
    "ExecuteTime": {
     "end_time": "2025-03-21T14:05:13.669334Z",
     "start_time": "2025-03-21T14:05:13.529514Z"
    }
   },
   "cell_type": "code",
   "source": [
    "plt.scatter(a, b, c='blue')\n",
    "plt.scatter(a_test, b_test, c='green')"
   ],
   "id": "367a9a8aef561009",
   "outputs": [
    {
     "data": {
      "text/plain": [
       "<matplotlib.collections.PathCollection at 0x307f609d0>"
      ]
     },
     "execution_count": 35,
     "metadata": {},
     "output_type": "execute_result"
    },
    {
     "data": {
      "text/plain": [
       "<Figure size 640x480 with 1 Axes>"
      ],
      "image/png": "[encoded data removed]"
     },
     "metadata": {},
     "output_type": "display_data"
    }
   ],
   "execution_count": 35
  },
  {
   "metadata": {},
   "cell_type": "markdown",
   "source": "## creating extra data for learning",
   "id": "8f46e26a0d69eff9"
  },
  {
   "metadata": {
    "ExecuteTime": {
     "end_time": "2025-03-21T14:05:13.698223Z",
     "start_time": "2025-03-21T14:05:13.680962Z"
    }
   },
   "cell_type": "code",
   "source": [
    "a_extend = []\n",
    "b_extend = []\n",
    "for i, j in zip(a, b):\n",
    "    a_extend.append(i-0.02)\n",
    "    a_extend.append(i-0.01)\n",
    "    a_extend.append(i-0.2)\n",
    "    a_extend.append(i-0.1)\n",
    "    a_extend.append(i)\n",
    "    a_extend.append(i+0.01)\n",
    "    a_extend.append(i+0.02)\n",
    "    a_extend.append(i+0.1)\n",
    "    a_extend.append(i+0.2)\n",
    "    b_extend.append(j-0.02)\n",
    "    b_extend.append(j-0.01)\n",
    "    b_extend.append(j-0.2)\n",
    "    b_extend.append(j-0.1)\n",
    "    b_extend.append(j)\n",
    "    b_extend.append(j+0.01)\n",
    "    b_extend.append(j+0.02)\n",
    "    b_extend.append(j+0.1)\n",
    "    b_extend.append(j+0.2)\n",
    "a_extend, b_extend"
   ],
   "id": "b7e54e86407e6010",
   "outputs": [
    {
     "data": {
      "text/plain": [
       "([-0.02,\n",
       "  -0.01,\n",
       "  -0.2,\n",
       "  -0.1,\n",
       "  0,\n",
       "  0.01,\n",
       "  0.02,\n",
       "  0.1,\n",
       "  0.2,\n",
       "  2.98,\n",
       "  2.99,\n",
       "  2.8,\n",
       "  2.9,\n",
       "  3,\n",
       "  3.01,\n",
       "  3.02,\n",
       "  3.1,\n",
       "  3.2,\n",
       "  5.98,\n",
       "  5.99,\n",
       "  5.8,\n",
       "  5.9,\n",
       "  6,\n",
       "  6.01,\n",
       "  6.02,\n",
       "  6.1,\n",
       "  6.2,\n",
       "  8.98,\n",
       "  8.99,\n",
       "  8.8,\n",
       "  8.9,\n",
       "  9,\n",
       "  9.01,\n",
       "  9.02,\n",
       "  9.1,\n",
       "  9.2,\n",
       "  11.98,\n",
       "  11.99,\n",
       "  11.8,\n",
       "  11.9,\n",
       "  12,\n",
       "  12.01,\n",
       "  12.02,\n",
       "  12.1,\n",
       "  12.2,\n",
       "  14.98,\n",
       "  14.99,\n",
       "  14.8,\n",
       "  14.9,\n",
       "  15,\n",
       "  15.01,\n",
       "  15.02,\n",
       "  15.1,\n",
       "  15.2,\n",
       "  17.98,\n",
       "  17.99,\n",
       "  17.8,\n",
       "  17.9,\n",
       "  18,\n",
       "  18.01,\n",
       "  18.02,\n",
       "  18.1,\n",
       "  18.2,\n",
       "  20.98,\n",
       "  20.99,\n",
       "  20.8,\n",
       "  20.9,\n",
       "  21,\n",
       "  21.01,\n",
       "  21.02,\n",
       "  21.1,\n",
       "  21.2,\n",
       "  23.98,\n",
       "  23.99,\n",
       "  23.8,\n",
       "  23.9,\n",
       "  24,\n",
       "  24.01,\n",
       "  24.02,\n",
       "  24.1,\n",
       "  24.2,\n",
       "  26.98,\n",
       "  26.99,\n",
       "  26.8,\n",
       "  26.9,\n",
       "  27,\n",
       "  27.01,\n",
       "  27.02,\n",
       "  27.1,\n",
       "  27.2],\n",
       " [-7.02,\n",
       "  -7.01,\n",
       "  -7.2,\n",
       "  -7.1,\n",
       "  -7,\n",
       "  -6.99,\n",
       "  -6.98,\n",
       "  -6.9,\n",
       "  -6.8,\n",
       "  -4.02,\n",
       "  -4.01,\n",
       "  -4.2,\n",
       "  -4.1,\n",
       "  -4,\n",
       "  -3.99,\n",
       "  -3.98,\n",
       "  -3.9,\n",
       "  -3.8,\n",
       "  -1.02,\n",
       "  -1.01,\n",
       "  -1.2,\n",
       "  -1.1,\n",
       "  -1,\n",
       "  -0.99,\n",
       "  -0.98,\n",
       "  -0.9,\n",
       "  -0.8,\n",
       "  1.98,\n",
       "  1.99,\n",
       "  1.8,\n",
       "  1.9,\n",
       "  2,\n",
       "  2.01,\n",
       "  2.02,\n",
       "  2.1,\n",
       "  2.2,\n",
       "  4.98,\n",
       "  4.99,\n",
       "  4.8,\n",
       "  4.9,\n",
       "  5,\n",
       "  5.01,\n",
       "  5.02,\n",
       "  5.1,\n",
       "  5.2,\n",
       "  7.98,\n",
       "  7.99,\n",
       "  7.8,\n",
       "  7.9,\n",
       "  8,\n",
       "  8.01,\n",
       "  8.02,\n",
       "  8.1,\n",
       "  8.2,\n",
       "  10.98,\n",
       "  10.99,\n",
       "  10.8,\n",
       "  10.9,\n",
       "  11,\n",
       "  11.01,\n",
       "  11.02,\n",
       "  11.1,\n",
       "  11.2,\n",
       "  13.98,\n",
       "  13.99,\n",
       "  13.8,\n",
       "  13.9,\n",
       "  14,\n",
       "  14.01,\n",
       "  14.02,\n",
       "  14.1,\n",
       "  14.2,\n",
       "  16.98,\n",
       "  16.99,\n",
       "  16.8,\n",
       "  16.9,\n",
       "  17,\n",
       "  17.01,\n",
       "  17.02,\n",
       "  17.1,\n",
       "  17.2,\n",
       "  19.98,\n",
       "  19.99,\n",
       "  19.8,\n",
       "  19.9,\n",
       "  20,\n",
       "  20.01,\n",
       "  20.02,\n",
       "  20.1,\n",
       "  20.2])"
      ]
     },
     "execution_count": 36,
     "metadata": {},
     "output_type": "execute_result"
    }
   ],
   "execution_count": 36
  },
  {
   "metadata": {
    "ExecuteTime": {
     "end_time": "2025-03-21T14:05:16.295848Z",
     "start_time": "2025-03-21T14:05:13.748280Z"
    }
   },
   "cell_type": "code",
   "source": [
    "\n",
    "\n",
    "model3 = ks.Sequential()\n",
    "model3.add(ks.layers.Input(shape=(1,)))\n",
    "model3.add(ks.layers.Dense(20, activation='relu'))\n",
    "model3.add(ks.layers.Dense(20, activation='relu'))\n",
    "model3.add(ks.layers.Dense(20, activation='relu'))\n",
    "model3.add(ks.layers.Dense(1))\n",
    "\n",
    "# 2. compile the model\n",
    "model3.compile(loss=ks.losses.MAE,\n",
    "              optimizer=ks.optimizers.Adam(),\n",
    "              metrics=['mae'])\n",
    "\n",
    "# 3. fit the model\n",
    "model3.fit(a_extend, b_extend, epochs=90)"
   ],
   "id": "df66b91031197df5",
   "outputs": [
    {
     "name": "stdout",
     "output_type": "stream",
     "text": [
      "Epoch 1/90\n",
      "3/3 [==============================] - 0s 31ms/step - loss: 8.5656 - mae: 8.5656\n",
      "Epoch 2/90\n",
      "3/3 [==============================] - 0s 6ms/step - loss: 7.5021 - mae: 7.5021\n",
      "Epoch 3/90\n",
      "3/3 [==============================] - 0s 5ms/step - loss: 6.4691 - mae: 6.4691\n",
      "Epoch 4/90\n",
      "3/3 [==============================] - 0s 5ms/step - loss: 5.5736 - mae: 5.5736\n",
      "Epoch 5/90\n",
      "3/3 [==============================] - 0s 5ms/step - loss: 4.7183 - mae: 4.7183\n",
      "Epoch 6/90\n",
      "3/3 [==============================] - 0s 5ms/step - loss: 4.0163 - mae: 4.0163\n",
      "Epoch 7/90\n",
      "3/3 [==============================] - 0s 5ms/step - loss: 3.4561 - mae: 3.4561\n",
      "Epoch 8/90\n",
      "3/3 [==============================] - 0s 5ms/step - loss: 3.1677 - mae: 3.1677\n",
      "Epoch 9/90\n",
      "3/3 [==============================] - 0s 5ms/step - loss: 3.2045 - mae: 3.2045\n",
      "Epoch 10/90\n",
      "3/3 [==============================] - 0s 5ms/step - loss: 3.4022 - mae: 3.4022\n",
      "Epoch 11/90\n",
      "3/3 [==============================] - 0s 5ms/step - loss: 3.5014 - mae: 3.5014\n",
      "Epoch 12/90\n",
      "3/3 [==============================] - 0s 5ms/step - loss: 3.3859 - mae: 3.3859\n",
      "Epoch 13/90\n",
      "3/3 [==============================] - 0s 5ms/step - loss: 3.2081 - mae: 3.2081\n",
      "Epoch 14/90\n",
      "3/3 [==============================] - 0s 5ms/step - loss: 3.0893 - mae: 3.0893\n",
      "Epoch 15/90\n",
      "3/3 [==============================] - 0s 5ms/step - loss: 3.0246 - mae: 3.0246\n",
      "Epoch 16/90\n",
      "3/3 [==============================] - 0s 5ms/step - loss: 2.9969 - mae: 2.9969\n",
      "Epoch 17/90\n",
      "3/3 [==============================] - 0s 5ms/step - loss: 2.9813 - mae: 2.9813\n",
      "Epoch 18/90\n",
      "3/3 [==============================] - 0s 5ms/step - loss: 2.9901 - mae: 2.9901\n",
      "Epoch 19/90\n",
      "3/3 [==============================] - 0s 5ms/step - loss: 3.0049 - mae: 3.0049\n",
      "Epoch 20/90\n",
      "3/3 [==============================] - 0s 5ms/step - loss: 3.0145 - mae: 3.0145\n",
      "Epoch 21/90\n",
      "3/3 [==============================] - 0s 6ms/step - loss: 3.0190 - mae: 3.0190\n",
      "Epoch 22/90\n",
      "3/3 [==============================] - 0s 5ms/step - loss: 3.0188 - mae: 3.0188\n",
      "Epoch 23/90\n",
      "3/3 [==============================] - 0s 5ms/step - loss: 2.9997 - mae: 2.9997\n",
      "Epoch 24/90\n",
      "3/3 [==============================] - 0s 5ms/step - loss: 2.9596 - mae: 2.9596\n",
      "Epoch 25/90\n",
      "3/3 [==============================] - 0s 5ms/step - loss: 2.9247 - mae: 2.9247\n",
      "Epoch 26/90\n",
      "3/3 [==============================] - 0s 5ms/step - loss: 2.8927 - mae: 2.8927\n",
      "Epoch 27/90\n",
      "3/3 [==============================] - 0s 5ms/step - loss: 2.8623 - mae: 2.8623\n",
      "Epoch 28/90\n",
      "3/3 [==============================] - 0s 5ms/step - loss: 2.8318 - mae: 2.8318\n",
      "Epoch 29/90\n",
      "3/3 [==============================] - 0s 5ms/step - loss: 2.8012 - mae: 2.8012\n",
      "Epoch 30/90\n",
      "3/3 [==============================] - 0s 5ms/step - loss: 2.7697 - mae: 2.7697\n",
      "Epoch 31/90\n",
      "3/3 [==============================] - 0s 5ms/step - loss: 2.7350 - mae: 2.7350\n",
      "Epoch 32/90\n",
      "3/3 [==============================] - 0s 5ms/step - loss: 2.7091 - mae: 2.7091\n",
      "Epoch 33/90\n",
      "3/3 [==============================] - 0s 5ms/step - loss: 2.7003 - mae: 2.7003\n",
      "Epoch 34/90\n",
      "3/3 [==============================] - 0s 5ms/step - loss: 2.6796 - mae: 2.6796\n",
      "Epoch 35/90\n",
      "3/3 [==============================] - 0s 5ms/step - loss: 2.6463 - mae: 2.6463\n",
      "Epoch 36/90\n",
      "3/3 [==============================] - 0s 5ms/step - loss: 2.6275 - mae: 2.6275\n",
      "Epoch 37/90\n",
      "3/3 [==============================] - 0s 5ms/step - loss: 2.6044 - mae: 2.6044\n",
      "Epoch 38/90\n",
      "3/3 [==============================] - 0s 5ms/step - loss: 2.5813 - mae: 2.5813\n",
      "Epoch 39/90\n",
      "3/3 [==============================] - 0s 5ms/step - loss: 2.5566 - mae: 2.5566\n",
      "Epoch 40/90\n",
      "3/3 [==============================] - 0s 5ms/step - loss: 2.5296 - mae: 2.5296\n",
      "Epoch 41/90\n",
      "3/3 [==============================] - 0s 5ms/step - loss: 2.5108 - mae: 2.5108\n",
      "Epoch 42/90\n",
      "3/3 [==============================] - 0s 5ms/step - loss: 2.4759 - mae: 2.4759\n",
      "Epoch 43/90\n",
      "3/3 [==============================] - 0s 5ms/step - loss: 2.4664 - mae: 2.4664\n",
      "Epoch 44/90\n",
      "3/3 [==============================] - 0s 5ms/step - loss: 2.4274 - mae: 2.4274\n",
      "Epoch 45/90\n",
      "3/3 [==============================] - 0s 5ms/step - loss: 2.3893 - mae: 2.3893\n",
      "Epoch 46/90\n",
      "3/3 [==============================] - 0s 5ms/step - loss: 2.3548 - mae: 2.3548\n",
      "Epoch 47/90\n",
      "3/3 [==============================] - 0s 5ms/step - loss: 2.3211 - mae: 2.3211\n",
      "Epoch 48/90\n",
      "3/3 [==============================] - 0s 5ms/step - loss: 2.2835 - mae: 2.2835\n",
      "Epoch 49/90\n",
      "3/3 [==============================] - 0s 5ms/step - loss: 2.2539 - mae: 2.2539\n",
      "Epoch 50/90\n",
      "3/3 [==============================] - 0s 5ms/step - loss: 2.2096 - mae: 2.2096\n",
      "Epoch 51/90\n",
      "3/3 [==============================] - 0s 5ms/step - loss: 2.1977 - mae: 2.1977\n",
      "Epoch 52/90\n",
      "3/3 [==============================] - 0s 5ms/step - loss: 2.1316 - mae: 2.1316\n",
      "Epoch 53/90\n",
      "3/3 [==============================] - 0s 5ms/step - loss: 2.0934 - mae: 2.0934\n",
      "Epoch 54/90\n",
      "3/3 [==============================] - 0s 5ms/step - loss: 2.0927 - mae: 2.0927\n",
      "Epoch 55/90\n",
      "3/3 [==============================] - 0s 5ms/step - loss: 2.0157 - mae: 2.0157\n",
      "Epoch 56/90\n",
      "3/3 [==============================] - 0s 5ms/step - loss: 1.9654 - mae: 1.9654\n",
      "Epoch 57/90\n",
      "3/3 [==============================] - 0s 5ms/step - loss: 1.9079 - mae: 1.9079\n",
      "Epoch 58/90\n",
      "3/3 [==============================] - 0s 5ms/step - loss: 1.9088 - mae: 1.9088\n",
      "Epoch 59/90\n",
      "3/3 [==============================] - 0s 5ms/step - loss: 1.7960 - mae: 1.7960\n",
      "Epoch 60/90\n",
      "3/3 [==============================] - 0s 5ms/step - loss: 1.7303 - mae: 1.7303\n",
      "Epoch 61/90\n",
      "3/3 [==============================] - 0s 5ms/step - loss: 1.6612 - mae: 1.6612\n",
      "Epoch 62/90\n",
      "3/3 [==============================] - 0s 5ms/step - loss: 1.6109 - mae: 1.6109\n",
      "Epoch 63/90\n",
      "3/3 [==============================] - 0s 5ms/step - loss: 1.5295 - mae: 1.5295\n",
      "Epoch 64/90\n",
      "3/3 [==============================] - 0s 5ms/step - loss: 1.4512 - mae: 1.4512\n",
      "Epoch 65/90\n",
      "3/3 [==============================] - 0s 5ms/step - loss: 1.4599 - mae: 1.4599\n",
      "Epoch 66/90\n",
      "3/3 [==============================] - 0s 5ms/step - loss: 1.3058 - mae: 1.3058\n",
      "Epoch 67/90\n",
      "3/3 [==============================] - 0s 5ms/step - loss: 1.2207 - mae: 1.2207\n",
      "Epoch 68/90\n",
      "3/3 [==============================] - 0s 5ms/step - loss: 1.1481 - mae: 1.1481\n",
      "Epoch 69/90\n",
      "3/3 [==============================] - 0s 5ms/step - loss: 1.0463 - mae: 1.0463\n",
      "Epoch 70/90\n",
      "3/3 [==============================] - 0s 5ms/step - loss: 0.9885 - mae: 0.9885\n",
      "Epoch 71/90\n",
      "3/3 [==============================] - 0s 5ms/step - loss: 0.8562 - mae: 0.8562\n",
      "Epoch 72/90\n",
      "3/3 [==============================] - 0s 5ms/step - loss: 0.8371 - mae: 0.8371\n",
      "Epoch 73/90\n",
      "3/3 [==============================] - 0s 5ms/step - loss: 0.7022 - mae: 0.7022\n",
      "Epoch 74/90\n",
      "3/3 [==============================] - 0s 5ms/step - loss: 0.6722 - mae: 0.6722\n",
      "Epoch 75/90\n",
      "3/3 [==============================] - 0s 5ms/step - loss: 0.4988 - mae: 0.4988\n",
      "Epoch 76/90\n",
      "3/3 [==============================] - 0s 5ms/step - loss: 0.5126 - mae: 0.5126\n",
      "Epoch 77/90\n",
      "3/3 [==============================] - 0s 5ms/step - loss: 0.4906 - mae: 0.4906\n",
      "Epoch 78/90\n",
      "3/3 [==============================] - 0s 5ms/step - loss: 0.4682 - mae: 0.4682\n",
      "Epoch 79/90\n",
      "3/3 [==============================] - 0s 5ms/step - loss: 0.6750 - mae: 0.6750\n",
      "Epoch 80/90\n",
      "3/3 [==============================] - 0s 5ms/step - loss: 0.4979 - mae: 0.4979\n",
      "Epoch 81/90\n",
      "3/3 [==============================] - 0s 6ms/step - loss: 0.3720 - mae: 0.3720\n",
      "Epoch 82/90\n",
      "3/3 [==============================] - 0s 5ms/step - loss: 0.3339 - mae: 0.3339\n",
      "Epoch 83/90\n",
      "3/3 [==============================] - 0s 5ms/step - loss: 0.4903 - mae: 0.4903\n",
      "Epoch 84/90\n",
      "3/3 [==============================] - 0s 5ms/step - loss: 0.5985 - mae: 0.5985\n",
      "Epoch 85/90\n",
      "3/3 [==============================] - 0s 5ms/step - loss: 0.3345 - mae: 0.3345\n",
      "Epoch 86/90\n",
      "3/3 [==============================] - 0s 5ms/step - loss: 0.2911 - mae: 0.2911\n",
      "Epoch 87/90\n",
      "3/3 [==============================] - 0s 5ms/step - loss: 0.4473 - mae: 0.4473\n",
      "Epoch 88/90\n",
      "3/3 [==============================] - 0s 5ms/step - loss: 0.4519 - mae: 0.4519\n",
      "Epoch 89/90\n",
      "3/3 [==============================] - 0s 5ms/step - loss: 0.3218 - mae: 0.3218\n",
      "Epoch 90/90\n",
      "3/3 [==============================] - 0s 5ms/step - loss: 0.3061 - mae: 0.3061\n"
     ]
    },
    {
     "data": {
      "text/plain": [
       "<keras.src.callbacks.History at 0x307fe1d90>"
      ]
     },
     "execution_count": 37,
     "metadata": {},
     "output_type": "execute_result"
    }
   ],
   "execution_count": 37
  },
  {
   "metadata": {
    "ExecuteTime": {
     "end_time": "2025-03-21T14:05:16.370014Z",
     "start_time": "2025-03-21T14:05:16.314271Z"
    }
   },
   "cell_type": "code",
   "source": [
    "b_extend_predict = model3.predict(a_test)\n",
    "b_extend_predict"
   ],
   "id": "defb8bc2f7883ddb",
   "outputs": [
    {
     "name": "stdout",
     "output_type": "stream",
     "text": [
      "1/1 [==============================] - 0s 35ms/step\n"
     ]
    },
    {
     "data": {
      "text/plain": [
       "array([[21.989464],\n",
       "       [24.882538],\n",
       "       [27.775623],\n",
       "       [30.668705],\n",
       "       [33.561783],\n",
       "       [36.45486 ],\n",
       "       [39.347942],\n",
       "       [42.241028],\n",
       "       [45.134117],\n",
       "       [48.027187]], dtype=float32)"
      ]
     },
     "execution_count": 38,
     "metadata": {},
     "output_type": "execute_result"
    }
   ],
   "execution_count": 38
  },
  {
   "metadata": {
    "ExecuteTime": {
     "end_time": "2025-03-21T14:05:16.517431Z",
     "start_time": "2025-03-21T14:05:16.408216Z"
    }
   },
   "cell_type": "code",
   "source": [
    "# plt.figure(figsize=(10, 7))\n",
    "plt.scatter(a, b, c='blue', label='Original train')\n",
    "plt.scatter(a_test, b_test, c='green', label='Original test')\n",
    "plt.scatter(a_test, b_extend_predict, c='red', label='Extended prediction')\n",
    "# plt.scatter(a_test, b_predict, c='yellow', label='Original prediction')\n",
    "plt.legend()"
   ],
   "id": "9d2ee387990697c2",
   "outputs": [
    {
     "data": {
      "text/plain": [
       "<matplotlib.legend.Legend at 0x30876ec40>"
      ]
     },
     "execution_count": 39,
     "metadata": {},
     "output_type": "execute_result"
    },
    {
     "data": {
      "text/plain": [
       "<Figure size 640x480 with 1 Axes>"
      ],
      "image/png": "[encoded data removed]"
     },
     "metadata": {},
     "output_type": "display_data"
    }
   ],
   "execution_count": 39
  },
  {
   "metadata": {},
   "cell_type": "markdown",
   "source": [
    "removing a little bit and adding a little bit generates much more data for learning. This is a good way to generate more data for learning. This is called data augmentation. (really, just invented it for myself)\n",
    "\n",
    "how are tricks like this called in the real world copilot? Data augmentation, data preprocessing, data cleaning, data wrangling, data transformation"
   ],
   "id": "4565220cce431d02"
  },
  {
   "metadata": {},
   "cell_type": "markdown",
   "source": [
    "### Welche Optimizer gibt es?\n",
    "- Stochastic Gradient Descent (SGD): Updates weights based on the gradient of the loss function.\n",
    "- Adam: Adaptive Moment Estimation, combines the advantages of RMSprop and momentum.\n",
    "- RMSprop: Divides the learning rate by the moving average of the root mean square of the gradients.\n",
    "\n",
    "### Welche Activation funktionen gibt es?\n",
    "- ReLU\n",
    "- Sigmoid\n",
    "- Tanh\n",
    "\n",
    "Testing summary and building a nn"
   ],
   "id": "9e5feb4c30014cc7"
  },
  {
   "metadata": {
    "ExecuteTime": {
     "end_time": "2025-03-21T14:05:16.581377Z",
     "start_time": "2025-03-21T14:05:16.549785Z"
    }
   },
   "cell_type": "code",
   "source": [
    "model4 = ks.Sequential()\n",
    "model4.add(ks.layers.Input(shape=(1,)))\n",
    "model4.add(ks.layers.Dense(20, activation='relu'))\n",
    "model4.add(ks.layers.Dense(20, activation='relu'))\n",
    "model4.add(ks.layers.Dense(20, activation='relu'))\n",
    "model4.add(ks.layers.Dense(1))\n",
    "\n",
    "# 2. compile the model\n",
    "model4.compile(loss=ks.losses.MeanAbsoluteError,\n",
    "              optimizer=ks.optimizers.Adam(),\n",
    "              metrics=['mae'])\n",
    "\n",
    "# 3. fit the model\n",
    "# model3.fit(a_extend, b_extend, epochs=90)"
   ],
   "id": "4f2c2600dbec3f2c",
   "outputs": [],
   "execution_count": 40
  },
  {
   "metadata": {
    "ExecuteTime": {
     "end_time": "2025-03-21T14:05:16.590777Z",
     "start_time": "2025-03-21T14:05:16.585855Z"
    }
   },
   "cell_type": "code",
   "source": "model4.build()",
   "id": "91540ef54d3dec2e",
   "outputs": [],
   "execution_count": 41
  },
  {
   "metadata": {
    "ExecuteTime": {
     "end_time": "2025-03-21T14:05:16.628250Z",
     "start_time": "2025-03-21T14:05:16.613815Z"
    }
   },
   "cell_type": "code",
   "source": "model4.summary()",
   "id": "a9919b2268d7a545",
   "outputs": [
    {
     "name": "stdout",
     "output_type": "stream",
     "text": [
      "Model: \"sequential_4\"\n",
      "_________________________________________________________________\n",
      " Layer (type)                Output Shape              Param #   \n",
      "=================================================================\n",
      " dense_14 (Dense)            (None, 20)                40        \n",
      "                                                                 \n",
      " dense_15 (Dense)            (None, 20)                420       \n",
      "                                                                 \n",
      " dense_16 (Dense)            (None, 20)                420       \n",
      "                                                                 \n",
      " dense_17 (Dense)            (None, 1)                 21        \n",
      "                                                                 \n",
      "=================================================================\n",
      "Total params: 901 (3.52 KB)\n",
      "Trainable params: 901 (3.52 KB)\n",
      "Non-trainable params: 0 (0.00 Byte)\n",
      "_________________________________________________________________\n"
     ]
    }
   ],
   "execution_count": 42
  },
  {
   "metadata": {},
   "cell_type": "markdown",
   "source": [
    "Total params sind die neuronen welche träiniert werden können\n",
    "trainable sind diese die ihre werte verändern können\n",
    "non trainable, analag dazu.. sind häufig bereits gelernte implementierte nn die in das nn integriert worden sind"
   ],
   "id": "4c5a840b2aec0ea6"
  },
  {
   "metadata": {
    "ExecuteTime": {
     "end_time": "2025-03-21T14:05:16.698560Z",
     "start_time": "2025-03-21T14:05:16.636254Z"
    }
   },
   "cell_type": "code",
   "source": "model4.predict(x_test)",
   "id": "a9408558506bcc6d",
   "outputs": [
    {
     "name": "stdout",
     "output_type": "stream",
     "text": [
      "1/1 [==============================] - 0s 37ms/step\n"
     ]
    },
    {
     "data": {
      "text/plain": [
       "array([[1.9273334],\n",
       "       [2.2674508],\n",
       "       [2.6075704],\n",
       "       [2.9476888],\n",
       "       [3.287805 ],\n",
       "       [3.514552 ],\n",
       "       [3.8546667],\n",
       "       [4.194789 ]], dtype=float32)"
      ]
     },
     "execution_count": 43,
     "metadata": {},
     "output_type": "execute_result"
    }
   ],
   "execution_count": 43
  }
 ],
 "metadata": {
  "kernelspec": {
   "display_name": "Python 3",
   "language": "python",
   "name": "python3"
  },
  "language_info": {
   "codemirror_mode": {
    "name": "ipython",
    "version": 2
   },
   "file_extension": ".py",
   "mimetype": "text/x-python",
   "name": "python",
   "nbconvert_exporter": "python",
   "pygments_lexer": "ipython2",
   "version": "2.7.6"
  }
 },
 "nbformat": 4,
 "nbformat_minor": 5
}
