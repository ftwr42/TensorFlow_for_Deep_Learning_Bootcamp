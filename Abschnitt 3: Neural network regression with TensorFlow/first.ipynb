{
 "cells": [
  {
   "metadata": {},
   "cell_type": "markdown",
   "source": [
    "## Video 39\n",
    "\n",
    "\n",
    " What is a regression problem?\n",
    " - predict something out of the data, the question is not a yes or no question, but a number. So the solution might be, the thing on that image is a cat for about 75%.\n",
    "  - Questions like: How much, how many, how ... can be answered with regression."
   ],
   "id": "b94301de5172f179"
  },
  {
   "metadata": {},
   "cell_type": "markdown",
   "source": [
    "## Video 40\n",
    "\n",
    "\n",
    "What kind of data is needed for a regression problem?\n",
    "Ok some kind of data what you think are relevant to predict the answer from the neural network.\n",
    "\n",
    "The way data has to be converted for a nn is for example the one hot encoding. So this means you create a list as long as all possible interpretations the data can have.\n",
    "Is the data a cat or a dog or a mouse? One-Hot list maybe [0,1,0] for a dog.\n",
    "\n",
    "This interpretation is also called a feature encoding and data representation.\n",
    "1. Categorical Data Encoding\n",
    "    - One-Hot Encoding: Converts categorical variables into binary vectors.\n",
    "    - Label Encoding: Assigns each category a unique integer.\n",
    "    - Ordinal Encoding: Like label encoding, but assumes an order in the categories.\n",
    "    - Binary Encoding: Converts category indices to binary and stores them in multiple bits.\n",
    "    - Target Encoding (Mean Encoding): Replaces categories with the mean of the target variable (useful for supervised learning).\n",
    "2. Numerical Data Scaling & Normalization\n",
    "    - Min-Max Scaling: Rescales values between 0 and 1.\n",
    "    - Standardization (Z-score normalization): Centers values around 0 with unit variance.\n",
    "    - Log Transformation: Used for skewed distributions.\n",
    "    - Quantile Transformation: Maps data to a normal distribution.\n",
    "3. Text Data Encoding\n",
    "    - Bag of Words (BoW): Counts word occurrences.\n",
    "    - TF-IDF (Term Frequency-Inverse Document Frequency): Adjusts word importance based on frequency across documents.\n",
    "    - Word Embeddings (Word2Vec, GloVe, FastText): Maps words to dense vector spaces.\n",
    "    - Character-Level Encoding: Similar to word embeddings, but on a character level.\n",
    "4. Image Data Encoding\n",
    "    - Raw Pixel Values: Direct input of pixel intensities.\n",
    "    - Normalized Pixel Values: Pixels scaled to a range (e.g., 0-1 or -1 to 1).\n",
    "    - Feature Extraction (HOG, SIFT, CNNs): Extracts meaningful features instead of raw pixels.\n",
    "5. Graph Data Encoding\n",
    "    - Adjacency Matrix Encoding: Represents connections between nodes as a matrix.\n",
    "    - Graph Embeddings (Node2Vec, GCNs): Maps nodes to vector spaces.\n",
    "6. Time Series & Sequential Data Encoding\n",
    "    - Sliding Windows: Transforms time series into overlapping windows for learning.\n",
    "    - Fourier Transform / Wavelet Transform: Extracts frequency-domain features.\n",
    "    - Lag Features: Uses past values as inputs.\n",
    "\n"
   ],
   "id": "3032e7a1fccee16b"
  },
  {
   "metadata": {},
   "cell_type": "markdown",
   "source": [
    "## Video 41\n",
    "\n",
    "Architectures of Neural Networks\n",
    "1. Feedforward Neural Networks (FNNs)\n",
    "    - Basic neural network architecture\n",
    "    - No feedback loops between neurons\n",
    "    - Used for regression and classification tasks.\n",
    "    - Variants\n",
    "        - Single-layer perceptron: One layer of input nodes and one layer of output nodes, no hidden layers.\n",
    "        - Multi-layer perceptron: Contains one or more hidden layers between the input and output layers.\n",
    "2. Convolutional Neural Networks (CNNs)\n",
    "    - Specialized for image data\n",
    "    - Contains convolutional layers for feature extraction\n",
    "        - Convolutional layers: Apply filters to input data to detect patterns.\n",
    "        - Pooling layers: Reduce spatial dimensions of the data.\n",
    "        - Fully connected layers: Perform classification based on extracted features.\n",
    "    - Used for image classification, object detection, and segmentation tasks.\n",
    "3. Recurrent Neural Networks (RNNs)\n",
    "4. Transformer Neural Networks\n",
    "5. Autoencoder Neural Networks\n",
    "6. Generative Adversarial Networks (GANs)\n",
    "7. Graph Neural Networks (GNNs)\n",
    "8. Spike Neural Networks\n",
    "9. etc.\n",
    "\n"
   ],
   "id": "999d52f46faf3a78"
  },
  {
   "metadata": {},
   "cell_type": "markdown",
   "source": [
    "## Video 42\n",
    "\n",
    "**Definition of a regression problem:**\n",
    "Method of the smallest absolute deviation ..."
   ],
   "id": "d51e70067bd464a9"
  },
  {
   "metadata": {
    "ExecuteTime": {
     "end_time": "2025-03-21T12:36:15.416854Z",
     "start_time": "2025-03-21T12:36:15.414729Z"
    }
   },
   "cell_type": "code",
   "source": [
    "import os\n",
    "import numpy\n",
    "from fontTools.subset.svg import xpath"
   ],
   "id": "91bb8bb1a391ecec",
   "outputs": [],
   "execution_count": 143
  },
  {
   "metadata": {
    "ExecuteTime": {
     "end_time": "2025-03-21T12:36:15.433340Z",
     "start_time": "2025-03-21T12:36:15.430585Z"
    }
   },
   "cell_type": "code",
   "source": [
    "# disable the NUMA warning/support\n",
    "# import os\n",
    "# from cProfile import label\n",
    "\n",
    "# from keras.src.backend import shape\n",
    "# from keras.src.backend.jax.core import unstack\n",
    "\n",
    "os.environ['TF_NUMA_ENABLED'] = '0'"
   ],
   "id": "71bad6c4345fea1d",
   "outputs": [],
   "execution_count": 144
  },
  {
   "metadata": {
    "ExecuteTime": {
     "end_time": "2025-03-21T12:36:15.448030Z",
     "start_time": "2025-03-21T12:36:15.445746Z"
    }
   },
   "cell_type": "code",
   "source": [
    "import numpy as np\n",
    "import tensorflow as tf\n",
    "import matplotlib.pyplot as plt\n",
    "import pandas as pd\n",
    "from tensorflow import keras as ks\n",
    "# import keras as ks\n",
    "import os\n",
    "import logging\n",
    "os.environ['TF_CPP_MIN_LOG_LEVEL'] = '2'\n",
    "logging.getLogger('absl').setLevel(logging.ERROR)\n",
    "\n",
    "# print(tf.__version__)"
   ],
   "id": "ef4d879f9231ec8a",
   "outputs": [],
   "execution_count": 145
  },
  {
   "metadata": {
    "ExecuteTime": {
     "end_time": "2025-03-21T12:36:15.536338Z",
     "start_time": "2025-03-21T12:36:15.462559Z"
    }
   },
   "cell_type": "code",
   "source": [
    "# create some data for first regression example\n",
    "\n",
    "x = np.array([-7.0, -4.0, -1.0, 2.0, 5.0, 8.0, 11.0, 14.0])\n",
    "y = np.array([3.0, 6.0, 9.0, 12.0, 15.0, 18.0, 21.0, 24.0])\n",
    "\n",
    "plt.scatter(x, y)"
   ],
   "id": "fef168d166d09045",
   "outputs": [
    {
     "data": {
      "text/plain": [
       "<matplotlib.collections.PathCollection at 0x30f427460>"
      ]
     },
     "execution_count": 146,
     "metadata": {},
     "output_type": "execute_result"
    },
    {
     "data": {
      "text/plain": [
       "<Figure size 640x480 with 1 Axes>"
      ],
      "image/png": "[encoded data removed]"
     },
     "metadata": {},
     "output_type": "display_data"
    }
   ],
   "execution_count": 146
  },
  {
   "metadata": {
    "ExecuteTime": {
     "end_time": "2025-03-21T12:36:15.558536Z",
     "start_time": "2025-03-21T12:36:15.553081Z"
    }
   },
   "cell_type": "code",
   "source": [
    "# check the pattern in the data idea\n",
    "x + 10"
   ],
   "id": "d11d7047d0cf1154",
   "outputs": [
    {
     "data": {
      "text/plain": [
       "array([ 3.,  6.,  9., 12., 15., 18., 21., 24.])"
      ]
     },
     "execution_count": 147,
     "metadata": {},
     "output_type": "execute_result"
    }
   ],
   "execution_count": 147
  },
  {
   "metadata": {
    "ExecuteTime": {
     "end_time": "2025-03-21T12:36:15.579060Z",
     "start_time": "2025-03-21T12:36:15.575463Z"
    }
   },
   "cell_type": "code",
   "source": "y == x + 10",
   "id": "f54279a2c46b5295",
   "outputs": [
    {
     "data": {
      "text/plain": [
       "array([ True,  True,  True,  True,  True,  True,  True,  True])"
      ]
     },
     "execution_count": 148,
     "metadata": {},
     "output_type": "execute_result"
    }
   ],
   "execution_count": 148
  },
  {
   "metadata": {
    "ExecuteTime": {
     "end_time": "2025-03-21T12:36:15.607511Z",
     "start_time": "2025-03-21T12:36:15.602622Z"
    }
   },
   "cell_type": "code",
   "source": [
    "# example of housing info, video example\n",
    "house_info = tf.constant(['bedroom', 'bathroom', 'garage'])\n",
    "house_price = tf.constant([939700])\n",
    "house_info, house_price"
   ],
   "id": "df75da7178243e93",
   "outputs": [
    {
     "data": {
      "text/plain": [
       "(<tf.Tensor: shape=(3,), dtype=string, numpy=array([b'bedroom', b'bathroom', b'garage'], dtype=object)>,\n",
       " <tf.Tensor: shape=(1,), dtype=int32, numpy=array([939700], dtype=int32)>)"
      ]
     },
     "execution_count": 149,
     "metadata": {},
     "output_type": "execute_result"
    }
   ],
   "execution_count": 149
  },
  {
   "metadata": {},
   "cell_type": "markdown",
   "source": [
    "in this example the house_info has  the shape of 3 and the house_price has the shape of 1.\n",
    "So what wr are trying to do is to make conclusions of the house_price out of the house_info."
   ],
   "id": "2e3deb930ecceaf5"
  },
  {
   "metadata": {},
   "cell_type": "markdown",
   "source": [
    "## Video 44\n",
    "\n"
   ],
   "id": "eae60a2a3dac384a"
  },
  {
   "metadata": {
    "ExecuteTime": {
     "end_time": "2025-03-21T12:36:15.635612Z",
     "start_time": "2025-03-21T12:36:15.625638Z"
    }
   },
   "cell_type": "code",
   "source": [
    "# turn numpy arrays into tensors\n",
    "x = tf.constant(x)\n",
    "y = tf.constant(y)\n",
    "x, y"
   ],
   "id": "63b5f3621df7e822",
   "outputs": [
    {
     "data": {
      "text/plain": [
       "(<tf.Tensor: shape=(8,), dtype=float64, numpy=array([-7., -4., -1.,  2.,  5.,  8., 11., 14.])>,\n",
       " <tf.Tensor: shape=(8,), dtype=float64, numpy=array([ 3.,  6.,  9., 12., 15., 18., 21., 24.])>)"
      ]
     },
     "execution_count": 150,
     "metadata": {},
     "output_type": "execute_result"
    }
   ],
   "execution_count": 150
  },
  {
   "metadata": {
    "ExecuteTime": {
     "end_time": "2025-03-21T12:36:15.662011Z",
     "start_time": "2025-03-21T12:36:15.655860Z"
    }
   },
   "cell_type": "code",
   "source": [
    "input_shape_x = x[0].shape\n",
    "input_shape_y = y[0].shape\n",
    "input_shape_x, input_shape_y"
   ],
   "id": "278e8ee3d7912a9d",
   "outputs": [
    {
     "data": {
      "text/plain": [
       "(TensorShape([]), TensorShape([]))"
      ]
     },
     "execution_count": 151,
     "metadata": {},
     "output_type": "execute_result"
    }
   ],
   "execution_count": 151
  },
  {
   "metadata": {
    "ExecuteTime": {
     "end_time": "2025-03-21T12:36:15.769665Z",
     "start_time": "2025-03-21T12:36:15.687762Z"
    }
   },
   "cell_type": "code",
   "source": "plt.scatter(x, y)",
   "id": "b4dd8d870c764256",
   "outputs": [
    {
     "data": {
      "text/plain": [
       "<matplotlib.collections.PathCollection at 0x30f5bfcd0>"
      ]
     },
     "execution_count": 152,
     "metadata": {},
     "output_type": "execute_result"
    },
    {
     "data": {
      "text/plain": [
       "<Figure size 640x480 with 1 Axes>"
      ],
      "image/png": "[encoded data removed]"
     },
     "metadata": {},
     "output_type": "display_data"
    }
   ],
   "execution_count": 152
  },
  {
   "metadata": {},
   "cell_type": "markdown",
   "source": [
    "## Start modelling with TensorFlow\n",
    "\n",
    "1. Create a model: define input layer and hidden layers and output layer\n",
    "2. Compile a model: define the loss function and the optimizer\n",
    "3. Fit a model: let the model find patterns between X and y\n",
    "4. Evaluate a model: check how well the model is doing"
   ],
   "id": "bab1652fd5e302ff"
  },
  {
   "metadata": {
    "ExecuteTime": {
     "end_time": "2025-03-21T12:36:16.014430Z",
     "start_time": "2025-03-21T12:36:15.781746Z"
    }
   },
   "cell_type": "code",
   "source": [
    "# x = tf.cast(x, dtype=tf.float32)\n",
    "# y = tf.cast(y, dtype=tf.float32)# set random seed\n",
    "\n",
    "tf.random.set_seed(42)\n",
    "\n",
    "# 1. create a model\n",
    "model = ks.Sequential()\n",
    "model.add(ks.layers.Input(shape=(1,)))\n",
    "model.add(ks.layers.Dense(1))\n",
    "\n",
    "# 2. compile the model\n",
    "model.compile(loss=ks.losses.mae,\n",
    "              optimizer=tf.keras.optimizers.SGD(),\n",
    "              metrics=['mae'])\n",
    "\n",
    "model.fit(x, y, epochs=5)\n"
   ],
   "id": "efd982b96443f24a",
   "outputs": [
    {
     "name": "stdout",
     "output_type": "stream",
     "text": [
      "Epoch 1/5\n",
      "1/1 [==============================] - 0s 137ms/step - loss: 9.1083 - mae: 9.1083\n",
      "Epoch 2/5\n",
      "1/1 [==============================] - 0s 6ms/step - loss: 8.9758 - mae: 8.9758\n",
      "Epoch 3/5\n",
      "1/1 [==============================] - 0s 7ms/step - loss: 8.8433 - mae: 8.8433\n",
      "Epoch 4/5\n",
      "1/1 [==============================] - 0s 6ms/step - loss: 8.7108 - mae: 8.7108\n",
      "Epoch 5/5\n",
      "1/1 [==============================] - 0s 7ms/step - loss: 8.5783 - mae: 8.5783\n"
     ]
    },
    {
     "name": "stderr",
     "output_type": "stream",
     "text": [
      "2025-03-21 13:36:15.914277: I tensorflow/core/grappler/optimizers/custom_graph_optimizer_registry.cc:114] Plugin optimizer for device_type GPU is enabled.\n"
     ]
    },
    {
     "data": {
      "text/plain": [
       "<keras.src.callbacks.History at 0x30f78ecd0>"
      ]
     },
     "execution_count": 153,
     "metadata": {},
     "output_type": "execute_result"
    }
   ],
   "execution_count": 153
  },
  {
   "metadata": {
    "ExecuteTime": {
     "end_time": "2025-03-21T12:36:16.033011Z",
     "start_time": "2025-03-21T12:36:16.030293Z"
    }
   },
   "cell_type": "code",
   "source": "x.dtype, y.dtype",
   "id": "c6b548870bd0e039",
   "outputs": [
    {
     "data": {
      "text/plain": [
       "(tf.float64, tf.float64)"
      ]
     },
     "execution_count": 154,
     "metadata": {},
     "output_type": "execute_result"
    }
   ],
   "execution_count": 154
  },
  {
   "metadata": {
    "ExecuteTime": {
     "end_time": "2025-03-21T12:36:16.051628Z",
     "start_time": "2025-03-21T12:36:16.046577Z"
    }
   },
   "cell_type": "code",
   "source": [
    "x = tf.cast(x, dtype=tf.float32)\n",
    "y = tf.cast(y, dtype=tf.float32)\n",
    "x.dtype, y.dtype"
   ],
   "id": "9c6e3065da47b102",
   "outputs": [
    {
     "data": {
      "text/plain": [
       "(tf.float32, tf.float32)"
      ]
     },
     "execution_count": 155,
     "metadata": {},
     "output_type": "execute_result"
    }
   ],
   "execution_count": 155
  },
  {
   "metadata": {
    "ExecuteTime": {
     "end_time": "2025-03-21T12:36:16.089102Z",
     "start_time": "2025-03-21T12:36:16.084459Z"
    }
   },
   "cell_type": "code",
   "source": "x, y",
   "id": "71f590104df8ea23",
   "outputs": [
    {
     "data": {
      "text/plain": [
       "(<tf.Tensor: shape=(8,), dtype=float32, numpy=array([-7., -4., -1.,  2.,  5.,  8., 11., 14.], dtype=float32)>,\n",
       " <tf.Tensor: shape=(8,), dtype=float32, numpy=array([ 3.,  6.,  9., 12., 15., 18., 21., 24.], dtype=float32)>)"
      ]
     },
     "execution_count": 156,
     "metadata": {},
     "output_type": "execute_result"
    }
   ],
   "execution_count": 156
  },
  {
   "metadata": {
    "ExecuteTime": {
     "end_time": "2025-03-21T12:36:16.125472Z",
     "start_time": "2025-03-21T12:36:16.122063Z"
    }
   },
   "cell_type": "code",
   "source": [
    "# 3. fit the model\n",
    "type(x), type(y)"
   ],
   "id": "40233e7ca2b18f52",
   "outputs": [
    {
     "data": {
      "text/plain": [
       "(tensorflow.python.framework.ops.EagerTensor,\n",
       " tensorflow.python.framework.ops.EagerTensor)"
      ]
     },
     "execution_count": 157,
     "metadata": {},
     "output_type": "execute_result"
    }
   ],
   "execution_count": 157
  },
  {
   "metadata": {
    "ExecuteTime": {
     "end_time": "2025-03-21T12:36:16.447550Z",
     "start_time": "2025-03-21T12:36:16.162359Z"
    }
   },
   "cell_type": "code",
   "source": "model.fit(x, y, epochs=20)",
   "id": "58a2bbbf51a17fc4",
   "outputs": [
    {
     "name": "stdout",
     "output_type": "stream",
     "text": [
      "Epoch 1/20\n",
      "1/1 [==============================] - 0s 99ms/step - loss: 8.4458 - mae: 8.4458\n",
      "Epoch 2/20\n",
      "1/1 [==============================] - 0s 6ms/step - loss: 8.3133 - mae: 8.3133\n",
      "Epoch 3/20\n",
      "1/1 [==============================] - 0s 6ms/step - loss: 8.1808 - mae: 8.1808\n",
      "Epoch 4/20\n",
      "1/1 [==============================] - 0s 6ms/step - loss: 8.0483 - mae: 8.0483\n",
      "Epoch 5/20\n",
      "1/1 [==============================] - 0s 6ms/step - loss: 7.9158 - mae: 7.9158\n",
      "Epoch 6/20\n",
      "1/1 [==============================] - 0s 6ms/step - loss: 7.7833 - mae: 7.7833\n",
      "Epoch 7/20\n",
      "1/1 [==============================] - 0s 6ms/step - loss: 7.6508 - mae: 7.6508\n",
      "Epoch 8/20\n",
      "1/1 [==============================] - 0s 6ms/step - loss: 7.5183 - mae: 7.5183\n",
      "Epoch 9/20\n",
      "1/1 [==============================] - 0s 6ms/step - loss: 7.4025 - mae: 7.4025\n",
      "Epoch 10/20\n",
      "1/1 [==============================] - 0s 6ms/step - loss: 7.3969 - mae: 7.3969\n",
      "Epoch 11/20\n",
      "1/1 [==============================] - 0s 6ms/step - loss: 7.3913 - mae: 7.3913\n",
      "Epoch 12/20\n",
      "1/1 [==============================] - 0s 6ms/step - loss: 7.3856 - mae: 7.3856\n",
      "Epoch 13/20\n",
      "1/1 [==============================] - 0s 6ms/step - loss: 7.3800 - mae: 7.3800\n",
      "Epoch 14/20\n",
      "1/1 [==============================] - 0s 5ms/step - loss: 7.3744 - mae: 7.3744\n",
      "Epoch 15/20\n",
      "1/1 [==============================] - 0s 6ms/step - loss: 7.3688 - mae: 7.3688\n",
      "Epoch 16/20\n",
      "1/1 [==============================] - 0s 6ms/step - loss: 7.3631 - mae: 7.3631\n",
      "Epoch 17/20\n",
      "1/1 [==============================] - 0s 6ms/step - loss: 7.3575 - mae: 7.3575\n",
      "Epoch 18/20\n",
      "1/1 [==============================] - 0s 6ms/step - loss: 7.3519 - mae: 7.3519\n",
      "Epoch 19/20\n",
      "1/1 [==============================] - 0s 7ms/step - loss: 7.3462 - mae: 7.3462\n",
      "Epoch 20/20\n",
      "1/1 [==============================] - 0s 6ms/step - loss: 7.3406 - mae: 7.3406\n"
     ]
    },
    {
     "name": "stderr",
     "output_type": "stream",
     "text": [
      "2025-03-21 13:36:16.248160: I tensorflow/core/grappler/optimizers/custom_graph_optimizer_registry.cc:114] Plugin optimizer for device_type GPU is enabled.\n"
     ]
    },
    {
     "data": {
      "text/plain": [
       "<keras.src.callbacks.History at 0x30e199b20>"
      ]
     },
     "execution_count": 158,
     "metadata": {},
     "output_type": "execute_result"
    }
   ],
   "execution_count": 158
  },
  {
   "metadata": {
    "ExecuteTime": {
     "end_time": "2025-03-21T12:36:16.465215Z",
     "start_time": "2025-03-21T12:36:16.461304Z"
    }
   },
   "cell_type": "code",
   "source": [
    "try_1 = tf.constant([17.0])\n",
    "try_1"
   ],
   "id": "a8533cf0b77737f4",
   "outputs": [
    {
     "data": {
      "text/plain": [
       "<tf.Tensor: shape=(1,), dtype=float32, numpy=array([17.], dtype=float32)>"
      ]
     },
     "execution_count": 159,
     "metadata": {},
     "output_type": "execute_result"
    }
   ],
   "execution_count": 159
  },
  {
   "metadata": {
    "ExecuteTime": {
     "end_time": "2025-03-21T12:36:16.537095Z",
     "start_time": "2025-03-21T12:36:16.488853Z"
    }
   },
   "cell_type": "code",
   "source": [
    "pred_1 = model.predict(try_1)\n",
    "pred_1"
   ],
   "id": "be2100db304f197d",
   "outputs": [
    {
     "name": "stdout",
     "output_type": "stream",
     "text": [
      "1/1 [==============================] - 0s 23ms/step\n"
     ]
    },
    {
     "name": "stderr",
     "output_type": "stream",
     "text": [
      "2025-03-21 13:36:16.524954: I tensorflow/core/grappler/optimizers/custom_graph_optimizer_registry.cc:114] Plugin optimizer for device_type GPU is enabled.\n"
     ]
    },
    {
     "data": {
      "text/plain": [
       "array([[29.285955]], dtype=float32)"
      ]
     },
     "execution_count": 160,
     "metadata": {},
     "output_type": "execute_result"
    }
   ],
   "execution_count": 160
  },
  {
   "metadata": {
    "ExecuteTime": {
     "end_time": "2025-03-21T12:36:16.588617Z",
     "start_time": "2025-03-21T12:36:16.585665Z"
    }
   },
   "cell_type": "code",
   "source": "type(pred_1)",
   "id": "b6f87d4b55325083",
   "outputs": [
    {
     "data": {
      "text/plain": [
       "numpy.ndarray"
      ]
     },
     "execution_count": 161,
     "metadata": {},
     "output_type": "execute_result"
    }
   ],
   "execution_count": 161
  },
  {
   "metadata": {
    "ExecuteTime": {
     "end_time": "2025-03-21T12:36:16.694907Z",
     "start_time": "2025-03-21T12:36:16.628187Z"
    }
   },
   "cell_type": "code",
   "source": [
    "X_test = tf.constant([17, 20, 23, 26, 29, 31, 34, 37], dtype=tf.float32, shape=(8,))\n",
    "predict = tf.cast(model.predict(X_test), dtype=tf.float32)\n",
    "predict = tf.reshape(predict, shape=(8,))\n",
    "X_test, predict"
   ],
   "id": "66c770ea332b8207",
   "outputs": [
    {
     "name": "stdout",
     "output_type": "stream",
     "text": [
      "1/1 [==============================] - 0s 21ms/step\n"
     ]
    },
    {
     "data": {
      "text/plain": [
       "(<tf.Tensor: shape=(8,), dtype=float32, numpy=array([17., 20., 23., 26., 29., 31., 34., 37.], dtype=float32)>,\n",
       " <tf.Tensor: shape=(8,), dtype=float32, numpy=\n",
       " array([29.285955, 34.415245, 39.54453 , 44.673817, 49.8031  , 53.222626,\n",
       "        58.351913, 63.481197], dtype=float32)>)"
      ]
     },
     "execution_count": 162,
     "metadata": {},
     "output_type": "execute_result"
    }
   ],
   "execution_count": 162
  },
  {
   "metadata": {
    "ExecuteTime": {
     "end_time": "2025-03-21T12:36:17.086046Z",
     "start_time": "2025-03-21T12:36:16.719563Z"
    }
   },
   "cell_type": "code",
   "source": [
    "x_all = tf.concat([x, X_test], axis=0)\n",
    "y_all = tf.concat([y, predict], axis=0)\n",
    "plt.scatter(x_all, y_all)"
   ],
   "id": "e49cfcf266919a0f",
   "outputs": [
    {
     "data": {
      "text/plain": [
       "<matplotlib.collections.PathCollection at 0x310c9cd60>"
      ]
     },
     "execution_count": 163,
     "metadata": {},
     "output_type": "execute_result"
    },
    {
     "data": {
      "text/plain": [
       "<Figure size 640x480 with 1 Axes>"
      ],
      "image/png": "[encoded data removed]"
     },
     "metadata": {},
     "output_type": "display_data"
    }
   ],
   "execution_count": 163
  },
  {
   "metadata": {
    "ExecuteTime": {
     "end_time": "2025-03-21T12:36:17.302848Z",
     "start_time": "2025-03-21T12:36:17.293720Z"
    }
   },
   "cell_type": "code",
   "source": [
    "def concat_pred_and_print(x_test: list, x, y, model):\n",
    "    test = tf.cast(x_test, dtype=tf.float32)\n",
    "\n",
    "    test_predict = model.predict(test)\n",
    "    test_reshape = tf.reshape(test_predict, shape=(len(x_test),))\n",
    "\n",
    "    x_all = tf.concat([x, test], axis=0)\n",
    "    y_all = tf.concat([y, test_reshape], axis=0)\n",
    "    plt.scatter(x_all, y_all)"
   ],
   "id": "4ea06ff605dd10de",
   "outputs": [],
   "execution_count": 164
  },
  {
   "metadata": {
    "ExecuteTime": {
     "end_time": "2025-03-21T12:36:17.680576Z",
     "start_time": "2025-03-21T12:36:17.468683Z"
    }
   },
   "cell_type": "code",
   "source": "concat_pred_and_print([17, 20, 23, 26, 29, 31, 34, 37], x, y, model)",
   "id": "c583524354d8186d",
   "outputs": [
    {
     "name": "stdout",
     "output_type": "stream",
     "text": [
      "1/1 [==============================] - 0s 18ms/step\n"
     ]
    },
    {
     "data": {
      "text/plain": [
       "<Figure size 640x480 with 1 Axes>"
      ],
      "image/png": "[encoded data removed]"
     },
     "metadata": {},
     "output_type": "display_data"
    }
   ],
   "execution_count": 165
  },
  {
   "metadata": {},
   "cell_type": "markdown",
   "source": [
    "## Video 45\n",
    "\n",
    "Optimierung des Modells\n",
    "\n",
    "Idea, test to shuffle the learn data"
   ],
   "id": "7bd49a065685749d"
  },
  {
   "metadata": {
    "ExecuteTime": {
     "end_time": "2025-03-21T12:36:17.705680Z",
     "start_time": "2025-03-21T12:36:17.699448Z"
    }
   },
   "cell_type": "code",
   "source": [
    "stacked = tf.stack([x, y], axis=1)\n",
    "stacked"
   ],
   "id": "2cf7aee4d4dd7c5c",
   "outputs": [
    {
     "data": {
      "text/plain": [
       "<tf.Tensor: shape=(8, 2), dtype=float32, numpy=\n",
       "array([[-7.,  3.],\n",
       "       [-4.,  6.],\n",
       "       [-1.,  9.],\n",
       "       [ 2., 12.],\n",
       "       [ 5., 15.],\n",
       "       [ 8., 18.],\n",
       "       [11., 21.],\n",
       "       [14., 24.]], dtype=float32)>"
      ]
     },
     "execution_count": 166,
     "metadata": {},
     "output_type": "execute_result"
    }
   ],
   "execution_count": 166
  },
  {
   "metadata": {
    "ExecuteTime": {
     "end_time": "2025-03-21T12:36:17.790449Z",
     "start_time": "2025-03-21T12:36:17.783694Z"
    }
   },
   "cell_type": "code",
   "source": [
    "shuffled = tf.random.shuffle(stacked)\n",
    "shuffled"
   ],
   "id": "4fe7b4b5a3c832ad",
   "outputs": [
    {
     "data": {
      "text/plain": [
       "<tf.Tensor: shape=(8, 2), dtype=float32, numpy=\n",
       "array([[14., 24.],\n",
       "       [-1.,  9.],\n",
       "       [-7.,  3.],\n",
       "       [ 5., 15.],\n",
       "       [ 2., 12.],\n",
       "       [-4.,  6.],\n",
       "       [ 8., 18.],\n",
       "       [11., 21.]], dtype=float32)>"
      ]
     },
     "execution_count": 167,
     "metadata": {},
     "output_type": "execute_result"
    }
   ],
   "execution_count": 167
  },
  {
   "metadata": {
    "ExecuteTime": {
     "end_time": "2025-03-21T12:36:17.957391Z",
     "start_time": "2025-03-21T12:36:17.944476Z"
    }
   },
   "cell_type": "code",
   "source": [
    "x, y = tf.unstack(shuffled, axis=1)\n",
    "x, y"
   ],
   "id": "19f47efb6ac616e3",
   "outputs": [
    {
     "data": {
      "text/plain": [
       "(<tf.Tensor: shape=(8,), dtype=float32, numpy=array([14., -1., -7.,  5.,  2., -4.,  8., 11.], dtype=float32)>,\n",
       " <tf.Tensor: shape=(8,), dtype=float32, numpy=array([24.,  9.,  3., 15., 12.,  6., 18., 21.], dtype=float32)>)"
      ]
     },
     "execution_count": 168,
     "metadata": {},
     "output_type": "execute_result"
    }
   ],
   "execution_count": 168
  },
  {
   "metadata": {
    "ExecuteTime": {
     "end_time": "2025-03-21T12:36:18.410361Z",
     "start_time": "2025-03-21T12:36:18.157305Z"
    }
   },
   "cell_type": "code",
   "source": "model.fit(x, y, epochs=5)",
   "id": "b1dc96cf19a6a669",
   "outputs": [
    {
     "name": "stdout",
     "output_type": "stream",
     "text": [
      "Epoch 1/5\n",
      "1/1 [==============================] - 0s 19ms/step - loss: 7.3350 - mae: 7.3350\n",
      "Epoch 2/5\n",
      "1/1 [==============================] - 0s 22ms/step - loss: 7.3294 - mae: 7.3294\n",
      "Epoch 3/5\n",
      "1/1 [==============================] - 0s 32ms/step - loss: 7.3237 - mae: 7.3237\n",
      "Epoch 4/5\n",
      "1/1 [==============================] - 0s 30ms/step - loss: 7.3181 - mae: 7.3181\n",
      "Epoch 5/5\n",
      "1/1 [==============================] - 0s 33ms/step - loss: 7.3125 - mae: 7.3125\n"
     ]
    },
    {
     "data": {
      "text/plain": [
       "<keras.src.callbacks.History at 0x30cd525b0>"
      ]
     },
     "execution_count": 169,
     "metadata": {},
     "output_type": "execute_result"
    }
   ],
   "execution_count": 169
  },
  {
   "metadata": {
    "ExecuteTime": {
     "end_time": "2025-03-21T12:36:18.625548Z",
     "start_time": "2025-03-21T12:36:18.439642Z"
    }
   },
   "cell_type": "code",
   "source": "concat_pred_and_print([17, 20, 23, 26, 29, 31, 34, 37], x, y, model)",
   "id": "8645fd2fbfbd546e",
   "outputs": [
    {
     "name": "stdout",
     "output_type": "stream",
     "text": [
      "1/1 [==============================] - 0s 16ms/step\n"
     ]
    },
    {
     "data": {
      "text/plain": [
       "<Figure size 640x480 with 1 Axes>"
      ],
      "image/png": "[encoded data removed]"
     },
     "metadata": {},
     "output_type": "display_data"
    }
   ],
   "execution_count": 170
  },
  {
   "metadata": {
    "ExecuteTime": {
     "end_time": "2025-03-21T12:39:47.770540Z",
     "start_time": "2025-03-21T12:39:45.631109Z"
    }
   },
   "cell_type": "code",
   "source": [
    "x = tf.constant([-7.0, -4.0, -1.0, 2.0, 5.0, 8.0, 11.0, 14.0], dtype=tf.float32) # 17, 20\n",
    "y = tf.constant([3.0, 6.0, 9.0, 12.0, 15.0, 18.0, 21.0, 24.0], dtype=tf.float32) # 27, 30\n",
    "\n",
    "# 1. create a model\n",
    "model = ks.Sequential()\n",
    "model.add(ks.layers.Input(shape=(1,)))\n",
    "model.add(ks.layers.Dense(100,  activation='relu'))\n",
    "model.add(ks.layers.Dense(100, activation='relu'))\n",
    "model.add(ks.layers.Dense(100, activation='relu'))\n",
    "model.add(ks.layers.Dense(1, activation='relu'))\n",
    "\n",
    "# 2. compile the model\n",
    "model.compile(loss=ks.losses.MAE,\n",
    "              optimizer=ks.optimizers.Adam(learning_rate=0.001),\n",
    "              metrics=['mae'])\n",
    "\n",
    "# 3. fit the model\n",
    "model.fit(x, y, epochs=40)"
   ],
   "id": "e98af34a6d4584f",
   "outputs": [
    {
     "name": "stdout",
     "output_type": "stream",
     "text": [
      "Epoch 1/40\n"
     ]
    },
    {
     "name": "stderr",
     "output_type": "stream",
     "text": [
      "2025-03-21 13:39:45.838963: I tensorflow/core/grappler/optimizers/custom_graph_optimizer_registry.cc:114] Plugin optimizer for device_type GPU is enabled.\n"
     ]
    },
    {
     "name": "stdout",
     "output_type": "stream",
     "text": [
      "1/1 [==============================] - 2s 2s/step - loss: 14.8606 - mae: 14.8606\n",
      "Epoch 2/40\n",
      "1/1 [==============================] - 0s 12ms/step - loss: 15.5330 - mae: 15.5330\n",
      "Epoch 3/40\n",
      "1/1 [==============================] - 0s 12ms/step - loss: 15.9283 - mae: 15.9283\n",
      "Epoch 4/40\n",
      "1/1 [==============================] - 0s 11ms/step - loss: 16.1290 - mae: 16.1290\n",
      "Epoch 5/40\n",
      "1/1 [==============================] - 0s 12ms/step - loss: 16.2054 - mae: 16.2054\n",
      "Epoch 6/40\n",
      "1/1 [==============================] - 0s 13ms/step - loss: 16.1931 - mae: 16.1931\n",
      "Epoch 7/40\n",
      "1/1 [==============================] - 0s 12ms/step - loss: 16.1163 - mae: 16.1163\n",
      "Epoch 8/40\n",
      "1/1 [==============================] - 0s 10ms/step - loss: 15.9880 - mae: 15.9880\n",
      "Epoch 9/40\n",
      "1/1 [==============================] - 0s 14ms/step - loss: 15.8187 - mae: 15.8187\n",
      "Epoch 10/40\n",
      "1/1 [==============================] - 0s 14ms/step - loss: 15.6151 - mae: 15.6151\n",
      "Epoch 11/40\n",
      "1/1 [==============================] - 0s 21ms/step - loss: 15.3831 - mae: 15.3831\n",
      "Epoch 12/40\n",
      "1/1 [==============================] - 0s 15ms/step - loss: 15.1271 - mae: 15.1271\n",
      "Epoch 13/40\n",
      "1/1 [==============================] - 0s 15ms/step - loss: 14.8499 - mae: 14.8499\n",
      "Epoch 14/40\n",
      "1/1 [==============================] - 0s 14ms/step - loss: 14.6240 - mae: 14.6240\n",
      "Epoch 15/40\n",
      "1/1 [==============================] - 0s 14ms/step - loss: 14.6276 - mae: 14.6276\n",
      "Epoch 16/40\n",
      "1/1 [==============================] - 0s 8ms/step - loss: 14.7469 - mae: 14.7469\n",
      "Epoch 17/40\n",
      "1/1 [==============================] - 0s 8ms/step - loss: 14.8823 - mae: 14.8823\n",
      "Epoch 18/40\n",
      "1/1 [==============================] - 0s 8ms/step - loss: 14.9762 - mae: 14.9762\n",
      "Epoch 19/40\n",
      "1/1 [==============================] - 0s 8ms/step - loss: 15.0319 - mae: 15.0319\n",
      "Epoch 20/40\n",
      "1/1 [==============================] - 0s 8ms/step - loss: 15.0533 - mae: 15.0533\n",
      "Epoch 21/40\n",
      "1/1 [==============================] - 0s 7ms/step - loss: 15.0431 - mae: 15.0431\n",
      "Epoch 22/40\n",
      "1/1 [==============================] - 0s 8ms/step - loss: 15.0014 - mae: 15.0014\n",
      "Epoch 23/40\n",
      "1/1 [==============================] - 0s 8ms/step - loss: 14.9308 - mae: 14.9308\n",
      "Epoch 24/40\n",
      "1/1 [==============================] - 0s 9ms/step - loss: 14.8327 - mae: 14.8327\n",
      "Epoch 25/40\n",
      "1/1 [==============================] - 0s 8ms/step - loss: 14.7096 - mae: 14.7096\n",
      "Epoch 26/40\n",
      "1/1 [==============================] - 0s 8ms/step - loss: 14.5647 - mae: 14.5647\n",
      "Epoch 27/40\n",
      "1/1 [==============================] - 0s 8ms/step - loss: 14.4450 - mae: 14.4450\n",
      "Epoch 28/40\n",
      "1/1 [==============================] - 0s 9ms/step - loss: 14.4624 - mae: 14.4624\n",
      "Epoch 29/40\n",
      "1/1 [==============================] - 0s 8ms/step - loss: 14.6263 - mae: 14.6263\n",
      "Epoch 30/40\n",
      "1/1 [==============================] - 0s 8ms/step - loss: 14.7786 - mae: 14.7786\n",
      "Epoch 31/40\n",
      "1/1 [==============================] - 0s 7ms/step - loss: 14.8938 - mae: 14.8938\n",
      "Epoch 32/40\n",
      "1/1 [==============================] - 0s 7ms/step - loss: 14.9671 - mae: 14.9671\n",
      "Epoch 33/40\n",
      "1/1 [==============================] - 0s 8ms/step - loss: 15.0020 - mae: 15.0020\n",
      "Epoch 34/40\n",
      "1/1 [==============================] - 0s 8ms/step - loss: 15.0000 - mae: 15.0000\n",
      "Epoch 35/40\n",
      "1/1 [==============================] - 0s 8ms/step - loss: 14.9654 - mae: 14.9654\n",
      "Epoch 36/40\n",
      "1/1 [==============================] - 0s 8ms/step - loss: 14.8980 - mae: 14.8980\n",
      "Epoch 37/40\n",
      "1/1 [==============================] - 0s 8ms/step - loss: 14.8002 - mae: 14.8002\n",
      "Epoch 38/40\n",
      "1/1 [==============================] - 0s 7ms/step - loss: 14.6747 - mae: 14.6747\n",
      "Epoch 39/40\n",
      "1/1 [==============================] - 0s 8ms/step - loss: 14.5377 - mae: 14.5377\n",
      "Epoch 40/40\n",
      "1/1 [==============================] - 0s 7ms/step - loss: 14.3912 - mae: 14.3912\n"
     ]
    },
    {
     "data": {
      "text/plain": [
       "<keras.src.callbacks.History at 0x311b3a580>"
      ]
     },
     "execution_count": 174,
     "metadata": {},
     "output_type": "execute_result"
    }
   ],
   "execution_count": 174
  },
  {
   "metadata": {},
   "cell_type": "markdown",
   "source": [
    "Optimizers\n",
    "- Stochastic Gradient Descent (SGD): Updates weights based on the gradient of the loss function.\n",
    "- Adam: Adaptive Moment Estimation, combines the advantages of RMSprop and momentum.\n",
    "- RMSprop: Divides the learning rate by the moving average of the root mean square of the gradients.\n",
    "- Adagrad: Adapts the learning rate to the parameters.\n",
    "- Adadelta: Extends Adagrad to reduce aggressive, monotonically decreasing learning rates.\n",
    "- Adamax: Generalization of Adam based on the infinity norm.\n",
    "- Nadam: Adam with Nesterov momentum.\n",
    "- FTRL: Follow the regularized leader optimizer."
   ],
   "id": "d54dd86dc3202743"
  },
  {
   "metadata": {
    "ExecuteTime": {
     "end_time": "2025-03-21T12:40:12.491791Z",
     "start_time": "2025-03-21T12:40:12.486097Z"
    }
   },
   "cell_type": "code",
   "source": [
    "x_test = tf.constant([17.0, 20.0, 23.0, 26.0, 29.0, 31.0, 34.0, 37.0], dtype=tf.float32, shape=(8,))\n",
    "y_test = tf.constant([27.0, 30.0, 33.0, 36.0, 39.0, 42.0, 45.0, 48.0], dtype=tf.float32)\n",
    "x_test, y_test"
   ],
   "id": "6f435b1fabae78ea",
   "outputs": [
    {
     "data": {
      "text/plain": [
       "(<tf.Tensor: shape=(8,), dtype=float32, numpy=array([17., 20., 23., 26., 29., 31., 34., 37.], dtype=float32)>,\n",
       " <tf.Tensor: shape=(8,), dtype=float32, numpy=array([27., 30., 33., 36., 39., 42., 45., 48.], dtype=float32)>)"
      ]
     },
     "execution_count": 176,
     "metadata": {},
     "output_type": "execute_result"
    }
   ],
   "execution_count": 176
  },
  {
   "metadata": {},
   "cell_type": "markdown",
   "source": [
    "## Video 48\n",
    "\n",
    "Visualize, Visualize, Visualize"
   ],
   "id": "a0c6e782175dff72"
  },
  {
   "metadata": {
    "ExecuteTime": {
     "end_time": "2025-03-21T12:40:24.237676Z",
     "start_time": "2025-03-21T12:40:24.229679Z"
    }
   },
   "cell_type": "code",
   "source": [
    "x1_generated = [-7.0 + i*3 for i in range(100)]\n",
    "y1_generated = [3.0 + i*3 for i in range(100)]\n",
    "stack = tf.stack([x1_generated, y1_generated], axis=1)\n",
    "stack"
   ],
   "id": "f733dcf513b632f4",
   "outputs": [
    {
     "data": {
      "text/plain": [
       "<tf.Tensor: shape=(100, 2), dtype=float32, numpy=\n",
       "array([[ -7.,   3.],\n",
       "       [ -4.,   6.],\n",
       "       [ -1.,   9.],\n",
       "       [  2.,  12.],\n",
       "       [  5.,  15.],\n",
       "       [  8.,  18.],\n",
       "       [ 11.,  21.],\n",
       "       [ 14.,  24.],\n",
       "       [ 17.,  27.],\n",
       "       [ 20.,  30.],\n",
       "       [ 23.,  33.],\n",
       "       [ 26.,  36.],\n",
       "       [ 29.,  39.],\n",
       "       [ 32.,  42.],\n",
       "       [ 35.,  45.],\n",
       "       [ 38.,  48.],\n",
       "       [ 41.,  51.],\n",
       "       [ 44.,  54.],\n",
       "       [ 47.,  57.],\n",
       "       [ 50.,  60.],\n",
       "       [ 53.,  63.],\n",
       "       [ 56.,  66.],\n",
       "       [ 59.,  69.],\n",
       "       [ 62.,  72.],\n",
       "       [ 65.,  75.],\n",
       "       [ 68.,  78.],\n",
       "       [ 71.,  81.],\n",
       "       [ 74.,  84.],\n",
       "       [ 77.,  87.],\n",
       "       [ 80.,  90.],\n",
       "       [ 83.,  93.],\n",
       "       [ 86.,  96.],\n",
       "       [ 89.,  99.],\n",
       "       [ 92., 102.],\n",
       "       [ 95., 105.],\n",
       "       [ 98., 108.],\n",
       "       [101., 111.],\n",
       "       [104., 114.],\n",
       "       [107., 117.],\n",
       "       [110., 120.],\n",
       "       [113., 123.],\n",
       "       [116., 126.],\n",
       "       [119., 129.],\n",
       "       [122., 132.],\n",
       "       [125., 135.],\n",
       "       [128., 138.],\n",
       "       [131., 141.],\n",
       "       [134., 144.],\n",
       "       [137., 147.],\n",
       "       [140., 150.],\n",
       "       [143., 153.],\n",
       "       [146., 156.],\n",
       "       [149., 159.],\n",
       "       [152., 162.],\n",
       "       [155., 165.],\n",
       "       [158., 168.],\n",
       "       [161., 171.],\n",
       "       [164., 174.],\n",
       "       [167., 177.],\n",
       "       [170., 180.],\n",
       "       [173., 183.],\n",
       "       [176., 186.],\n",
       "       [179., 189.],\n",
       "       [182., 192.],\n",
       "       [185., 195.],\n",
       "       [188., 198.],\n",
       "       [191., 201.],\n",
       "       [194., 204.],\n",
       "       [197., 207.],\n",
       "       [200., 210.],\n",
       "       [203., 213.],\n",
       "       [206., 216.],\n",
       "       [209., 219.],\n",
       "       [212., 222.],\n",
       "       [215., 225.],\n",
       "       [218., 228.],\n",
       "       [221., 231.],\n",
       "       [224., 234.],\n",
       "       [227., 237.],\n",
       "       [230., 240.],\n",
       "       [233., 243.],\n",
       "       [236., 246.],\n",
       "       [239., 249.],\n",
       "       [242., 252.],\n",
       "       [245., 255.],\n",
       "       [248., 258.],\n",
       "       [251., 261.],\n",
       "       [254., 264.],\n",
       "       [257., 267.],\n",
       "       [260., 270.],\n",
       "       [263., 273.],\n",
       "       [266., 276.],\n",
       "       [269., 279.],\n",
       "       [272., 282.],\n",
       "       [275., 285.],\n",
       "       [278., 288.],\n",
       "       [281., 291.],\n",
       "       [284., 294.],\n",
       "       [287., 297.],\n",
       "       [290., 300.]], dtype=float32)>"
      ]
     },
     "execution_count": 177,
     "metadata": {},
     "output_type": "execute_result"
    }
   ],
   "execution_count": 177
  },
  {
   "metadata": {
    "ExecuteTime": {
     "end_time": "2025-03-21T12:40:26.867824Z",
     "start_time": "2025-03-21T12:40:26.752925Z"
    }
   },
   "cell_type": "code",
   "source": [
    "x1, y1 = tf.unstack(stack, axis=1)\n",
    "\n",
    "model1 = ks.Sequential()\n",
    "model1.add(ks.layers.Input(shape=(1,)))\n",
    "model1.add(ks.layers.Dense(20, activation='relu'))\n",
    "model1.add(ks.layers.Dense(20, activation='relu'))\n",
    "model1.add(ks.layers.Dense(20, activation='relu'))\n",
    "model1.add(ks.layers.Dense(20, activation='relu'))\n",
    "model1.add(ks.layers.Dense(1))\n",
    "\n",
    "# 2. compile the model\n",
    "model1.compile(loss=ks.losses.MeanAbsoluteError,\n",
    "              optimizer=ks.optimizers.Adam(),\n",
    "              metrics=['mae'])\n",
    "\n",
    "# 3. fit the model\n",
    "model1.fit(x1, y1, epochs=100)"
   ],
   "id": "90aaa9434376d02",
   "outputs": [
    {
     "name": "stdout",
     "output_type": "stream",
     "text": [
      "Epoch 1/100\n"
     ]
    },
    {
     "ename": "TypeError",
     "evalue": "in user code:\n\n    File \"/Users/light/.venvs/default_ai_tools/lib/python3.8/site-packages/keras/src/engine/training.py\", line 1338, in train_function  *\n        return step_function(self, iterator)\n    File \"/Users/light/.venvs/default_ai_tools/lib/python3.8/site-packages/keras/src/engine/training.py\", line 1322, in step_function  **\n        outputs = model.distribute_strategy.run(run_step, args=(data,))\n    File \"/Users/light/.venvs/default_ai_tools/lib/python3.8/site-packages/keras/src/engine/training.py\", line 1303, in run_step  **\n        outputs = model.train_step(data)\n    File \"/Users/light/.venvs/default_ai_tools/lib/python3.8/site-packages/keras/src/engine/training.py\", line 1081, in train_step\n        loss = self.compute_loss(x, y, y_pred, sample_weight)\n    File \"/Users/light/.venvs/default_ai_tools/lib/python3.8/site-packages/keras/src/engine/training.py\", line 1139, in compute_loss\n        return self.compiled_loss(\n    File \"/Users/light/.venvs/default_ai_tools/lib/python3.8/site-packages/keras/src/engine/compile_utils.py\", line 265, in __call__\n        loss_value = loss_obj(y_t, y_p, sample_weight=sw)\n    File \"/Users/light/.venvs/default_ai_tools/lib/python3.8/site-packages/keras/src/losses.py\", line 142, in __call__\n        losses = call_fn(y_true, y_pred)\n    File \"/Users/light/.venvs/default_ai_tools/lib/python3.8/site-packages/keras/src/losses.py\", line 268, in call  **\n        return ag_fn(y_true, y_pred, **self._fn_kwargs)\n    File \"/Users/light/.venvs/default_ai_tools/lib/python3.8/site-packages/keras/src/losses.py\", line 419, in __init__  **\n        super().__init__(mean_absolute_error, name=name, reduction=reduction)\n    File \"/Users/light/.venvs/default_ai_tools/lib/python3.8/site-packages/keras/src/losses.py\", line 246, in __init__\n        super().__init__(reduction=reduction, name=name)\n    File \"/Users/light/.venvs/default_ai_tools/lib/python3.8/site-packages/keras/src/losses.py\", line 83, in __init__\n        losses_utils.ReductionV2.validate(reduction)\n    File \"/Users/light/.venvs/default_ai_tools/lib/python3.8/site-packages/keras/src/utils/losses_utils.py\", line 87, in validate\n        if key not in cls.all():\n\n    TypeError: Expected float32 passed to parameter 'y' of op 'Equal', got 'auto' of type 'str' instead. Error: Expected float32, but got auto of type 'str'.\n",
     "output_type": "error",
     "traceback": [
      "\u001B[0;31m---------------------------------------------------------------------------\u001B[0m",
      "\u001B[0;31mTypeError\u001B[0m                                 Traceback (most recent call last)",
      "Cell \u001B[0;32mIn[178], line 17\u001B[0m\n\u001B[1;32m     12\u001B[0m model1\u001B[38;5;241m.\u001B[39mcompile(loss\u001B[38;5;241m=\u001B[39mks\u001B[38;5;241m.\u001B[39mlosses\u001B[38;5;241m.\u001B[39mMeanAbsoluteError,\n\u001B[1;32m     13\u001B[0m               optimizer\u001B[38;5;241m=\u001B[39mks\u001B[38;5;241m.\u001B[39moptimizers\u001B[38;5;241m.\u001B[39mAdam(),\n\u001B[1;32m     14\u001B[0m               metrics\u001B[38;5;241m=\u001B[39m[\u001B[38;5;124m'\u001B[39m\u001B[38;5;124mmae\u001B[39m\u001B[38;5;124m'\u001B[39m])\n\u001B[1;32m     16\u001B[0m \u001B[38;5;66;03m# 3. fit the model\u001B[39;00m\n\u001B[0;32m---> 17\u001B[0m \u001B[43mmodel1\u001B[49m\u001B[38;5;241;43m.\u001B[39;49m\u001B[43mfit\u001B[49m\u001B[43m(\u001B[49m\u001B[43mx1\u001B[49m\u001B[43m,\u001B[49m\u001B[43m \u001B[49m\u001B[43my1\u001B[49m\u001B[43m,\u001B[49m\u001B[43m \u001B[49m\u001B[43mepochs\u001B[49m\u001B[38;5;241;43m=\u001B[39;49m\u001B[38;5;241;43m100\u001B[39;49m\u001B[43m)\u001B[49m\n",
      "File \u001B[0;32m~/.venvs/default_ai_tools/lib/python3.8/site-packages/keras/src/utils/traceback_utils.py:70\u001B[0m, in \u001B[0;36mfilter_traceback.<locals>.error_handler\u001B[0;34m(*args, **kwargs)\u001B[0m\n\u001B[1;32m     67\u001B[0m     filtered_tb \u001B[38;5;241m=\u001B[39m _process_traceback_frames(e\u001B[38;5;241m.\u001B[39m__traceback__)\n\u001B[1;32m     68\u001B[0m     \u001B[38;5;66;03m# To get the full stack trace, call:\u001B[39;00m\n\u001B[1;32m     69\u001B[0m     \u001B[38;5;66;03m# `tf.debugging.disable_traceback_filtering()`\u001B[39;00m\n\u001B[0;32m---> 70\u001B[0m     \u001B[38;5;28;01mraise\u001B[39;00m e\u001B[38;5;241m.\u001B[39mwith_traceback(filtered_tb) \u001B[38;5;28;01mfrom\u001B[39;00m\u001B[38;5;250m \u001B[39m\u001B[38;5;28;01mNone\u001B[39;00m\n\u001B[1;32m     71\u001B[0m \u001B[38;5;28;01mfinally\u001B[39;00m:\n\u001B[1;32m     72\u001B[0m     \u001B[38;5;28;01mdel\u001B[39;00m filtered_tb\n",
      "File \u001B[0;32m/var/folders/ts/1s_j7lh959b7bwmjd6j26b480000gn/T/__autograph_generated_filef7z5crvk.py:15\u001B[0m, in \u001B[0;36mouter_factory.<locals>.inner_factory.<locals>.tf__train_function\u001B[0;34m(iterator)\u001B[0m\n\u001B[1;32m     13\u001B[0m \u001B[38;5;28;01mtry\u001B[39;00m:\n\u001B[1;32m     14\u001B[0m     do_return \u001B[38;5;241m=\u001B[39m \u001B[38;5;28;01mTrue\u001B[39;00m\n\u001B[0;32m---> 15\u001B[0m     retval_ \u001B[38;5;241m=\u001B[39m ag__\u001B[38;5;241m.\u001B[39mconverted_call(ag__\u001B[38;5;241m.\u001B[39mld(step_function), (ag__\u001B[38;5;241m.\u001B[39mld(\u001B[38;5;28mself\u001B[39m), ag__\u001B[38;5;241m.\u001B[39mld(iterator)), \u001B[38;5;28;01mNone\u001B[39;00m, fscope)\n\u001B[1;32m     16\u001B[0m \u001B[38;5;28;01mexcept\u001B[39;00m:\n\u001B[1;32m     17\u001B[0m     do_return \u001B[38;5;241m=\u001B[39m \u001B[38;5;28;01mFalse\u001B[39;00m\n",
      "\u001B[0;31mTypeError\u001B[0m: in user code:\n\n    File \"/Users/light/.venvs/default_ai_tools/lib/python3.8/site-packages/keras/src/engine/training.py\", line 1338, in train_function  *\n        return step_function(self, iterator)\n    File \"/Users/light/.venvs/default_ai_tools/lib/python3.8/site-packages/keras/src/engine/training.py\", line 1322, in step_function  **\n        outputs = model.distribute_strategy.run(run_step, args=(data,))\n    File \"/Users/light/.venvs/default_ai_tools/lib/python3.8/site-packages/keras/src/engine/training.py\", line 1303, in run_step  **\n        outputs = model.train_step(data)\n    File \"/Users/light/.venvs/default_ai_tools/lib/python3.8/site-packages/keras/src/engine/training.py\", line 1081, in train_step\n        loss = self.compute_loss(x, y, y_pred, sample_weight)\n    File \"/Users/light/.venvs/default_ai_tools/lib/python3.8/site-packages/keras/src/engine/training.py\", line 1139, in compute_loss\n        return self.compiled_loss(\n    File \"/Users/light/.venvs/default_ai_tools/lib/python3.8/site-packages/keras/src/engine/compile_utils.py\", line 265, in __call__\n        loss_value = loss_obj(y_t, y_p, sample_weight=sw)\n    File \"/Users/light/.venvs/default_ai_tools/lib/python3.8/site-packages/keras/src/losses.py\", line 142, in __call__\n        losses = call_fn(y_true, y_pred)\n    File \"/Users/light/.venvs/default_ai_tools/lib/python3.8/site-packages/keras/src/losses.py\", line 268, in call  **\n        return ag_fn(y_true, y_pred, **self._fn_kwargs)\n    File \"/Users/light/.venvs/default_ai_tools/lib/python3.8/site-packages/keras/src/losses.py\", line 419, in __init__  **\n        super().__init__(mean_absolute_error, name=name, reduction=reduction)\n    File \"/Users/light/.venvs/default_ai_tools/lib/python3.8/site-packages/keras/src/losses.py\", line 246, in __init__\n        super().__init__(reduction=reduction, name=name)\n    File \"/Users/light/.venvs/default_ai_tools/lib/python3.8/site-packages/keras/src/losses.py\", line 83, in __init__\n        losses_utils.ReductionV2.validate(reduction)\n    File \"/Users/light/.venvs/default_ai_tools/lib/python3.8/site-packages/keras/src/utils/losses_utils.py\", line 87, in validate\n        if key not in cls.all():\n\n    TypeError: Expected float32 passed to parameter 'y' of op 'Equal', got 'auto' of type 'str' instead. Error: Expected float32, but got auto of type 'str'.\n"
     ]
    }
   ],
   "execution_count": 178
  },
  {
   "metadata": {
    "ExecuteTime": {
     "end_time": "2025-03-21T12:36:18.881597Z",
     "start_time": "2025-02-11T13:37:59.077320Z"
    }
   },
   "cell_type": "code",
   "source": [
    "a = np.arange(0, 9, 0.3)\n",
    "model1.predict(a)"
   ],
   "id": "dae57573099520c3",
   "outputs": [
    {
     "name": "stdout",
     "output_type": "stream",
     "text": [
      "\u001B[1m1/1\u001B[0m \u001B[32m━━━━━━━━━━━━━━━━━━━━\u001B[0m\u001B[37m\u001B[0m \u001B[1m0s\u001B[0m 34ms/step\n"
     ]
    },
    {
     "data": {
      "text/plain": [
       "array([[ 4.935876 ],\n",
       "       [ 4.862304 ],\n",
       "       [ 5.103164 ],\n",
       "       [ 5.437225 ],\n",
       "       [ 5.766395 ],\n",
       "       [ 6.0891747],\n",
       "       [ 6.408353 ],\n",
       "       [ 6.727531 ],\n",
       "       [ 7.0467095],\n",
       "       [ 7.365888 ],\n",
       "       [ 7.6850657],\n",
       "       [ 8.004244 ],\n",
       "       [ 8.323422 ],\n",
       "       [ 8.6426   ],\n",
       "       [ 8.961778 ],\n",
       "       [ 9.280957 ],\n",
       "       [ 9.600135 ],\n",
       "       [ 9.9193125],\n",
       "       [10.238492 ],\n",
       "       [10.55767  ],\n",
       "       [10.876847 ],\n",
       "       [11.196027 ],\n",
       "       [11.515204 ],\n",
       "       [11.834384 ],\n",
       "       [12.153562 ],\n",
       "       [12.472739 ],\n",
       "       [12.791917 ],\n",
       "       [13.111096 ],\n",
       "       [13.430275 ],\n",
       "       [13.748878 ]], dtype=float32)"
      ]
     },
     "execution_count": 42,
     "metadata": {},
     "output_type": "execute_result"
    }
   ],
   "execution_count": 42
  },
  {
   "metadata": {
    "ExecuteTime": {
     "end_time": "2025-03-21T12:36:18.885762Z",
     "start_time": "2025-02-11T13:37:59.168083Z"
    }
   },
   "cell_type": "code",
   "source": [
    "a = np.arange(0, 30, 3)\n",
    "a_test = np.arange(30, 60, 3)\n",
    "b = np.arange(-7, 23, 3)\n",
    "b_test = np.arange(23, 51, 3)\n",
    "a, b, a_test, b_test"
   ],
   "id": "99a5c692abf5019f",
   "outputs": [
    {
     "data": {
      "text/plain": [
       "(array([ 0,  3,  6,  9, 12, 15, 18, 21, 24, 27]),\n",
       " array([-7, -4, -1,  2,  5,  8, 11, 14, 17, 20]),\n",
       " array([30, 33, 36, 39, 42, 45, 48, 51, 54, 57]),\n",
       " array([23, 26, 29, 32, 35, 38, 41, 44, 47, 50]))"
      ]
     },
     "execution_count": 43,
     "metadata": {},
     "output_type": "execute_result"
    }
   ],
   "execution_count": 43
  },
  {
   "metadata": {
    "ExecuteTime": {
     "end_time": "2025-03-21T12:36:18.886638Z",
     "start_time": "2025-02-11T13:37:59.206726Z"
    }
   },
   "cell_type": "code",
   "source": [
    "plt.scatter(a, b, c='blue')\n",
    "plt.scatter(a_test, b_test, c='green')"
   ],
   "id": "367a9a8aef561009",
   "outputs": [
    {
     "data": {
      "text/plain": [
       "<matplotlib.collections.PathCollection at 0x125cadcd0>"
      ]
     },
     "execution_count": 44,
     "metadata": {},
     "output_type": "execute_result"
    },
    {
     "data": {
      "text/plain": [
       "<Figure size 640x480 with 1 Axes>"
      ],
      "image/png": "[encoded data removed]"
     },
     "metadata": {},
     "output_type": "display_data"
    }
   ],
   "execution_count": 44
  },
  {
   "metadata": {
    "ExecuteTime": {
     "end_time": "2025-03-21T12:36:18.886789Z",
     "start_time": "2025-02-11T13:37:59.274184Z"
    }
   },
   "cell_type": "code",
   "source": [
    "model2 = ks.Sequential()\n",
    "model2.add(ks.layers.Input(shape=(1,)))\n",
    "model2.add(ks.layers.Dense(20, activation='relu'))\n",
    "model2.add(ks.layers.Dense(20, activation='relu'))\n",
    "model2.add(ks.layers.Dense(20, activation='relu'))\n",
    "model2.add(ks.layers.Dense(1))\n",
    "\n",
    "# 2. compile the model\n",
    "model2.compile(loss=ks.losses.MeanAbsoluteError,\n",
    "              optimizer=ks.optimizers.Adam(),\n",
    "              metrics=['mae'])\n",
    "\n",
    "# 3. fit the model\n",
    "model2.fit(a, b, epochs=100)\n",
    "\n",
    "b_predict = model2.predict(a_test)\n",
    "b_predict"
   ],
   "id": "dcee540815c269be",
   "outputs": [
    {
     "name": "stdout",
     "output_type": "stream",
     "text": [
      "Epoch 1/100\n",
      "\u001B[1m1/1\u001B[0m \u001B[32m━━━━━━━━━━━━━━━━━━━━\u001B[0m\u001B[37m\u001B[0m \u001B[1m0s\u001B[0m 446ms/step - loss: 8.9257 - mae: 8.9257\n",
      "Epoch 2/100\n",
      "\u001B[1m1/1\u001B[0m \u001B[32m━━━━━━━━━━━━━━━━━━━━\u001B[0m\u001B[37m\u001B[0m \u001B[1m0s\u001B[0m 16ms/step - loss: 8.8539 - mae: 8.8539\n",
      "Epoch 3/100\n",
      "\u001B[1m1/1\u001B[0m \u001B[32m━━━━━━━━━━━━━━━━━━━━\u001B[0m\u001B[37m\u001B[0m \u001B[1m0s\u001B[0m 15ms/step - loss: 8.7822 - mae: 8.7822\n",
      "Epoch 4/100\n",
      "\u001B[1m1/1\u001B[0m \u001B[32m━━━━━━━━━━━━━━━━━━━━\u001B[0m\u001B[37m\u001B[0m \u001B[1m0s\u001B[0m 15ms/step - loss: 8.7106 - mae: 8.7106\n",
      "Epoch 5/100\n",
      "\u001B[1m1/1\u001B[0m \u001B[32m━━━━━━━━━━━━━━━━━━━━\u001B[0m\u001B[37m\u001B[0m \u001B[1m0s\u001B[0m 15ms/step - loss: 8.6402 - mae: 8.6402\n",
      "Epoch 6/100\n",
      "\u001B[1m1/1\u001B[0m \u001B[32m━━━━━━━━━━━━━━━━━━━━\u001B[0m\u001B[37m\u001B[0m \u001B[1m0s\u001B[0m 15ms/step - loss: 8.5783 - mae: 8.5783\n",
      "Epoch 7/100\n",
      "\u001B[1m1/1\u001B[0m \u001B[32m━━━━━━━━━━━━━━━━━━━━\u001B[0m\u001B[37m\u001B[0m \u001B[1m0s\u001B[0m 15ms/step - loss: 8.5157 - mae: 8.5157\n",
      "Epoch 8/100\n",
      "\u001B[1m1/1\u001B[0m \u001B[32m━━━━━━━━━━━━━━━━━━━━\u001B[0m\u001B[37m\u001B[0m \u001B[1m0s\u001B[0m 16ms/step - loss: 8.4569 - mae: 8.4569\n",
      "Epoch 9/100\n",
      "\u001B[1m1/1\u001B[0m \u001B[32m━━━━━━━━━━━━━━━━━━━━\u001B[0m\u001B[37m\u001B[0m \u001B[1m0s\u001B[0m 15ms/step - loss: 8.3981 - mae: 8.3981\n",
      "Epoch 10/100\n",
      "\u001B[1m1/1\u001B[0m \u001B[32m━━━━━━━━━━━━━━━━━━━━\u001B[0m\u001B[37m\u001B[0m \u001B[1m0s\u001B[0m 15ms/step - loss: 8.3383 - mae: 8.3383\n",
      "Epoch 11/100\n",
      "\u001B[1m1/1\u001B[0m \u001B[32m━━━━━━━━━━━━━━━━━━━━\u001B[0m\u001B[37m\u001B[0m \u001B[1m0s\u001B[0m 15ms/step - loss: 8.2774 - mae: 8.2774\n",
      "Epoch 12/100\n",
      "\u001B[1m1/1\u001B[0m \u001B[32m━━━━━━━━━━━━━━━━━━━━\u001B[0m\u001B[37m\u001B[0m \u001B[1m0s\u001B[0m 15ms/step - loss: 8.2154 - mae: 8.2154\n",
      "Epoch 13/100\n",
      "\u001B[1m1/1\u001B[0m \u001B[32m━━━━━━━━━━━━━━━━━━━━\u001B[0m\u001B[37m\u001B[0m \u001B[1m0s\u001B[0m 15ms/step - loss: 8.1523 - mae: 8.1523\n",
      "Epoch 14/100\n",
      "\u001B[1m1/1\u001B[0m \u001B[32m━━━━━━━━━━━━━━━━━━━━\u001B[0m\u001B[37m\u001B[0m \u001B[1m0s\u001B[0m 15ms/step - loss: 8.0880 - mae: 8.0880\n",
      "Epoch 15/100\n",
      "\u001B[1m1/1\u001B[0m \u001B[32m━━━━━━━━━━━━━━━━━━━━\u001B[0m\u001B[37m\u001B[0m \u001B[1m0s\u001B[0m 17ms/step - loss: 8.0226 - mae: 8.0226\n",
      "Epoch 16/100\n",
      "\u001B[1m1/1\u001B[0m \u001B[32m━━━━━━━━━━━━━━━━━━━━\u001B[0m\u001B[37m\u001B[0m \u001B[1m0s\u001B[0m 15ms/step - loss: 7.9558 - mae: 7.9558\n",
      "Epoch 17/100\n",
      "\u001B[1m1/1\u001B[0m \u001B[32m━━━━━━━━━━━━━━━━━━━━\u001B[0m\u001B[37m\u001B[0m \u001B[1m0s\u001B[0m 16ms/step - loss: 7.8878 - mae: 7.8878\n",
      "Epoch 18/100\n",
      "\u001B[1m1/1\u001B[0m \u001B[32m━━━━━━━━━━━━━━━━━━━━\u001B[0m\u001B[37m\u001B[0m \u001B[1m0s\u001B[0m 15ms/step - loss: 7.8184 - mae: 7.8184\n",
      "Epoch 19/100\n",
      "\u001B[1m1/1\u001B[0m \u001B[32m━━━━━━━━━━━━━━━━━━━━\u001B[0m\u001B[37m\u001B[0m \u001B[1m0s\u001B[0m 16ms/step - loss: 7.7475 - mae: 7.7475\n",
      "Epoch 20/100\n",
      "\u001B[1m1/1\u001B[0m \u001B[32m━━━━━━━━━━━━━━━━━━━━\u001B[0m\u001B[37m\u001B[0m \u001B[1m0s\u001B[0m 16ms/step - loss: 7.6752 - mae: 7.6752\n",
      "Epoch 21/100\n",
      "\u001B[1m1/1\u001B[0m \u001B[32m━━━━━━━━━━━━━━━━━━━━\u001B[0m\u001B[37m\u001B[0m \u001B[1m0s\u001B[0m 15ms/step - loss: 7.6013 - mae: 7.6013\n",
      "Epoch 22/100\n",
      "\u001B[1m1/1\u001B[0m \u001B[32m━━━━━━━━━━━━━━━━━━━━\u001B[0m\u001B[37m\u001B[0m \u001B[1m0s\u001B[0m 16ms/step - loss: 7.5257 - mae: 7.5257\n",
      "Epoch 23/100\n",
      "\u001B[1m1/1\u001B[0m \u001B[32m━━━━━━━━━━━━━━━━━━━━\u001B[0m\u001B[37m\u001B[0m \u001B[1m0s\u001B[0m 16ms/step - loss: 7.4484 - mae: 7.4484\n",
      "Epoch 24/100\n",
      "\u001B[1m1/1\u001B[0m \u001B[32m━━━━━━━━━━━━━━━━━━━━\u001B[0m\u001B[37m\u001B[0m \u001B[1m0s\u001B[0m 16ms/step - loss: 7.3693 - mae: 7.3693\n",
      "Epoch 25/100\n",
      "\u001B[1m1/1\u001B[0m \u001B[32m━━━━━━━━━━━━━━━━━━━━\u001B[0m\u001B[37m\u001B[0m \u001B[1m0s\u001B[0m 15ms/step - loss: 7.2884 - mae: 7.2884\n",
      "Epoch 26/100\n",
      "\u001B[1m1/1\u001B[0m \u001B[32m━━━━━━━━━━━━━━━━━━━━\u001B[0m\u001B[37m\u001B[0m \u001B[1m0s\u001B[0m 16ms/step - loss: 7.2054 - mae: 7.2054\n",
      "Epoch 27/100\n",
      "\u001B[1m1/1\u001B[0m \u001B[32m━━━━━━━━━━━━━━━━━━━━\u001B[0m\u001B[37m\u001B[0m \u001B[1m0s\u001B[0m 16ms/step - loss: 7.1204 - mae: 7.1204\n",
      "Epoch 28/100\n",
      "\u001B[1m1/1\u001B[0m \u001B[32m━━━━━━━━━━━━━━━━━━━━\u001B[0m\u001B[37m\u001B[0m \u001B[1m0s\u001B[0m 16ms/step - loss: 7.0330 - mae: 7.0330\n",
      "Epoch 29/100\n",
      "\u001B[1m1/1\u001B[0m \u001B[32m━━━━━━━━━━━━━━━━━━━━\u001B[0m\u001B[37m\u001B[0m \u001B[1m0s\u001B[0m 17ms/step - loss: 6.9434 - mae: 6.9434\n",
      "Epoch 30/100\n",
      "\u001B[1m1/1\u001B[0m \u001B[32m━━━━━━━━━━━━━━━━━━━━\u001B[0m\u001B[37m\u001B[0m \u001B[1m0s\u001B[0m 17ms/step - loss: 6.8512 - mae: 6.8512\n",
      "Epoch 31/100\n",
      "\u001B[1m1/1\u001B[0m \u001B[32m━━━━━━━━━━━━━━━━━━━━\u001B[0m\u001B[37m\u001B[0m \u001B[1m0s\u001B[0m 17ms/step - loss: 6.7568 - mae: 6.7568\n",
      "Epoch 32/100\n",
      "\u001B[1m1/1\u001B[0m \u001B[32m━━━━━━━━━━━━━━━━━━━━\u001B[0m\u001B[37m\u001B[0m \u001B[1m0s\u001B[0m 16ms/step - loss: 6.6626 - mae: 6.6626\n",
      "Epoch 33/100\n",
      "\u001B[1m1/1\u001B[0m \u001B[32m━━━━━━━━━━━━━━━━━━━━\u001B[0m\u001B[37m\u001B[0m \u001B[1m0s\u001B[0m 16ms/step - loss: 6.5676 - mae: 6.5676\n",
      "Epoch 34/100\n",
      "\u001B[1m1/1\u001B[0m \u001B[32m━━━━━━━━━━━━━━━━━━━━\u001B[0m\u001B[37m\u001B[0m \u001B[1m0s\u001B[0m 16ms/step - loss: 6.4698 - mae: 6.4698\n",
      "Epoch 35/100\n",
      "\u001B[1m1/1\u001B[0m \u001B[32m━━━━━━━━━━━━━━━━━━━━\u001B[0m\u001B[37m\u001B[0m \u001B[1m0s\u001B[0m 16ms/step - loss: 6.3824 - mae: 6.3824\n",
      "Epoch 36/100\n",
      "\u001B[1m1/1\u001B[0m \u001B[32m━━━━━━━━━━━━━━━━━━━━\u001B[0m\u001B[37m\u001B[0m \u001B[1m0s\u001B[0m 16ms/step - loss: 6.2960 - mae: 6.2960\n",
      "Epoch 37/100\n",
      "\u001B[1m1/1\u001B[0m \u001B[32m━━━━━━━━━━━━━━━━━━━━\u001B[0m\u001B[37m\u001B[0m \u001B[1m0s\u001B[0m 16ms/step - loss: 6.2082 - mae: 6.2082\n",
      "Epoch 38/100\n",
      "\u001B[1m1/1\u001B[0m \u001B[32m━━━━━━━━━━━━━━━━━━━━\u001B[0m\u001B[37m\u001B[0m \u001B[1m0s\u001B[0m 17ms/step - loss: 6.1215 - mae: 6.1215\n",
      "Epoch 39/100\n",
      "\u001B[1m1/1\u001B[0m \u001B[32m━━━━━━━━━━━━━━━━━━━━\u001B[0m\u001B[37m\u001B[0m \u001B[1m0s\u001B[0m 17ms/step - loss: 6.0340 - mae: 6.0340\n",
      "Epoch 40/100\n",
      "\u001B[1m1/1\u001B[0m \u001B[32m━━━━━━━━━━━━━━━━━━━━\u001B[0m\u001B[37m\u001B[0m \u001B[1m0s\u001B[0m 16ms/step - loss: 5.9444 - mae: 5.9444\n",
      "Epoch 41/100\n",
      "\u001B[1m1/1\u001B[0m \u001B[32m━━━━━━━━━━━━━━━━━━━━\u001B[0m\u001B[37m\u001B[0m \u001B[1m0s\u001B[0m 15ms/step - loss: 5.8535 - mae: 5.8535\n",
      "Epoch 42/100\n",
      "\u001B[1m1/1\u001B[0m \u001B[32m━━━━━━━━━━━━━━━━━━━━\u001B[0m\u001B[37m\u001B[0m \u001B[1m0s\u001B[0m 15ms/step - loss: 5.7601 - mae: 5.7601\n",
      "Epoch 43/100\n",
      "\u001B[1m1/1\u001B[0m \u001B[32m━━━━━━━━━━━━━━━━━━━━\u001B[0m\u001B[37m\u001B[0m \u001B[1m0s\u001B[0m 15ms/step - loss: 5.6639 - mae: 5.6639\n",
      "Epoch 44/100\n",
      "\u001B[1m1/1\u001B[0m \u001B[32m━━━━━━━━━━━━━━━━━━━━\u001B[0m\u001B[37m\u001B[0m \u001B[1m0s\u001B[0m 16ms/step - loss: 5.5650 - mae: 5.5650\n",
      "Epoch 45/100\n",
      "\u001B[1m1/1\u001B[0m \u001B[32m━━━━━━━━━━━━━━━━━━━━\u001B[0m\u001B[37m\u001B[0m \u001B[1m0s\u001B[0m 18ms/step - loss: 5.4633 - mae: 5.4633\n",
      "Epoch 46/100\n",
      "\u001B[1m1/1\u001B[0m \u001B[32m━━━━━━━━━━━━━━━━━━━━\u001B[0m\u001B[37m\u001B[0m \u001B[1m0s\u001B[0m 16ms/step - loss: 5.3586 - mae: 5.3586\n",
      "Epoch 47/100\n",
      "\u001B[1m1/1\u001B[0m \u001B[32m━━━━━━━━━━━━━━━━━━━━\u001B[0m\u001B[37m\u001B[0m \u001B[1m0s\u001B[0m 15ms/step - loss: 5.2508 - mae: 5.2508\n",
      "Epoch 48/100\n",
      "\u001B[1m1/1\u001B[0m \u001B[32m━━━━━━━━━━━━━━━━━━━━\u001B[0m\u001B[37m\u001B[0m \u001B[1m0s\u001B[0m 17ms/step - loss: 5.1398 - mae: 5.1398\n",
      "Epoch 49/100\n",
      "\u001B[1m1/1\u001B[0m \u001B[32m━━━━━━━━━━━━━━━━━━━━\u001B[0m\u001B[37m\u001B[0m \u001B[1m0s\u001B[0m 16ms/step - loss: 5.0257 - mae: 5.0257\n",
      "Epoch 50/100\n",
      "\u001B[1m1/1\u001B[0m \u001B[32m━━━━━━━━━━━━━━━━━━━━\u001B[0m\u001B[37m\u001B[0m \u001B[1m0s\u001B[0m 16ms/step - loss: 4.9081 - mae: 4.9081\n",
      "Epoch 51/100\n",
      "\u001B[1m1/1\u001B[0m \u001B[32m━━━━━━━━━━━━━━━━━━━━\u001B[0m\u001B[37m\u001B[0m \u001B[1m0s\u001B[0m 16ms/step - loss: 4.7871 - mae: 4.7871\n",
      "Epoch 52/100\n",
      "\u001B[1m1/1\u001B[0m \u001B[32m━━━━━━━━━━━━━━━━━━━━\u001B[0m\u001B[37m\u001B[0m \u001B[1m0s\u001B[0m 33ms/step - loss: 4.6625 - mae: 4.6625\n",
      "Epoch 53/100\n",
      "\u001B[1m1/1\u001B[0m \u001B[32m━━━━━━━━━━━━━━━━━━━━\u001B[0m\u001B[37m\u001B[0m \u001B[1m0s\u001B[0m 16ms/step - loss: 4.5379 - mae: 4.5379\n",
      "Epoch 54/100\n",
      "\u001B[1m1/1\u001B[0m \u001B[32m━━━━━━━━━━━━━━━━━━━━\u001B[0m\u001B[37m\u001B[0m \u001B[1m0s\u001B[0m 16ms/step - loss: 4.4409 - mae: 4.4409\n",
      "Epoch 55/100\n",
      "\u001B[1m1/1\u001B[0m \u001B[32m━━━━━━━━━━━━━━━━━━━━\u001B[0m\u001B[37m\u001B[0m \u001B[1m0s\u001B[0m 15ms/step - loss: 4.3426 - mae: 4.3426\n",
      "Epoch 56/100\n",
      "\u001B[1m1/1\u001B[0m \u001B[32m━━━━━━━━━━━━━━━━━━━━\u001B[0m\u001B[37m\u001B[0m \u001B[1m0s\u001B[0m 15ms/step - loss: 4.2436 - mae: 4.2436\n",
      "Epoch 57/100\n",
      "\u001B[1m1/1\u001B[0m \u001B[32m━━━━━━━━━━━━━━━━━━━━\u001B[0m\u001B[37m\u001B[0m \u001B[1m0s\u001B[0m 15ms/step - loss: 4.1427 - mae: 4.1427\n",
      "Epoch 58/100\n",
      "\u001B[1m1/1\u001B[0m \u001B[32m━━━━━━━━━━━━━━━━━━━━\u001B[0m\u001B[37m\u001B[0m \u001B[1m0s\u001B[0m 16ms/step - loss: 4.0396 - mae: 4.0396\n",
      "Epoch 59/100\n",
      "\u001B[1m1/1\u001B[0m \u001B[32m━━━━━━━━━━━━━━━━━━━━\u001B[0m\u001B[37m\u001B[0m \u001B[1m0s\u001B[0m 16ms/step - loss: 3.9350 - mae: 3.9350\n",
      "Epoch 60/100\n",
      "\u001B[1m1/1\u001B[0m \u001B[32m━━━━━━━━━━━━━━━━━━━━\u001B[0m\u001B[37m\u001B[0m \u001B[1m0s\u001B[0m 16ms/step - loss: 3.8286 - mae: 3.8286\n",
      "Epoch 61/100\n",
      "\u001B[1m1/1\u001B[0m \u001B[32m━━━━━━━━━━━━━━━━━━━━\u001B[0m\u001B[37m\u001B[0m \u001B[1m0s\u001B[0m 16ms/step - loss: 3.7198 - mae: 3.7198\n",
      "Epoch 62/100\n",
      "\u001B[1m1/1\u001B[0m \u001B[32m━━━━━━━━━━━━━━━━━━━━\u001B[0m\u001B[37m\u001B[0m \u001B[1m0s\u001B[0m 16ms/step - loss: 3.6313 - mae: 3.6313\n",
      "Epoch 63/100\n",
      "\u001B[1m1/1\u001B[0m \u001B[32m━━━━━━━━━━━━━━━━━━━━\u001B[0m\u001B[37m\u001B[0m \u001B[1m0s\u001B[0m 16ms/step - loss: 3.5661 - mae: 3.5661\n",
      "Epoch 64/100\n",
      "\u001B[1m1/1\u001B[0m \u001B[32m━━━━━━━━━━━━━━━━━━━━\u001B[0m\u001B[37m\u001B[0m \u001B[1m0s\u001B[0m 16ms/step - loss: 3.5010 - mae: 3.5010\n",
      "Epoch 65/100\n",
      "\u001B[1m1/1\u001B[0m \u001B[32m━━━━━━━━━━━━━━━━━━━━\u001B[0m\u001B[37m\u001B[0m \u001B[1m0s\u001B[0m 16ms/step - loss: 3.4365 - mae: 3.4365\n",
      "Epoch 66/100\n",
      "\u001B[1m1/1\u001B[0m \u001B[32m━━━━━━━━━━━━━━━━━━━━\u001B[0m\u001B[37m\u001B[0m \u001B[1m0s\u001B[0m 15ms/step - loss: 3.3726 - mae: 3.3726\n",
      "Epoch 67/100\n",
      "\u001B[1m1/1\u001B[0m \u001B[32m━━━━━━━━━━━━━━━━━━━━\u001B[0m\u001B[37m\u001B[0m \u001B[1m0s\u001B[0m 16ms/step - loss: 3.3080 - mae: 3.3080\n",
      "Epoch 68/100\n",
      "\u001B[1m1/1\u001B[0m \u001B[32m━━━━━━━━━━━━━━━━━━━━\u001B[0m\u001B[37m\u001B[0m \u001B[1m0s\u001B[0m 16ms/step - loss: 3.2892 - mae: 3.2892\n",
      "Epoch 69/100\n",
      "\u001B[1m1/1\u001B[0m \u001B[32m━━━━━━━━━━━━━━━━━━━━\u001B[0m\u001B[37m\u001B[0m \u001B[1m0s\u001B[0m 16ms/step - loss: 3.2762 - mae: 3.2762\n",
      "Epoch 70/100\n",
      "\u001B[1m1/1\u001B[0m \u001B[32m━━━━━━━━━━━━━━━━━━━━\u001B[0m\u001B[37m\u001B[0m \u001B[1m0s\u001B[0m 15ms/step - loss: 3.2632 - mae: 3.2632\n",
      "Epoch 71/100\n",
      "\u001B[1m1/1\u001B[0m \u001B[32m━━━━━━━━━━━━━━━━━━━━\u001B[0m\u001B[37m\u001B[0m \u001B[1m0s\u001B[0m 16ms/step - loss: 3.2507 - mae: 3.2507\n",
      "Epoch 72/100\n",
      "\u001B[1m1/1\u001B[0m \u001B[32m━━━━━━━━━━━━━━━━━━━━\u001B[0m\u001B[37m\u001B[0m \u001B[1m0s\u001B[0m 15ms/step - loss: 3.2500 - mae: 3.2500\n",
      "Epoch 73/100\n",
      "\u001B[1m1/1\u001B[0m \u001B[32m━━━━━━━━━━━━━━━━━━━━\u001B[0m\u001B[37m\u001B[0m \u001B[1m0s\u001B[0m 15ms/step - loss: 3.2750 - mae: 3.2750\n",
      "Epoch 74/100\n",
      "\u001B[1m1/1\u001B[0m \u001B[32m━━━━━━━━━━━━━━━━━━━━\u001B[0m\u001B[37m\u001B[0m \u001B[1m0s\u001B[0m 17ms/step - loss: 3.2924 - mae: 3.2924\n",
      "Epoch 75/100\n",
      "\u001B[1m1/1\u001B[0m \u001B[32m━━━━━━━━━━━━━━━━━━━━\u001B[0m\u001B[37m\u001B[0m \u001B[1m0s\u001B[0m 16ms/step - loss: 3.3028 - mae: 3.3028\n",
      "Epoch 76/100\n",
      "\u001B[1m1/1\u001B[0m \u001B[32m━━━━━━━━━━━━━━━━━━━━\u001B[0m\u001B[37m\u001B[0m \u001B[1m0s\u001B[0m 18ms/step - loss: 3.3068 - mae: 3.3068\n",
      "Epoch 77/100\n",
      "\u001B[1m1/1\u001B[0m \u001B[32m━━━━━━━━━━━━━━━━━━━━\u001B[0m\u001B[37m\u001B[0m \u001B[1m0s\u001B[0m 17ms/step - loss: 3.3051 - mae: 3.3051\n",
      "Epoch 78/100\n",
      "\u001B[1m1/1\u001B[0m \u001B[32m━━━━━━━━━━━━━━━━━━━━\u001B[0m\u001B[37m\u001B[0m \u001B[1m0s\u001B[0m 18ms/step - loss: 3.2978 - mae: 3.2978\n",
      "Epoch 79/100\n",
      "\u001B[1m1/1\u001B[0m \u001B[32m━━━━━━━━━━━━━━━━━━━━\u001B[0m\u001B[37m\u001B[0m \u001B[1m0s\u001B[0m 16ms/step - loss: 3.2853 - mae: 3.2853\n",
      "Epoch 80/100\n",
      "\u001B[1m1/1\u001B[0m \u001B[32m━━━━━━━━━━━━━━━━━━━━\u001B[0m\u001B[37m\u001B[0m \u001B[1m0s\u001B[0m 16ms/step - loss: 3.2665 - mae: 3.2665\n",
      "Epoch 81/100\n",
      "\u001B[1m1/1\u001B[0m \u001B[32m━━━━━━━━━━━━━━━━━━━━\u001B[0m\u001B[37m\u001B[0m \u001B[1m0s\u001B[0m 17ms/step - loss: 3.2441 - mae: 3.2441\n",
      "Epoch 82/100\n",
      "\u001B[1m1/1\u001B[0m \u001B[32m━━━━━━━━━━━━━━━━━━━━\u001B[0m\u001B[37m\u001B[0m \u001B[1m0s\u001B[0m 16ms/step - loss: 3.2193 - mae: 3.2193\n",
      "Epoch 83/100\n",
      "\u001B[1m1/1\u001B[0m \u001B[32m━━━━━━━━━━━━━━━━━━━━\u001B[0m\u001B[37m\u001B[0m \u001B[1m0s\u001B[0m 16ms/step - loss: 3.1918 - mae: 3.1918\n",
      "Epoch 84/100\n",
      "\u001B[1m1/1\u001B[0m \u001B[32m━━━━━━━━━━━━━━━━━━━━\u001B[0m\u001B[37m\u001B[0m \u001B[1m0s\u001B[0m 16ms/step - loss: 3.1772 - mae: 3.1772\n",
      "Epoch 85/100\n",
      "\u001B[1m1/1\u001B[0m \u001B[32m━━━━━━━━━━━━━━━━━━━━\u001B[0m\u001B[37m\u001B[0m \u001B[1m0s\u001B[0m 16ms/step - loss: 3.1776 - mae: 3.1776\n",
      "Epoch 86/100\n",
      "\u001B[1m1/1\u001B[0m \u001B[32m━━━━━━━━━━━━━━━━━━━━\u001B[0m\u001B[37m\u001B[0m \u001B[1m0s\u001B[0m 15ms/step - loss: 3.1773 - mae: 3.1773\n",
      "Epoch 87/100\n",
      "\u001B[1m1/1\u001B[0m \u001B[32m━━━━━━━━━━━━━━━━━━━━\u001B[0m\u001B[37m\u001B[0m \u001B[1m0s\u001B[0m 15ms/step - loss: 3.1765 - mae: 3.1765\n",
      "Epoch 88/100\n",
      "\u001B[1m1/1\u001B[0m \u001B[32m━━━━━━━━━━━━━━━━━━━━\u001B[0m\u001B[37m\u001B[0m \u001B[1m0s\u001B[0m 16ms/step - loss: 3.1751 - mae: 3.1751\n",
      "Epoch 89/100\n",
      "\u001B[1m1/1\u001B[0m \u001B[32m━━━━━━━━━━━━━━━━━━━━\u001B[0m\u001B[37m\u001B[0m \u001B[1m0s\u001B[0m 16ms/step - loss: 3.1732 - mae: 3.1732\n",
      "Epoch 90/100\n",
      "\u001B[1m1/1\u001B[0m \u001B[32m━━━━━━━━━━━━━━━━━━━━\u001B[0m\u001B[37m\u001B[0m \u001B[1m0s\u001B[0m 16ms/step - loss: 3.1709 - mae: 3.1709\n",
      "Epoch 91/100\n",
      "\u001B[1m1/1\u001B[0m \u001B[32m━━━━━━━━━━━━━━━━━━━━\u001B[0m\u001B[37m\u001B[0m \u001B[1m0s\u001B[0m 16ms/step - loss: 3.1682 - mae: 3.1682\n",
      "Epoch 92/100\n",
      "\u001B[1m1/1\u001B[0m \u001B[32m━━━━━━━━━━━━━━━━━━━━\u001B[0m\u001B[37m\u001B[0m \u001B[1m0s\u001B[0m 16ms/step - loss: 3.1651 - mae: 3.1651\n",
      "Epoch 93/100\n",
      "\u001B[1m1/1\u001B[0m \u001B[32m━━━━━━━━━━━━━━━━━━━━\u001B[0m\u001B[37m\u001B[0m \u001B[1m0s\u001B[0m 15ms/step - loss: 3.1617 - mae: 3.1617\n",
      "Epoch 94/100\n",
      "\u001B[1m1/1\u001B[0m \u001B[32m━━━━━━━━━━━━━━━━━━━━\u001B[0m\u001B[37m\u001B[0m \u001B[1m0s\u001B[0m 15ms/step - loss: 3.1579 - mae: 3.1579\n",
      "Epoch 95/100\n",
      "\u001B[1m1/1\u001B[0m \u001B[32m━━━━━━━━━━━━━━━━━━━━\u001B[0m\u001B[37m\u001B[0m \u001B[1m0s\u001B[0m 15ms/step - loss: 3.1538 - mae: 3.1538\n",
      "Epoch 96/100\n",
      "\u001B[1m1/1\u001B[0m \u001B[32m━━━━━━━━━━━━━━━━━━━━\u001B[0m\u001B[37m\u001B[0m \u001B[1m0s\u001B[0m 15ms/step - loss: 3.1496 - mae: 3.1496\n",
      "Epoch 97/100\n",
      "\u001B[1m1/1\u001B[0m \u001B[32m━━━━━━━━━━━━━━━━━━━━\u001B[0m\u001B[37m\u001B[0m \u001B[1m0s\u001B[0m 15ms/step - loss: 3.1452 - mae: 3.1452\n",
      "Epoch 98/100\n",
      "\u001B[1m1/1\u001B[0m \u001B[32m━━━━━━━━━━━━━━━━━━━━\u001B[0m\u001B[37m\u001B[0m \u001B[1m0s\u001B[0m 16ms/step - loss: 3.1406 - mae: 3.1406\n",
      "Epoch 99/100\n",
      "\u001B[1m1/1\u001B[0m \u001B[32m━━━━━━━━━━━━━━━━━━━━\u001B[0m\u001B[37m\u001B[0m \u001B[1m0s\u001B[0m 15ms/step - loss: 3.1359 - mae: 3.1359\n",
      "Epoch 100/100\n",
      "\u001B[1m1/1\u001B[0m \u001B[32m━━━━━━━━━━━━━━━━━━━━\u001B[0m\u001B[37m\u001B[0m \u001B[1m0s\u001B[0m 15ms/step - loss: 3.1311 - mae: 3.1311\n",
      "WARNING:tensorflow:5 out of the last 7 calls to <function TensorFlowTrainer.make_predict_function.<locals>.one_step_on_data_distributed at 0x121c5ac10> triggered tf.function retracing. Tracing is expensive and the excessive number of tracings could be due to (1) creating @tf.function repeatedly in a loop, (2) passing tensors with different shapes, (3) passing Python objects instead of tensors. For (1), please define your @tf.function outside of the loop. For (2), @tf.function has reduce_retracing=True option that can avoid unnecessary retracing. For (3), please refer to https://www.tensorflow.org/guide/function#controlling_retracing and https://www.tensorflow.org/api_docs/python/tf/function for  more details.\n",
      "\u001B[1m1/1\u001B[0m \u001B[32m━━━━━━━━━━━━━━━━━━━━\u001B[0m\u001B[37m\u001B[0m \u001B[1m0s\u001B[0m 25ms/step\n"
     ]
    },
    {
     "data": {
      "text/plain": [
       "array([[19.132557],\n",
       "       [21.047014],\n",
       "       [22.961477],\n",
       "       [24.87594 ],\n",
       "       [26.790401],\n",
       "       [28.704863],\n",
       "       [30.619322],\n",
       "       [32.533787],\n",
       "       [34.44825 ],\n",
       "       [36.362713]], dtype=float32)"
      ]
     },
     "execution_count": 45,
     "metadata": {},
     "output_type": "execute_result"
    }
   ],
   "execution_count": 45
  },
  {
   "metadata": {
    "ExecuteTime": {
     "end_time": "2025-03-21T12:36:18.886987Z",
     "start_time": "2025-02-11T13:38:01.511932Z"
    }
   },
   "cell_type": "code",
   "source": [
    "plt.scatter(a, b, c='blue')\n",
    "plt.scatter(a_test, b_test, c='green')\n",
    "plt.scatter(a_test, b_predict, c='red')"
   ],
   "id": "b4ba368f32d7df5a",
   "outputs": [
    {
     "data": {
      "text/plain": [
       "<matplotlib.collections.PathCollection at 0x122c25160>"
      ]
     },
     "execution_count": 46,
     "metadata": {},
     "output_type": "execute_result"
    },
    {
     "data": {
      "text/plain": [
       "<Figure size 640x480 with 1 Axes>"
      ],
      "image/png": "[encoded data removed]"
     },
     "metadata": {},
     "output_type": "display_data"
    }
   ],
   "execution_count": 46
  },
  {
   "metadata": {},
   "cell_type": "markdown",
   "source": "## creating extra data for learning",
   "id": "8f46e26a0d69eff9"
  },
  {
   "metadata": {
    "ExecuteTime": {
     "end_time": "2025-03-21T12:36:18.887430Z",
     "start_time": "2025-02-11T13:38:01.601439Z"
    }
   },
   "cell_type": "code",
   "source": [
    "a_extend = []\n",
    "b_extend = []\n",
    "for i, j in zip(a, b):\n",
    "    a_extend.append(i-0.02)\n",
    "    a_extend.append(i-0.01)\n",
    "    a_extend.append(i-0.2)\n",
    "    a_extend.append(i-0.1)\n",
    "    a_extend.append(i)\n",
    "    a_extend.append(i+0.01)\n",
    "    a_extend.append(i+0.02)\n",
    "    a_extend.append(i+0.1)\n",
    "    a_extend.append(i+0.2)\n",
    "    b_extend.append(j-0.02)\n",
    "    b_extend.append(j-0.01)\n",
    "    b_extend.append(j-0.2)\n",
    "    b_extend.append(j-0.1)\n",
    "    b_extend.append(j)\n",
    "    b_extend.append(j+0.01)\n",
    "    b_extend.append(j+0.02)\n",
    "    b_extend.append(j+0.1)\n",
    "    b_extend.append(j+0.2)\n",
    "a_extend, b_extend"
   ],
   "id": "b7e54e86407e6010",
   "outputs": [
    {
     "data": {
      "text/plain": [
       "([np.float64(-0.02),\n",
       "  np.float64(-0.01),\n",
       "  np.float64(-0.2),\n",
       "  np.float64(-0.1),\n",
       "  np.int64(0),\n",
       "  np.float64(0.01),\n",
       "  np.float64(0.02),\n",
       "  np.float64(0.1),\n",
       "  np.float64(0.2),\n",
       "  np.float64(2.98),\n",
       "  np.float64(2.99),\n",
       "  np.float64(2.8),\n",
       "  np.float64(2.9),\n",
       "  np.int64(3),\n",
       "  np.float64(3.01),\n",
       "  np.float64(3.02),\n",
       "  np.float64(3.1),\n",
       "  np.float64(3.2),\n",
       "  np.float64(5.98),\n",
       "  np.float64(5.99),\n",
       "  np.float64(5.8),\n",
       "  np.float64(5.9),\n",
       "  np.int64(6),\n",
       "  np.float64(6.01),\n",
       "  np.float64(6.02),\n",
       "  np.float64(6.1),\n",
       "  np.float64(6.2),\n",
       "  np.float64(8.98),\n",
       "  np.float64(8.99),\n",
       "  np.float64(8.8),\n",
       "  np.float64(8.9),\n",
       "  np.int64(9),\n",
       "  np.float64(9.01),\n",
       "  np.float64(9.02),\n",
       "  np.float64(9.1),\n",
       "  np.float64(9.2),\n",
       "  np.float64(11.98),\n",
       "  np.float64(11.99),\n",
       "  np.float64(11.8),\n",
       "  np.float64(11.9),\n",
       "  np.int64(12),\n",
       "  np.float64(12.01),\n",
       "  np.float64(12.02),\n",
       "  np.float64(12.1),\n",
       "  np.float64(12.2),\n",
       "  np.float64(14.98),\n",
       "  np.float64(14.99),\n",
       "  np.float64(14.8),\n",
       "  np.float64(14.9),\n",
       "  np.int64(15),\n",
       "  np.float64(15.01),\n",
       "  np.float64(15.02),\n",
       "  np.float64(15.1),\n",
       "  np.float64(15.2),\n",
       "  np.float64(17.98),\n",
       "  np.float64(17.99),\n",
       "  np.float64(17.8),\n",
       "  np.float64(17.9),\n",
       "  np.int64(18),\n",
       "  np.float64(18.01),\n",
       "  np.float64(18.02),\n",
       "  np.float64(18.1),\n",
       "  np.float64(18.2),\n",
       "  np.float64(20.98),\n",
       "  np.float64(20.99),\n",
       "  np.float64(20.8),\n",
       "  np.float64(20.9),\n",
       "  np.int64(21),\n",
       "  np.float64(21.01),\n",
       "  np.float64(21.02),\n",
       "  np.float64(21.1),\n",
       "  np.float64(21.2),\n",
       "  np.float64(23.98),\n",
       "  np.float64(23.99),\n",
       "  np.float64(23.8),\n",
       "  np.float64(23.9),\n",
       "  np.int64(24),\n",
       "  np.float64(24.01),\n",
       "  np.float64(24.02),\n",
       "  np.float64(24.1),\n",
       "  np.float64(24.2),\n",
       "  np.float64(26.98),\n",
       "  np.float64(26.99),\n",
       "  np.float64(26.8),\n",
       "  np.float64(26.9),\n",
       "  np.int64(27),\n",
       "  np.float64(27.01),\n",
       "  np.float64(27.02),\n",
       "  np.float64(27.1),\n",
       "  np.float64(27.2)],\n",
       " [np.float64(-7.02),\n",
       "  np.float64(-7.01),\n",
       "  np.float64(-7.2),\n",
       "  np.float64(-7.1),\n",
       "  np.int64(-7),\n",
       "  np.float64(-6.99),\n",
       "  np.float64(-6.98),\n",
       "  np.float64(-6.9),\n",
       "  np.float64(-6.8),\n",
       "  np.float64(-4.02),\n",
       "  np.float64(-4.01),\n",
       "  np.float64(-4.2),\n",
       "  np.float64(-4.1),\n",
       "  np.int64(-4),\n",
       "  np.float64(-3.99),\n",
       "  np.float64(-3.98),\n",
       "  np.float64(-3.9),\n",
       "  np.float64(-3.8),\n",
       "  np.float64(-1.02),\n",
       "  np.float64(-1.01),\n",
       "  np.float64(-1.2),\n",
       "  np.float64(-1.1),\n",
       "  np.int64(-1),\n",
       "  np.float64(-0.99),\n",
       "  np.float64(-0.98),\n",
       "  np.float64(-0.9),\n",
       "  np.float64(-0.8),\n",
       "  np.float64(1.98),\n",
       "  np.float64(1.99),\n",
       "  np.float64(1.8),\n",
       "  np.float64(1.9),\n",
       "  np.int64(2),\n",
       "  np.float64(2.01),\n",
       "  np.float64(2.02),\n",
       "  np.float64(2.1),\n",
       "  np.float64(2.2),\n",
       "  np.float64(4.98),\n",
       "  np.float64(4.99),\n",
       "  np.float64(4.8),\n",
       "  np.float64(4.9),\n",
       "  np.int64(5),\n",
       "  np.float64(5.01),\n",
       "  np.float64(5.02),\n",
       "  np.float64(5.1),\n",
       "  np.float64(5.2),\n",
       "  np.float64(7.98),\n",
       "  np.float64(7.99),\n",
       "  np.float64(7.8),\n",
       "  np.float64(7.9),\n",
       "  np.int64(8),\n",
       "  np.float64(8.01),\n",
       "  np.float64(8.02),\n",
       "  np.float64(8.1),\n",
       "  np.float64(8.2),\n",
       "  np.float64(10.98),\n",
       "  np.float64(10.99),\n",
       "  np.float64(10.8),\n",
       "  np.float64(10.9),\n",
       "  np.int64(11),\n",
       "  np.float64(11.01),\n",
       "  np.float64(11.02),\n",
       "  np.float64(11.1),\n",
       "  np.float64(11.2),\n",
       "  np.float64(13.98),\n",
       "  np.float64(13.99),\n",
       "  np.float64(13.8),\n",
       "  np.float64(13.9),\n",
       "  np.int64(14),\n",
       "  np.float64(14.01),\n",
       "  np.float64(14.02),\n",
       "  np.float64(14.1),\n",
       "  np.float64(14.2),\n",
       "  np.float64(16.98),\n",
       "  np.float64(16.99),\n",
       "  np.float64(16.8),\n",
       "  np.float64(16.9),\n",
       "  np.int64(17),\n",
       "  np.float64(17.01),\n",
       "  np.float64(17.02),\n",
       "  np.float64(17.1),\n",
       "  np.float64(17.2),\n",
       "  np.float64(19.98),\n",
       "  np.float64(19.99),\n",
       "  np.float64(19.8),\n",
       "  np.float64(19.9),\n",
       "  np.int64(20),\n",
       "  np.float64(20.01),\n",
       "  np.float64(20.02),\n",
       "  np.float64(20.1),\n",
       "  np.float64(20.2)])"
      ]
     },
     "execution_count": 47,
     "metadata": {},
     "output_type": "execute_result"
    }
   ],
   "execution_count": 47
  },
  {
   "metadata": {
    "ExecuteTime": {
     "end_time": "2025-03-21T12:36:18.887752Z",
     "start_time": "2025-02-11T13:38:01.614587Z"
    }
   },
   "cell_type": "code",
   "source": [
    "a_extend = tf.constant(a_extend)\n",
    "b_extend = tf.constant(b_extend)\n",
    "\n",
    "model3 = ks.Sequential()\n",
    "model3.add(ks.layers.Input(shape=(1,)))\n",
    "model3.add(ks.layers.Dense(20, activation='relu'))\n",
    "model3.add(ks.layers.Dense(20, activation='relu'))\n",
    "model3.add(ks.layers.Dense(20, activation='relu'))\n",
    "model3.add(ks.layers.Dense(1))\n",
    "\n",
    "# 2. compile the model\n",
    "model3.compile(loss=ks.losses.MeanAbsoluteError,\n",
    "              optimizer=ks.optimizers.Adam(),\n",
    "              metrics=['mae'])\n",
    "\n",
    "# 3. fit the model\n",
    "model3.fit(a_extend, b_extend, epochs=90)"
   ],
   "id": "df66b91031197df5",
   "outputs": [
    {
     "name": "stdout",
     "output_type": "stream",
     "text": [
      "Epoch 1/90\n",
      "\u001B[1m3/3\u001B[0m \u001B[32m━━━━━━━━━━━━━━━━━━━━\u001B[0m\u001B[37m\u001B[0m \u001B[1m0s\u001B[0m 4ms/step - loss: 4.3646 - mae: 4.3646  \n",
      "Epoch 2/90\n",
      "\u001B[1m3/3\u001B[0m \u001B[32m━━━━━━━━━━━━━━━━━━━━\u001B[0m\u001B[37m\u001B[0m \u001B[1m0s\u001B[0m 5ms/step - loss: 4.1005 - mae: 4.1005 \n",
      "Epoch 3/90\n",
      "\u001B[1m3/3\u001B[0m \u001B[32m━━━━━━━━━━━━━━━━━━━━\u001B[0m\u001B[37m\u001B[0m \u001B[1m0s\u001B[0m 4ms/step - loss: 3.8285 - mae: 3.8285\n",
      "Epoch 4/90\n",
      "\u001B[1m3/3\u001B[0m \u001B[32m━━━━━━━━━━━━━━━━━━━━\u001B[0m\u001B[37m\u001B[0m \u001B[1m0s\u001B[0m 4ms/step - loss: 3.5529 - mae: 3.5529\n",
      "Epoch 5/90\n",
      "\u001B[1m3/3\u001B[0m \u001B[32m━━━━━━━━━━━━━━━━━━━━\u001B[0m\u001B[37m\u001B[0m \u001B[1m0s\u001B[0m 4ms/step - loss: 3.3708 - mae: 3.3708\n",
      "Epoch 6/90\n",
      "\u001B[1m3/3\u001B[0m \u001B[32m━━━━━━━━━━━━━━━━━━━━\u001B[0m\u001B[37m\u001B[0m \u001B[1m0s\u001B[0m 4ms/step - loss: 3.2153 - mae: 3.2153\n",
      "Epoch 7/90\n",
      "\u001B[1m3/3\u001B[0m \u001B[32m━━━━━━━━━━━━━━━━━━━━\u001B[0m\u001B[37m\u001B[0m \u001B[1m0s\u001B[0m 4ms/step - loss: 3.1447 - mae: 3.1447\n",
      "Epoch 8/90\n",
      "\u001B[1m3/3\u001B[0m \u001B[32m━━━━━━━━━━━━━━━━━━━━\u001B[0m\u001B[37m\u001B[0m \u001B[1m0s\u001B[0m 4ms/step - loss: 3.1239 - mae: 3.1239\n",
      "Epoch 9/90\n",
      "\u001B[1m3/3\u001B[0m \u001B[32m━━━━━━━━━━━━━━━━━━━━\u001B[0m\u001B[37m\u001B[0m \u001B[1m0s\u001B[0m 4ms/step - loss: 3.1367 - mae: 3.1367\n",
      "Epoch 10/90\n",
      "\u001B[1m3/3\u001B[0m \u001B[32m━━━━━━━━━━━━━━━━━━━━\u001B[0m\u001B[37m\u001B[0m \u001B[1m0s\u001B[0m 4ms/step - loss: 3.1240 - mae: 3.1240\n",
      "Epoch 11/90\n",
      "\u001B[1m3/3\u001B[0m \u001B[32m━━━━━━━━━━━━━━━━━━━━\u001B[0m\u001B[37m\u001B[0m \u001B[1m0s\u001B[0m 4ms/step - loss: 3.0938 - mae: 3.0938\n",
      "Epoch 12/90\n",
      "\u001B[1m3/3\u001B[0m \u001B[32m━━━━━━━━━━━━━━━━━━━━\u001B[0m\u001B[37m\u001B[0m \u001B[1m0s\u001B[0m 4ms/step - loss: 3.0817 - mae: 3.0817\n",
      "Epoch 13/90\n",
      "\u001B[1m3/3\u001B[0m \u001B[32m━━━━━━━━━━━━━━━━━━━━\u001B[0m\u001B[37m\u001B[0m \u001B[1m0s\u001B[0m 4ms/step - loss: 3.0835 - mae: 3.0835\n",
      "Epoch 14/90\n",
      "\u001B[1m3/3\u001B[0m \u001B[32m━━━━━━━━━━━━━━━━━━━━\u001B[0m\u001B[37m\u001B[0m \u001B[1m0s\u001B[0m 4ms/step - loss: 3.0810 - mae: 3.0810\n",
      "Epoch 15/90\n",
      "\u001B[1m3/3\u001B[0m \u001B[32m━━━━━━━━━━━━━━━━━━━━\u001B[0m\u001B[37m\u001B[0m \u001B[1m0s\u001B[0m 4ms/step - loss: 3.0754 - mae: 3.0754\n",
      "Epoch 16/90\n",
      "\u001B[1m3/3\u001B[0m \u001B[32m━━━━━━━━━━━━━━━━━━━━\u001B[0m\u001B[37m\u001B[0m \u001B[1m0s\u001B[0m 5ms/step - loss: 3.0674 - mae: 3.0674\n",
      "Epoch 17/90\n",
      "\u001B[1m3/3\u001B[0m \u001B[32m━━━━━━━━━━━━━━━━━━━━\u001B[0m\u001B[37m\u001B[0m \u001B[1m0s\u001B[0m 4ms/step - loss: 3.0574 - mae: 3.0574\n",
      "Epoch 18/90\n",
      "\u001B[1m3/3\u001B[0m \u001B[32m━━━━━━━━━━━━━━━━━━━━\u001B[0m\u001B[37m\u001B[0m \u001B[1m0s\u001B[0m 4ms/step - loss: 3.0456 - mae: 3.0456\n",
      "Epoch 19/90\n",
      "\u001B[1m3/3\u001B[0m \u001B[32m━━━━━━━━━━━━━━━━━━━━\u001B[0m\u001B[37m\u001B[0m \u001B[1m0s\u001B[0m 4ms/step - loss: 3.0324 - mae: 3.0324\n",
      "Epoch 20/90\n",
      "\u001B[1m3/3\u001B[0m \u001B[32m━━━━━━━━━━━━━━━━━━━━\u001B[0m\u001B[37m\u001B[0m \u001B[1m0s\u001B[0m 4ms/step - loss: 3.0204 - mae: 3.0204\n",
      "Epoch 21/90\n",
      "\u001B[1m3/3\u001B[0m \u001B[32m━━━━━━━━━━━━━━━━━━━━\u001B[0m\u001B[37m\u001B[0m \u001B[1m0s\u001B[0m 4ms/step - loss: 3.0145 - mae: 3.0145\n",
      "Epoch 22/90\n",
      "\u001B[1m3/3\u001B[0m \u001B[32m━━━━━━━━━━━━━━━━━━━━\u001B[0m\u001B[37m\u001B[0m \u001B[1m0s\u001B[0m 5ms/step - loss: 3.0029 - mae: 3.0029\n",
      "Epoch 23/90\n",
      "\u001B[1m3/3\u001B[0m \u001B[32m━━━━━━━━━━━━━━━━━━━━\u001B[0m\u001B[37m\u001B[0m \u001B[1m0s\u001B[0m 5ms/step - loss: 3.0000 - mae: 3.0000\n",
      "Epoch 24/90\n",
      "\u001B[1m3/3\u001B[0m \u001B[32m━━━━━━━━━━━━━━━━━━━━\u001B[0m\u001B[37m\u001B[0m \u001B[1m0s\u001B[0m 5ms/step - loss: 2.9930 - mae: 2.9930\n",
      "Epoch 25/90\n",
      "\u001B[1m3/3\u001B[0m \u001B[32m━━━━━━━━━━━━━━━━━━━━\u001B[0m\u001B[37m\u001B[0m \u001B[1m0s\u001B[0m 4ms/step - loss: 2.9827 - mae: 2.9827\n",
      "Epoch 26/90\n",
      "\u001B[1m3/3\u001B[0m \u001B[32m━━━━━━━━━━━━━━━━━━━━\u001B[0m\u001B[37m\u001B[0m \u001B[1m0s\u001B[0m 5ms/step - loss: 2.9715 - mae: 2.9715\n",
      "Epoch 27/90\n",
      "\u001B[1m3/3\u001B[0m \u001B[32m━━━━━━━━━━━━━━━━━━━━\u001B[0m\u001B[37m\u001B[0m \u001B[1m0s\u001B[0m 4ms/step - loss: 2.9634 - mae: 2.9634\n",
      "Epoch 28/90\n",
      "\u001B[1m3/3\u001B[0m \u001B[32m━━━━━━━━━━━━━━━━━━━━\u001B[0m\u001B[37m\u001B[0m \u001B[1m0s\u001B[0m 4ms/step - loss: 2.9481 - mae: 2.9481\n",
      "Epoch 29/90\n",
      "\u001B[1m3/3\u001B[0m \u001B[32m━━━━━━━━━━━━━━━━━━━━\u001B[0m\u001B[37m\u001B[0m \u001B[1m0s\u001B[0m 6ms/step - loss: 2.9426 - mae: 2.9426\n",
      "Epoch 30/90\n",
      "\u001B[1m3/3\u001B[0m \u001B[32m━━━━━━━━━━━━━━━━━━━━\u001B[0m\u001B[37m\u001B[0m \u001B[1m0s\u001B[0m 4ms/step - loss: 2.9323 - mae: 2.9323\n",
      "Epoch 31/90\n",
      "\u001B[1m3/3\u001B[0m \u001B[32m━━━━━━━━━━━━━━━━━━━━\u001B[0m\u001B[37m\u001B[0m \u001B[1m0s\u001B[0m 4ms/step - loss: 2.9214 - mae: 2.9214\n",
      "Epoch 32/90\n",
      "\u001B[1m3/3\u001B[0m \u001B[32m━━━━━━━━━━━━━━━━━━━━\u001B[0m\u001B[37m\u001B[0m \u001B[1m0s\u001B[0m 4ms/step - loss: 2.9105 - mae: 2.9105\n",
      "Epoch 33/90\n",
      "\u001B[1m3/3\u001B[0m \u001B[32m━━━━━━━━━━━━━━━━━━━━\u001B[0m\u001B[37m\u001B[0m \u001B[1m0s\u001B[0m 4ms/step - loss: 2.9019 - mae: 2.9019\n",
      "Epoch 34/90\n",
      "\u001B[1m3/3\u001B[0m \u001B[32m━━━━━━━━━━━━━━━━━━━━\u001B[0m\u001B[37m\u001B[0m \u001B[1m0s\u001B[0m 4ms/step - loss: 2.8910 - mae: 2.8910\n",
      "Epoch 35/90\n",
      "\u001B[1m3/3\u001B[0m \u001B[32m━━━━━━━━━━━━━━━━━━━━\u001B[0m\u001B[37m\u001B[0m \u001B[1m0s\u001B[0m 4ms/step - loss: 2.8792 - mae: 2.8792\n",
      "Epoch 36/90\n",
      "\u001B[1m3/3\u001B[0m \u001B[32m━━━━━━━━━━━━━━━━━━━━\u001B[0m\u001B[37m\u001B[0m \u001B[1m0s\u001B[0m 4ms/step - loss: 2.8695 - mae: 2.8695\n",
      "Epoch 37/90\n",
      "\u001B[1m3/3\u001B[0m \u001B[32m━━━━━━━━━━━━━━━━━━━━\u001B[0m\u001B[37m\u001B[0m \u001B[1m0s\u001B[0m 4ms/step - loss: 2.8585 - mae: 2.8585\n",
      "Epoch 38/90\n",
      "\u001B[1m3/3\u001B[0m \u001B[32m━━━━━━━━━━━━━━━━━━━━\u001B[0m\u001B[37m\u001B[0m \u001B[1m0s\u001B[0m 4ms/step - loss: 2.8474 - mae: 2.8474\n",
      "Epoch 39/90\n",
      "\u001B[1m3/3\u001B[0m \u001B[32m━━━━━━━━━━━━━━━━━━━━\u001B[0m\u001B[37m\u001B[0m \u001B[1m0s\u001B[0m 4ms/step - loss: 2.8361 - mae: 2.8361\n",
      "Epoch 40/90\n",
      "\u001B[1m3/3\u001B[0m \u001B[32m━━━━━━━━━━━━━━━━━━━━\u001B[0m\u001B[37m\u001B[0m \u001B[1m0s\u001B[0m 4ms/step - loss: 2.8241 - mae: 2.8241\n",
      "Epoch 41/90\n",
      "\u001B[1m3/3\u001B[0m \u001B[32m━━━━━━━━━━━━━━━━━━━━\u001B[0m\u001B[37m\u001B[0m \u001B[1m0s\u001B[0m 4ms/step - loss: 2.8122 - mae: 2.8122\n",
      "Epoch 42/90\n",
      "\u001B[1m3/3\u001B[0m \u001B[32m━━━━━━━━━━━━━━━━━━━━\u001B[0m\u001B[37m\u001B[0m \u001B[1m0s\u001B[0m 4ms/step - loss: 2.8001 - mae: 2.8001\n",
      "Epoch 43/90\n",
      "\u001B[1m3/3\u001B[0m \u001B[32m━━━━━━━━━━━━━━━━━━━━\u001B[0m\u001B[37m\u001B[0m \u001B[1m0s\u001B[0m 4ms/step - loss: 2.7837 - mae: 2.7837\n",
      "Epoch 44/90\n",
      "\u001B[1m3/3\u001B[0m \u001B[32m━━━━━━━━━━━━━━━━━━━━\u001B[0m\u001B[37m\u001B[0m \u001B[1m0s\u001B[0m 4ms/step - loss: 2.7658 - mae: 2.7658\n",
      "Epoch 45/90\n",
      "\u001B[1m3/3\u001B[0m \u001B[32m━━━━━━━━━━━━━━━━━━━━\u001B[0m\u001B[37m\u001B[0m \u001B[1m0s\u001B[0m 4ms/step - loss: 2.7508 - mae: 2.7508\n",
      "Epoch 46/90\n",
      "\u001B[1m3/3\u001B[0m \u001B[32m━━━━━━━━━━━━━━━━━━━━\u001B[0m\u001B[37m\u001B[0m \u001B[1m0s\u001B[0m 4ms/step - loss: 2.7345 - mae: 2.7345\n",
      "Epoch 47/90\n",
      "\u001B[1m3/3\u001B[0m \u001B[32m━━━━━━━━━━━━━━━━━━━━\u001B[0m\u001B[37m\u001B[0m \u001B[1m0s\u001B[0m 4ms/step - loss: 2.7168 - mae: 2.7168\n",
      "Epoch 48/90\n",
      "\u001B[1m3/3\u001B[0m \u001B[32m━━━━━━━━━━━━━━━━━━━━\u001B[0m\u001B[37m\u001B[0m \u001B[1m0s\u001B[0m 4ms/step - loss: 2.7003 - mae: 2.7003\n",
      "Epoch 49/90\n",
      "\u001B[1m3/3\u001B[0m \u001B[32m━━━━━━━━━━━━━━━━━━━━\u001B[0m\u001B[37m\u001B[0m \u001B[1m0s\u001B[0m 4ms/step - loss: 2.6810 - mae: 2.6810\n",
      "Epoch 50/90\n",
      "\u001B[1m3/3\u001B[0m \u001B[32m━━━━━━━━━━━━━━━━━━━━\u001B[0m\u001B[37m\u001B[0m \u001B[1m0s\u001B[0m 4ms/step - loss: 2.6557 - mae: 2.6557\n",
      "Epoch 51/90\n",
      "\u001B[1m3/3\u001B[0m \u001B[32m━━━━━━━━━━━━━━━━━━━━\u001B[0m\u001B[37m\u001B[0m \u001B[1m0s\u001B[0m 4ms/step - loss: 2.6311 - mae: 2.6311\n",
      "Epoch 52/90\n",
      "\u001B[1m3/3\u001B[0m \u001B[32m━━━━━━━━━━━━━━━━━━━━\u001B[0m\u001B[37m\u001B[0m \u001B[1m0s\u001B[0m 4ms/step - loss: 2.5943 - mae: 2.5943\n",
      "Epoch 53/90\n",
      "\u001B[1m3/3\u001B[0m \u001B[32m━━━━━━━━━━━━━━━━━━━━\u001B[0m\u001B[37m\u001B[0m \u001B[1m0s\u001B[0m 4ms/step - loss: 2.5551 - mae: 2.5551\n",
      "Epoch 54/90\n",
      "\u001B[1m3/3\u001B[0m \u001B[32m━━━━━━━━━━━━━━━━━━━━\u001B[0m\u001B[37m\u001B[0m \u001B[1m0s\u001B[0m 4ms/step - loss: 2.4792 - mae: 2.4792\n",
      "Epoch 55/90\n",
      "\u001B[1m3/3\u001B[0m \u001B[32m━━━━━━━━━━━━━━━━━━━━\u001B[0m\u001B[37m\u001B[0m \u001B[1m0s\u001B[0m 4ms/step - loss: 2.3687 - mae: 2.3687\n",
      "Epoch 56/90\n",
      "\u001B[1m3/3\u001B[0m \u001B[32m━━━━━━━━━━━━━━━━━━━━\u001B[0m\u001B[37m\u001B[0m \u001B[1m0s\u001B[0m 4ms/step - loss: 2.2855 - mae: 2.2855\n",
      "Epoch 57/90\n",
      "\u001B[1m3/3\u001B[0m \u001B[32m━━━━━━━━━━━━━━━━━━━━\u001B[0m\u001B[37m\u001B[0m \u001B[1m0s\u001B[0m 4ms/step - loss: 2.1755 - mae: 2.1755\n",
      "Epoch 58/90\n",
      "\u001B[1m3/3\u001B[0m \u001B[32m━━━━━━━━━━━━━━━━━━━━\u001B[0m\u001B[37m\u001B[0m \u001B[1m0s\u001B[0m 4ms/step - loss: 2.1350 - mae: 2.1350\n",
      "Epoch 59/90\n",
      "\u001B[1m3/3\u001B[0m \u001B[32m━━━━━━━━━━━━━━━━━━━━\u001B[0m\u001B[37m\u001B[0m \u001B[1m0s\u001B[0m 4ms/step - loss: 2.0329 - mae: 2.0329\n",
      "Epoch 60/90\n",
      "\u001B[1m3/3\u001B[0m \u001B[32m━━━━━━━━━━━━━━━━━━━━\u001B[0m\u001B[37m\u001B[0m \u001B[1m0s\u001B[0m 4ms/step - loss: 1.9735 - mae: 1.9735\n",
      "Epoch 61/90\n",
      "\u001B[1m3/3\u001B[0m \u001B[32m━━━━━━━━━━━━━━━━━━━━\u001B[0m\u001B[37m\u001B[0m \u001B[1m0s\u001B[0m 4ms/step - loss: 1.8619 - mae: 1.8619\n",
      "Epoch 62/90\n",
      "\u001B[1m3/3\u001B[0m \u001B[32m━━━━━━━━━━━━━━━━━━━━\u001B[0m\u001B[37m\u001B[0m \u001B[1m0s\u001B[0m 4ms/step - loss: 1.7505 - mae: 1.7505\n",
      "Epoch 63/90\n",
      "\u001B[1m3/3\u001B[0m \u001B[32m━━━━━━━━━━━━━━━━━━━━\u001B[0m\u001B[37m\u001B[0m \u001B[1m0s\u001B[0m 4ms/step - loss: 1.6204 - mae: 1.6204\n",
      "Epoch 64/90\n",
      "\u001B[1m3/3\u001B[0m \u001B[32m━━━━━━━━━━━━━━━━━━━━\u001B[0m\u001B[37m\u001B[0m \u001B[1m0s\u001B[0m 4ms/step - loss: 1.5242 - mae: 1.5242\n",
      "Epoch 65/90\n",
      "\u001B[1m3/3\u001B[0m \u001B[32m━━━━━━━━━━━━━━━━━━━━\u001B[0m\u001B[37m\u001B[0m \u001B[1m0s\u001B[0m 4ms/step - loss: 1.4223 - mae: 1.4223\n",
      "Epoch 66/90\n",
      "\u001B[1m3/3\u001B[0m \u001B[32m━━━━━━━━━━━━━━━━━━━━\u001B[0m\u001B[37m\u001B[0m \u001B[1m0s\u001B[0m 4ms/step - loss: 1.3020 - mae: 1.3020\n",
      "Epoch 67/90\n",
      "\u001B[1m3/3\u001B[0m \u001B[32m━━━━━━━━━━━━━━━━━━━━\u001B[0m\u001B[37m\u001B[0m \u001B[1m0s\u001B[0m 4ms/step - loss: 1.1687 - mae: 1.1687\n",
      "Epoch 68/90\n",
      "\u001B[1m3/3\u001B[0m \u001B[32m━━━━━━━━━━━━━━━━━━━━\u001B[0m\u001B[37m\u001B[0m \u001B[1m0s\u001B[0m 4ms/step - loss: 1.0681 - mae: 1.0681\n",
      "Epoch 69/90\n",
      "\u001B[1m3/3\u001B[0m \u001B[32m━━━━━━━━━━━━━━━━━━━━\u001B[0m\u001B[37m\u001B[0m \u001B[1m0s\u001B[0m 4ms/step - loss: 0.9452 - mae: 0.9452\n",
      "Epoch 70/90\n",
      "\u001B[1m3/3\u001B[0m \u001B[32m━━━━━━━━━━━━━━━━━━━━\u001B[0m\u001B[37m\u001B[0m \u001B[1m0s\u001B[0m 4ms/step - loss: 0.8681 - mae: 0.8681\n",
      "Epoch 71/90\n",
      "\u001B[1m3/3\u001B[0m \u001B[32m━━━━━━━━━━━━━━━━━━━━\u001B[0m\u001B[37m\u001B[0m \u001B[1m0s\u001B[0m 4ms/step - loss: 0.7409 - mae: 0.7409\n",
      "Epoch 72/90\n",
      "\u001B[1m3/3\u001B[0m \u001B[32m━━━━━━━━━━━━━━━━━━━━\u001B[0m\u001B[37m\u001B[0m \u001B[1m0s\u001B[0m 4ms/step - loss: 0.6459 - mae: 0.6459\n",
      "Epoch 73/90\n",
      "\u001B[1m3/3\u001B[0m \u001B[32m━━━━━━━━━━━━━━━━━━━━\u001B[0m\u001B[37m\u001B[0m \u001B[1m0s\u001B[0m 4ms/step - loss: 0.7109 - mae: 0.7109\n",
      "Epoch 74/90\n",
      "\u001B[1m3/3\u001B[0m \u001B[32m━━━━━━━━━━━━━━━━━━━━\u001B[0m\u001B[37m\u001B[0m \u001B[1m0s\u001B[0m 4ms/step - loss: 0.7889 - mae: 0.7889\n",
      "Epoch 75/90\n",
      "\u001B[1m3/3\u001B[0m \u001B[32m━━━━━━━━━━━━━━━━━━━━\u001B[0m\u001B[37m\u001B[0m \u001B[1m0s\u001B[0m 4ms/step - loss: 0.7532 - mae: 0.7532\n",
      "Epoch 76/90\n",
      "\u001B[1m3/3\u001B[0m \u001B[32m━━━━━━━━━━━━━━━━━━━━\u001B[0m\u001B[37m\u001B[0m \u001B[1m0s\u001B[0m 4ms/step - loss: 0.5812 - mae: 0.5812\n",
      "Epoch 77/90\n",
      "\u001B[1m3/3\u001B[0m \u001B[32m━━━━━━━━━━━━━━━━━━━━\u001B[0m\u001B[37m\u001B[0m \u001B[1m0s\u001B[0m 4ms/step - loss: 0.6487 - mae: 0.6487\n",
      "Epoch 78/90\n",
      "\u001B[1m3/3\u001B[0m \u001B[32m━━━━━━━━━━━━━━━━━━━━\u001B[0m\u001B[37m\u001B[0m \u001B[1m0s\u001B[0m 4ms/step - loss: 0.4649 - mae: 0.4649\n",
      "Epoch 79/90\n",
      "\u001B[1m3/3\u001B[0m \u001B[32m━━━━━━━━━━━━━━━━━━━━\u001B[0m\u001B[37m\u001B[0m \u001B[1m0s\u001B[0m 4ms/step - loss: 0.3740 - mae: 0.3740\n",
      "Epoch 80/90\n",
      "\u001B[1m3/3\u001B[0m \u001B[32m━━━━━━━━━━━━━━━━━━━━\u001B[0m\u001B[37m\u001B[0m \u001B[1m0s\u001B[0m 4ms/step - loss: 0.3927 - mae: 0.3927\n",
      "Epoch 81/90\n",
      "\u001B[1m3/3\u001B[0m \u001B[32m━━━━━━━━━━━━━━━━━━━━\u001B[0m\u001B[37m\u001B[0m \u001B[1m0s\u001B[0m 4ms/step - loss: 0.3540 - mae: 0.3540\n",
      "Epoch 82/90\n",
      "\u001B[1m3/3\u001B[0m \u001B[32m━━━━━━━━━━━━━━━━━━━━\u001B[0m\u001B[37m\u001B[0m \u001B[1m0s\u001B[0m 4ms/step - loss: 0.3219 - mae: 0.3219\n",
      "Epoch 83/90\n",
      "\u001B[1m3/3\u001B[0m \u001B[32m━━━━━━━━━━━━━━━━━━━━\u001B[0m\u001B[37m\u001B[0m \u001B[1m0s\u001B[0m 4ms/step - loss: 0.3299 - mae: 0.3299\n",
      "Epoch 84/90\n",
      "\u001B[1m3/3\u001B[0m \u001B[32m━━━━━━━━━━━━━━━━━━━━\u001B[0m\u001B[37m\u001B[0m \u001B[1m0s\u001B[0m 5ms/step - loss: 0.2781 - mae: 0.2781\n",
      "Epoch 85/90\n",
      "\u001B[1m3/3\u001B[0m \u001B[32m━━━━━━━━━━━━━━━━━━━━\u001B[0m\u001B[37m\u001B[0m \u001B[1m0s\u001B[0m 4ms/step - loss: 0.2904 - mae: 0.2904\n",
      "Epoch 86/90\n",
      "\u001B[1m3/3\u001B[0m \u001B[32m━━━━━━━━━━━━━━━━━━━━\u001B[0m\u001B[37m\u001B[0m \u001B[1m0s\u001B[0m 4ms/step - loss: 0.2422 - mae: 0.2422\n",
      "Epoch 87/90\n",
      "\u001B[1m3/3\u001B[0m \u001B[32m━━━━━━━━━━━━━━━━━━━━\u001B[0m\u001B[37m\u001B[0m \u001B[1m0s\u001B[0m 5ms/step - loss: 0.2600 - mae: 0.2600 \n",
      "Epoch 88/90\n",
      "\u001B[1m3/3\u001B[0m \u001B[32m━━━━━━━━━━━━━━━━━━━━\u001B[0m\u001B[37m\u001B[0m \u001B[1m0s\u001B[0m 4ms/step - loss: 0.2126 - mae: 0.2126\n",
      "Epoch 89/90\n",
      "\u001B[1m3/3\u001B[0m \u001B[32m━━━━━━━━━━━━━━━━━━━━\u001B[0m\u001B[37m\u001B[0m \u001B[1m0s\u001B[0m 4ms/step - loss: 0.2324 - mae: 0.2324\n",
      "Epoch 90/90\n",
      "\u001B[1m3/3\u001B[0m \u001B[32m━━━━━━━━━━━━━━━━━━━━\u001B[0m\u001B[37m\u001B[0m \u001B[1m0s\u001B[0m 4ms/step - loss: 0.1936 - mae: 0.1936\n"
     ]
    },
    {
     "data": {
      "text/plain": [
       "<keras.src.callbacks.history.History at 0x1265b07f0>"
      ]
     },
     "execution_count": 48,
     "metadata": {},
     "output_type": "execute_result"
    }
   ],
   "execution_count": 48
  },
  {
   "metadata": {
    "ExecuteTime": {
     "end_time": "2025-03-21T12:36:18.888105Z",
     "start_time": "2025-02-11T13:38:03.596632Z"
    }
   },
   "cell_type": "code",
   "source": [
    "b_extend_predict = model3.predict(a_test)\n",
    "b_extend_predict"
   ],
   "id": "defb8bc2f7883ddb",
   "outputs": [
    {
     "name": "stdout",
     "output_type": "stream",
     "text": [
      "WARNING:tensorflow:6 out of the last 8 calls to <function TensorFlowTrainer.make_predict_function.<locals>.one_step_on_data_distributed at 0x1267f1160> triggered tf.function retracing. Tracing is expensive and the excessive number of tracings could be due to (1) creating @tf.function repeatedly in a loop, (2) passing tensors with different shapes, (3) passing Python objects instead of tensors. For (1), please define your @tf.function outside of the loop. For (2), @tf.function has reduce_retracing=True option that can avoid unnecessary retracing. For (3), please refer to https://www.tensorflow.org/guide/function#controlling_retracing and https://www.tensorflow.org/api_docs/python/tf/function for  more details.\n",
      "\u001B[1m1/1\u001B[0m \u001B[32m━━━━━━━━━━━━━━━━━━━━\u001B[0m\u001B[37m\u001B[0m \u001B[1m0s\u001B[0m 27ms/step\n"
     ]
    },
    {
     "data": {
      "text/plain": [
       "array([[22.452957],\n",
       "       [25.258842],\n",
       "       [28.064735],\n",
       "       [30.870625],\n",
       "       [33.67651 ],\n",
       "       [36.482395],\n",
       "       [39.288292],\n",
       "       [42.094173],\n",
       "       [44.900063],\n",
       "       [47.705658]], dtype=float32)"
      ]
     },
     "execution_count": 49,
     "metadata": {},
     "output_type": "execute_result"
    }
   ],
   "execution_count": 49
  },
  {
   "metadata": {
    "ExecuteTime": {
     "end_time": "2025-03-21T12:36:18.888376Z",
     "start_time": "2025-02-11T13:38:03.684041Z"
    }
   },
   "cell_type": "code",
   "source": [
    "# plt.figure(figsize=(10, 7))\n",
    "plt.scatter(a, b, c='blue', label='Original train')\n",
    "plt.scatter(a_test, b_test, c='green', label='Original test')\n",
    "plt.scatter(a_test, b_extend_predict, c='red', label='Extended prediction')\n",
    "plt.scatter(a_test, b_predict, c='yellow', label='Original prediction')\n",
    "plt.legend()"
   ],
   "id": "9d2ee387990697c2",
   "outputs": [
    {
     "data": {
      "text/plain": [
       "<matplotlib.legend.Legend at 0x126996fd0>"
      ]
     },
     "execution_count": 50,
     "metadata": {},
     "output_type": "execute_result"
    },
    {
     "data": {
      "text/plain": [
       "<Figure size 640x480 with 1 Axes>"
      ],
      "image/png": "[encoded data removed]"
     },
     "metadata": {},
     "output_type": "display_data"
    }
   ],
   "execution_count": 50
  },
  {
   "metadata": {},
   "cell_type": "markdown",
   "source": [
    "removing a little bit and adding a little bit generates much more data for learning. This is a good way to generate more data for learning. This is called data augmentation. (really, just invented it for myself)\n",
    "\n",
    "how are tricks like this called in the real world copilot? Data augmentation, data preprocessing, data cleaning, data wrangling, data transformation"
   ],
   "id": "4565220cce431d02"
  },
  {
   "metadata": {},
   "cell_type": "markdown",
   "source": [
    "### Welche Optimizer gibt es?\n",
    "- Stochastic Gradient Descent (SGD): Updates weights based on the gradient of the loss function.\n",
    "- Adam: Adaptive Moment Estimation, combines the advantages of RMSprop and momentum.\n",
    "- RMSprop: Divides the learning rate by the moving average of the root mean square of the gradients.\n",
    "\n",
    "### Welche Activation funktionen gibt es?\n",
    "- ReLU\n",
    "- Sigmoid\n",
    "- Tanh\n",
    "\n",
    "Testing summary and building a nn"
   ],
   "id": "9e5feb4c30014cc7"
  },
  {
   "metadata": {
    "ExecuteTime": {
     "end_time": "2025-03-21T12:36:18.888593Z",
     "start_time": "2025-03-21T12:28:26.858454Z"
    }
   },
   "cell_type": "code",
   "source": [
    "model4 = ks.Sequential()\n",
    "model4.add(ks.layers.Input(shape=(1,)))\n",
    "model4.add(ks.layers.Dense(20, activation='relu'))\n",
    "model4.add(ks.layers.Dense(20, activation='relu'))\n",
    "model4.add(ks.layers.Dense(20, activation='relu'))\n",
    "model4.add(ks.layers.Dense(1))\n",
    "\n",
    "# 2. compile the model\n",
    "model4.compile(loss=ks.losses.MeanAbsoluteError,\n",
    "              optimizer=ks.optimizers.Adam(),\n",
    "              metrics=['mae'])\n",
    "\n",
    "# 3. fit the model\n",
    "# model3.fit(a_extend, b_extend, epochs=90)"
   ],
   "id": "4f2c2600dbec3f2c",
   "outputs": [
    {
     "name": "stderr",
     "output_type": "stream",
     "text": [
      "WARNING:absl:At this time, the v2.11+ optimizer `tf.keras.optimizers.Adam` runs slowly on M1/M2 Macs, please use the legacy Keras optimizer instead, located at `tf.keras.optimizers.legacy.Adam`.\n",
      "WARNING:absl:There is a known slowdown when using v2.11+ Keras optimizers on M1/M2 Macs. Falling back to the legacy Keras optimizer, i.e., `tf.keras.optimizers.legacy.Adam`.\n"
     ]
    }
   ],
   "execution_count": 100
  },
  {
   "metadata": {
    "ExecuteTime": {
     "end_time": "2025-03-21T12:36:18.888822Z",
     "start_time": "2025-02-11T13:38:03.828848Z"
    }
   },
   "cell_type": "code",
   "source": "model4.build()",
   "id": "91540ef54d3dec2e",
   "outputs": [],
   "execution_count": 52
  },
  {
   "metadata": {
    "ExecuteTime": {
     "end_time": "2025-03-21T12:36:18.888989Z",
     "start_time": "2025-03-21T12:28:17.582788Z"
    }
   },
   "cell_type": "code",
   "source": "model4.summary()",
   "id": "a9919b2268d7a545",
   "outputs": [
    {
     "ename": "NameError",
     "evalue": "name 'model4' is not defined",
     "output_type": "error",
     "traceback": [
      "\u001B[0;31m---------------------------------------------------------------------------\u001B[0m",
      "\u001B[0;31mNameError\u001B[0m                                 Traceback (most recent call last)",
      "Cell \u001B[0;32mIn[99], line 1\u001B[0m\n\u001B[0;32m----> 1\u001B[0m \u001B[43mmodel4\u001B[49m\u001B[38;5;241m.\u001B[39msummary()\n",
      "\u001B[0;31mNameError\u001B[0m: name 'model4' is not defined"
     ]
    }
   ],
   "execution_count": 99
  },
  {
   "metadata": {},
   "cell_type": "markdown",
   "source": [
    "Total params sind die neuronen welche träiniert werden können\n",
    "trainable sind diese die ihre werte verändern können\n",
    "non trainable, analag dazu.. sind häufig bereits gelernte implementierte nn die in das nn integriert worden sind"
   ],
   "id": "4c5a840b2aec0ea6"
  }
 ],
 "metadata": {
  "kernelspec": {
   "display_name": "Python 3",
   "language": "python",
   "name": "python3"
  },
  "language_info": {
   "codemirror_mode": {
    "name": "ipython",
    "version": 2
   },
   "file_extension": ".py",
   "mimetype": "text/x-python",
   "name": "python",
   "nbconvert_exporter": "python",
   "pygments_lexer": "ipython2",
   "version": "2.7.6"
  }
 },
 "nbformat": 4,
 "nbformat_minor": 5
}
