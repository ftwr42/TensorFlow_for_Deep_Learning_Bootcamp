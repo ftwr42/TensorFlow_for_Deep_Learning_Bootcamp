{
 "cells": [
  {
   "metadata": {},
   "cell_type": "markdown",
   "source": [
    "## Video 39\n",
    "\n",
    "\n",
    " What is a regression problem?\n",
    " - predict something out of the data, the question is not a yes or no question, but a number. So the solution might be, the thing on that image is a cat for about 75%.\n",
    "  - Questions like: How much, how many, how ... can be answered with regression."
   ],
   "id": "b94301de5172f179"
  },
  {
   "metadata": {},
   "cell_type": "markdown",
   "source": [
    "## Video 40\n",
    "\n",
    "\n",
    "What kind of data is needed for a regression problem?\n",
    "Ok some kind of data what you think are relevant to predict the answer from the neural network.\n",
    "\n",
    "The way data has to be converted for a nn is for example the one hot encoding. So this means you create a list as long as all possible interpretations the data can have.\n",
    "Is the data a cat or a dog or a mouse? One-Hot list maybe [0,1,0] for a dog.\n",
    "\n",
    "This interpretation is also called a feature encoding and data representation.\n",
    "1. Categorical Data Encoding\n",
    "    - One-Hot Encoding: Converts categorical variables into binary vectors.\n",
    "    - Label Encoding: Assigns each category a unique integer.\n",
    "    - Ordinal Encoding: Like label encoding, but assumes an order in the categories.\n",
    "    - Binary Encoding: Converts category indices to binary and stores them in multiple bits.\n",
    "    - Target Encoding (Mean Encoding): Replaces categories with the mean of the target variable (useful for supervised learning).\n",
    "2. Numerical Data Scaling & Normalization\n",
    "    - Min-Max Scaling: Rescales values between 0 and 1.\n",
    "    - Standardization (Z-score normalization): Centers values around 0 with unit variance.\n",
    "    - Log Transformation: Used for skewed distributions.\n",
    "    - Quantile Transformation: Maps data to a normal distribution.\n",
    "3. Text Data Encoding\n",
    "    - Bag of Words (BoW): Counts word occurrences.\n",
    "    - TF-IDF (Term Frequency-Inverse Document Frequency): Adjusts word importance based on frequency across documents.\n",
    "    - Word Embeddings (Word2Vec, GloVe, FastText): Maps words to dense vector spaces.\n",
    "    - Character-Level Encoding: Similar to word embeddings, but on a character level.\n",
    "4. Image Data Encoding\n",
    "    - Raw Pixel Values: Direct input of pixel intensities.\n",
    "    - Normalized Pixel Values: Pixels scaled to a range (e.g., 0-1 or -1 to 1).\n",
    "    - Feature Extraction (HOG, SIFT, CNNs): Extracts meaningful features instead of raw pixels.\n",
    "5. Graph Data Encoding\n",
    "    - Adjacency Matrix Encoding: Represents connections between nodes as a matrix.\n",
    "    - Graph Embeddings (Node2Vec, GCNs): Maps nodes to vector spaces.\n",
    "6. Time Series & Sequential Data Encoding\n",
    "    - Sliding Windows: Transforms time series into overlapping windows for learning.\n",
    "    - Fourier Transform / Wavelet Transform: Extracts frequency-domain features.\n",
    "    - Lag Features: Uses past values as inputs.\n",
    "\n"
   ],
   "id": "3032e7a1fccee16b"
  },
  {
   "metadata": {},
   "cell_type": "markdown",
   "source": [
    "## Video 41\n",
    "\n",
    "Architectures of Neural Networks\n",
    "1. Feedforward Neural Networks (FNNs)\n",
    "    - Basic neural network architecture\n",
    "    - No feedback loops between neurons\n",
    "    - Used for regression and classification tasks.\n",
    "    - Variants\n",
    "        - Single-layer perceptron: One layer of input nodes and one layer of output nodes, no hidden layers.\n",
    "        - Multi-layer perceptron: Contains one or more hidden layers between the input and output layers.\n",
    "2. Convolutional Neural Networks (CNNs)\n",
    "    - Specialized for image data\n",
    "    - Contains convolutional layers for feature extraction\n",
    "        - Convolutional layers: Apply filters to input data to detect patterns.\n",
    "        - Pooling layers: Reduce spatial dimensions of the data.\n",
    "        - Fully connected layers: Perform classification based on extracted features.\n",
    "    - Used for image classification, object detection, and segmentation tasks.\n",
    "3. Recurrent Neural Networks (RNNs)\n",
    "4. Transformer Neural Networks\n",
    "5. Autoencoder Neural Networks\n",
    "6. Generative Adversarial Networks (GANs)\n",
    "7. Graph Neural Networks (GNNs)\n",
    "8. Spike Neural Networks\n",
    "9. etc.\n",
    "\n"
   ],
   "id": "999d52f46faf3a78"
  },
  {
   "metadata": {},
   "cell_type": "markdown",
   "source": [
    "## Video 42\n",
    "\n",
    "**Definition of a regression problem:**\n",
    "Method of the smallest absolute deviation ..."
   ],
   "id": "d51e70067bd464a9"
  },
  {
   "metadata": {
    "ExecuteTime": {
     "end_time": "2025-03-21T11:50:35.830783Z",
     "start_time": "2025-03-21T11:50:35.828547Z"
    }
   },
   "cell_type": "code",
   "source": [
    "import os\n",
    "import numpy\n",
    "from fontTools.subset.svg import xpath"
   ],
   "id": "91bb8bb1a391ecec",
   "outputs": [],
   "execution_count": 70
  },
  {
   "metadata": {
    "ExecuteTime": {
     "end_time": "2025-03-21T11:50:35.847643Z",
     "start_time": "2025-03-21T11:50:35.845528Z"
    }
   },
   "cell_type": "code",
   "source": [
    "# disable the NUMA warning/support\n",
    "# import os\n",
    "# from cProfile import label\n",
    "\n",
    "# from keras.src.backend import shape\n",
    "# from keras.src.backend.jax.core import unstack\n",
    "\n",
    "# os.environ['TF_NUMA_ENABLED'] = '0'"
   ],
   "id": "71bad6c4345fea1d",
   "outputs": [],
   "execution_count": 71
  },
  {
   "metadata": {
    "ExecuteTime": {
     "end_time": "2025-03-21T11:50:35.857874Z",
     "start_time": "2025-03-21T11:50:35.855705Z"
    }
   },
   "cell_type": "code",
   "source": [
    "import numpy as np\n",
    "import tensorflow as tf\n",
    "import matplotlib.pyplot as plt\n",
    "import pandas as pd\n",
    "from tensorflow import keras as ks\n",
    "# import keras as ks\n",
    "\n",
    "# print(tf.__version__)"
   ],
   "id": "ef4d879f9231ec8a",
   "outputs": [],
   "execution_count": 72
  },
  {
   "metadata": {
    "ExecuteTime": {
     "end_time": "2025-03-21T11:50:35.943695Z",
     "start_time": "2025-03-21T11:50:35.866963Z"
    }
   },
   "cell_type": "code",
   "source": [
    "# create some data for first regression example\n",
    "\n",
    "x = np.array([-7.0, -4.0, -1.0, 2.0, 5.0, 8.0, 11.0, 14.0])\n",
    "y = np.array([3.0, 6.0, 9.0, 12.0, 15.0, 18.0, 21.0, 24.0])\n",
    "\n",
    "plt.scatter(x, y)"
   ],
   "id": "fef168d166d09045",
   "outputs": [
    {
     "data": {
      "text/plain": [
       "<matplotlib.collections.PathCollection at 0x310563eb0>"
      ]
     },
     "execution_count": 73,
     "metadata": {},
     "output_type": "execute_result"
    },
    {
     "data": {
      "text/plain": [
       "<Figure size 640x480 with 1 Axes>"
      ],
      "image/png": "[encoded data removed]"
     },
     "metadata": {},
     "output_type": "display_data"
    }
   ],
   "execution_count": 73
  },
  {
   "metadata": {
    "ExecuteTime": {
     "end_time": "2025-03-21T11:50:35.972929Z",
     "start_time": "2025-03-21T11:50:35.966356Z"
    }
   },
   "cell_type": "code",
   "source": [
    "# check the pattern in the data idea\n",
    "x + 10"
   ],
   "id": "d11d7047d0cf1154",
   "outputs": [
    {
     "data": {
      "text/plain": [
       "array([ 3.,  6.,  9., 12., 15., 18., 21., 24.])"
      ]
     },
     "execution_count": 74,
     "metadata": {},
     "output_type": "execute_result"
    }
   ],
   "execution_count": 74
  },
  {
   "metadata": {
    "ExecuteTime": {
     "end_time": "2025-03-21T11:50:35.998330Z",
     "start_time": "2025-03-21T11:50:35.993364Z"
    }
   },
   "cell_type": "code",
   "source": "y == x + 10",
   "id": "f54279a2c46b5295",
   "outputs": [
    {
     "data": {
      "text/plain": [
       "array([ True,  True,  True,  True,  True,  True,  True,  True])"
      ]
     },
     "execution_count": 75,
     "metadata": {},
     "output_type": "execute_result"
    }
   ],
   "execution_count": 75
  },
  {
   "metadata": {
    "ExecuteTime": {
     "end_time": "2025-03-21T11:50:36.031706Z",
     "start_time": "2025-03-21T11:50:36.025212Z"
    }
   },
   "cell_type": "code",
   "source": [
    "# example of housing info, video example\n",
    "house_info = tf.constant(['bedroom', 'bathroom', 'garage'])\n",
    "house_price = tf.constant([939700])\n",
    "house_info, house_price"
   ],
   "id": "df75da7178243e93",
   "outputs": [
    {
     "data": {
      "text/plain": [
       "(<tf.Tensor: shape=(3,), dtype=string, numpy=array([b'bedroom', b'bathroom', b'garage'], dtype=object)>,\n",
       " <tf.Tensor: shape=(1,), dtype=int32, numpy=array([939700], dtype=int32)>)"
      ]
     },
     "execution_count": 76,
     "metadata": {},
     "output_type": "execute_result"
    }
   ],
   "execution_count": 76
  },
  {
   "metadata": {},
   "cell_type": "markdown",
   "source": [
    "in this example the house_info has  the shape of 3 and the house_price has the shape of 1.\n",
    "So what wr are trying to do is to make conclusions of the house_price out of the house_info."
   ],
   "id": "2e3deb930ecceaf5"
  },
  {
   "metadata": {},
   "cell_type": "markdown",
   "source": [
    "## Video 44\n",
    "\n"
   ],
   "id": "eae60a2a3dac384a"
  },
  {
   "metadata": {
    "ExecuteTime": {
     "end_time": "2025-03-21T11:50:36.063269Z",
     "start_time": "2025-03-21T11:50:36.054024Z"
    }
   },
   "cell_type": "code",
   "source": [
    "# turn numpy arrays into tensors\n",
    "x = tf.constant(x)\n",
    "y = tf.constant(y)\n",
    "x, y"
   ],
   "id": "63b5f3621df7e822",
   "outputs": [
    {
     "data": {
      "text/plain": [
       "(<tf.Tensor: shape=(8,), dtype=float64, numpy=array([-7., -4., -1.,  2.,  5.,  8., 11., 14.])>,\n",
       " <tf.Tensor: shape=(8,), dtype=float64, numpy=array([ 3.,  6.,  9., 12., 15., 18., 21., 24.])>)"
      ]
     },
     "execution_count": 77,
     "metadata": {},
     "output_type": "execute_result"
    }
   ],
   "execution_count": 77
  },
  {
   "metadata": {
    "ExecuteTime": {
     "end_time": "2025-03-21T11:50:36.081073Z",
     "start_time": "2025-03-21T11:50:36.075605Z"
    }
   },
   "cell_type": "code",
   "source": [
    "input_shape_x = x[0].shape\n",
    "input_shape_y = y[0].shape\n",
    "input_shape_x, input_shape_y"
   ],
   "id": "278e8ee3d7912a9d",
   "outputs": [
    {
     "data": {
      "text/plain": [
       "(TensorShape([]), TensorShape([]))"
      ]
     },
     "execution_count": 78,
     "metadata": {},
     "output_type": "execute_result"
    }
   ],
   "execution_count": 78
  },
  {
   "metadata": {
    "ExecuteTime": {
     "end_time": "2025-03-21T11:50:36.171808Z",
     "start_time": "2025-03-21T11:50:36.097780Z"
    }
   },
   "cell_type": "code",
   "source": "plt.scatter(x, y)",
   "id": "b4dd8d870c764256",
   "outputs": [
    {
     "data": {
      "text/plain": [
       "<matplotlib.collections.PathCollection at 0x311b3d9a0>"
      ]
     },
     "execution_count": 79,
     "metadata": {},
     "output_type": "execute_result"
    },
    {
     "data": {
      "text/plain": [
       "<Figure size 640x480 with 1 Axes>"
      ],
      "image/png": "[encoded data removed]"
     },
     "metadata": {},
     "output_type": "display_data"
    }
   ],
   "execution_count": 79
  },
  {
   "metadata": {},
   "cell_type": "markdown",
   "source": [
    "## Start modelling with TensorFlow\n",
    "\n",
    "1. Create a model: define input layer and hidden layers and output layer\n",
    "2. Compile a model: define the loss function and the optimizer\n",
    "3. Fit a model: let the model find patterns between X and y\n",
    "4. Evaluate a model: check how well the model is doing"
   ],
   "id": "bab1652fd5e302ff"
  },
  {
   "metadata": {
    "ExecuteTime": {
     "end_time": "2025-03-21T11:50:36.474892Z",
     "start_time": "2025-03-21T11:50:36.196823Z"
    }
   },
   "cell_type": "code",
   "source": [
    "# x = tf.cast(x, dtype=tf.float32)\n",
    "# y = tf.cast(y, dtype=tf.float32)# set random seed\n",
    "\n",
    "tf.random.set_seed(42)\n",
    "\n",
    "# 1. create a model\n",
    "model = ks.Sequential()\n",
    "model.add(ks.layers.Input(shape=(1,)))\n",
    "model.add(ks.layers.Dense(1))\n",
    "\n",
    "# 2. compile the model\n",
    "model.compile(loss=ks.losses.mae,\n",
    "              optimizer=tf.keras.optimizers.SGD(),\n",
    "              metrics=['mae'])\n",
    "\n",
    "model.fit(x, y, epochs=5)\n"
   ],
   "id": "efd982b96443f24a",
   "outputs": [
    {
     "name": "stderr",
     "output_type": "stream",
     "text": [
      "WARNING:absl:At this time, the v2.11+ optimizer `tf.keras.optimizers.SGD` runs slowly on M1/M2 Macs, please use the legacy Keras optimizer instead, located at `tf.keras.optimizers.legacy.SGD`.\n",
      "WARNING:absl:There is a known slowdown when using v2.11+ Keras optimizers on M1/M2 Macs. Falling back to the legacy Keras optimizer, i.e., `tf.keras.optimizers.legacy.SGD`.\n"
     ]
    },
    {
     "name": "stdout",
     "output_type": "stream",
     "text": [
      "Epoch 1/5\n",
      "1/1 [==============================] - 0s 138ms/step - loss: 20.1911 - mae: 20.1911\n",
      "Epoch 2/5\n",
      "1/1 [==============================] - 0s 8ms/step - loss: 19.9098 - mae: 19.9098\n",
      "Epoch 3/5\n"
     ]
    },
    {
     "name": "stderr",
     "output_type": "stream",
     "text": [
      "2025-03-21 12:50:36.355910: I tensorflow/core/grappler/optimizers/custom_graph_optimizer_registry.cc:114] Plugin optimizer for device_type GPU is enabled.\n"
     ]
    },
    {
     "name": "stdout",
     "output_type": "stream",
     "text": [
      "1/1 [==============================] - 0s 9ms/step - loss: 19.6286 - mae: 19.6286\n",
      "Epoch 4/5\n",
      "1/1 [==============================] - 0s 10ms/step - loss: 19.3473 - mae: 19.3473\n",
      "Epoch 5/5\n",
      "1/1 [==============================] - 0s 15ms/step - loss: 19.0661 - mae: 19.0661\n"
     ]
    },
    {
     "data": {
      "text/plain": [
       "<keras.src.callbacks.History at 0x312369940>"
      ]
     },
     "execution_count": 80,
     "metadata": {},
     "output_type": "execute_result"
    }
   ],
   "execution_count": 80
  },
  {
   "metadata": {
    "ExecuteTime": {
     "end_time": "2025-03-21T11:50:36.600798Z",
     "start_time": "2025-03-21T11:50:36.597387Z"
    }
   },
   "cell_type": "code",
   "source": "x.dtype, y.dtype",
   "id": "c6b548870bd0e039",
   "outputs": [
    {
     "data": {
      "text/plain": [
       "(tf.float64, tf.float64)"
      ]
     },
     "execution_count": 81,
     "metadata": {},
     "output_type": "execute_result"
    }
   ],
   "execution_count": 81
  },
  {
   "metadata": {
    "ExecuteTime": {
     "end_time": "2025-03-21T11:50:36.674195Z",
     "start_time": "2025-03-21T11:50:36.662128Z"
    }
   },
   "cell_type": "code",
   "source": [
    "x = tf.cast(x, dtype=tf.float32)\n",
    "y = tf.cast(y, dtype=tf.float32)\n",
    "x.dtype, y.dtype"
   ],
   "id": "9c6e3065da47b102",
   "outputs": [
    {
     "data": {
      "text/plain": [
       "(tf.float32, tf.float32)"
      ]
     },
     "execution_count": 82,
     "metadata": {},
     "output_type": "execute_result"
    }
   ],
   "execution_count": 82
  },
  {
   "metadata": {
    "ExecuteTime": {
     "end_time": "2025-03-21T11:50:36.745226Z",
     "start_time": "2025-03-21T11:50:36.739914Z"
    }
   },
   "cell_type": "code",
   "source": "x, y",
   "id": "71f590104df8ea23",
   "outputs": [
    {
     "data": {
      "text/plain": [
       "(<tf.Tensor: shape=(8,), dtype=float32, numpy=array([-7., -4., -1.,  2.,  5.,  8., 11., 14.], dtype=float32)>,\n",
       " <tf.Tensor: shape=(8,), dtype=float32, numpy=array([ 3.,  6.,  9., 12., 15., 18., 21., 24.], dtype=float32)>)"
      ]
     },
     "execution_count": 83,
     "metadata": {},
     "output_type": "execute_result"
    }
   ],
   "execution_count": 83
  },
  {
   "metadata": {
    "ExecuteTime": {
     "end_time": "2025-03-21T11:50:36.815027Z",
     "start_time": "2025-03-21T11:50:36.808524Z"
    }
   },
   "cell_type": "code",
   "source": [
    "# 3. fit the model\n",
    "type(x), type(y)"
   ],
   "id": "40233e7ca2b18f52",
   "outputs": [
    {
     "data": {
      "text/plain": [
       "(tensorflow.python.framework.ops.EagerTensor,\n",
       " tensorflow.python.framework.ops.EagerTensor)"
      ]
     },
     "execution_count": 84,
     "metadata": {},
     "output_type": "execute_result"
    }
   ],
   "execution_count": 84
  },
  {
   "metadata": {
    "ExecuteTime": {
     "end_time": "2025-03-21T11:50:37.129975Z",
     "start_time": "2025-03-21T11:50:36.859752Z"
    }
   },
   "cell_type": "code",
   "source": "model.fit(x, y, epochs=20)",
   "id": "58a2bbbf51a17fc4",
   "outputs": [
    {
     "name": "stdout",
     "output_type": "stream",
     "text": [
      "Epoch 1/20\n",
      "1/1 [==============================] - 0s 92ms/step - loss: 18.7848 - mae: 18.7848\n",
      "Epoch 2/20\n",
      "1/1 [==============================] - 0s 6ms/step - loss: 18.5036 - mae: 18.5036\n",
      "Epoch 3/20\n",
      "1/1 [==============================] - 0s 6ms/step - loss: 18.2223 - mae: 18.2223\n",
      "Epoch 4/20\n",
      "1/1 [==============================] - 0s 6ms/step - loss: 17.9411 - mae: 17.9411\n",
      "Epoch 5/20\n",
      "1/1 [==============================] - 0s 6ms/step - loss: 17.6598 - mae: 17.6598\n",
      "Epoch 6/20\n",
      "1/1 [==============================] - 0s 6ms/step - loss: 17.3786 - mae: 17.3786\n",
      "Epoch 7/20\n",
      "1/1 [==============================] - 0s 6ms/step - loss: 17.0973 - mae: 17.0973\n",
      "Epoch 8/20\n",
      "1/1 [==============================] - 0s 6ms/step - loss: 16.8161 - mae: 16.8161\n",
      "Epoch 9/20\n",
      "1/1 [==============================] - 0s 6ms/step - loss: 16.5348 - mae: 16.5348\n",
      "Epoch 10/20\n",
      "1/1 [==============================] - 0s 6ms/step - loss: 16.2536 - mae: 16.2536\n",
      "Epoch 11/20\n",
      "1/1 [==============================] - 0s 6ms/step - loss: 15.9723 - mae: 15.9723\n",
      "Epoch 12/20\n",
      "1/1 [==============================] - 0s 6ms/step - loss: 15.6911 - mae: 15.6911\n",
      "Epoch 13/20\n",
      "1/1 [==============================] - 0s 6ms/step - loss: 15.4098 - mae: 15.4098\n",
      "Epoch 14/20\n",
      "1/1 [==============================] - 0s 6ms/step - loss: 15.1286 - mae: 15.1286\n",
      "Epoch 15/20\n",
      "1/1 [==============================] - 0s 6ms/step - loss: 14.8473 - mae: 14.8473\n",
      "Epoch 16/20\n",
      "1/1 [==============================] - 0s 6ms/step - loss: 14.6357 - mae: 14.6357\n",
      "Epoch 17/20\n",
      "1/1 [==============================] - 0s 6ms/step - loss: 14.5032 - mae: 14.5032\n",
      "Epoch 18/20\n",
      "1/1 [==============================] - 0s 6ms/step - loss: 14.3707 - mae: 14.3707\n",
      "Epoch 19/20\n",
      "1/1 [==============================] - 0s 6ms/step - loss: 14.2382 - mae: 14.2382\n",
      "Epoch 20/20\n",
      "1/1 [==============================] - 0s 6ms/step - loss: 14.1057 - mae: 14.1057\n"
     ]
    },
    {
     "name": "stderr",
     "output_type": "stream",
     "text": [
      "2025-03-21 12:50:36.929781: I tensorflow/core/grappler/optimizers/custom_graph_optimizer_registry.cc:114] Plugin optimizer for device_type GPU is enabled.\n"
     ]
    },
    {
     "data": {
      "text/plain": [
       "<keras.src.callbacks.History at 0x31231b730>"
      ]
     },
     "execution_count": 85,
     "metadata": {},
     "output_type": "execute_result"
    }
   ],
   "execution_count": 85
  },
  {
   "metadata": {
    "ExecuteTime": {
     "end_time": "2025-03-21T11:50:37.138154Z",
     "start_time": "2025-03-21T11:50:37.134478Z"
    }
   },
   "cell_type": "code",
   "source": [
    "try_1 = tf.constant([17.0])\n",
    "try_1"
   ],
   "id": "a8533cf0b77737f4",
   "outputs": [
    {
     "data": {
      "text/plain": [
       "<tf.Tensor: shape=(1,), dtype=float32, numpy=array([17.], dtype=float32)>"
      ]
     },
     "execution_count": 86,
     "metadata": {},
     "output_type": "execute_result"
    }
   ],
   "execution_count": 86
  },
  {
   "metadata": {
    "ExecuteTime": {
     "end_time": "2025-03-21T11:50:37.365785Z",
     "start_time": "2025-03-21T11:50:37.160302Z"
    }
   },
   "cell_type": "code",
   "source": [
    "pred_1 = model.predict(try_1)\n",
    "pred_1"
   ],
   "id": "be2100db304f197d",
   "outputs": [
    {
     "name": "stdout",
     "output_type": "stream",
     "text": [
      "1/1 [==============================] - 0s 184ms/step\n"
     ]
    },
    {
     "name": "stderr",
     "output_type": "stream",
     "text": [
      "2025-03-21 12:50:37.222018: I tensorflow/core/grappler/optimizers/custom_graph_optimizer_registry.cc:114] Plugin optimizer for device_type GPU is enabled.\n"
     ]
    },
    {
     "data": {
      "text/plain": [
       "array([[-3.0699255]], dtype=float32)"
      ]
     },
     "execution_count": 87,
     "metadata": {},
     "output_type": "execute_result"
    }
   ],
   "execution_count": 87
  },
  {
   "metadata": {
    "ExecuteTime": {
     "end_time": "2025-03-21T11:50:37.388109Z",
     "start_time": "2025-03-21T11:50:37.385190Z"
    }
   },
   "cell_type": "code",
   "source": "type(pred_1)",
   "id": "b6f87d4b55325083",
   "outputs": [
    {
     "data": {
      "text/plain": [
       "numpy.ndarray"
      ]
     },
     "execution_count": 88,
     "metadata": {},
     "output_type": "execute_result"
    }
   ],
   "execution_count": 88
  },
  {
   "metadata": {
    "ExecuteTime": {
     "end_time": "2025-03-21T11:50:37.719432Z",
     "start_time": "2025-03-21T11:50:37.536063Z"
    }
   },
   "cell_type": "code",
   "source": [
    "X_test = tf.constant([17, 20, 23, 26, 29, 31, 34, 37], dtype=tf.float32, shape=(8,))\n",
    "predict = tf.cast(model.predict(X_test), dtype=tf.float32)\n",
    "predict = tf.reshape(predict, shape=(8,))\n",
    "X_test, predict"
   ],
   "id": "66c770ea332b8207",
   "outputs": [
    {
     "name": "stdout",
     "output_type": "stream",
     "text": [
      "1/1 [==============================] - 0s 159ms/step\n"
     ]
    },
    {
     "data": {
      "text/plain": [
       "(<tf.Tensor: shape=(8,), dtype=float32, numpy=array([17., 20., 23., 26., 29., 31., 34., 37.], dtype=float32)>,\n",
       " <tf.Tensor: shape=(8,), dtype=float32, numpy=\n",
       " array([-3.0699255, -3.6469715, -4.224017 , -4.801063 , -5.3781085,\n",
       "        -5.762806 , -6.3398514, -6.9168973], dtype=float32)>)"
      ]
     },
     "execution_count": 89,
     "metadata": {},
     "output_type": "execute_result"
    }
   ],
   "execution_count": 89
  },
  {
   "metadata": {
    "ExecuteTime": {
     "end_time": "2025-03-21T11:50:37.912480Z",
     "start_time": "2025-03-21T11:50:37.795350Z"
    }
   },
   "cell_type": "code",
   "source": [
    "x_all = tf.concat([x, X_test], axis=0)\n",
    "y_all = tf.concat([y, predict], axis=0)\n",
    "plt.scatter(x_all, y_all)"
   ],
   "id": "e49cfcf266919a0f",
   "outputs": [
    {
     "data": {
      "text/plain": [
       "<matplotlib.collections.PathCollection at 0x311ad97c0>"
      ]
     },
     "execution_count": 90,
     "metadata": {},
     "output_type": "execute_result"
    },
    {
     "data": {
      "text/plain": [
       "<Figure size 640x480 with 1 Axes>"
      ],
      "image/png": "[encoded data removed]"
     },
     "metadata": {},
     "output_type": "display_data"
    }
   ],
   "execution_count": 90
  },
  {
   "metadata": {
    "ExecuteTime": {
     "end_time": "2025-03-21T11:50:37.934494Z",
     "start_time": "2025-03-21T11:50:37.931017Z"
    }
   },
   "cell_type": "code",
   "source": [
    "def concat_pred_and_print(x_test: list, x, y, model):\n",
    "    test = tf.cast(x_test, dtype=tf.float32)\n",
    "\n",
    "    test_predict = model.predict(test)\n",
    "    test_reshape = tf.reshape(test_predict, shape=(len(x_test),))\n",
    "\n",
    "    x_all = tf.concat([x, test], axis=0)\n",
    "    y_all = tf.concat([y, test_reshape], axis=0)\n",
    "    plt.scatter(x_all, y_all)"
   ],
   "id": "4ea06ff605dd10de",
   "outputs": [],
   "execution_count": 91
  },
  {
   "metadata": {
    "ExecuteTime": {
     "end_time": "2025-03-21T11:50:38.113193Z",
     "start_time": "2025-03-21T11:50:37.960863Z"
    }
   },
   "cell_type": "code",
   "source": "concat_pred_and_print([17, 20, 23, 26, 29, 31, 34, 37], x, y, model)",
   "id": "c583524354d8186d",
   "outputs": [
    {
     "name": "stdout",
     "output_type": "stream",
     "text": [
      "1/1 [==============================] - 0s 18ms/step\n"
     ]
    },
    {
     "data": {
      "text/plain": [
       "<Figure size 640x480 with 1 Axes>"
      ],
      "image/png": "[encoded data removed]"
     },
     "metadata": {},
     "output_type": "display_data"
    }
   ],
   "execution_count": 92
  },
  {
   "metadata": {},
   "cell_type": "markdown",
   "source": [
    "## Video 45\n",
    "\n",
    "Optimierung des Modells\n",
    "\n",
    "Idea, test to shuffle the learn data"
   ],
   "id": "7bd49a065685749d"
  },
  {
   "metadata": {
    "ExecuteTime": {
     "end_time": "2025-03-21T11:50:38.146228Z",
     "start_time": "2025-03-21T11:50:38.136663Z"
    }
   },
   "cell_type": "code",
   "source": [
    "stacked = tf.stack([x, y], axis=1)\n",
    "stacked"
   ],
   "id": "2cf7aee4d4dd7c5c",
   "outputs": [
    {
     "data": {
      "text/plain": [
       "<tf.Tensor: shape=(8, 2), dtype=float32, numpy=\n",
       "array([[-7.,  3.],\n",
       "       [-4.,  6.],\n",
       "       [-1.,  9.],\n",
       "       [ 2., 12.],\n",
       "       [ 5., 15.],\n",
       "       [ 8., 18.],\n",
       "       [11., 21.],\n",
       "       [14., 24.]], dtype=float32)>"
      ]
     },
     "execution_count": 93,
     "metadata": {},
     "output_type": "execute_result"
    }
   ],
   "execution_count": 93
  },
  {
   "metadata": {
    "ExecuteTime": {
     "end_time": "2025-03-21T11:50:38.196816Z",
     "start_time": "2025-03-21T11:50:38.190431Z"
    }
   },
   "cell_type": "code",
   "source": [
    "shuffled = tf.random.shuffle(stacked)\n",
    "shuffled"
   ],
   "id": "4fe7b4b5a3c832ad",
   "outputs": [
    {
     "data": {
      "text/plain": [
       "<tf.Tensor: shape=(8, 2), dtype=float32, numpy=\n",
       "array([[14., 24.],\n",
       "       [-1.,  9.],\n",
       "       [-7.,  3.],\n",
       "       [ 5., 15.],\n",
       "       [ 2., 12.],\n",
       "       [-4.,  6.],\n",
       "       [ 8., 18.],\n",
       "       [11., 21.]], dtype=float32)>"
      ]
     },
     "execution_count": 94,
     "metadata": {},
     "output_type": "execute_result"
    }
   ],
   "execution_count": 94
  },
  {
   "metadata": {
    "ExecuteTime": {
     "end_time": "2025-03-21T11:50:38.257146Z",
     "start_time": "2025-03-21T11:50:38.250957Z"
    }
   },
   "cell_type": "code",
   "source": [
    "x, y = tf.unstack(shuffled, axis=1)\n",
    "x, y"
   ],
   "id": "19f47efb6ac616e3",
   "outputs": [
    {
     "data": {
      "text/plain": [
       "(<tf.Tensor: shape=(8,), dtype=float32, numpy=array([14., -1., -7.,  5.,  2., -4.,  8., 11.], dtype=float32)>,\n",
       " <tf.Tensor: shape=(8,), dtype=float32, numpy=array([24.,  9.,  3., 15., 12.,  6., 18., 21.], dtype=float32)>)"
      ]
     },
     "execution_count": 95,
     "metadata": {},
     "output_type": "execute_result"
    }
   ],
   "execution_count": 95
  },
  {
   "metadata": {
    "ExecuteTime": {
     "end_time": "2025-03-21T11:50:38.393263Z",
     "start_time": "2025-03-21T11:50:38.302986Z"
    }
   },
   "cell_type": "code",
   "source": "model.fit(x, y, epochs=5)",
   "id": "b1dc96cf19a6a669",
   "outputs": [
    {
     "name": "stdout",
     "output_type": "stream",
     "text": [
      "Epoch 1/5\n",
      "1/1 [==============================] - 0s 8ms/step - loss: 13.9732 - mae: 13.9732\n",
      "Epoch 2/5\n",
      "1/1 [==============================] - 0s 9ms/step - loss: 13.8407 - mae: 13.8407\n",
      "Epoch 3/5\n",
      "1/1 [==============================] - 0s 9ms/step - loss: 13.7082 - mae: 13.7082\n",
      "Epoch 4/5\n",
      "1/1 [==============================] - 0s 8ms/step - loss: 13.5757 - mae: 13.5757\n",
      "Epoch 5/5\n",
      "1/1 [==============================] - 0s 7ms/step - loss: 13.4432 - mae: 13.4432\n"
     ]
    },
    {
     "data": {
      "text/plain": [
       "<keras.src.callbacks.History at 0x30f787e50>"
      ]
     },
     "execution_count": 96,
     "metadata": {},
     "output_type": "execute_result"
    }
   ],
   "execution_count": 96
  },
  {
   "metadata": {
    "ExecuteTime": {
     "end_time": "2025-03-21T11:50:38.529695Z",
     "start_time": "2025-03-21T11:50:38.425128Z"
    }
   },
   "cell_type": "code",
   "source": "concat_pred_and_print([17, 20, 23, 26, 29, 31, 34, 37], x, y, model)",
   "id": "8645fd2fbfbd546e",
   "outputs": [
    {
     "name": "stdout",
     "output_type": "stream",
     "text": [
      "1/1 [==============================] - 0s 12ms/step\n"
     ]
    },
    {
     "data": {
      "text/plain": [
       "<Figure size 640x480 with 1 Axes>"
      ],
      "image/png": "[encoded data removed]"
     },
     "metadata": {},
     "output_type": "display_data"
    }
   ],
   "execution_count": 97
  },
  {
   "metadata": {
    "ExecuteTime": {
     "end_time": "2025-03-21T11:50:39.063641Z",
     "start_time": "2025-03-21T11:50:38.541567Z"
    }
   },
   "cell_type": "code",
   "source": [
    "x = np.array([-7.0, -4.0, -1.0, 2.0, 5.0, 8.0, 11.0, 14.0]) # 17, 20\n",
    "y = np.array([3.0, 6.0, 9.0, 12.0, 15.0, 18.0, 21.0, 24.0]) # 27, 30\n",
    "X_orig = tf.constant(x, dtype=tf.float32)\n",
    "y_orig = tf.constant(y, dtype=tf.float32)\n",
    "\n",
    "# 1. create a model\n",
    "model = ks.Sequential()\n",
    "model.add(ks.layers.Input(shape=(1,)))\n",
    "model.add(ks.layers.Dense(100,  activation='relu'))\n",
    "model.add(ks.layers.Dense(100, activation='relu'))\n",
    "model.add(ks.layers.Dense(100, activation='relu'))\n",
    "model.add(ks.layers.Dense(1, activation='relu'))\n",
    "\n",
    "# 2. compile the model\n",
    "model.compile(loss=ks.losses.MeanAbsoluteError,\n",
    "              optimizer=ks.optimizers.Adam(learning_rate=0.001),\n",
    "              metrics=['mae'])\n",
    "\n",
    "# 3. fit the model\n",
    "model.fit(X_orig, y_orig, epochs=40)"
   ],
   "id": "e98af34a6d4584f",
   "outputs": [
    {
     "name": "stderr",
     "output_type": "stream",
     "text": [
      "WARNING:absl:At this time, the v2.11+ optimizer `tf.keras.optimizers.Adam` runs slowly on M1/M2 Macs, please use the legacy Keras optimizer instead, located at `tf.keras.optimizers.legacy.Adam`.\n",
      "WARNING:absl:There is a known slowdown when using v2.11+ Keras optimizers on M1/M2 Macs. Falling back to the legacy Keras optimizer, i.e., `tf.keras.optimizers.legacy.Adam`.\n"
     ]
    },
    {
     "name": "stdout",
     "output_type": "stream",
     "text": [
      "Epoch 1/40\n"
     ]
    },
    {
     "ename": "TypeError",
     "evalue": "in user code:\n\n    File \"/Users/light/.venvs/default_ai_tools/lib/python3.8/site-packages/keras/src/engine/training.py\", line 1338, in train_function  *\n        return step_function(self, iterator)\n    File \"/Users/light/.venvs/default_ai_tools/lib/python3.8/site-packages/keras/src/engine/training.py\", line 1322, in step_function  **\n        outputs = model.distribute_strategy.run(run_step, args=(data,))\n    File \"/Users/light/.venvs/default_ai_tools/lib/python3.8/site-packages/keras/src/engine/training.py\", line 1303, in run_step  **\n        outputs = model.train_step(data)\n    File \"/Users/light/.venvs/default_ai_tools/lib/python3.8/site-packages/keras/src/engine/training.py\", line 1081, in train_step\n        loss = self.compute_loss(x, y, y_pred, sample_weight)\n    File \"/Users/light/.venvs/default_ai_tools/lib/python3.8/site-packages/keras/src/engine/training.py\", line 1139, in compute_loss\n        return self.compiled_loss(\n    File \"/Users/light/.venvs/default_ai_tools/lib/python3.8/site-packages/keras/src/engine/compile_utils.py\", line 265, in __call__\n        loss_value = loss_obj(y_t, y_p, sample_weight=sw)\n    File \"/Users/light/.venvs/default_ai_tools/lib/python3.8/site-packages/keras/src/losses.py\", line 142, in __call__\n        losses = call_fn(y_true, y_pred)\n    File \"/Users/light/.venvs/default_ai_tools/lib/python3.8/site-packages/keras/src/losses.py\", line 268, in call  **\n        return ag_fn(y_true, y_pred, **self._fn_kwargs)\n    File \"/Users/light/.venvs/default_ai_tools/lib/python3.8/site-packages/keras/src/losses.py\", line 419, in __init__  **\n        super().__init__(mean_absolute_error, name=name, reduction=reduction)\n    File \"/Users/light/.venvs/default_ai_tools/lib/python3.8/site-packages/keras/src/losses.py\", line 246, in __init__\n        super().__init__(reduction=reduction, name=name)\n    File \"/Users/light/.venvs/default_ai_tools/lib/python3.8/site-packages/keras/src/losses.py\", line 83, in __init__\n        losses_utils.ReductionV2.validate(reduction)\n    File \"/Users/light/.venvs/default_ai_tools/lib/python3.8/site-packages/keras/src/utils/losses_utils.py\", line 87, in validate\n        if key not in cls.all():\n\n    TypeError: Expected float32 passed to parameter 'y' of op 'Equal', got 'auto' of type 'str' instead. Error: Expected float32, but got auto of type 'str'.\n",
     "output_type": "error",
     "traceback": [
      "\u001B[0;31m---------------------------------------------------------------------------\u001B[0m",
      "\u001B[0;31mTypeError\u001B[0m                                 Traceback (most recent call last)",
      "Cell \u001B[0;32mIn[98], line 20\u001B[0m\n\u001B[1;32m     15\u001B[0m model\u001B[38;5;241m.\u001B[39mcompile(loss\u001B[38;5;241m=\u001B[39mks\u001B[38;5;241m.\u001B[39mlosses\u001B[38;5;241m.\u001B[39mMeanAbsoluteError,\n\u001B[1;32m     16\u001B[0m               optimizer\u001B[38;5;241m=\u001B[39mks\u001B[38;5;241m.\u001B[39moptimizers\u001B[38;5;241m.\u001B[39mAdam(learning_rate\u001B[38;5;241m=\u001B[39m\u001B[38;5;241m0.001\u001B[39m),\n\u001B[1;32m     17\u001B[0m               metrics\u001B[38;5;241m=\u001B[39m[\u001B[38;5;124m'\u001B[39m\u001B[38;5;124mmae\u001B[39m\u001B[38;5;124m'\u001B[39m])\n\u001B[1;32m     19\u001B[0m \u001B[38;5;66;03m# 3. fit the model\u001B[39;00m\n\u001B[0;32m---> 20\u001B[0m \u001B[43mmodel\u001B[49m\u001B[38;5;241;43m.\u001B[39;49m\u001B[43mfit\u001B[49m\u001B[43m(\u001B[49m\u001B[43mX_orig\u001B[49m\u001B[43m,\u001B[49m\u001B[43m \u001B[49m\u001B[43my_orig\u001B[49m\u001B[43m,\u001B[49m\u001B[43m \u001B[49m\u001B[43mepochs\u001B[49m\u001B[38;5;241;43m=\u001B[39;49m\u001B[38;5;241;43m40\u001B[39;49m\u001B[43m)\u001B[49m\n",
      "File \u001B[0;32m~/.venvs/default_ai_tools/lib/python3.8/site-packages/keras/src/utils/traceback_utils.py:70\u001B[0m, in \u001B[0;36mfilter_traceback.<locals>.error_handler\u001B[0;34m(*args, **kwargs)\u001B[0m\n\u001B[1;32m     67\u001B[0m     filtered_tb \u001B[38;5;241m=\u001B[39m _process_traceback_frames(e\u001B[38;5;241m.\u001B[39m__traceback__)\n\u001B[1;32m     68\u001B[0m     \u001B[38;5;66;03m# To get the full stack trace, call:\u001B[39;00m\n\u001B[1;32m     69\u001B[0m     \u001B[38;5;66;03m# `tf.debugging.disable_traceback_filtering()`\u001B[39;00m\n\u001B[0;32m---> 70\u001B[0m     \u001B[38;5;28;01mraise\u001B[39;00m e\u001B[38;5;241m.\u001B[39mwith_traceback(filtered_tb) \u001B[38;5;28;01mfrom\u001B[39;00m\u001B[38;5;250m \u001B[39m\u001B[38;5;28;01mNone\u001B[39;00m\n\u001B[1;32m     71\u001B[0m \u001B[38;5;28;01mfinally\u001B[39;00m:\n\u001B[1;32m     72\u001B[0m     \u001B[38;5;28;01mdel\u001B[39;00m filtered_tb\n",
      "File \u001B[0;32m/var/folders/ts/1s_j7lh959b7bwmjd6j26b480000gn/T/__autograph_generated_filef7z5crvk.py:15\u001B[0m, in \u001B[0;36mouter_factory.<locals>.inner_factory.<locals>.tf__train_function\u001B[0;34m(iterator)\u001B[0m\n\u001B[1;32m     13\u001B[0m \u001B[38;5;28;01mtry\u001B[39;00m:\n\u001B[1;32m     14\u001B[0m     do_return \u001B[38;5;241m=\u001B[39m \u001B[38;5;28;01mTrue\u001B[39;00m\n\u001B[0;32m---> 15\u001B[0m     retval_ \u001B[38;5;241m=\u001B[39m ag__\u001B[38;5;241m.\u001B[39mconverted_call(ag__\u001B[38;5;241m.\u001B[39mld(step_function), (ag__\u001B[38;5;241m.\u001B[39mld(\u001B[38;5;28mself\u001B[39m), ag__\u001B[38;5;241m.\u001B[39mld(iterator)), \u001B[38;5;28;01mNone\u001B[39;00m, fscope)\n\u001B[1;32m     16\u001B[0m \u001B[38;5;28;01mexcept\u001B[39;00m:\n\u001B[1;32m     17\u001B[0m     do_return \u001B[38;5;241m=\u001B[39m \u001B[38;5;28;01mFalse\u001B[39;00m\n",
      "\u001B[0;31mTypeError\u001B[0m: in user code:\n\n    File \"/Users/light/.venvs/default_ai_tools/lib/python3.8/site-packages/keras/src/engine/training.py\", line 1338, in train_function  *\n        return step_function(self, iterator)\n    File \"/Users/light/.venvs/default_ai_tools/lib/python3.8/site-packages/keras/src/engine/training.py\", line 1322, in step_function  **\n        outputs = model.distribute_strategy.run(run_step, args=(data,))\n    File \"/Users/light/.venvs/default_ai_tools/lib/python3.8/site-packages/keras/src/engine/training.py\", line 1303, in run_step  **\n        outputs = model.train_step(data)\n    File \"/Users/light/.venvs/default_ai_tools/lib/python3.8/site-packages/keras/src/engine/training.py\", line 1081, in train_step\n        loss = self.compute_loss(x, y, y_pred, sample_weight)\n    File \"/Users/light/.venvs/default_ai_tools/lib/python3.8/site-packages/keras/src/engine/training.py\", line 1139, in compute_loss\n        return self.compiled_loss(\n    File \"/Users/light/.venvs/default_ai_tools/lib/python3.8/site-packages/keras/src/engine/compile_utils.py\", line 265, in __call__\n        loss_value = loss_obj(y_t, y_p, sample_weight=sw)\n    File \"/Users/light/.venvs/default_ai_tools/lib/python3.8/site-packages/keras/src/losses.py\", line 142, in __call__\n        losses = call_fn(y_true, y_pred)\n    File \"/Users/light/.venvs/default_ai_tools/lib/python3.8/site-packages/keras/src/losses.py\", line 268, in call  **\n        return ag_fn(y_true, y_pred, **self._fn_kwargs)\n    File \"/Users/light/.venvs/default_ai_tools/lib/python3.8/site-packages/keras/src/losses.py\", line 419, in __init__  **\n        super().__init__(mean_absolute_error, name=name, reduction=reduction)\n    File \"/Users/light/.venvs/default_ai_tools/lib/python3.8/site-packages/keras/src/losses.py\", line 246, in __init__\n        super().__init__(reduction=reduction, name=name)\n    File \"/Users/light/.venvs/default_ai_tools/lib/python3.8/site-packages/keras/src/losses.py\", line 83, in __init__\n        losses_utils.ReductionV2.validate(reduction)\n    File \"/Users/light/.venvs/default_ai_tools/lib/python3.8/site-packages/keras/src/utils/losses_utils.py\", line 87, in validate\n        if key not in cls.all():\n\n    TypeError: Expected float32 passed to parameter 'y' of op 'Equal', got 'auto' of type 'str' instead. Error: Expected float32, but got auto of type 'str'.\n"
     ]
    }
   ],
   "execution_count": 98
  },
  {
   "metadata": {},
   "cell_type": "markdown",
   "source": [
    "Optimizers\n",
    "- Stochastic Gradient Descent (SGD): Updates weights based on the gradient of the loss function.\n",
    "- Adam: Adaptive Moment Estimation, combines the advantages of RMSprop and momentum.\n",
    "- RMSprop: Divides the learning rate by the moving average of the root mean square of the gradients.\n",
    "- Adagrad: Adapts the learning rate to the parameters.\n",
    "- Adadelta: Extends Adagrad to reduce aggressive, monotonically decreasing learning rates.\n",
    "- Adamax: Generalization of Adam based on the infinity norm.\n",
    "- Nadam: Adam with Nesterov momentum.\n",
    "- FTRL: Follow the regularized leader optimizer."
   ],
   "id": "d54dd86dc3202743"
  },
  {
   "metadata": {
    "ExecuteTime": {
     "end_time": "2025-03-21T11:50:39.064948Z",
     "start_time": "2025-02-11T13:37:52.914906Z"
    }
   },
   "cell_type": "code",
   "source": [
    "X_orig = tf.constant([-7.0, -4.0, -1.0, 2.0, 5.0, 8.0, 11.0, 14.0], dtype=tf.float64)\n",
    "y_orig = tf.constant([3.0, 6.0, 9.0, 12.0, 15.0, 18.0, 21.0, 24.0], dtype=tf.float64)\n",
    "\n",
    "# 1. create a model\n",
    "model1 = ks.Sequential()\n",
    "model1.add(ks.layers.Input(shape=(1,)))\n",
    "model1.add(ks.layers.Dense(20, activation='relu'))\n",
    "model1.add(ks.layers.Dense(20, activation='relu'))\n",
    "model1.add(ks.layers.Dense(20, activation='relu'))\n",
    "model1.add(ks.layers.Dense(20, activation='relu'))\n",
    "model1.add(ks.layers.Dense(1))\n",
    "\n",
    "# 2. compile the model\n",
    "model1.compile(loss=ks.losses.MeanAbsoluteError,\n",
    "              optimizer=ks.optimizers.Adam(),\n",
    "              metrics=['mae'])\n",
    "\n",
    "# 3. fit the model\n",
    "model1.fit(X_orig, y_orig, epochs=200)"
   ],
   "id": "46420a8fec87086f",
   "outputs": [
    {
     "name": "stdout",
     "output_type": "stream",
     "text": [
      "Epoch 1/200\n",
      "\u001B[1m1/1\u001B[0m \u001B[32m━━━━━━━━━━━━━━━━━━━━\u001B[0m\u001B[37m\u001B[0m \u001B[1m0s\u001B[0m 402ms/step - loss: 13.2334 - mae: 13.2334\n",
      "Epoch 2/200\n",
      "\u001B[1m1/1\u001B[0m \u001B[32m━━━━━━━━━━━━━━━━━━━━\u001B[0m\u001B[37m\u001B[0m \u001B[1m0s\u001B[0m 15ms/step - loss: 13.1859 - mae: 13.1859\n",
      "Epoch 3/200\n",
      "\u001B[1m1/1\u001B[0m \u001B[32m━━━━━━━━━━━━━━━━━━━━\u001B[0m\u001B[37m\u001B[0m \u001B[1m0s\u001B[0m 15ms/step - loss: 13.1364 - mae: 13.1364\n",
      "Epoch 4/200\n",
      "\u001B[1m1/1\u001B[0m \u001B[32m━━━━━━━━━━━━━━━━━━━━\u001B[0m\u001B[37m\u001B[0m \u001B[1m0s\u001B[0m 15ms/step - loss: 13.0836 - mae: 13.0836\n",
      "Epoch 5/200\n",
      "\u001B[1m1/1\u001B[0m \u001B[32m━━━━━━━━━━━━━━━━━━━━\u001B[0m\u001B[37m\u001B[0m \u001B[1m0s\u001B[0m 15ms/step - loss: 13.0327 - mae: 13.0327\n",
      "Epoch 6/200\n",
      "\u001B[1m1/1\u001B[0m \u001B[32m━━━━━━━━━━━━━━━━━━━━\u001B[0m\u001B[37m\u001B[0m \u001B[1m0s\u001B[0m 18ms/step - loss: 12.9863 - mae: 12.9863\n",
      "Epoch 7/200\n",
      "\u001B[1m1/1\u001B[0m \u001B[32m━━━━━━━━━━━━━━━━━━━━\u001B[0m\u001B[37m\u001B[0m \u001B[1m0s\u001B[0m 17ms/step - loss: 12.9385 - mae: 12.9385\n",
      "Epoch 8/200\n",
      "\u001B[1m1/1\u001B[0m \u001B[32m━━━━━━━━━━━━━━━━━━━━\u001B[0m\u001B[37m\u001B[0m \u001B[1m0s\u001B[0m 16ms/step - loss: 12.8894 - mae: 12.8894\n",
      "Epoch 9/200\n",
      "\u001B[1m1/1\u001B[0m \u001B[32m━━━━━━━━━━━━━━━━━━━━\u001B[0m\u001B[37m\u001B[0m \u001B[1m0s\u001B[0m 15ms/step - loss: 12.8388 - mae: 12.8388\n",
      "Epoch 10/200\n",
      "\u001B[1m1/1\u001B[0m \u001B[32m━━━━━━━━━━━━━━━━━━━━\u001B[0m\u001B[37m\u001B[0m \u001B[1m0s\u001B[0m 15ms/step - loss: 12.7869 - mae: 12.7869\n",
      "Epoch 11/200\n",
      "\u001B[1m1/1\u001B[0m \u001B[32m━━━━━━━━━━━━━━━━━━━━\u001B[0m\u001B[37m\u001B[0m \u001B[1m0s\u001B[0m 15ms/step - loss: 12.7334 - mae: 12.7334\n",
      "Epoch 12/200\n",
      "\u001B[1m1/1\u001B[0m \u001B[32m━━━━━━━━━━━━━━━━━━━━\u001B[0m\u001B[37m\u001B[0m \u001B[1m0s\u001B[0m 15ms/step - loss: 12.6783 - mae: 12.6783\n",
      "Epoch 13/200\n",
      "\u001B[1m1/1\u001B[0m \u001B[32m━━━━━━━━━━━━━━━━━━━━\u001B[0m\u001B[37m\u001B[0m \u001B[1m0s\u001B[0m 15ms/step - loss: 12.6214 - mae: 12.6214\n",
      "Epoch 14/200\n",
      "\u001B[1m1/1\u001B[0m \u001B[32m━━━━━━━━━━━━━━━━━━━━\u001B[0m\u001B[37m\u001B[0m \u001B[1m0s\u001B[0m 15ms/step - loss: 12.5625 - mae: 12.5625\n",
      "Epoch 15/200\n",
      "\u001B[1m1/1\u001B[0m \u001B[32m━━━━━━━━━━━━━━━━━━━━\u001B[0m\u001B[37m\u001B[0m \u001B[1m0s\u001B[0m 15ms/step - loss: 12.5020 - mae: 12.5020\n",
      "Epoch 16/200\n",
      "\u001B[1m1/1\u001B[0m \u001B[32m━━━━━━━━━━━━━━━━━━━━\u001B[0m\u001B[37m\u001B[0m \u001B[1m0s\u001B[0m 15ms/step - loss: 12.4396 - mae: 12.4396\n",
      "Epoch 17/200\n",
      "\u001B[1m1/1\u001B[0m \u001B[32m━━━━━━━━━━━━━━━━━━━━\u001B[0m\u001B[37m\u001B[0m \u001B[1m0s\u001B[0m 15ms/step - loss: 12.3759 - mae: 12.3759\n",
      "Epoch 18/200\n",
      "\u001B[1m1/1\u001B[0m \u001B[32m━━━━━━━━━━━━━━━━━━━━\u001B[0m\u001B[37m\u001B[0m \u001B[1m0s\u001B[0m 15ms/step - loss: 12.3102 - mae: 12.3102\n",
      "Epoch 19/200\n",
      "\u001B[1m1/1\u001B[0m \u001B[32m━━━━━━━━━━━━━━━━━━━━\u001B[0m\u001B[37m\u001B[0m \u001B[1m0s\u001B[0m 14ms/step - loss: 12.2399 - mae: 12.2399\n",
      "Epoch 20/200\n",
      "\u001B[1m1/1\u001B[0m \u001B[32m━━━━━━━━━━━━━━━━━━━━\u001B[0m\u001B[37m\u001B[0m \u001B[1m0s\u001B[0m 15ms/step - loss: 12.1664 - mae: 12.1664\n",
      "Epoch 21/200\n",
      "\u001B[1m1/1\u001B[0m \u001B[32m━━━━━━━━━━━━━━━━━━━━\u001B[0m\u001B[37m\u001B[0m \u001B[1m0s\u001B[0m 15ms/step - loss: 12.0884 - mae: 12.0884\n",
      "Epoch 22/200\n",
      "\u001B[1m1/1\u001B[0m \u001B[32m━━━━━━━━━━━━━━━━━━━━\u001B[0m\u001B[37m\u001B[0m \u001B[1m0s\u001B[0m 16ms/step - loss: 12.0047 - mae: 12.0047\n",
      "Epoch 23/200\n",
      "\u001B[1m1/1\u001B[0m \u001B[32m━━━━━━━━━━━━━━━━━━━━\u001B[0m\u001B[37m\u001B[0m \u001B[1m0s\u001B[0m 15ms/step - loss: 11.9177 - mae: 11.9177\n",
      "Epoch 24/200\n",
      "\u001B[1m1/1\u001B[0m \u001B[32m━━━━━━━━━━━━━━━━━━━━\u001B[0m\u001B[37m\u001B[0m \u001B[1m0s\u001B[0m 15ms/step - loss: 11.8229 - mae: 11.8229\n",
      "Epoch 25/200\n",
      "\u001B[1m1/1\u001B[0m \u001B[32m━━━━━━━━━━━━━━━━━━━━\u001B[0m\u001B[37m\u001B[0m \u001B[1m0s\u001B[0m 15ms/step - loss: 11.7178 - mae: 11.7178\n",
      "Epoch 26/200\n",
      "\u001B[1m1/1\u001B[0m \u001B[32m━━━━━━━━━━━━━━━━━━━━\u001B[0m\u001B[37m\u001B[0m \u001B[1m0s\u001B[0m 15ms/step - loss: 11.6348 - mae: 11.6348\n",
      "Epoch 27/200\n",
      "\u001B[1m1/1\u001B[0m \u001B[32m━━━━━━━━━━━━━━━━━━━━\u001B[0m\u001B[37m\u001B[0m \u001B[1m0s\u001B[0m 15ms/step - loss: 11.5627 - mae: 11.5627\n",
      "Epoch 28/200\n",
      "\u001B[1m1/1\u001B[0m \u001B[32m━━━━━━━━━━━━━━━━━━━━\u001B[0m\u001B[37m\u001B[0m \u001B[1m0s\u001B[0m 15ms/step - loss: 11.4868 - mae: 11.4868\n",
      "Epoch 29/200\n",
      "\u001B[1m1/1\u001B[0m \u001B[32m━━━━━━━━━━━━━━━━━━━━\u001B[0m\u001B[37m\u001B[0m \u001B[1m0s\u001B[0m 15ms/step - loss: 11.4066 - mae: 11.4066\n",
      "Epoch 30/200\n",
      "\u001B[1m1/1\u001B[0m \u001B[32m━━━━━━━━━━━━━━━━━━━━\u001B[0m\u001B[37m\u001B[0m \u001B[1m0s\u001B[0m 15ms/step - loss: 11.3238 - mae: 11.3238\n",
      "Epoch 31/200\n",
      "\u001B[1m1/1\u001B[0m \u001B[32m━━━━━━━━━━━━━━━━━━━━\u001B[0m\u001B[37m\u001B[0m \u001B[1m0s\u001B[0m 15ms/step - loss: 11.2343 - mae: 11.2343\n",
      "Epoch 32/200\n",
      "\u001B[1m1/1\u001B[0m \u001B[32m━━━━━━━━━━━━━━━━━━━━\u001B[0m\u001B[37m\u001B[0m \u001B[1m0s\u001B[0m 15ms/step - loss: 11.1336 - mae: 11.1336\n",
      "Epoch 33/200\n",
      "\u001B[1m1/1\u001B[0m \u001B[32m━━━━━━━━━━━━━━━━━━━━\u001B[0m\u001B[37m\u001B[0m \u001B[1m0s\u001B[0m 15ms/step - loss: 11.0231 - mae: 11.0231\n",
      "Epoch 34/200\n",
      "\u001B[1m1/1\u001B[0m \u001B[32m━━━━━━━━━━━━━━━━━━━━\u001B[0m\u001B[37m\u001B[0m \u001B[1m0s\u001B[0m 15ms/step - loss: 10.9064 - mae: 10.9064\n",
      "Epoch 35/200\n",
      "\u001B[1m1/1\u001B[0m \u001B[32m━━━━━━━━━━━━━━━━━━━━\u001B[0m\u001B[37m\u001B[0m \u001B[1m0s\u001B[0m 15ms/step - loss: 10.7833 - mae: 10.7833\n",
      "Epoch 36/200\n",
      "\u001B[1m1/1\u001B[0m \u001B[32m━━━━━━━━━━━━━━━━━━━━\u001B[0m\u001B[37m\u001B[0m \u001B[1m0s\u001B[0m 15ms/step - loss: 10.6538 - mae: 10.6538\n",
      "Epoch 37/200\n",
      "\u001B[1m1/1\u001B[0m \u001B[32m━━━━━━━━━━━━━━━━━━━━\u001B[0m\u001B[37m\u001B[0m \u001B[1m0s\u001B[0m 15ms/step - loss: 10.5186 - mae: 10.5186\n",
      "Epoch 38/200\n",
      "\u001B[1m1/1\u001B[0m \u001B[32m━━━━━━━━━━━━━━━━━━━━\u001B[0m\u001B[37m\u001B[0m \u001B[1m0s\u001B[0m 18ms/step - loss: 10.3784 - mae: 10.3784\n",
      "Epoch 39/200\n",
      "\u001B[1m1/1\u001B[0m \u001B[32m━━━━━━━━━━━━━━━━━━━━\u001B[0m\u001B[37m\u001B[0m \u001B[1m0s\u001B[0m 15ms/step - loss: 10.2325 - mae: 10.2325\n",
      "Epoch 40/200\n",
      "\u001B[1m1/1\u001B[0m \u001B[32m━━━━━━━━━━━━━━━━━━━━\u001B[0m\u001B[37m\u001B[0m \u001B[1m0s\u001B[0m 15ms/step - loss: 10.0804 - mae: 10.0804\n",
      "Epoch 41/200\n",
      "\u001B[1m1/1\u001B[0m \u001B[32m━━━━━━━━━━━━━━━━━━━━\u001B[0m\u001B[37m\u001B[0m \u001B[1m0s\u001B[0m 15ms/step - loss: 9.9224 - mae: 9.9224\n",
      "Epoch 42/200\n",
      "\u001B[1m1/1\u001B[0m \u001B[32m━━━━━━━━━━━━━━━━━━━━\u001B[0m\u001B[37m\u001B[0m \u001B[1m0s\u001B[0m 15ms/step - loss: 9.7593 - mae: 9.7593\n",
      "Epoch 43/200\n",
      "\u001B[1m1/1\u001B[0m \u001B[32m━━━━━━━━━━━━━━━━━━━━\u001B[0m\u001B[37m\u001B[0m \u001B[1m0s\u001B[0m 15ms/step - loss: 9.5906 - mae: 9.5906\n",
      "Epoch 44/200\n",
      "\u001B[1m1/1\u001B[0m \u001B[32m━━━━━━━━━━━━━━━━━━━━\u001B[0m\u001B[37m\u001B[0m \u001B[1m0s\u001B[0m 15ms/step - loss: 9.4163 - mae: 9.4163\n",
      "Epoch 45/200\n",
      "\u001B[1m1/1\u001B[0m \u001B[32m━━━━━━━━━━━━━━━━━━━━\u001B[0m\u001B[37m\u001B[0m \u001B[1m0s\u001B[0m 15ms/step - loss: 9.2382 - mae: 9.2382\n",
      "Epoch 46/200\n",
      "\u001B[1m1/1\u001B[0m \u001B[32m━━━━━━━━━━━━━━━━━━━━\u001B[0m\u001B[37m\u001B[0m \u001B[1m0s\u001B[0m 16ms/step - loss: 9.0543 - mae: 9.0543\n",
      "Epoch 47/200\n",
      "\u001B[1m1/1\u001B[0m \u001B[32m━━━━━━━━━━━━━━━━━━━━\u001B[0m\u001B[37m\u001B[0m \u001B[1m0s\u001B[0m 15ms/step - loss: 8.8627 - mae: 8.8627\n",
      "Epoch 48/200\n",
      "\u001B[1m1/1\u001B[0m \u001B[32m━━━━━━━━━━━━━━━━━━━━\u001B[0m\u001B[37m\u001B[0m \u001B[1m0s\u001B[0m 15ms/step - loss: 8.6636 - mae: 8.6636\n",
      "Epoch 49/200\n",
      "\u001B[1m1/1\u001B[0m \u001B[32m━━━━━━━━━━━━━━━━━━━━\u001B[0m\u001B[37m\u001B[0m \u001B[1m0s\u001B[0m 15ms/step - loss: 8.4562 - mae: 8.4562\n",
      "Epoch 50/200\n",
      "\u001B[1m1/1\u001B[0m \u001B[32m━━━━━━━━━━━━━━━━━━━━\u001B[0m\u001B[37m\u001B[0m \u001B[1m0s\u001B[0m 15ms/step - loss: 8.2401 - mae: 8.2401\n",
      "Epoch 51/200\n",
      "\u001B[1m1/1\u001B[0m \u001B[32m━━━━━━━━━━━━━━━━━━━━\u001B[0m\u001B[37m\u001B[0m \u001B[1m0s\u001B[0m 15ms/step - loss: 8.0155 - mae: 8.0155\n",
      "Epoch 52/200\n",
      "\u001B[1m1/1\u001B[0m \u001B[32m━━━━━━━━━━━━━━━━━━━━\u001B[0m\u001B[37m\u001B[0m \u001B[1m0s\u001B[0m 16ms/step - loss: 7.7825 - mae: 7.7825\n",
      "Epoch 53/200\n",
      "\u001B[1m1/1\u001B[0m \u001B[32m━━━━━━━━━━━━━━━━━━━━\u001B[0m\u001B[37m\u001B[0m \u001B[1m0s\u001B[0m 16ms/step - loss: 7.5395 - mae: 7.5395\n",
      "Epoch 54/200\n",
      "\u001B[1m1/1\u001B[0m \u001B[32m━━━━━━━━━━━━━━━━━━━━\u001B[0m\u001B[37m\u001B[0m \u001B[1m0s\u001B[0m 15ms/step - loss: 7.2889 - mae: 7.2889\n",
      "Epoch 55/200\n",
      "\u001B[1m1/1\u001B[0m \u001B[32m━━━━━━━━━━━━━━━━━━━━\u001B[0m\u001B[37m\u001B[0m \u001B[1m0s\u001B[0m 15ms/step - loss: 7.0313 - mae: 7.0313\n",
      "Epoch 56/200\n",
      "\u001B[1m1/1\u001B[0m \u001B[32m━━━━━━━━━━━━━━━━━━━━\u001B[0m\u001B[37m\u001B[0m \u001B[1m0s\u001B[0m 15ms/step - loss: 6.7646 - mae: 6.7646\n",
      "Epoch 57/200\n",
      "\u001B[1m1/1\u001B[0m \u001B[32m━━━━━━━━━━━━━━━━━━━━\u001B[0m\u001B[37m\u001B[0m \u001B[1m0s\u001B[0m 15ms/step - loss: 6.4871 - mae: 6.4871\n",
      "Epoch 58/200\n",
      "\u001B[1m1/1\u001B[0m \u001B[32m━━━━━━━━━━━━━━━━━━━━\u001B[0m\u001B[37m\u001B[0m \u001B[1m0s\u001B[0m 15ms/step - loss: 6.1980 - mae: 6.1980\n",
      "Epoch 59/200\n",
      "\u001B[1m1/1\u001B[0m \u001B[32m━━━━━━━━━━━━━━━━━━━━\u001B[0m\u001B[37m\u001B[0m \u001B[1m0s\u001B[0m 15ms/step - loss: 5.8970 - mae: 5.8970\n",
      "Epoch 60/200\n",
      "\u001B[1m1/1\u001B[0m \u001B[32m━━━━━━━━━━━━━━━━━━━━\u001B[0m\u001B[37m\u001B[0m \u001B[1m0s\u001B[0m 16ms/step - loss: 5.5837 - mae: 5.5837\n",
      "Epoch 61/200\n",
      "\u001B[1m1/1\u001B[0m \u001B[32m━━━━━━━━━━━━━━━━━━━━\u001B[0m\u001B[37m\u001B[0m \u001B[1m0s\u001B[0m 15ms/step - loss: 5.2577 - mae: 5.2577\n",
      "Epoch 62/200\n",
      "\u001B[1m1/1\u001B[0m \u001B[32m━━━━━━━━━━━━━━━━━━━━\u001B[0m\u001B[37m\u001B[0m \u001B[1m0s\u001B[0m 15ms/step - loss: 4.9186 - mae: 4.9186\n",
      "Epoch 63/200\n",
      "\u001B[1m1/1\u001B[0m \u001B[32m━━━━━━━━━━━━━━━━━━━━\u001B[0m\u001B[37m\u001B[0m \u001B[1m0s\u001B[0m 15ms/step - loss: 4.5657 - mae: 4.5657\n",
      "Epoch 64/200\n",
      "\u001B[1m1/1\u001B[0m \u001B[32m━━━━━━━━━━━━━━━━━━━━\u001B[0m\u001B[37m\u001B[0m \u001B[1m0s\u001B[0m 15ms/step - loss: 4.1985 - mae: 4.1985\n",
      "Epoch 65/200\n",
      "\u001B[1m1/1\u001B[0m \u001B[32m━━━━━━━━━━━━━━━━━━━━\u001B[0m\u001B[37m\u001B[0m \u001B[1m0s\u001B[0m 15ms/step - loss: 3.9242 - mae: 3.9242\n",
      "Epoch 66/200\n",
      "\u001B[1m1/1\u001B[0m \u001B[32m━━━━━━━━━━━━━━━━━━━━\u001B[0m\u001B[37m\u001B[0m \u001B[1m0s\u001B[0m 15ms/step - loss: 3.8019 - mae: 3.8019\n",
      "Epoch 67/200\n",
      "\u001B[1m1/1\u001B[0m \u001B[32m━━━━━━━━━━━━━━━━━━━━\u001B[0m\u001B[37m\u001B[0m \u001B[1m0s\u001B[0m 15ms/step - loss: 3.6878 - mae: 3.6878\n",
      "Epoch 68/200\n",
      "\u001B[1m1/1\u001B[0m \u001B[32m━━━━━━━━━━━━━━━━━━━━\u001B[0m\u001B[37m\u001B[0m \u001B[1m0s\u001B[0m 14ms/step - loss: 3.7537 - mae: 3.7537\n",
      "Epoch 69/200\n",
      "\u001B[1m1/1\u001B[0m \u001B[32m━━━━━━━━━━━━━━━━━━━━\u001B[0m\u001B[37m\u001B[0m \u001B[1m0s\u001B[0m 17ms/step - loss: 3.8105 - mae: 3.8105\n",
      "Epoch 70/200\n",
      "\u001B[1m1/1\u001B[0m \u001B[32m━━━━━━━━━━━━━━━━━━━━\u001B[0m\u001B[37m\u001B[0m \u001B[1m0s\u001B[0m 16ms/step - loss: 3.8582 - mae: 3.8582\n",
      "Epoch 71/200\n",
      "\u001B[1m1/1\u001B[0m \u001B[32m━━━━━━━━━━━━━━━━━━━━\u001B[0m\u001B[37m\u001B[0m \u001B[1m0s\u001B[0m 15ms/step - loss: 3.8974 - mae: 3.8974\n",
      "Epoch 72/200\n",
      "\u001B[1m1/1\u001B[0m \u001B[32m━━━━━━━━━━━━━━━━━━━━\u001B[0m\u001B[37m\u001B[0m \u001B[1m0s\u001B[0m 15ms/step - loss: 3.9283 - mae: 3.9283\n",
      "Epoch 73/200\n",
      "\u001B[1m1/1\u001B[0m \u001B[32m━━━━━━━━━━━━━━━━━━━━\u001B[0m\u001B[37m\u001B[0m \u001B[1m0s\u001B[0m 15ms/step - loss: 3.9515 - mae: 3.9515\n",
      "Epoch 74/200\n",
      "\u001B[1m1/1\u001B[0m \u001B[32m━━━━━━━━━━━━━━━━━━━━\u001B[0m\u001B[37m\u001B[0m \u001B[1m0s\u001B[0m 15ms/step - loss: 3.9823 - mae: 3.9823\n",
      "Epoch 75/200\n",
      "\u001B[1m1/1\u001B[0m \u001B[32m━━━━━━━━━━━━━━━━━━━━\u001B[0m\u001B[37m\u001B[0m \u001B[1m0s\u001B[0m 15ms/step - loss: 4.0088 - mae: 4.0088\n",
      "Epoch 76/200\n",
      "\u001B[1m1/1\u001B[0m \u001B[32m━━━━━━━━━━━━━━━━━━━━\u001B[0m\u001B[37m\u001B[0m \u001B[1m0s\u001B[0m 15ms/step - loss: 4.0017 - mae: 4.0017\n",
      "Epoch 77/200\n",
      "\u001B[1m1/1\u001B[0m \u001B[32m━━━━━━━━━━━━━━━━━━━━\u001B[0m\u001B[37m\u001B[0m \u001B[1m0s\u001B[0m 15ms/step - loss: 3.9662 - mae: 3.9662\n",
      "Epoch 78/200\n",
      "\u001B[1m1/1\u001B[0m \u001B[32m━━━━━━━━━━━━━━━━━━━━\u001B[0m\u001B[37m\u001B[0m \u001B[1m0s\u001B[0m 15ms/step - loss: 3.9158 - mae: 3.9158\n",
      "Epoch 79/200\n",
      "\u001B[1m1/1\u001B[0m \u001B[32m━━━━━━━━━━━━━━━━━━━━\u001B[0m\u001B[37m\u001B[0m \u001B[1m0s\u001B[0m 15ms/step - loss: 3.8864 - mae: 3.8864\n",
      "Epoch 80/200\n",
      "\u001B[1m1/1\u001B[0m \u001B[32m━━━━━━━━━━━━━━━━━━━━\u001B[0m\u001B[37m\u001B[0m \u001B[1m0s\u001B[0m 16ms/step - loss: 3.8553 - mae: 3.8553\n",
      "Epoch 81/200\n",
      "\u001B[1m1/1\u001B[0m \u001B[32m━━━━━━━━━━━━━━━━━━━━\u001B[0m\u001B[37m\u001B[0m \u001B[1m0s\u001B[0m 16ms/step - loss: 3.8236 - mae: 3.8236\n",
      "Epoch 82/200\n",
      "\u001B[1m1/1\u001B[0m \u001B[32m━━━━━━━━━━━━━━━━━━━━\u001B[0m\u001B[37m\u001B[0m \u001B[1m0s\u001B[0m 15ms/step - loss: 3.7907 - mae: 3.7907\n",
      "Epoch 83/200\n",
      "\u001B[1m1/1\u001B[0m \u001B[32m━━━━━━━━━━━━━━━━━━━━\u001B[0m\u001B[37m\u001B[0m \u001B[1m0s\u001B[0m 15ms/step - loss: 3.7566 - mae: 3.7566\n",
      "Epoch 84/200\n",
      "\u001B[1m1/1\u001B[0m \u001B[32m━━━━━━━━━━━━━━━━━━━━\u001B[0m\u001B[37m\u001B[0m \u001B[1m0s\u001B[0m 15ms/step - loss: 3.7225 - mae: 3.7225\n",
      "Epoch 85/200\n",
      "\u001B[1m1/1\u001B[0m \u001B[32m━━━━━━━━━━━━━━━━━━━━\u001B[0m\u001B[37m\u001B[0m \u001B[1m0s\u001B[0m 15ms/step - loss: 3.6866 - mae: 3.6866\n",
      "Epoch 86/200\n",
      "\u001B[1m1/1\u001B[0m \u001B[32m━━━━━━━━━━━━━━━━━━━━\u001B[0m\u001B[37m\u001B[0m \u001B[1m0s\u001B[0m 15ms/step - loss: 3.6501 - mae: 3.6501\n",
      "Epoch 87/200\n",
      "\u001B[1m1/1\u001B[0m \u001B[32m━━━━━━━━━━━━━━━━━━━━\u001B[0m\u001B[37m\u001B[0m \u001B[1m0s\u001B[0m 15ms/step - loss: 3.6132 - mae: 3.6132\n",
      "Epoch 88/200\n",
      "\u001B[1m1/1\u001B[0m \u001B[32m━━━━━━━━━━━━━━━━━━━━\u001B[0m\u001B[37m\u001B[0m \u001B[1m0s\u001B[0m 15ms/step - loss: 3.5767 - mae: 3.5767\n",
      "Epoch 89/200\n",
      "\u001B[1m1/1\u001B[0m \u001B[32m━━━━━━━━━━━━━━━━━━━━\u001B[0m\u001B[37m\u001B[0m \u001B[1m0s\u001B[0m 15ms/step - loss: 3.5399 - mae: 3.5399\n",
      "Epoch 90/200\n",
      "\u001B[1m1/1\u001B[0m \u001B[32m━━━━━━━━━━━━━━━━━━━━\u001B[0m\u001B[37m\u001B[0m \u001B[1m0s\u001B[0m 15ms/step - loss: 3.5029 - mae: 3.5029\n",
      "Epoch 91/200\n",
      "\u001B[1m1/1\u001B[0m \u001B[32m━━━━━━━━━━━━━━━━━━━━\u001B[0m\u001B[37m\u001B[0m \u001B[1m0s\u001B[0m 15ms/step - loss: 3.5028 - mae: 3.5028\n",
      "Epoch 92/200\n",
      "\u001B[1m1/1\u001B[0m \u001B[32m━━━━━━━━━━━━━━━━━━━━\u001B[0m\u001B[37m\u001B[0m \u001B[1m0s\u001B[0m 15ms/step - loss: 3.5252 - mae: 3.5252\n",
      "Epoch 93/200\n",
      "\u001B[1m1/1\u001B[0m \u001B[32m━━━━━━━━━━━━━━━━━━━━\u001B[0m\u001B[37m\u001B[0m \u001B[1m0s\u001B[0m 15ms/step - loss: 3.5380 - mae: 3.5380\n",
      "Epoch 94/200\n",
      "\u001B[1m1/1\u001B[0m \u001B[32m━━━━━━━━━━━━━━━━━━━━\u001B[0m\u001B[37m\u001B[0m \u001B[1m0s\u001B[0m 15ms/step - loss: 3.5418 - mae: 3.5418\n",
      "Epoch 95/200\n",
      "\u001B[1m1/1\u001B[0m \u001B[32m━━━━━━━━━━━━━━━━━━━━\u001B[0m\u001B[37m\u001B[0m \u001B[1m0s\u001B[0m 15ms/step - loss: 3.5387 - mae: 3.5387\n",
      "Epoch 96/200\n",
      "\u001B[1m1/1\u001B[0m \u001B[32m━━━━━━━━━━━━━━━━━━━━\u001B[0m\u001B[37m\u001B[0m \u001B[1m0s\u001B[0m 15ms/step - loss: 3.5261 - mae: 3.5261\n",
      "Epoch 97/200\n",
      "\u001B[1m1/1\u001B[0m \u001B[32m━━━━━━━━━━━━━━━━━━━━\u001B[0m\u001B[37m\u001B[0m \u001B[1m0s\u001B[0m 16ms/step - loss: 3.5070 - mae: 3.5070\n",
      "Epoch 98/200\n",
      "\u001B[1m1/1\u001B[0m \u001B[32m━━━━━━━━━━━━━━━━━━━━\u001B[0m\u001B[37m\u001B[0m \u001B[1m0s\u001B[0m 15ms/step - loss: 3.4796 - mae: 3.4796\n",
      "Epoch 99/200\n",
      "\u001B[1m1/1\u001B[0m \u001B[32m━━━━━━━━━━━━━━━━━━━━\u001B[0m\u001B[37m\u001B[0m \u001B[1m0s\u001B[0m 15ms/step - loss: 3.4473 - mae: 3.4473\n",
      "Epoch 100/200\n",
      "\u001B[1m1/1\u001B[0m \u001B[32m━━━━━━━━━━━━━━━━━━━━\u001B[0m\u001B[37m\u001B[0m \u001B[1m0s\u001B[0m 15ms/step - loss: 3.4096 - mae: 3.4096\n",
      "Epoch 101/200\n",
      "\u001B[1m1/1\u001B[0m \u001B[32m━━━━━━━━━━━━━━━━━━━━\u001B[0m\u001B[37m\u001B[0m \u001B[1m0s\u001B[0m 16ms/step - loss: 3.4033 - mae: 3.4033\n",
      "Epoch 102/200\n",
      "\u001B[1m1/1\u001B[0m \u001B[32m━━━━━━━━━━━━━━━━━━━━\u001B[0m\u001B[37m\u001B[0m \u001B[1m0s\u001B[0m 15ms/step - loss: 3.4113 - mae: 3.4113\n",
      "Epoch 103/200\n",
      "\u001B[1m1/1\u001B[0m \u001B[32m━━━━━━━━━━━━━━━━━━━━\u001B[0m\u001B[37m\u001B[0m \u001B[1m0s\u001B[0m 16ms/step - loss: 3.4143 - mae: 3.4143\n",
      "Epoch 104/200\n",
      "\u001B[1m1/1\u001B[0m \u001B[32m━━━━━━━━━━━━━━━━━━━━\u001B[0m\u001B[37m\u001B[0m \u001B[1m0s\u001B[0m 16ms/step - loss: 3.4128 - mae: 3.4128\n",
      "Epoch 105/200\n",
      "\u001B[1m1/1\u001B[0m \u001B[32m━━━━━━━━━━━━━━━━━━━━\u001B[0m\u001B[37m\u001B[0m \u001B[1m0s\u001B[0m 16ms/step - loss: 3.4076 - mae: 3.4076\n",
      "Epoch 106/200\n",
      "\u001B[1m1/1\u001B[0m \u001B[32m━━━━━━━━━━━━━━━━━━━━\u001B[0m\u001B[37m\u001B[0m \u001B[1m0s\u001B[0m 16ms/step - loss: 3.3981 - mae: 3.3981\n",
      "Epoch 107/200\n",
      "\u001B[1m1/1\u001B[0m \u001B[32m━━━━━━━━━━━━━━━━━━━━\u001B[0m\u001B[37m\u001B[0m \u001B[1m0s\u001B[0m 17ms/step - loss: 3.3853 - mae: 3.3853\n",
      "Epoch 108/200\n",
      "\u001B[1m1/1\u001B[0m \u001B[32m━━━━━━━━━━━━━━━━━━━━\u001B[0m\u001B[37m\u001B[0m \u001B[1m0s\u001B[0m 16ms/step - loss: 3.3696 - mae: 3.3696\n",
      "Epoch 109/200\n",
      "\u001B[1m1/1\u001B[0m \u001B[32m━━━━━━━━━━━━━━━━━━━━\u001B[0m\u001B[37m\u001B[0m \u001B[1m0s\u001B[0m 17ms/step - loss: 3.3516 - mae: 3.3516\n",
      "Epoch 110/200\n",
      "\u001B[1m1/1\u001B[0m \u001B[32m━━━━━━━━━━━━━━━━━━━━\u001B[0m\u001B[37m\u001B[0m \u001B[1m0s\u001B[0m 17ms/step - loss: 3.3324 - mae: 3.3324\n",
      "Epoch 111/200\n",
      "\u001B[1m1/1\u001B[0m \u001B[32m━━━━━━━━━━━━━━━━━━━━\u001B[0m\u001B[37m\u001B[0m \u001B[1m0s\u001B[0m 17ms/step - loss: 3.3109 - mae: 3.3109\n",
      "Epoch 112/200\n",
      "\u001B[1m1/1\u001B[0m \u001B[32m━━━━━━━━━━━━━━━━━━━━\u001B[0m\u001B[37m\u001B[0m \u001B[1m0s\u001B[0m 18ms/step - loss: 3.3143 - mae: 3.3143\n",
      "Epoch 113/200\n",
      "\u001B[1m1/1\u001B[0m \u001B[32m━━━━━━━━━━━━━━━━━━━━\u001B[0m\u001B[37m\u001B[0m \u001B[1m0s\u001B[0m 17ms/step - loss: 3.3205 - mae: 3.3205\n",
      "Epoch 114/200\n",
      "\u001B[1m1/1\u001B[0m \u001B[32m━━━━━━━━━━━━━━━━━━━━\u001B[0m\u001B[37m\u001B[0m \u001B[1m0s\u001B[0m 17ms/step - loss: 3.3173 - mae: 3.3173\n",
      "Epoch 115/200\n",
      "\u001B[1m1/1\u001B[0m \u001B[32m━━━━━━━━━━━━━━━━━━━━\u001B[0m\u001B[37m\u001B[0m \u001B[1m0s\u001B[0m 17ms/step - loss: 3.3052 - mae: 3.3052\n",
      "Epoch 116/200\n",
      "\u001B[1m1/1\u001B[0m \u001B[32m━━━━━━━━━━━━━━━━━━━━\u001B[0m\u001B[37m\u001B[0m \u001B[1m0s\u001B[0m 16ms/step - loss: 3.2851 - mae: 3.2851\n",
      "Epoch 117/200\n",
      "\u001B[1m1/1\u001B[0m \u001B[32m━━━━━━━━━━━━━━━━━━━━\u001B[0m\u001B[37m\u001B[0m \u001B[1m0s\u001B[0m 16ms/step - loss: 3.2580 - mae: 3.2580\n",
      "Epoch 118/200\n",
      "\u001B[1m1/1\u001B[0m \u001B[32m━━━━━━━━━━━━━━━━━━━━\u001B[0m\u001B[37m\u001B[0m \u001B[1m0s\u001B[0m 15ms/step - loss: 3.2629 - mae: 3.2629\n",
      "Epoch 119/200\n",
      "\u001B[1m1/1\u001B[0m \u001B[32m━━━━━━━━━━━━━━━━━━━━\u001B[0m\u001B[37m\u001B[0m \u001B[1m0s\u001B[0m 15ms/step - loss: 3.2649 - mae: 3.2649\n",
      "Epoch 120/200\n",
      "\u001B[1m1/1\u001B[0m \u001B[32m━━━━━━━━━━━━━━━━━━━━\u001B[0m\u001B[37m\u001B[0m \u001B[1m0s\u001B[0m 15ms/step - loss: 3.2630 - mae: 3.2630\n",
      "Epoch 121/200\n",
      "\u001B[1m1/1\u001B[0m \u001B[32m━━━━━━━━━━━━━━━━━━━━\u001B[0m\u001B[37m\u001B[0m \u001B[1m0s\u001B[0m 16ms/step - loss: 3.2583 - mae: 3.2583\n",
      "Epoch 122/200\n",
      "\u001B[1m1/1\u001B[0m \u001B[32m━━━━━━━━━━━━━━━━━━━━\u001B[0m\u001B[37m\u001B[0m \u001B[1m0s\u001B[0m 16ms/step - loss: 3.2498 - mae: 3.2498\n",
      "Epoch 123/200\n",
      "\u001B[1m1/1\u001B[0m \u001B[32m━━━━━━━━━━━━━━━━━━━━\u001B[0m\u001B[37m\u001B[0m \u001B[1m0s\u001B[0m 16ms/step - loss: 3.2378 - mae: 3.2378\n",
      "Epoch 124/200\n",
      "\u001B[1m1/1\u001B[0m \u001B[32m━━━━━━━━━━━━━━━━━━━━\u001B[0m\u001B[37m\u001B[0m \u001B[1m0s\u001B[0m 16ms/step - loss: 3.2237 - mae: 3.2237\n",
      "Epoch 125/200\n",
      "\u001B[1m1/1\u001B[0m \u001B[32m━━━━━━━━━━━━━━━━━━━━\u001B[0m\u001B[37m\u001B[0m \u001B[1m0s\u001B[0m 15ms/step - loss: 3.2081 - mae: 3.2081\n",
      "Epoch 126/200\n",
      "\u001B[1m1/1\u001B[0m \u001B[32m━━━━━━━━━━━━━━━━━━━━\u001B[0m\u001B[37m\u001B[0m \u001B[1m0s\u001B[0m 16ms/step - loss: 3.1911 - mae: 3.1911\n",
      "Epoch 127/200\n",
      "\u001B[1m1/1\u001B[0m \u001B[32m━━━━━━━━━━━━━━━━━━━━\u001B[0m\u001B[37m\u001B[0m \u001B[1m0s\u001B[0m 16ms/step - loss: 3.1905 - mae: 3.1905\n",
      "Epoch 128/200\n",
      "\u001B[1m1/1\u001B[0m \u001B[32m━━━━━━━━━━━━━━━━━━━━\u001B[0m\u001B[37m\u001B[0m \u001B[1m0s\u001B[0m 15ms/step - loss: 3.1946 - mae: 3.1946\n",
      "Epoch 129/200\n",
      "\u001B[1m1/1\u001B[0m \u001B[32m━━━━━━━━━━━━━━━━━━━━\u001B[0m\u001B[37m\u001B[0m \u001B[1m0s\u001B[0m 16ms/step - loss: 3.1893 - mae: 3.1893\n",
      "Epoch 130/200\n",
      "\u001B[1m1/1\u001B[0m \u001B[32m━━━━━━━━━━━━━━━━━━━━\u001B[0m\u001B[37m\u001B[0m \u001B[1m0s\u001B[0m 17ms/step - loss: 3.1749 - mae: 3.1749\n",
      "Epoch 131/200\n",
      "\u001B[1m1/1\u001B[0m \u001B[32m━━━━━━━━━━━━━━━━━━━━\u001B[0m\u001B[37m\u001B[0m \u001B[1m0s\u001B[0m 16ms/step - loss: 3.1549 - mae: 3.1549\n",
      "Epoch 132/200\n",
      "\u001B[1m1/1\u001B[0m \u001B[32m━━━━━━━━━━━━━━━━━━━━\u001B[0m\u001B[37m\u001B[0m \u001B[1m0s\u001B[0m 15ms/step - loss: 3.1530 - mae: 3.1530\n",
      "Epoch 133/200\n",
      "\u001B[1m1/1\u001B[0m \u001B[32m━━━━━━━━━━━━━━━━━━━━\u001B[0m\u001B[37m\u001B[0m \u001B[1m0s\u001B[0m 16ms/step - loss: 3.1472 - mae: 3.1472\n",
      "Epoch 134/200\n",
      "\u001B[1m1/1\u001B[0m \u001B[32m━━━━━━━━━━━━━━━━━━━━\u001B[0m\u001B[37m\u001B[0m \u001B[1m0s\u001B[0m 17ms/step - loss: 3.1377 - mae: 3.1377\n",
      "Epoch 135/200\n",
      "\u001B[1m1/1\u001B[0m \u001B[32m━━━━━━━━━━━━━━━━━━━━\u001B[0m\u001B[37m\u001B[0m \u001B[1m0s\u001B[0m 16ms/step - loss: 3.1250 - mae: 3.1250\n",
      "Epoch 136/200\n",
      "\u001B[1m1/1\u001B[0m \u001B[32m━━━━━━━━━━━━━━━━━━━━\u001B[0m\u001B[37m\u001B[0m \u001B[1m0s\u001B[0m 16ms/step - loss: 3.1200 - mae: 3.1200\n",
      "Epoch 137/200\n",
      "\u001B[1m1/1\u001B[0m \u001B[32m━━━━━━━━━━━━━━━━━━━━\u001B[0m\u001B[37m\u001B[0m \u001B[1m0s\u001B[0m 16ms/step - loss: 3.1247 - mae: 3.1247\n",
      "Epoch 138/200\n",
      "\u001B[1m1/1\u001B[0m \u001B[32m━━━━━━━━━━━━━━━━━━━━\u001B[0m\u001B[37m\u001B[0m \u001B[1m0s\u001B[0m 17ms/step - loss: 3.1027 - mae: 3.1027\n",
      "Epoch 139/200\n",
      "\u001B[1m1/1\u001B[0m \u001B[32m━━━━━━━━━━━━━━━━━━━━\u001B[0m\u001B[37m\u001B[0m \u001B[1m0s\u001B[0m 15ms/step - loss: 3.0971 - mae: 3.0971\n",
      "Epoch 140/200\n",
      "\u001B[1m1/1\u001B[0m \u001B[32m━━━━━━━━━━━━━━━━━━━━\u001B[0m\u001B[37m\u001B[0m \u001B[1m0s\u001B[0m 16ms/step - loss: 3.0916 - mae: 3.0916\n",
      "Epoch 141/200\n",
      "\u001B[1m1/1\u001B[0m \u001B[32m━━━━━━━━━━━━━━━━━━━━\u001B[0m\u001B[37m\u001B[0m \u001B[1m0s\u001B[0m 15ms/step - loss: 3.0826 - mae: 3.0826\n",
      "Epoch 142/200\n",
      "\u001B[1m1/1\u001B[0m \u001B[32m━━━━━━━━━━━━━━━━━━━━\u001B[0m\u001B[37m\u001B[0m \u001B[1m0s\u001B[0m 16ms/step - loss: 3.0870 - mae: 3.0870\n",
      "Epoch 143/200\n",
      "\u001B[1m1/1\u001B[0m \u001B[32m━━━━━━━━━━━━━━━━━━━━\u001B[0m\u001B[37m\u001B[0m \u001B[1m0s\u001B[0m 16ms/step - loss: 3.0812 - mae: 3.0812\n",
      "Epoch 144/200\n",
      "\u001B[1m1/1\u001B[0m \u001B[32m━━━━━━━━━━━━━━━━━━━━\u001B[0m\u001B[37m\u001B[0m \u001B[1m0s\u001B[0m 16ms/step - loss: 3.0660 - mae: 3.0660\n",
      "Epoch 145/200\n",
      "\u001B[1m1/1\u001B[0m \u001B[32m━━━━━━━━━━━━━━━━━━━━\u001B[0m\u001B[37m\u001B[0m \u001B[1m0s\u001B[0m 16ms/step - loss: 3.0640 - mae: 3.0640\n",
      "Epoch 146/200\n",
      "\u001B[1m1/1\u001B[0m \u001B[32m━━━━━━━━━━━━━━━━━━━━\u001B[0m\u001B[37m\u001B[0m \u001B[1m0s\u001B[0m 16ms/step - loss: 3.0615 - mae: 3.0615\n",
      "Epoch 147/200\n",
      "\u001B[1m1/1\u001B[0m \u001B[32m━━━━━━━━━━━━━━━━━━━━\u001B[0m\u001B[37m\u001B[0m \u001B[1m0s\u001B[0m 17ms/step - loss: 3.0551 - mae: 3.0551\n",
      "Epoch 148/200\n",
      "\u001B[1m1/1\u001B[0m \u001B[32m━━━━━━━━━━━━━━━━━━━━\u001B[0m\u001B[37m\u001B[0m \u001B[1m0s\u001B[0m 16ms/step - loss: 3.0451 - mae: 3.0451\n",
      "Epoch 149/200\n",
      "\u001B[1m1/1\u001B[0m \u001B[32m━━━━━━━━━━━━━━━━━━━━\u001B[0m\u001B[37m\u001B[0m \u001B[1m0s\u001B[0m 16ms/step - loss: 3.0317 - mae: 3.0317\n",
      "Epoch 150/200\n",
      "\u001B[1m1/1\u001B[0m \u001B[32m━━━━━━━━━━━━━━━━━━━━\u001B[0m\u001B[37m\u001B[0m \u001B[1m0s\u001B[0m 16ms/step - loss: 3.0156 - mae: 3.0156\n",
      "Epoch 151/200\n",
      "\u001B[1m1/1\u001B[0m \u001B[32m━━━━━━━━━━━━━━━━━━━━\u001B[0m\u001B[37m\u001B[0m \u001B[1m0s\u001B[0m 16ms/step - loss: 3.0130 - mae: 3.0130\n",
      "Epoch 152/200\n",
      "\u001B[1m1/1\u001B[0m \u001B[32m━━━━━━━━━━━━━━━━━━━━\u001B[0m\u001B[37m\u001B[0m \u001B[1m0s\u001B[0m 15ms/step - loss: 3.0095 - mae: 3.0095\n",
      "Epoch 153/200\n",
      "\u001B[1m1/1\u001B[0m \u001B[32m━━━━━━━━━━━━━━━━━━━━\u001B[0m\u001B[37m\u001B[0m \u001B[1m0s\u001B[0m 16ms/step - loss: 2.9960 - mae: 2.9960\n",
      "Epoch 154/200\n",
      "\u001B[1m1/1\u001B[0m \u001B[32m━━━━━━━━━━━━━━━━━━━━\u001B[0m\u001B[37m\u001B[0m \u001B[1m0s\u001B[0m 16ms/step - loss: 2.9850 - mae: 2.9850\n",
      "Epoch 155/200\n",
      "\u001B[1m1/1\u001B[0m \u001B[32m━━━━━━━━━━━━━━━━━━━━\u001B[0m\u001B[37m\u001B[0m \u001B[1m0s\u001B[0m 15ms/step - loss: 2.9820 - mae: 2.9820\n",
      "Epoch 156/200\n",
      "\u001B[1m1/1\u001B[0m \u001B[32m━━━━━━━━━━━━━━━━━━━━\u001B[0m\u001B[37m\u001B[0m \u001B[1m0s\u001B[0m 16ms/step - loss: 2.9755 - mae: 2.9755\n",
      "Epoch 157/200\n",
      "\u001B[1m1/1\u001B[0m \u001B[32m━━━━━━━━━━━━━━━━━━━━\u001B[0m\u001B[37m\u001B[0m \u001B[1m0s\u001B[0m 15ms/step - loss: 2.9658 - mae: 2.9658\n",
      "Epoch 158/200\n",
      "\u001B[1m1/1\u001B[0m \u001B[32m━━━━━━━━━━━━━━━━━━━━\u001B[0m\u001B[37m\u001B[0m \u001B[1m0s\u001B[0m 15ms/step - loss: 2.9537 - mae: 2.9537\n",
      "Epoch 159/200\n",
      "\u001B[1m1/1\u001B[0m \u001B[32m━━━━━━━━━━━━━━━━━━━━\u001B[0m\u001B[37m\u001B[0m \u001B[1m0s\u001B[0m 15ms/step - loss: 2.9401 - mae: 2.9401\n",
      "Epoch 160/200\n",
      "\u001B[1m1/1\u001B[0m \u001B[32m━━━━━━━━━━━━━━━━━━━━\u001B[0m\u001B[37m\u001B[0m \u001B[1m0s\u001B[0m 16ms/step - loss: 2.9468 - mae: 2.9468\n",
      "Epoch 161/200\n",
      "\u001B[1m1/1\u001B[0m \u001B[32m━━━━━━━━━━━━━━━━━━━━\u001B[0m\u001B[37m\u001B[0m \u001B[1m0s\u001B[0m 16ms/step - loss: 2.9423 - mae: 2.9423\n",
      "Epoch 162/200\n",
      "\u001B[1m1/1\u001B[0m \u001B[32m━━━━━━━━━━━━━━━━━━━━\u001B[0m\u001B[37m\u001B[0m \u001B[1m0s\u001B[0m 16ms/step - loss: 2.9274 - mae: 2.9274\n",
      "Epoch 163/200\n",
      "\u001B[1m1/1\u001B[0m \u001B[32m━━━━━━━━━━━━━━━━━━━━\u001B[0m\u001B[37m\u001B[0m \u001B[1m0s\u001B[0m 15ms/step - loss: 2.9034 - mae: 2.9034\n",
      "Epoch 164/200\n",
      "\u001B[1m1/1\u001B[0m \u001B[32m━━━━━━━━━━━━━━━━━━━━\u001B[0m\u001B[37m\u001B[0m \u001B[1m0s\u001B[0m 15ms/step - loss: 2.8973 - mae: 2.8973\n",
      "Epoch 165/200\n",
      "\u001B[1m1/1\u001B[0m \u001B[32m━━━━━━━━━━━━━━━━━━━━\u001B[0m\u001B[37m\u001B[0m \u001B[1m0s\u001B[0m 16ms/step - loss: 2.8862 - mae: 2.8862\n",
      "Epoch 166/200\n",
      "\u001B[1m1/1\u001B[0m \u001B[32m━━━━━━━━━━━━━━━━━━━━\u001B[0m\u001B[37m\u001B[0m \u001B[1m0s\u001B[0m 15ms/step - loss: 2.8749 - mae: 2.8749\n",
      "Epoch 167/200\n",
      "\u001B[1m1/1\u001B[0m \u001B[32m━━━━━━━━━━━━━━━━━━━━\u001B[0m\u001B[37m\u001B[0m \u001B[1m0s\u001B[0m 16ms/step - loss: 2.8628 - mae: 2.8628\n",
      "Epoch 168/200\n",
      "\u001B[1m1/1\u001B[0m \u001B[32m━━━━━━━━━━━━━━━━━━━━\u001B[0m\u001B[37m\u001B[0m \u001B[1m0s\u001B[0m 15ms/step - loss: 2.8571 - mae: 2.8571\n",
      "Epoch 169/200\n",
      "\u001B[1m1/1\u001B[0m \u001B[32m━━━━━━━━━━━━━━━━━━━━\u001B[0m\u001B[37m\u001B[0m \u001B[1m0s\u001B[0m 16ms/step - loss: 2.8452 - mae: 2.8452\n",
      "Epoch 170/200\n",
      "\u001B[1m1/1\u001B[0m \u001B[32m━━━━━━━━━━━━━━━━━━━━\u001B[0m\u001B[37m\u001B[0m \u001B[1m0s\u001B[0m 15ms/step - loss: 2.8445 - mae: 2.8445\n",
      "Epoch 171/200\n",
      "\u001B[1m1/1\u001B[0m \u001B[32m━━━━━━━━━━━━━━━━━━━━\u001B[0m\u001B[37m\u001B[0m \u001B[1m0s\u001B[0m 15ms/step - loss: 2.8325 - mae: 2.8325\n",
      "Epoch 172/200\n",
      "\u001B[1m1/1\u001B[0m \u001B[32m━━━━━━━━━━━━━━━━━━━━\u001B[0m\u001B[37m\u001B[0m \u001B[1m0s\u001B[0m 15ms/step - loss: 2.8263 - mae: 2.8263\n",
      "Epoch 173/200\n",
      "\u001B[1m1/1\u001B[0m \u001B[32m━━━━━━━━━━━━━━━━━━━━\u001B[0m\u001B[37m\u001B[0m \u001B[1m0s\u001B[0m 15ms/step - loss: 2.8198 - mae: 2.8198\n",
      "Epoch 174/200\n",
      "\u001B[1m1/1\u001B[0m \u001B[32m━━━━━━━━━━━━━━━━━━━━\u001B[0m\u001B[37m\u001B[0m \u001B[1m0s\u001B[0m 15ms/step - loss: 2.8095 - mae: 2.8095\n",
      "Epoch 175/200\n",
      "\u001B[1m1/1\u001B[0m \u001B[32m━━━━━━━━━━━━━━━━━━━━\u001B[0m\u001B[37m\u001B[0m \u001B[1m0s\u001B[0m 15ms/step - loss: 2.7964 - mae: 2.7964\n",
      "Epoch 176/200\n",
      "\u001B[1m1/1\u001B[0m \u001B[32m━━━━━━━━━━━━━━━━━━━━\u001B[0m\u001B[37m\u001B[0m \u001B[1m0s\u001B[0m 15ms/step - loss: 2.7835 - mae: 2.7835\n",
      "Epoch 177/200\n",
      "\u001B[1m1/1\u001B[0m \u001B[32m━━━━━━━━━━━━━━━━━━━━\u001B[0m\u001B[37m\u001B[0m \u001B[1m0s\u001B[0m 15ms/step - loss: 2.7775 - mae: 2.7775\n",
      "Epoch 178/200\n",
      "\u001B[1m1/1\u001B[0m \u001B[32m━━━━━━━━━━━━━━━━━━━━\u001B[0m\u001B[37m\u001B[0m \u001B[1m0s\u001B[0m 15ms/step - loss: 2.7669 - mae: 2.7669\n",
      "Epoch 179/200\n",
      "\u001B[1m1/1\u001B[0m \u001B[32m━━━━━━━━━━━━━━━━━━━━\u001B[0m\u001B[37m\u001B[0m \u001B[1m0s\u001B[0m 16ms/step - loss: 2.7529 - mae: 2.7529\n",
      "Epoch 180/200\n",
      "\u001B[1m1/1\u001B[0m \u001B[32m━━━━━━━━━━━━━━━━━━━━\u001B[0m\u001B[37m\u001B[0m \u001B[1m0s\u001B[0m 15ms/step - loss: 2.7452 - mae: 2.7452\n",
      "Epoch 181/200\n",
      "\u001B[1m1/1\u001B[0m \u001B[32m━━━━━━━━━━━━━━━━━━━━\u001B[0m\u001B[37m\u001B[0m \u001B[1m0s\u001B[0m 15ms/step - loss: 2.7352 - mae: 2.7352\n",
      "Epoch 182/200\n",
      "\u001B[1m1/1\u001B[0m \u001B[32m━━━━━━━━━━━━━━━━━━━━\u001B[0m\u001B[37m\u001B[0m \u001B[1m0s\u001B[0m 15ms/step - loss: 2.7225 - mae: 2.7225\n",
      "Epoch 183/200\n",
      "\u001B[1m1/1\u001B[0m \u001B[32m━━━━━━━━━━━━━━━━━━━━\u001B[0m\u001B[37m\u001B[0m \u001B[1m0s\u001B[0m 15ms/step - loss: 2.7180 - mae: 2.7180\n",
      "Epoch 184/200\n",
      "\u001B[1m1/1\u001B[0m \u001B[32m━━━━━━━━━━━━━━━━━━━━\u001B[0m\u001B[37m\u001B[0m \u001B[1m0s\u001B[0m 15ms/step - loss: 2.7073 - mae: 2.7073\n",
      "Epoch 185/200\n",
      "\u001B[1m1/1\u001B[0m \u001B[32m━━━━━━━━━━━━━━━━━━━━\u001B[0m\u001B[37m\u001B[0m \u001B[1m0s\u001B[0m 15ms/step - loss: 2.6938 - mae: 2.6938\n",
      "Epoch 186/200\n",
      "\u001B[1m1/1\u001B[0m \u001B[32m━━━━━━━━━━━━━━━━━━━━\u001B[0m\u001B[37m\u001B[0m \u001B[1m0s\u001B[0m 15ms/step - loss: 2.6894 - mae: 2.6894\n",
      "Epoch 187/200\n",
      "\u001B[1m1/1\u001B[0m \u001B[32m━━━━━━━━━━━━━━━━━━━━\u001B[0m\u001B[37m\u001B[0m \u001B[1m0s\u001B[0m 15ms/step - loss: 2.6812 - mae: 2.6812\n",
      "Epoch 188/200\n",
      "\u001B[1m1/1\u001B[0m \u001B[32m━━━━━━━━━━━━━━━━━━━━\u001B[0m\u001B[37m\u001B[0m \u001B[1m0s\u001B[0m 15ms/step - loss: 2.6692 - mae: 2.6692\n",
      "Epoch 189/200\n",
      "\u001B[1m1/1\u001B[0m \u001B[32m━━━━━━━━━━━━━━━━━━━━\u001B[0m\u001B[37m\u001B[0m \u001B[1m0s\u001B[0m 15ms/step - loss: 2.6539 - mae: 2.6539\n",
      "Epoch 190/200\n",
      "\u001B[1m1/1\u001B[0m \u001B[32m━━━━━━━━━━━━━━━━━━━━\u001B[0m\u001B[37m\u001B[0m \u001B[1m0s\u001B[0m 14ms/step - loss: 2.6569 - mae: 2.6569\n",
      "Epoch 191/200\n",
      "\u001B[1m1/1\u001B[0m \u001B[32m━━━━━━━━━━━━━━━━━━━━\u001B[0m\u001B[37m\u001B[0m \u001B[1m0s\u001B[0m 15ms/step - loss: 2.6470 - mae: 2.6470\n",
      "Epoch 192/200\n",
      "\u001B[1m1/1\u001B[0m \u001B[32m━━━━━━━━━━━━━━━━━━━━\u001B[0m\u001B[37m\u001B[0m \u001B[1m0s\u001B[0m 16ms/step - loss: 2.6253 - mae: 2.6253\n",
      "Epoch 193/200\n",
      "\u001B[1m1/1\u001B[0m \u001B[32m━━━━━━━━━━━━━━━━━━━━\u001B[0m\u001B[37m\u001B[0m \u001B[1m0s\u001B[0m 15ms/step - loss: 2.6111 - mae: 2.6111\n",
      "Epoch 194/200\n",
      "\u001B[1m1/1\u001B[0m \u001B[32m━━━━━━━━━━━━━━━━━━━━\u001B[0m\u001B[37m\u001B[0m \u001B[1m0s\u001B[0m 15ms/step - loss: 2.6041 - mae: 2.6041\n",
      "Epoch 195/200\n",
      "\u001B[1m1/1\u001B[0m \u001B[32m━━━━━━━━━━━━━━━━━━━━\u001B[0m\u001B[37m\u001B[0m \u001B[1m0s\u001B[0m 15ms/step - loss: 2.5950 - mae: 2.5950\n",
      "Epoch 196/200\n",
      "\u001B[1m1/1\u001B[0m \u001B[32m━━━━━━━━━━━━━━━━━━━━\u001B[0m\u001B[37m\u001B[0m \u001B[1m0s\u001B[0m 15ms/step - loss: 2.5839 - mae: 2.5839\n",
      "Epoch 197/200\n",
      "\u001B[1m1/1\u001B[0m \u001B[32m━━━━━━━━━━━━━━━━━━━━\u001B[0m\u001B[37m\u001B[0m \u001B[1m0s\u001B[0m 15ms/step - loss: 2.5692 - mae: 2.5692\n",
      "Epoch 198/200\n",
      "\u001B[1m1/1\u001B[0m \u001B[32m━━━━━━━━━━━━━━━━━━━━\u001B[0m\u001B[37m\u001B[0m \u001B[1m0s\u001B[0m 15ms/step - loss: 2.5581 - mae: 2.5581\n",
      "Epoch 199/200\n",
      "\u001B[1m1/1\u001B[0m \u001B[32m━━━━━━━━━━━━━━━━━━━━\u001B[0m\u001B[37m\u001B[0m \u001B[1m0s\u001B[0m 15ms/step - loss: 2.5309 - mae: 2.5309\n",
      "Epoch 200/200\n",
      "\u001B[1m1/1\u001B[0m \u001B[32m━━━━━━━━━━━━━━━━━━━━\u001B[0m\u001B[37m\u001B[0m \u001B[1m0s\u001B[0m 15ms/step - loss: 2.5344 - mae: 2.5344\n"
     ]
    },
    {
     "data": {
      "text/plain": [
       "<keras.src.callbacks.history.History at 0x1247ee910>"
      ]
     },
     "execution_count": 37,
     "metadata": {},
     "output_type": "execute_result"
    }
   ],
   "execution_count": 37
  },
  {
   "metadata": {
    "ExecuteTime": {
     "end_time": "2025-03-21T11:50:39.069420Z",
     "start_time": "2025-02-11T13:37:56.609937Z"
    }
   },
   "cell_type": "code",
   "source": [
    "x_test = tf.constant([17.0, 20.0, 23.0, 26.0, 29.0, 31.0, 34.0, 37.0], dtype=tf.float32, shape=(8,))\n",
    "y_test = tf.constant([27.0, 30.0, 33.0, 36.0, 39.0, 42.0, 45.0, 48.0], dtype=tf.float32)\n",
    "x_test, y_test"
   ],
   "id": "6f435b1fabae78ea",
   "outputs": [
    {
     "data": {
      "text/plain": [
       "(<tf.Tensor: shape=(8,), dtype=float32, numpy=array([17., 20., 23., 26., 29., 31., 34., 37.], dtype=float32)>,\n",
       " <tf.Tensor: shape=(8,), dtype=float32, numpy=array([27., 30., 33., 36., 39., 42., 45., 48.], dtype=float32)>)"
      ]
     },
     "execution_count": 38,
     "metadata": {},
     "output_type": "execute_result"
    }
   ],
   "execution_count": 38
  },
  {
   "metadata": {
    "ExecuteTime": {
     "end_time": "2025-03-21T11:50:39.071617Z",
     "start_time": "2025-02-11T13:37:56.631115Z"
    }
   },
   "cell_type": "code",
   "source": [
    "y_predict = model1.predict(x_test)\n",
    "y_predict"
   ],
   "id": "ad3cef8766d86116",
   "outputs": [
    {
     "name": "stdout",
     "output_type": "stream",
     "text": [
      "\u001B[1m1/1\u001B[0m \u001B[32m━━━━━━━━━━━━━━━━━━━━\u001B[0m\u001B[37m\u001B[0m \u001B[1m0s\u001B[0m 32ms/step\n"
     ]
    },
    {
     "data": {
      "text/plain": [
       "array([[30.346762],\n",
       "       [35.101887],\n",
       "       [39.857006],\n",
       "       [44.612133],\n",
       "       [49.36726 ],\n",
       "       [52.53734 ],\n",
       "       [57.292458],\n",
       "       [62.04759 ]], dtype=float32)"
      ]
     },
     "execution_count": 39,
     "metadata": {},
     "output_type": "execute_result"
    }
   ],
   "execution_count": 39
  },
  {
   "metadata": {},
   "cell_type": "markdown",
   "source": [
    "## Video 48\n",
    "\n",
    "Visualize, Visualize, Visualize"
   ],
   "id": "a0c6e782175dff72"
  },
  {
   "metadata": {
    "ExecuteTime": {
     "end_time": "2025-03-21T11:50:39.071989Z",
     "start_time": "2025-02-11T13:37:56.722155Z"
    }
   },
   "cell_type": "code",
   "source": [
    "x1_generated = [-7.0 + i*3 for i in range(100)]\n",
    "y1_generated = [3.0 + i*3 for i in range(100)]\n",
    "stack = tf.stack([x1_generated, y1_generated], axis=1)\n",
    "stack"
   ],
   "id": "f733dcf513b632f4",
   "outputs": [
    {
     "data": {
      "text/plain": [
       "<tf.Tensor: shape=(100, 2), dtype=float32, numpy=\n",
       "array([[ -7.,   3.],\n",
       "       [ -4.,   6.],\n",
       "       [ -1.,   9.],\n",
       "       [  2.,  12.],\n",
       "       [  5.,  15.],\n",
       "       [  8.,  18.],\n",
       "       [ 11.,  21.],\n",
       "       [ 14.,  24.],\n",
       "       [ 17.,  27.],\n",
       "       [ 20.,  30.],\n",
       "       [ 23.,  33.],\n",
       "       [ 26.,  36.],\n",
       "       [ 29.,  39.],\n",
       "       [ 32.,  42.],\n",
       "       [ 35.,  45.],\n",
       "       [ 38.,  48.],\n",
       "       [ 41.,  51.],\n",
       "       [ 44.,  54.],\n",
       "       [ 47.,  57.],\n",
       "       [ 50.,  60.],\n",
       "       [ 53.,  63.],\n",
       "       [ 56.,  66.],\n",
       "       [ 59.,  69.],\n",
       "       [ 62.,  72.],\n",
       "       [ 65.,  75.],\n",
       "       [ 68.,  78.],\n",
       "       [ 71.,  81.],\n",
       "       [ 74.,  84.],\n",
       "       [ 77.,  87.],\n",
       "       [ 80.,  90.],\n",
       "       [ 83.,  93.],\n",
       "       [ 86.,  96.],\n",
       "       [ 89.,  99.],\n",
       "       [ 92., 102.],\n",
       "       [ 95., 105.],\n",
       "       [ 98., 108.],\n",
       "       [101., 111.],\n",
       "       [104., 114.],\n",
       "       [107., 117.],\n",
       "       [110., 120.],\n",
       "       [113., 123.],\n",
       "       [116., 126.],\n",
       "       [119., 129.],\n",
       "       [122., 132.],\n",
       "       [125., 135.],\n",
       "       [128., 138.],\n",
       "       [131., 141.],\n",
       "       [134., 144.],\n",
       "       [137., 147.],\n",
       "       [140., 150.],\n",
       "       [143., 153.],\n",
       "       [146., 156.],\n",
       "       [149., 159.],\n",
       "       [152., 162.],\n",
       "       [155., 165.],\n",
       "       [158., 168.],\n",
       "       [161., 171.],\n",
       "       [164., 174.],\n",
       "       [167., 177.],\n",
       "       [170., 180.],\n",
       "       [173., 183.],\n",
       "       [176., 186.],\n",
       "       [179., 189.],\n",
       "       [182., 192.],\n",
       "       [185., 195.],\n",
       "       [188., 198.],\n",
       "       [191., 201.],\n",
       "       [194., 204.],\n",
       "       [197., 207.],\n",
       "       [200., 210.],\n",
       "       [203., 213.],\n",
       "       [206., 216.],\n",
       "       [209., 219.],\n",
       "       [212., 222.],\n",
       "       [215., 225.],\n",
       "       [218., 228.],\n",
       "       [221., 231.],\n",
       "       [224., 234.],\n",
       "       [227., 237.],\n",
       "       [230., 240.],\n",
       "       [233., 243.],\n",
       "       [236., 246.],\n",
       "       [239., 249.],\n",
       "       [242., 252.],\n",
       "       [245., 255.],\n",
       "       [248., 258.],\n",
       "       [251., 261.],\n",
       "       [254., 264.],\n",
       "       [257., 267.],\n",
       "       [260., 270.],\n",
       "       [263., 273.],\n",
       "       [266., 276.],\n",
       "       [269., 279.],\n",
       "       [272., 282.],\n",
       "       [275., 285.],\n",
       "       [278., 288.],\n",
       "       [281., 291.],\n",
       "       [284., 294.],\n",
       "       [287., 297.],\n",
       "       [290., 300.]], dtype=float32)>"
      ]
     },
     "execution_count": 40,
     "metadata": {},
     "output_type": "execute_result"
    }
   ],
   "execution_count": 40
  },
  {
   "metadata": {
    "ExecuteTime": {
     "end_time": "2025-03-21T11:50:39.073579Z",
     "start_time": "2025-02-11T13:37:56.763219Z"
    }
   },
   "cell_type": "code",
   "source": [
    "x1, y1 = tf.unstack(stack, axis=1)\n",
    "\n",
    "model1 = ks.Sequential()\n",
    "model1.add(ks.layers.Input(shape=(1,)))\n",
    "model1.add(ks.layers.Dense(20, activation='relu'))\n",
    "model1.add(ks.layers.Dense(20, activation='relu'))\n",
    "model1.add(ks.layers.Dense(20, activation='relu'))\n",
    "model1.add(ks.layers.Dense(20, activation='relu'))\n",
    "model1.add(ks.layers.Dense(1))\n",
    "\n",
    "# 2. compile the model\n",
    "model1.compile(loss=ks.losses.MeanAbsoluteError,\n",
    "              optimizer=ks.optimizers.Adam(),\n",
    "              metrics=['mae'])\n",
    "\n",
    "# 3. fit the model\n",
    "model1.fit(x1, y1, epochs=100)"
   ],
   "id": "90aaa9434376d02",
   "outputs": [
    {
     "name": "stdout",
     "output_type": "stream",
     "text": [
      "Epoch 1/100\n",
      "\u001B[1m4/4\u001B[0m \u001B[32m━━━━━━━━━━━━━━━━━━━━\u001B[0m\u001B[37m\u001B[0m \u001B[1m0s\u001B[0m 3ms/step - loss: 154.0657 - mae: 154.0657  \n",
      "Epoch 2/100\n",
      "\u001B[1m4/4\u001B[0m \u001B[32m━━━━━━━━━━━━━━━━━━━━\u001B[0m\u001B[37m\u001B[0m \u001B[1m0s\u001B[0m 3ms/step - loss: 147.9411 - mae: 147.9411\n",
      "Epoch 3/100\n",
      "\u001B[1m4/4\u001B[0m \u001B[32m━━━━━━━━━━━━━━━━━━━━\u001B[0m\u001B[37m\u001B[0m \u001B[1m0s\u001B[0m 3ms/step - loss: 141.4144 - mae: 141.4144\n",
      "Epoch 4/100\n",
      "\u001B[1m4/4\u001B[0m \u001B[32m━━━━━━━━━━━━━━━━━━━━\u001B[0m\u001B[37m\u001B[0m \u001B[1m0s\u001B[0m 3ms/step - loss: 134.3930 - mae: 134.3930\n",
      "Epoch 5/100\n",
      "\u001B[1m4/4\u001B[0m \u001B[32m━━━━━━━━━━━━━━━━━━━━\u001B[0m\u001B[37m\u001B[0m \u001B[1m0s\u001B[0m 3ms/step - loss: 126.7396 - mae: 126.7396\n",
      "Epoch 6/100\n",
      "\u001B[1m4/4\u001B[0m \u001B[32m━━━━━━━━━━━━━━━━━━━━\u001B[0m\u001B[37m\u001B[0m \u001B[1m0s\u001B[0m 3ms/step - loss: 118.6449 - mae: 118.6449\n",
      "Epoch 7/100\n",
      "\u001B[1m4/4\u001B[0m \u001B[32m━━━━━━━━━━━━━━━━━━━━\u001B[0m\u001B[37m\u001B[0m \u001B[1m0s\u001B[0m 3ms/step - loss: 110.5260 - mae: 110.5260\n",
      "Epoch 8/100\n",
      "\u001B[1m4/4\u001B[0m \u001B[32m━━━━━━━━━━━━━━━━━━━━\u001B[0m\u001B[37m\u001B[0m \u001B[1m0s\u001B[0m 3ms/step - loss: 101.2111 - mae: 101.2111\n",
      "Epoch 9/100\n",
      "\u001B[1m4/4\u001B[0m \u001B[32m━━━━━━━━━━━━━━━━━━━━\u001B[0m\u001B[37m\u001B[0m \u001B[1m0s\u001B[0m 3ms/step - loss: 90.3924 - mae: 90.3924\n",
      "Epoch 10/100\n",
      "\u001B[1m4/4\u001B[0m \u001B[32m━━━━━━━━━━━━━━━━━━━━\u001B[0m\u001B[37m\u001B[0m \u001B[1m0s\u001B[0m 3ms/step - loss: 77.7259 - mae: 77.7259\n",
      "Epoch 11/100\n",
      "\u001B[1m4/4\u001B[0m \u001B[32m━━━━━━━━━━━━━━━━━━━━\u001B[0m\u001B[37m\u001B[0m \u001B[1m0s\u001B[0m 3ms/step - loss: 62.8233 - mae: 62.8233\n",
      "Epoch 12/100\n",
      "\u001B[1m4/4\u001B[0m \u001B[32m━━━━━━━━━━━━━━━━━━━━\u001B[0m\u001B[37m\u001B[0m \u001B[1m0s\u001B[0m 3ms/step - loss: 45.2751 - mae: 45.2751\n",
      "Epoch 13/100\n",
      "\u001B[1m4/4\u001B[0m \u001B[32m━━━━━━━━━━━━━━━━━━━━\u001B[0m\u001B[37m\u001B[0m \u001B[1m0s\u001B[0m 3ms/step - loss: 25.0804 - mae: 25.0804\n",
      "Epoch 14/100\n",
      "\u001B[1m4/4\u001B[0m \u001B[32m━━━━━━━━━━━━━━━━━━━━\u001B[0m\u001B[37m\u001B[0m \u001B[1m0s\u001B[0m 3ms/step - loss: 6.2342 - mae: 6.2342 \n",
      "Epoch 15/100\n",
      "\u001B[1m4/4\u001B[0m \u001B[32m━━━━━━━━━━━━━━━━━━━━\u001B[0m\u001B[37m\u001B[0m \u001B[1m0s\u001B[0m 3ms/step - loss: 15.6361 - mae: 15.6361\n",
      "Epoch 16/100\n",
      "\u001B[1m4/4\u001B[0m \u001B[32m━━━━━━━━━━━━━━━━━━━━\u001B[0m\u001B[37m\u001B[0m \u001B[1m0s\u001B[0m 3ms/step - loss: 14.0854 - mae: 14.0854\n",
      "Epoch 17/100\n",
      "\u001B[1m4/4\u001B[0m \u001B[32m━━━━━━━━━━━━━━━━━━━━\u001B[0m\u001B[37m\u001B[0m \u001B[1m0s\u001B[0m 3ms/step - loss: 5.8752 - mae: 5.8752\n",
      "Epoch 18/100\n",
      "\u001B[1m4/4\u001B[0m \u001B[32m━━━━━━━━━━━━━━━━━━━━\u001B[0m\u001B[37m\u001B[0m \u001B[1m0s\u001B[0m 3ms/step - loss: 7.7156 - mae: 7.7156\n",
      "Epoch 19/100\n",
      "\u001B[1m4/4\u001B[0m \u001B[32m━━━━━━━━━━━━━━━━━━━━\u001B[0m\u001B[37m\u001B[0m \u001B[1m0s\u001B[0m 3ms/step - loss: 5.2657 - mae: 5.2657\n",
      "Epoch 20/100\n",
      "\u001B[1m4/4\u001B[0m \u001B[32m━━━━━━━━━━━━━━━━━━━━\u001B[0m\u001B[37m\u001B[0m \u001B[1m0s\u001B[0m 3ms/step - loss: 5.4956 - mae: 5.4956\n",
      "Epoch 21/100\n",
      "\u001B[1m4/4\u001B[0m \u001B[32m━━━━━━━━━━━━━━━━━━━━\u001B[0m\u001B[37m\u001B[0m \u001B[1m0s\u001B[0m 3ms/step - loss: 4.8858 - mae: 4.8858\n",
      "Epoch 22/100\n",
      "\u001B[1m4/4\u001B[0m \u001B[32m━━━━━━━━━━━━━━━━━━━━\u001B[0m\u001B[37m\u001B[0m \u001B[1m0s\u001B[0m 3ms/step - loss: 4.6739 - mae: 4.6739\n",
      "Epoch 23/100\n",
      "\u001B[1m4/4\u001B[0m \u001B[32m━━━━━━━━━━━━━━━━━━━━\u001B[0m\u001B[37m\u001B[0m \u001B[1m0s\u001B[0m 3ms/step - loss: 3.8680 - mae: 3.8680\n",
      "Epoch 24/100\n",
      "\u001B[1m4/4\u001B[0m \u001B[32m━━━━━━━━━━━━━━━━━━━━\u001B[0m\u001B[37m\u001B[0m \u001B[1m0s\u001B[0m 3ms/step - loss: 4.3695 - mae: 4.3695\n",
      "Epoch 25/100\n",
      "\u001B[1m4/4\u001B[0m \u001B[32m━━━━━━━━━━━━━━━━━━━━\u001B[0m\u001B[37m\u001B[0m \u001B[1m0s\u001B[0m 3ms/step - loss: 4.1111 - mae: 4.1111\n",
      "Epoch 26/100\n",
      "\u001B[1m4/4\u001B[0m \u001B[32m━━━━━━━━━━━━━━━━━━━━\u001B[0m\u001B[37m\u001B[0m \u001B[1m0s\u001B[0m 3ms/step - loss: 3.8918 - mae: 3.8918\n",
      "Epoch 27/100\n",
      "\u001B[1m4/4\u001B[0m \u001B[32m━━━━━━━━━━━━━━━━━━━━\u001B[0m\u001B[37m\u001B[0m \u001B[1m0s\u001B[0m 3ms/step - loss: 4.1186 - mae: 4.1186\n",
      "Epoch 28/100\n",
      "\u001B[1m4/4\u001B[0m \u001B[32m━━━━━━━━━━━━━━━━━━━━\u001B[0m\u001B[37m\u001B[0m \u001B[1m0s\u001B[0m 3ms/step - loss: 4.0061 - mae: 4.0061\n",
      "Epoch 29/100\n",
      "\u001B[1m4/4\u001B[0m \u001B[32m━━━━━━━━━━━━━━━━━━━━\u001B[0m\u001B[37m\u001B[0m \u001B[1m0s\u001B[0m 3ms/step - loss: 3.7660 - mae: 3.7660\n",
      "Epoch 30/100\n",
      "\u001B[1m4/4\u001B[0m \u001B[32m━━━━━━━━━━━━━━━━━━━━\u001B[0m\u001B[37m\u001B[0m \u001B[1m0s\u001B[0m 3ms/step - loss: 3.9791 - mae: 3.9791\n",
      "Epoch 31/100\n",
      "\u001B[1m4/4\u001B[0m \u001B[32m━━━━━━━━━━━━━━━━━━━━\u001B[0m\u001B[37m\u001B[0m \u001B[1m0s\u001B[0m 3ms/step - loss: 3.8148 - mae: 3.8148\n",
      "Epoch 32/100\n",
      "\u001B[1m4/4\u001B[0m \u001B[32m━━━━━━━━━━━━━━━━━━━━\u001B[0m\u001B[37m\u001B[0m \u001B[1m0s\u001B[0m 3ms/step - loss: 3.7377 - mae: 3.7377\n",
      "Epoch 33/100\n",
      "\u001B[1m4/4\u001B[0m \u001B[32m━━━━━━━━━━━━━━━━━━━━\u001B[0m\u001B[37m\u001B[0m \u001B[1m0s\u001B[0m 3ms/step - loss: 3.8599 - mae: 3.8599\n",
      "Epoch 34/100\n",
      "\u001B[1m4/4\u001B[0m \u001B[32m━━━━━━━━━━━━━━━━━━━━\u001B[0m\u001B[37m\u001B[0m \u001B[1m0s\u001B[0m 3ms/step - loss: 3.7247 - mae: 3.7247\n",
      "Epoch 35/100\n",
      "\u001B[1m4/4\u001B[0m \u001B[32m━━━━━━━━━━━━━━━━━━━━\u001B[0m\u001B[37m\u001B[0m \u001B[1m0s\u001B[0m 3ms/step - loss: 3.6728 - mae: 3.6728\n",
      "Epoch 36/100\n",
      "\u001B[1m4/4\u001B[0m \u001B[32m━━━━━━━━━━━━━━━━━━━━\u001B[0m\u001B[37m\u001B[0m \u001B[1m0s\u001B[0m 3ms/step - loss: 3.6704 - mae: 3.6704\n",
      "Epoch 37/100\n",
      "\u001B[1m4/4\u001B[0m \u001B[32m━━━━━━━━━━━━━━━━━━━━\u001B[0m\u001B[37m\u001B[0m \u001B[1m0s\u001B[0m 3ms/step - loss: 3.6755 - mae: 3.6755\n",
      "Epoch 38/100\n",
      "\u001B[1m4/4\u001B[0m \u001B[32m━━━━━━━━━━━━━━━━━━━━\u001B[0m\u001B[37m\u001B[0m \u001B[1m0s\u001B[0m 3ms/step - loss: 3.6286 - mae: 3.6286\n",
      "Epoch 39/100\n",
      "\u001B[1m4/4\u001B[0m \u001B[32m━━━━━━━━━━━━━━━━━━━━\u001B[0m\u001B[37m\u001B[0m \u001B[1m0s\u001B[0m 3ms/step - loss: 3.6251 - mae: 3.6251\n",
      "Epoch 40/100\n",
      "\u001B[1m4/4\u001B[0m \u001B[32m━━━━━━━━━━━━━━━━━━━━\u001B[0m\u001B[37m\u001B[0m \u001B[1m0s\u001B[0m 3ms/step - loss: 3.6121 - mae: 3.6121\n",
      "Epoch 41/100\n",
      "\u001B[1m4/4\u001B[0m \u001B[32m━━━━━━━━━━━━━━━━━━━━\u001B[0m\u001B[37m\u001B[0m \u001B[1m0s\u001B[0m 3ms/step - loss: 3.5672 - mae: 3.5672\n",
      "Epoch 42/100\n",
      "\u001B[1m4/4\u001B[0m \u001B[32m━━━━━━━━━━━━━━━━━━━━\u001B[0m\u001B[37m\u001B[0m \u001B[1m0s\u001B[0m 3ms/step - loss: 3.5517 - mae: 3.5517\n",
      "Epoch 43/100\n",
      "\u001B[1m4/4\u001B[0m \u001B[32m━━━━━━━━━━━━━━━━━━━━\u001B[0m\u001B[37m\u001B[0m \u001B[1m0s\u001B[0m 3ms/step - loss: 3.5399 - mae: 3.5399\n",
      "Epoch 44/100\n",
      "\u001B[1m4/4\u001B[0m \u001B[32m━━━━━━━━━━━━━━━━━━━━\u001B[0m\u001B[37m\u001B[0m \u001B[1m0s\u001B[0m 3ms/step - loss: 3.5260 - mae: 3.5260\n",
      "Epoch 45/100\n",
      "\u001B[1m4/4\u001B[0m \u001B[32m━━━━━━━━━━━━━━━━━━━━\u001B[0m\u001B[37m\u001B[0m \u001B[1m0s\u001B[0m 3ms/step - loss: 3.5049 - mae: 3.5049\n",
      "Epoch 46/100\n",
      "\u001B[1m4/4\u001B[0m \u001B[32m━━━━━━━━━━━━━━━━━━━━\u001B[0m\u001B[37m\u001B[0m \u001B[1m0s\u001B[0m 3ms/step - loss: 3.4875 - mae: 3.4875\n",
      "Epoch 47/100\n",
      "\u001B[1m4/4\u001B[0m \u001B[32m━━━━━━━━━━━━━━━━━━━━\u001B[0m\u001B[37m\u001B[0m \u001B[1m0s\u001B[0m 3ms/step - loss: 3.4688 - mae: 3.4688\n",
      "Epoch 48/100\n",
      "\u001B[1m4/4\u001B[0m \u001B[32m━━━━━━━━━━━━━━━━━━━━\u001B[0m\u001B[37m\u001B[0m \u001B[1m0s\u001B[0m 3ms/step - loss: 3.4561 - mae: 3.4561\n",
      "Epoch 49/100\n",
      "\u001B[1m4/4\u001B[0m \u001B[32m━━━━━━━━━━━━━━━━━━━━\u001B[0m\u001B[37m\u001B[0m \u001B[1m0s\u001B[0m 3ms/step - loss: 3.4193 - mae: 3.4193\n",
      "Epoch 50/100\n",
      "\u001B[1m4/4\u001B[0m \u001B[32m━━━━━━━━━━━━━━━━━━━━\u001B[0m\u001B[37m\u001B[0m \u001B[1m0s\u001B[0m 3ms/step - loss: 3.4155 - mae: 3.4155\n",
      "Epoch 51/100\n",
      "\u001B[1m4/4\u001B[0m \u001B[32m━━━━━━━━━━━━━━━━━━━━\u001B[0m\u001B[37m\u001B[0m \u001B[1m0s\u001B[0m 3ms/step - loss: 3.3906 - mae: 3.3906\n",
      "Epoch 52/100\n",
      "\u001B[1m4/4\u001B[0m \u001B[32m━━━━━━━━━━━━━━━━━━━━\u001B[0m\u001B[37m\u001B[0m \u001B[1m0s\u001B[0m 3ms/step - loss: 3.3806 - mae: 3.3806\n",
      "Epoch 53/100\n",
      "\u001B[1m4/4\u001B[0m \u001B[32m━━━━━━━━━━━━━━━━━━━━\u001B[0m\u001B[37m\u001B[0m \u001B[1m0s\u001B[0m 3ms/step - loss: 3.3698 - mae: 3.3698\n",
      "Epoch 54/100\n",
      "\u001B[1m4/4\u001B[0m \u001B[32m━━━━━━━━━━━━━━━━━━━━\u001B[0m\u001B[37m\u001B[0m \u001B[1m0s\u001B[0m 3ms/step - loss: 3.3318 - mae: 3.3318\n",
      "Epoch 55/100\n",
      "\u001B[1m4/4\u001B[0m \u001B[32m━━━━━━━━━━━━━━━━━━━━\u001B[0m\u001B[37m\u001B[0m \u001B[1m0s\u001B[0m 3ms/step - loss: 3.3116 - mae: 3.3116\n",
      "Epoch 56/100\n",
      "\u001B[1m4/4\u001B[0m \u001B[32m━━━━━━━━━━━━━━━━━━━━\u001B[0m\u001B[37m\u001B[0m \u001B[1m0s\u001B[0m 3ms/step - loss: 3.3025 - mae: 3.3025\n",
      "Epoch 57/100\n",
      "\u001B[1m4/4\u001B[0m \u001B[32m━━━━━━━━━━━━━━━━━━━━\u001B[0m\u001B[37m\u001B[0m \u001B[1m0s\u001B[0m 3ms/step - loss: 3.2979 - mae: 3.2979\n",
      "Epoch 58/100\n",
      "\u001B[1m4/4\u001B[0m \u001B[32m━━━━━━━━━━━━━━━━━━━━\u001B[0m\u001B[37m\u001B[0m \u001B[1m0s\u001B[0m 3ms/step - loss: 3.2662 - mae: 3.2662\n",
      "Epoch 59/100\n",
      "\u001B[1m4/4\u001B[0m \u001B[32m━━━━━━━━━━━━━━━━━━━━\u001B[0m\u001B[37m\u001B[0m \u001B[1m0s\u001B[0m 3ms/step - loss: 3.2488 - mae: 3.2488\n",
      "Epoch 60/100\n",
      "\u001B[1m4/4\u001B[0m \u001B[32m━━━━━━━━━━━━━━━━━━━━\u001B[0m\u001B[37m\u001B[0m \u001B[1m0s\u001B[0m 3ms/step - loss: 3.2242 - mae: 3.2242\n",
      "Epoch 61/100\n",
      "\u001B[1m4/4\u001B[0m \u001B[32m━━━━━━━━━━━━━━━━━━━━\u001B[0m\u001B[37m\u001B[0m \u001B[1m0s\u001B[0m 3ms/step - loss: 3.2102 - mae: 3.2102\n",
      "Epoch 62/100\n",
      "\u001B[1m4/4\u001B[0m \u001B[32m━━━━━━━━━━━━━━━━━━━━\u001B[0m\u001B[37m\u001B[0m \u001B[1m0s\u001B[0m 3ms/step - loss: 3.1676 - mae: 3.1676\n",
      "Epoch 63/100\n",
      "\u001B[1m4/4\u001B[0m \u001B[32m━━━━━━━━━━━━━━━━━━━━\u001B[0m\u001B[37m\u001B[0m \u001B[1m0s\u001B[0m 3ms/step - loss: 3.1432 - mae: 3.1432\n",
      "Epoch 64/100\n",
      "\u001B[1m4/4\u001B[0m \u001B[32m━━━━━━━━━━━━━━━━━━━━\u001B[0m\u001B[37m\u001B[0m \u001B[1m0s\u001B[0m 3ms/step - loss: 3.1407 - mae: 3.1407\n",
      "Epoch 65/100\n",
      "\u001B[1m4/4\u001B[0m \u001B[32m━━━━━━━━━━━━━━━━━━━━\u001B[0m\u001B[37m\u001B[0m \u001B[1m0s\u001B[0m 3ms/step - loss: 3.1171 - mae: 3.1171\n",
      "Epoch 66/100\n",
      "\u001B[1m4/4\u001B[0m \u001B[32m━━━━━━━━━━━━━━━━━━━━\u001B[0m\u001B[37m\u001B[0m \u001B[1m0s\u001B[0m 3ms/step - loss: 3.1183 - mae: 3.1183\n",
      "Epoch 67/100\n",
      "\u001B[1m4/4\u001B[0m \u001B[32m━━━━━━━━━━━━━━━━━━━━\u001B[0m\u001B[37m\u001B[0m \u001B[1m0s\u001B[0m 3ms/step - loss: 3.1036 - mae: 3.1036\n",
      "Epoch 68/100\n",
      "\u001B[1m4/4\u001B[0m \u001B[32m━━━━━━━━━━━━━━━━━━━━\u001B[0m\u001B[37m\u001B[0m \u001B[1m0s\u001B[0m 3ms/step - loss: 3.0582 - mae: 3.0582\n",
      "Epoch 69/100\n",
      "\u001B[1m4/4\u001B[0m \u001B[32m━━━━━━━━━━━━━━━━━━━━\u001B[0m\u001B[37m\u001B[0m \u001B[1m0s\u001B[0m 3ms/step - loss: 3.0261 - mae: 3.0261\n",
      "Epoch 70/100\n",
      "\u001B[1m4/4\u001B[0m \u001B[32m━━━━━━━━━━━━━━━━━━━━\u001B[0m\u001B[37m\u001B[0m \u001B[1m0s\u001B[0m 3ms/step - loss: 3.0584 - mae: 3.0584\n",
      "Epoch 71/100\n",
      "\u001B[1m4/4\u001B[0m \u001B[32m━━━━━━━━━━━━━━━━━━━━\u001B[0m\u001B[37m\u001B[0m \u001B[1m0s\u001B[0m 3ms/step - loss: 2.9741 - mae: 2.9741\n",
      "Epoch 72/100\n",
      "\u001B[1m4/4\u001B[0m \u001B[32m━━━━━━━━━━━━━━━━━━━━\u001B[0m\u001B[37m\u001B[0m \u001B[1m0s\u001B[0m 3ms/step - loss: 2.9823 - mae: 2.9823\n",
      "Epoch 73/100\n",
      "\u001B[1m4/4\u001B[0m \u001B[32m━━━━━━━━━━━━━━━━━━━━\u001B[0m\u001B[37m\u001B[0m \u001B[1m0s\u001B[0m 3ms/step - loss: 2.9041 - mae: 2.9041\n",
      "Epoch 74/100\n",
      "\u001B[1m4/4\u001B[0m \u001B[32m━━━━━━━━━━━━━━━━━━━━\u001B[0m\u001B[37m\u001B[0m \u001B[1m0s\u001B[0m 3ms/step - loss: 2.9158 - mae: 2.9158\n",
      "Epoch 75/100\n",
      "\u001B[1m4/4\u001B[0m \u001B[32m━━━━━━━━━━━━━━━━━━━━\u001B[0m\u001B[37m\u001B[0m \u001B[1m0s\u001B[0m 3ms/step - loss: 2.8096 - mae: 2.8096\n",
      "Epoch 76/100\n",
      "\u001B[1m4/4\u001B[0m \u001B[32m━━━━━━━━━━━━━━━━━━━━\u001B[0m\u001B[37m\u001B[0m \u001B[1m0s\u001B[0m 3ms/step - loss: 2.8457 - mae: 2.8457\n",
      "Epoch 77/100\n",
      "\u001B[1m4/4\u001B[0m \u001B[32m━━━━━━━━━━━━━━━━━━━━\u001B[0m\u001B[37m\u001B[0m \u001B[1m0s\u001B[0m 3ms/step - loss: 2.8458 - mae: 2.8458\n",
      "Epoch 78/100\n",
      "\u001B[1m4/4\u001B[0m \u001B[32m━━━━━━━━━━━━━━━━━━━━\u001B[0m\u001B[37m\u001B[0m \u001B[1m0s\u001B[0m 3ms/step - loss: 2.8127 - mae: 2.8127\n",
      "Epoch 79/100\n",
      "\u001B[1m4/4\u001B[0m \u001B[32m━━━━━━━━━━━━━━━━━━━━\u001B[0m\u001B[37m\u001B[0m \u001B[1m0s\u001B[0m 3ms/step - loss: 2.7470 - mae: 2.7470\n",
      "Epoch 80/100\n",
      "\u001B[1m4/4\u001B[0m \u001B[32m━━━━━━━━━━━━━━━━━━━━\u001B[0m\u001B[37m\u001B[0m \u001B[1m0s\u001B[0m 3ms/step - loss: 2.7896 - mae: 2.7896\n",
      "Epoch 81/100\n",
      "\u001B[1m4/4\u001B[0m \u001B[32m━━━━━━━━━━━━━━━━━━━━\u001B[0m\u001B[37m\u001B[0m \u001B[1m0s\u001B[0m 3ms/step - loss: 2.7087 - mae: 2.7087\n",
      "Epoch 82/100\n",
      "\u001B[1m4/4\u001B[0m \u001B[32m━━━━━━━━━━━━━━━━━━━━\u001B[0m\u001B[37m\u001B[0m \u001B[1m0s\u001B[0m 3ms/step - loss: 2.7017 - mae: 2.7017\n",
      "Epoch 83/100\n",
      "\u001B[1m4/4\u001B[0m \u001B[32m━━━━━━━━━━━━━━━━━━━━\u001B[0m\u001B[37m\u001B[0m \u001B[1m0s\u001B[0m 3ms/step - loss: 2.6084 - mae: 2.6084\n",
      "Epoch 84/100\n",
      "\u001B[1m4/4\u001B[0m \u001B[32m━━━━━━━━━━━━━━━━━━━━\u001B[0m\u001B[37m\u001B[0m \u001B[1m0s\u001B[0m 3ms/step - loss: 2.5671 - mae: 2.5671\n",
      "Epoch 85/100\n",
      "\u001B[1m4/4\u001B[0m \u001B[32m━━━━━━━━━━━━━━━━━━━━\u001B[0m\u001B[37m\u001B[0m \u001B[1m0s\u001B[0m 3ms/step - loss: 2.5977 - mae: 2.5977\n",
      "Epoch 86/100\n",
      "\u001B[1m4/4\u001B[0m \u001B[32m━━━━━━━━━━━━━━━━━━━━\u001B[0m\u001B[37m\u001B[0m \u001B[1m0s\u001B[0m 3ms/step - loss: 3.1856 - mae: 3.1856\n",
      "Epoch 87/100\n",
      "\u001B[1m4/4\u001B[0m \u001B[32m━━━━━━━━━━━━━━━━━━━━\u001B[0m\u001B[37m\u001B[0m \u001B[1m0s\u001B[0m 3ms/step - loss: 3.0785 - mae: 3.0785\n",
      "Epoch 88/100\n",
      "\u001B[1m4/4\u001B[0m \u001B[32m━━━━━━━━━━━━━━━━━━━━\u001B[0m\u001B[37m\u001B[0m \u001B[1m0s\u001B[0m 3ms/step - loss: 2.9140 - mae: 2.9140\n",
      "Epoch 89/100\n",
      "\u001B[1m4/4\u001B[0m \u001B[32m━━━━━━━━━━━━━━━━━━━━\u001B[0m\u001B[37m\u001B[0m \u001B[1m0s\u001B[0m 3ms/step - loss: 2.5420 - mae: 2.5420\n",
      "Epoch 90/100\n",
      "\u001B[1m4/4\u001B[0m \u001B[32m━━━━━━━━━━━━━━━━━━━━\u001B[0m\u001B[37m\u001B[0m \u001B[1m0s\u001B[0m 3ms/step - loss: 2.7214 - mae: 2.7214\n",
      "Epoch 91/100\n",
      "\u001B[1m4/4\u001B[0m \u001B[32m━━━━━━━━━━━━━━━━━━━━\u001B[0m\u001B[37m\u001B[0m \u001B[1m0s\u001B[0m 3ms/step - loss: 2.7536 - mae: 2.7536\n",
      "Epoch 92/100\n",
      "\u001B[1m4/4\u001B[0m \u001B[32m━━━━━━━━━━━━━━━━━━━━\u001B[0m\u001B[37m\u001B[0m \u001B[1m0s\u001B[0m 3ms/step - loss: 2.4490 - mae: 2.4490\n",
      "Epoch 93/100\n",
      "\u001B[1m4/4\u001B[0m \u001B[32m━━━━━━━━━━━━━━━━━━━━\u001B[0m\u001B[37m\u001B[0m \u001B[1m0s\u001B[0m 3ms/step - loss: 2.6006 - mae: 2.6006\n",
      "Epoch 94/100\n",
      "\u001B[1m4/4\u001B[0m \u001B[32m━━━━━━━━━━━━━━━━━━━━\u001B[0m\u001B[37m\u001B[0m \u001B[1m0s\u001B[0m 3ms/step - loss: 2.4263 - mae: 2.4263\n",
      "Epoch 95/100\n",
      "\u001B[1m4/4\u001B[0m \u001B[32m━━━━━━━━━━━━━━━━━━━━\u001B[0m\u001B[37m\u001B[0m \u001B[1m0s\u001B[0m 3ms/step - loss: 2.7523 - mae: 2.7523\n",
      "Epoch 96/100\n",
      "\u001B[1m4/4\u001B[0m \u001B[32m━━━━━━━━━━━━━━━━━━━━\u001B[0m\u001B[37m\u001B[0m \u001B[1m0s\u001B[0m 3ms/step - loss: 2.9182 - mae: 2.9182\n",
      "Epoch 97/100\n",
      "\u001B[1m4/4\u001B[0m \u001B[32m━━━━━━━━━━━━━━━━━━━━\u001B[0m\u001B[37m\u001B[0m \u001B[1m0s\u001B[0m 3ms/step - loss: 4.1364 - mae: 4.1364\n",
      "Epoch 98/100\n",
      "\u001B[1m4/4\u001B[0m \u001B[32m━━━━━━━━━━━━━━━━━━━━\u001B[0m\u001B[37m\u001B[0m \u001B[1m0s\u001B[0m 3ms/step - loss: 2.9872 - mae: 2.9872\n",
      "Epoch 99/100\n",
      "\u001B[1m4/4\u001B[0m \u001B[32m━━━━━━━━━━━━━━━━━━━━\u001B[0m\u001B[37m\u001B[0m \u001B[1m0s\u001B[0m 3ms/step - loss: 2.4207 - mae: 2.4207\n",
      "Epoch 100/100\n",
      "\u001B[1m4/4\u001B[0m \u001B[32m━━━━━━━━━━━━━━━━━━━━\u001B[0m\u001B[37m\u001B[0m \u001B[1m0s\u001B[0m 3ms/step - loss: 2.4803 - mae: 2.4803\n"
     ]
    },
    {
     "data": {
      "text/plain": [
       "<keras.src.callbacks.history.History at 0x1259b9b50>"
      ]
     },
     "execution_count": 41,
     "metadata": {},
     "output_type": "execute_result"
    }
   ],
   "execution_count": 41
  },
  {
   "metadata": {
    "ExecuteTime": {
     "end_time": "2025-03-21T11:50:39.081275Z",
     "start_time": "2025-02-11T13:37:59.077320Z"
    }
   },
   "cell_type": "code",
   "source": [
    "a = np.arange(0, 9, 0.3)\n",
    "model1.predict(a)"
   ],
   "id": "dae57573099520c3",
   "outputs": [
    {
     "name": "stdout",
     "output_type": "stream",
     "text": [
      "\u001B[1m1/1\u001B[0m \u001B[32m━━━━━━━━━━━━━━━━━━━━\u001B[0m\u001B[37m\u001B[0m \u001B[1m0s\u001B[0m 34ms/step\n"
     ]
    },
    {
     "data": {
      "text/plain": [
       "array([[ 4.935876 ],\n",
       "       [ 4.862304 ],\n",
       "       [ 5.103164 ],\n",
       "       [ 5.437225 ],\n",
       "       [ 5.766395 ],\n",
       "       [ 6.0891747],\n",
       "       [ 6.408353 ],\n",
       "       [ 6.727531 ],\n",
       "       [ 7.0467095],\n",
       "       [ 7.365888 ],\n",
       "       [ 7.6850657],\n",
       "       [ 8.004244 ],\n",
       "       [ 8.323422 ],\n",
       "       [ 8.6426   ],\n",
       "       [ 8.961778 ],\n",
       "       [ 9.280957 ],\n",
       "       [ 9.600135 ],\n",
       "       [ 9.9193125],\n",
       "       [10.238492 ],\n",
       "       [10.55767  ],\n",
       "       [10.876847 ],\n",
       "       [11.196027 ],\n",
       "       [11.515204 ],\n",
       "       [11.834384 ],\n",
       "       [12.153562 ],\n",
       "       [12.472739 ],\n",
       "       [12.791917 ],\n",
       "       [13.111096 ],\n",
       "       [13.430275 ],\n",
       "       [13.748878 ]], dtype=float32)"
      ]
     },
     "execution_count": 42,
     "metadata": {},
     "output_type": "execute_result"
    }
   ],
   "execution_count": 42
  },
  {
   "metadata": {
    "ExecuteTime": {
     "end_time": "2025-03-21T11:50:39.083296Z",
     "start_time": "2025-02-11T13:37:59.168083Z"
    }
   },
   "cell_type": "code",
   "source": [
    "a = np.arange(0, 30, 3)\n",
    "a_test = np.arange(30, 60, 3)\n",
    "b = np.arange(-7, 23, 3)\n",
    "b_test = np.arange(23, 51, 3)\n",
    "a, b, a_test, b_test"
   ],
   "id": "99a5c692abf5019f",
   "outputs": [
    {
     "data": {
      "text/plain": [
       "(array([ 0,  3,  6,  9, 12, 15, 18, 21, 24, 27]),\n",
       " array([-7, -4, -1,  2,  5,  8, 11, 14, 17, 20]),\n",
       " array([30, 33, 36, 39, 42, 45, 48, 51, 54, 57]),\n",
       " array([23, 26, 29, 32, 35, 38, 41, 44, 47, 50]))"
      ]
     },
     "execution_count": 43,
     "metadata": {},
     "output_type": "execute_result"
    }
   ],
   "execution_count": 43
  },
  {
   "metadata": {
    "ExecuteTime": {
     "end_time": "2025-03-21T11:50:39.086408Z",
     "start_time": "2025-02-11T13:37:59.206726Z"
    }
   },
   "cell_type": "code",
   "source": [
    "plt.scatter(a, b, c='blue')\n",
    "plt.scatter(a_test, b_test, c='green')"
   ],
   "id": "367a9a8aef561009",
   "outputs": [
    {
     "data": {
      "text/plain": [
       "<matplotlib.collections.PathCollection at 0x125cadcd0>"
      ]
     },
     "execution_count": 44,
     "metadata": {},
     "output_type": "execute_result"
    },
    {
     "data": {
      "text/plain": [
       "<Figure size 640x480 with 1 Axes>"
      ],
      "image/png": "[encoded data removed]"
     },
     "metadata": {},
     "output_type": "display_data"
    }
   ],
   "execution_count": 44
  },
  {
   "metadata": {
    "ExecuteTime": {
     "end_time": "2025-03-21T11:50:39.086905Z",
     "start_time": "2025-02-11T13:37:59.274184Z"
    }
   },
   "cell_type": "code",
   "source": [
    "model2 = ks.Sequential()\n",
    "model2.add(ks.layers.Input(shape=(1,)))\n",
    "model2.add(ks.layers.Dense(20, activation='relu'))\n",
    "model2.add(ks.layers.Dense(20, activation='relu'))\n",
    "model2.add(ks.layers.Dense(20, activation='relu'))\n",
    "model2.add(ks.layers.Dense(1))\n",
    "\n",
    "# 2. compile the model\n",
    "model2.compile(loss=ks.losses.MeanAbsoluteError,\n",
    "              optimizer=ks.optimizers.Adam(),\n",
    "              metrics=['mae'])\n",
    "\n",
    "# 3. fit the model\n",
    "model2.fit(a, b, epochs=100)\n",
    "\n",
    "b_predict = model2.predict(a_test)\n",
    "b_predict"
   ],
   "id": "dcee540815c269be",
   "outputs": [
    {
     "name": "stdout",
     "output_type": "stream",
     "text": [
      "Epoch 1/100\n",
      "\u001B[1m1/1\u001B[0m \u001B[32m━━━━━━━━━━━━━━━━━━━━\u001B[0m\u001B[37m\u001B[0m \u001B[1m0s\u001B[0m 446ms/step - loss: 8.9257 - mae: 8.9257\n",
      "Epoch 2/100\n",
      "\u001B[1m1/1\u001B[0m \u001B[32m━━━━━━━━━━━━━━━━━━━━\u001B[0m\u001B[37m\u001B[0m \u001B[1m0s\u001B[0m 16ms/step - loss: 8.8539 - mae: 8.8539\n",
      "Epoch 3/100\n",
      "\u001B[1m1/1\u001B[0m \u001B[32m━━━━━━━━━━━━━━━━━━━━\u001B[0m\u001B[37m\u001B[0m \u001B[1m0s\u001B[0m 15ms/step - loss: 8.7822 - mae: 8.7822\n",
      "Epoch 4/100\n",
      "\u001B[1m1/1\u001B[0m \u001B[32m━━━━━━━━━━━━━━━━━━━━\u001B[0m\u001B[37m\u001B[0m \u001B[1m0s\u001B[0m 15ms/step - loss: 8.7106 - mae: 8.7106\n",
      "Epoch 5/100\n",
      "\u001B[1m1/1\u001B[0m \u001B[32m━━━━━━━━━━━━━━━━━━━━\u001B[0m\u001B[37m\u001B[0m \u001B[1m0s\u001B[0m 15ms/step - loss: 8.6402 - mae: 8.6402\n",
      "Epoch 6/100\n",
      "\u001B[1m1/1\u001B[0m \u001B[32m━━━━━━━━━━━━━━━━━━━━\u001B[0m\u001B[37m\u001B[0m \u001B[1m0s\u001B[0m 15ms/step - loss: 8.5783 - mae: 8.5783\n",
      "Epoch 7/100\n",
      "\u001B[1m1/1\u001B[0m \u001B[32m━━━━━━━━━━━━━━━━━━━━\u001B[0m\u001B[37m\u001B[0m \u001B[1m0s\u001B[0m 15ms/step - loss: 8.5157 - mae: 8.5157\n",
      "Epoch 8/100\n",
      "\u001B[1m1/1\u001B[0m \u001B[32m━━━━━━━━━━━━━━━━━━━━\u001B[0m\u001B[37m\u001B[0m \u001B[1m0s\u001B[0m 16ms/step - loss: 8.4569 - mae: 8.4569\n",
      "Epoch 9/100\n",
      "\u001B[1m1/1\u001B[0m \u001B[32m━━━━━━━━━━━━━━━━━━━━\u001B[0m\u001B[37m\u001B[0m \u001B[1m0s\u001B[0m 15ms/step - loss: 8.3981 - mae: 8.3981\n",
      "Epoch 10/100\n",
      "\u001B[1m1/1\u001B[0m \u001B[32m━━━━━━━━━━━━━━━━━━━━\u001B[0m\u001B[37m\u001B[0m \u001B[1m0s\u001B[0m 15ms/step - loss: 8.3383 - mae: 8.3383\n",
      "Epoch 11/100\n",
      "\u001B[1m1/1\u001B[0m \u001B[32m━━━━━━━━━━━━━━━━━━━━\u001B[0m\u001B[37m\u001B[0m \u001B[1m0s\u001B[0m 15ms/step - loss: 8.2774 - mae: 8.2774\n",
      "Epoch 12/100\n",
      "\u001B[1m1/1\u001B[0m \u001B[32m━━━━━━━━━━━━━━━━━━━━\u001B[0m\u001B[37m\u001B[0m \u001B[1m0s\u001B[0m 15ms/step - loss: 8.2154 - mae: 8.2154\n",
      "Epoch 13/100\n",
      "\u001B[1m1/1\u001B[0m \u001B[32m━━━━━━━━━━━━━━━━━━━━\u001B[0m\u001B[37m\u001B[0m \u001B[1m0s\u001B[0m 15ms/step - loss: 8.1523 - mae: 8.1523\n",
      "Epoch 14/100\n",
      "\u001B[1m1/1\u001B[0m \u001B[32m━━━━━━━━━━━━━━━━━━━━\u001B[0m\u001B[37m\u001B[0m \u001B[1m0s\u001B[0m 15ms/step - loss: 8.0880 - mae: 8.0880\n",
      "Epoch 15/100\n",
      "\u001B[1m1/1\u001B[0m \u001B[32m━━━━━━━━━━━━━━━━━━━━\u001B[0m\u001B[37m\u001B[0m \u001B[1m0s\u001B[0m 17ms/step - loss: 8.0226 - mae: 8.0226\n",
      "Epoch 16/100\n",
      "\u001B[1m1/1\u001B[0m \u001B[32m━━━━━━━━━━━━━━━━━━━━\u001B[0m\u001B[37m\u001B[0m \u001B[1m0s\u001B[0m 15ms/step - loss: 7.9558 - mae: 7.9558\n",
      "Epoch 17/100\n",
      "\u001B[1m1/1\u001B[0m \u001B[32m━━━━━━━━━━━━━━━━━━━━\u001B[0m\u001B[37m\u001B[0m \u001B[1m0s\u001B[0m 16ms/step - loss: 7.8878 - mae: 7.8878\n",
      "Epoch 18/100\n",
      "\u001B[1m1/1\u001B[0m \u001B[32m━━━━━━━━━━━━━━━━━━━━\u001B[0m\u001B[37m\u001B[0m \u001B[1m0s\u001B[0m 15ms/step - loss: 7.8184 - mae: 7.8184\n",
      "Epoch 19/100\n",
      "\u001B[1m1/1\u001B[0m \u001B[32m━━━━━━━━━━━━━━━━━━━━\u001B[0m\u001B[37m\u001B[0m \u001B[1m0s\u001B[0m 16ms/step - loss: 7.7475 - mae: 7.7475\n",
      "Epoch 20/100\n",
      "\u001B[1m1/1\u001B[0m \u001B[32m━━━━━━━━━━━━━━━━━━━━\u001B[0m\u001B[37m\u001B[0m \u001B[1m0s\u001B[0m 16ms/step - loss: 7.6752 - mae: 7.6752\n",
      "Epoch 21/100\n",
      "\u001B[1m1/1\u001B[0m \u001B[32m━━━━━━━━━━━━━━━━━━━━\u001B[0m\u001B[37m\u001B[0m \u001B[1m0s\u001B[0m 15ms/step - loss: 7.6013 - mae: 7.6013\n",
      "Epoch 22/100\n",
      "\u001B[1m1/1\u001B[0m \u001B[32m━━━━━━━━━━━━━━━━━━━━\u001B[0m\u001B[37m\u001B[0m \u001B[1m0s\u001B[0m 16ms/step - loss: 7.5257 - mae: 7.5257\n",
      "Epoch 23/100\n",
      "\u001B[1m1/1\u001B[0m \u001B[32m━━━━━━━━━━━━━━━━━━━━\u001B[0m\u001B[37m\u001B[0m \u001B[1m0s\u001B[0m 16ms/step - loss: 7.4484 - mae: 7.4484\n",
      "Epoch 24/100\n",
      "\u001B[1m1/1\u001B[0m \u001B[32m━━━━━━━━━━━━━━━━━━━━\u001B[0m\u001B[37m\u001B[0m \u001B[1m0s\u001B[0m 16ms/step - loss: 7.3693 - mae: 7.3693\n",
      "Epoch 25/100\n",
      "\u001B[1m1/1\u001B[0m \u001B[32m━━━━━━━━━━━━━━━━━━━━\u001B[0m\u001B[37m\u001B[0m \u001B[1m0s\u001B[0m 15ms/step - loss: 7.2884 - mae: 7.2884\n",
      "Epoch 26/100\n",
      "\u001B[1m1/1\u001B[0m \u001B[32m━━━━━━━━━━━━━━━━━━━━\u001B[0m\u001B[37m\u001B[0m \u001B[1m0s\u001B[0m 16ms/step - loss: 7.2054 - mae: 7.2054\n",
      "Epoch 27/100\n",
      "\u001B[1m1/1\u001B[0m \u001B[32m━━━━━━━━━━━━━━━━━━━━\u001B[0m\u001B[37m\u001B[0m \u001B[1m0s\u001B[0m 16ms/step - loss: 7.1204 - mae: 7.1204\n",
      "Epoch 28/100\n",
      "\u001B[1m1/1\u001B[0m \u001B[32m━━━━━━━━━━━━━━━━━━━━\u001B[0m\u001B[37m\u001B[0m \u001B[1m0s\u001B[0m 16ms/step - loss: 7.0330 - mae: 7.0330\n",
      "Epoch 29/100\n",
      "\u001B[1m1/1\u001B[0m \u001B[32m━━━━━━━━━━━━━━━━━━━━\u001B[0m\u001B[37m\u001B[0m \u001B[1m0s\u001B[0m 17ms/step - loss: 6.9434 - mae: 6.9434\n",
      "Epoch 30/100\n",
      "\u001B[1m1/1\u001B[0m \u001B[32m━━━━━━━━━━━━━━━━━━━━\u001B[0m\u001B[37m\u001B[0m \u001B[1m0s\u001B[0m 17ms/step - loss: 6.8512 - mae: 6.8512\n",
      "Epoch 31/100\n",
      "\u001B[1m1/1\u001B[0m \u001B[32m━━━━━━━━━━━━━━━━━━━━\u001B[0m\u001B[37m\u001B[0m \u001B[1m0s\u001B[0m 17ms/step - loss: 6.7568 - mae: 6.7568\n",
      "Epoch 32/100\n",
      "\u001B[1m1/1\u001B[0m \u001B[32m━━━━━━━━━━━━━━━━━━━━\u001B[0m\u001B[37m\u001B[0m \u001B[1m0s\u001B[0m 16ms/step - loss: 6.6626 - mae: 6.6626\n",
      "Epoch 33/100\n",
      "\u001B[1m1/1\u001B[0m \u001B[32m━━━━━━━━━━━━━━━━━━━━\u001B[0m\u001B[37m\u001B[0m \u001B[1m0s\u001B[0m 16ms/step - loss: 6.5676 - mae: 6.5676\n",
      "Epoch 34/100\n",
      "\u001B[1m1/1\u001B[0m \u001B[32m━━━━━━━━━━━━━━━━━━━━\u001B[0m\u001B[37m\u001B[0m \u001B[1m0s\u001B[0m 16ms/step - loss: 6.4698 - mae: 6.4698\n",
      "Epoch 35/100\n",
      "\u001B[1m1/1\u001B[0m \u001B[32m━━━━━━━━━━━━━━━━━━━━\u001B[0m\u001B[37m\u001B[0m \u001B[1m0s\u001B[0m 16ms/step - loss: 6.3824 - mae: 6.3824\n",
      "Epoch 36/100\n",
      "\u001B[1m1/1\u001B[0m \u001B[32m━━━━━━━━━━━━━━━━━━━━\u001B[0m\u001B[37m\u001B[0m \u001B[1m0s\u001B[0m 16ms/step - loss: 6.2960 - mae: 6.2960\n",
      "Epoch 37/100\n",
      "\u001B[1m1/1\u001B[0m \u001B[32m━━━━━━━━━━━━━━━━━━━━\u001B[0m\u001B[37m\u001B[0m \u001B[1m0s\u001B[0m 16ms/step - loss: 6.2082 - mae: 6.2082\n",
      "Epoch 38/100\n",
      "\u001B[1m1/1\u001B[0m \u001B[32m━━━━━━━━━━━━━━━━━━━━\u001B[0m\u001B[37m\u001B[0m \u001B[1m0s\u001B[0m 17ms/step - loss: 6.1215 - mae: 6.1215\n",
      "Epoch 39/100\n",
      "\u001B[1m1/1\u001B[0m \u001B[32m━━━━━━━━━━━━━━━━━━━━\u001B[0m\u001B[37m\u001B[0m \u001B[1m0s\u001B[0m 17ms/step - loss: 6.0340 - mae: 6.0340\n",
      "Epoch 40/100\n",
      "\u001B[1m1/1\u001B[0m \u001B[32m━━━━━━━━━━━━━━━━━━━━\u001B[0m\u001B[37m\u001B[0m \u001B[1m0s\u001B[0m 16ms/step - loss: 5.9444 - mae: 5.9444\n",
      "Epoch 41/100\n",
      "\u001B[1m1/1\u001B[0m \u001B[32m━━━━━━━━━━━━━━━━━━━━\u001B[0m\u001B[37m\u001B[0m \u001B[1m0s\u001B[0m 15ms/step - loss: 5.8535 - mae: 5.8535\n",
      "Epoch 42/100\n",
      "\u001B[1m1/1\u001B[0m \u001B[32m━━━━━━━━━━━━━━━━━━━━\u001B[0m\u001B[37m\u001B[0m \u001B[1m0s\u001B[0m 15ms/step - loss: 5.7601 - mae: 5.7601\n",
      "Epoch 43/100\n",
      "\u001B[1m1/1\u001B[0m \u001B[32m━━━━━━━━━━━━━━━━━━━━\u001B[0m\u001B[37m\u001B[0m \u001B[1m0s\u001B[0m 15ms/step - loss: 5.6639 - mae: 5.6639\n",
      "Epoch 44/100\n",
      "\u001B[1m1/1\u001B[0m \u001B[32m━━━━━━━━━━━━━━━━━━━━\u001B[0m\u001B[37m\u001B[0m \u001B[1m0s\u001B[0m 16ms/step - loss: 5.5650 - mae: 5.5650\n",
      "Epoch 45/100\n",
      "\u001B[1m1/1\u001B[0m \u001B[32m━━━━━━━━━━━━━━━━━━━━\u001B[0m\u001B[37m\u001B[0m \u001B[1m0s\u001B[0m 18ms/step - loss: 5.4633 - mae: 5.4633\n",
      "Epoch 46/100\n",
      "\u001B[1m1/1\u001B[0m \u001B[32m━━━━━━━━━━━━━━━━━━━━\u001B[0m\u001B[37m\u001B[0m \u001B[1m0s\u001B[0m 16ms/step - loss: 5.3586 - mae: 5.3586\n",
      "Epoch 47/100\n",
      "\u001B[1m1/1\u001B[0m \u001B[32m━━━━━━━━━━━━━━━━━━━━\u001B[0m\u001B[37m\u001B[0m \u001B[1m0s\u001B[0m 15ms/step - loss: 5.2508 - mae: 5.2508\n",
      "Epoch 48/100\n",
      "\u001B[1m1/1\u001B[0m \u001B[32m━━━━━━━━━━━━━━━━━━━━\u001B[0m\u001B[37m\u001B[0m \u001B[1m0s\u001B[0m 17ms/step - loss: 5.1398 - mae: 5.1398\n",
      "Epoch 49/100\n",
      "\u001B[1m1/1\u001B[0m \u001B[32m━━━━━━━━━━━━━━━━━━━━\u001B[0m\u001B[37m\u001B[0m \u001B[1m0s\u001B[0m 16ms/step - loss: 5.0257 - mae: 5.0257\n",
      "Epoch 50/100\n",
      "\u001B[1m1/1\u001B[0m \u001B[32m━━━━━━━━━━━━━━━━━━━━\u001B[0m\u001B[37m\u001B[0m \u001B[1m0s\u001B[0m 16ms/step - loss: 4.9081 - mae: 4.9081\n",
      "Epoch 51/100\n",
      "\u001B[1m1/1\u001B[0m \u001B[32m━━━━━━━━━━━━━━━━━━━━\u001B[0m\u001B[37m\u001B[0m \u001B[1m0s\u001B[0m 16ms/step - loss: 4.7871 - mae: 4.7871\n",
      "Epoch 52/100\n",
      "\u001B[1m1/1\u001B[0m \u001B[32m━━━━━━━━━━━━━━━━━━━━\u001B[0m\u001B[37m\u001B[0m \u001B[1m0s\u001B[0m 33ms/step - loss: 4.6625 - mae: 4.6625\n",
      "Epoch 53/100\n",
      "\u001B[1m1/1\u001B[0m \u001B[32m━━━━━━━━━━━━━━━━━━━━\u001B[0m\u001B[37m\u001B[0m \u001B[1m0s\u001B[0m 16ms/step - loss: 4.5379 - mae: 4.5379\n",
      "Epoch 54/100\n",
      "\u001B[1m1/1\u001B[0m \u001B[32m━━━━━━━━━━━━━━━━━━━━\u001B[0m\u001B[37m\u001B[0m \u001B[1m0s\u001B[0m 16ms/step - loss: 4.4409 - mae: 4.4409\n",
      "Epoch 55/100\n",
      "\u001B[1m1/1\u001B[0m \u001B[32m━━━━━━━━━━━━━━━━━━━━\u001B[0m\u001B[37m\u001B[0m \u001B[1m0s\u001B[0m 15ms/step - loss: 4.3426 - mae: 4.3426\n",
      "Epoch 56/100\n",
      "\u001B[1m1/1\u001B[0m \u001B[32m━━━━━━━━━━━━━━━━━━━━\u001B[0m\u001B[37m\u001B[0m \u001B[1m0s\u001B[0m 15ms/step - loss: 4.2436 - mae: 4.2436\n",
      "Epoch 57/100\n",
      "\u001B[1m1/1\u001B[0m \u001B[32m━━━━━━━━━━━━━━━━━━━━\u001B[0m\u001B[37m\u001B[0m \u001B[1m0s\u001B[0m 15ms/step - loss: 4.1427 - mae: 4.1427\n",
      "Epoch 58/100\n",
      "\u001B[1m1/1\u001B[0m \u001B[32m━━━━━━━━━━━━━━━━━━━━\u001B[0m\u001B[37m\u001B[0m \u001B[1m0s\u001B[0m 16ms/step - loss: 4.0396 - mae: 4.0396\n",
      "Epoch 59/100\n",
      "\u001B[1m1/1\u001B[0m \u001B[32m━━━━━━━━━━━━━━━━━━━━\u001B[0m\u001B[37m\u001B[0m \u001B[1m0s\u001B[0m 16ms/step - loss: 3.9350 - mae: 3.9350\n",
      "Epoch 60/100\n",
      "\u001B[1m1/1\u001B[0m \u001B[32m━━━━━━━━━━━━━━━━━━━━\u001B[0m\u001B[37m\u001B[0m \u001B[1m0s\u001B[0m 16ms/step - loss: 3.8286 - mae: 3.8286\n",
      "Epoch 61/100\n",
      "\u001B[1m1/1\u001B[0m \u001B[32m━━━━━━━━━━━━━━━━━━━━\u001B[0m\u001B[37m\u001B[0m \u001B[1m0s\u001B[0m 16ms/step - loss: 3.7198 - mae: 3.7198\n",
      "Epoch 62/100\n",
      "\u001B[1m1/1\u001B[0m \u001B[32m━━━━━━━━━━━━━━━━━━━━\u001B[0m\u001B[37m\u001B[0m \u001B[1m0s\u001B[0m 16ms/step - loss: 3.6313 - mae: 3.6313\n",
      "Epoch 63/100\n",
      "\u001B[1m1/1\u001B[0m \u001B[32m━━━━━━━━━━━━━━━━━━━━\u001B[0m\u001B[37m\u001B[0m \u001B[1m0s\u001B[0m 16ms/step - loss: 3.5661 - mae: 3.5661\n",
      "Epoch 64/100\n",
      "\u001B[1m1/1\u001B[0m \u001B[32m━━━━━━━━━━━━━━━━━━━━\u001B[0m\u001B[37m\u001B[0m \u001B[1m0s\u001B[0m 16ms/step - loss: 3.5010 - mae: 3.5010\n",
      "Epoch 65/100\n",
      "\u001B[1m1/1\u001B[0m \u001B[32m━━━━━━━━━━━━━━━━━━━━\u001B[0m\u001B[37m\u001B[0m \u001B[1m0s\u001B[0m 16ms/step - loss: 3.4365 - mae: 3.4365\n",
      "Epoch 66/100\n",
      "\u001B[1m1/1\u001B[0m \u001B[32m━━━━━━━━━━━━━━━━━━━━\u001B[0m\u001B[37m\u001B[0m \u001B[1m0s\u001B[0m 15ms/step - loss: 3.3726 - mae: 3.3726\n",
      "Epoch 67/100\n",
      "\u001B[1m1/1\u001B[0m \u001B[32m━━━━━━━━━━━━━━━━━━━━\u001B[0m\u001B[37m\u001B[0m \u001B[1m0s\u001B[0m 16ms/step - loss: 3.3080 - mae: 3.3080\n",
      "Epoch 68/100\n",
      "\u001B[1m1/1\u001B[0m \u001B[32m━━━━━━━━━━━━━━━━━━━━\u001B[0m\u001B[37m\u001B[0m \u001B[1m0s\u001B[0m 16ms/step - loss: 3.2892 - mae: 3.2892\n",
      "Epoch 69/100\n",
      "\u001B[1m1/1\u001B[0m \u001B[32m━━━━━━━━━━━━━━━━━━━━\u001B[0m\u001B[37m\u001B[0m \u001B[1m0s\u001B[0m 16ms/step - loss: 3.2762 - mae: 3.2762\n",
      "Epoch 70/100\n",
      "\u001B[1m1/1\u001B[0m \u001B[32m━━━━━━━━━━━━━━━━━━━━\u001B[0m\u001B[37m\u001B[0m \u001B[1m0s\u001B[0m 15ms/step - loss: 3.2632 - mae: 3.2632\n",
      "Epoch 71/100\n",
      "\u001B[1m1/1\u001B[0m \u001B[32m━━━━━━━━━━━━━━━━━━━━\u001B[0m\u001B[37m\u001B[0m \u001B[1m0s\u001B[0m 16ms/step - loss: 3.2507 - mae: 3.2507\n",
      "Epoch 72/100\n",
      "\u001B[1m1/1\u001B[0m \u001B[32m━━━━━━━━━━━━━━━━━━━━\u001B[0m\u001B[37m\u001B[0m \u001B[1m0s\u001B[0m 15ms/step - loss: 3.2500 - mae: 3.2500\n",
      "Epoch 73/100\n",
      "\u001B[1m1/1\u001B[0m \u001B[32m━━━━━━━━━━━━━━━━━━━━\u001B[0m\u001B[37m\u001B[0m \u001B[1m0s\u001B[0m 15ms/step - loss: 3.2750 - mae: 3.2750\n",
      "Epoch 74/100\n",
      "\u001B[1m1/1\u001B[0m \u001B[32m━━━━━━━━━━━━━━━━━━━━\u001B[0m\u001B[37m\u001B[0m \u001B[1m0s\u001B[0m 17ms/step - loss: 3.2924 - mae: 3.2924\n",
      "Epoch 75/100\n",
      "\u001B[1m1/1\u001B[0m \u001B[32m━━━━━━━━━━━━━━━━━━━━\u001B[0m\u001B[37m\u001B[0m \u001B[1m0s\u001B[0m 16ms/step - loss: 3.3028 - mae: 3.3028\n",
      "Epoch 76/100\n",
      "\u001B[1m1/1\u001B[0m \u001B[32m━━━━━━━━━━━━━━━━━━━━\u001B[0m\u001B[37m\u001B[0m \u001B[1m0s\u001B[0m 18ms/step - loss: 3.3068 - mae: 3.3068\n",
      "Epoch 77/100\n",
      "\u001B[1m1/1\u001B[0m \u001B[32m━━━━━━━━━━━━━━━━━━━━\u001B[0m\u001B[37m\u001B[0m \u001B[1m0s\u001B[0m 17ms/step - loss: 3.3051 - mae: 3.3051\n",
      "Epoch 78/100\n",
      "\u001B[1m1/1\u001B[0m \u001B[32m━━━━━━━━━━━━━━━━━━━━\u001B[0m\u001B[37m\u001B[0m \u001B[1m0s\u001B[0m 18ms/step - loss: 3.2978 - mae: 3.2978\n",
      "Epoch 79/100\n",
      "\u001B[1m1/1\u001B[0m \u001B[32m━━━━━━━━━━━━━━━━━━━━\u001B[0m\u001B[37m\u001B[0m \u001B[1m0s\u001B[0m 16ms/step - loss: 3.2853 - mae: 3.2853\n",
      "Epoch 80/100\n",
      "\u001B[1m1/1\u001B[0m \u001B[32m━━━━━━━━━━━━━━━━━━━━\u001B[0m\u001B[37m\u001B[0m \u001B[1m0s\u001B[0m 16ms/step - loss: 3.2665 - mae: 3.2665\n",
      "Epoch 81/100\n",
      "\u001B[1m1/1\u001B[0m \u001B[32m━━━━━━━━━━━━━━━━━━━━\u001B[0m\u001B[37m\u001B[0m \u001B[1m0s\u001B[0m 17ms/step - loss: 3.2441 - mae: 3.2441\n",
      "Epoch 82/100\n",
      "\u001B[1m1/1\u001B[0m \u001B[32m━━━━━━━━━━━━━━━━━━━━\u001B[0m\u001B[37m\u001B[0m \u001B[1m0s\u001B[0m 16ms/step - loss: 3.2193 - mae: 3.2193\n",
      "Epoch 83/100\n",
      "\u001B[1m1/1\u001B[0m \u001B[32m━━━━━━━━━━━━━━━━━━━━\u001B[0m\u001B[37m\u001B[0m \u001B[1m0s\u001B[0m 16ms/step - loss: 3.1918 - mae: 3.1918\n",
      "Epoch 84/100\n",
      "\u001B[1m1/1\u001B[0m \u001B[32m━━━━━━━━━━━━━━━━━━━━\u001B[0m\u001B[37m\u001B[0m \u001B[1m0s\u001B[0m 16ms/step - loss: 3.1772 - mae: 3.1772\n",
      "Epoch 85/100\n",
      "\u001B[1m1/1\u001B[0m \u001B[32m━━━━━━━━━━━━━━━━━━━━\u001B[0m\u001B[37m\u001B[0m \u001B[1m0s\u001B[0m 16ms/step - loss: 3.1776 - mae: 3.1776\n",
      "Epoch 86/100\n",
      "\u001B[1m1/1\u001B[0m \u001B[32m━━━━━━━━━━━━━━━━━━━━\u001B[0m\u001B[37m\u001B[0m \u001B[1m0s\u001B[0m 15ms/step - loss: 3.1773 - mae: 3.1773\n",
      "Epoch 87/100\n",
      "\u001B[1m1/1\u001B[0m \u001B[32m━━━━━━━━━━━━━━━━━━━━\u001B[0m\u001B[37m\u001B[0m \u001B[1m0s\u001B[0m 15ms/step - loss: 3.1765 - mae: 3.1765\n",
      "Epoch 88/100\n",
      "\u001B[1m1/1\u001B[0m \u001B[32m━━━━━━━━━━━━━━━━━━━━\u001B[0m\u001B[37m\u001B[0m \u001B[1m0s\u001B[0m 16ms/step - loss: 3.1751 - mae: 3.1751\n",
      "Epoch 89/100\n",
      "\u001B[1m1/1\u001B[0m \u001B[32m━━━━━━━━━━━━━━━━━━━━\u001B[0m\u001B[37m\u001B[0m \u001B[1m0s\u001B[0m 16ms/step - loss: 3.1732 - mae: 3.1732\n",
      "Epoch 90/100\n",
      "\u001B[1m1/1\u001B[0m \u001B[32m━━━━━━━━━━━━━━━━━━━━\u001B[0m\u001B[37m\u001B[0m \u001B[1m0s\u001B[0m 16ms/step - loss: 3.1709 - mae: 3.1709\n",
      "Epoch 91/100\n",
      "\u001B[1m1/1\u001B[0m \u001B[32m━━━━━━━━━━━━━━━━━━━━\u001B[0m\u001B[37m\u001B[0m \u001B[1m0s\u001B[0m 16ms/step - loss: 3.1682 - mae: 3.1682\n",
      "Epoch 92/100\n",
      "\u001B[1m1/1\u001B[0m \u001B[32m━━━━━━━━━━━━━━━━━━━━\u001B[0m\u001B[37m\u001B[0m \u001B[1m0s\u001B[0m 16ms/step - loss: 3.1651 - mae: 3.1651\n",
      "Epoch 93/100\n",
      "\u001B[1m1/1\u001B[0m \u001B[32m━━━━━━━━━━━━━━━━━━━━\u001B[0m\u001B[37m\u001B[0m \u001B[1m0s\u001B[0m 15ms/step - loss: 3.1617 - mae: 3.1617\n",
      "Epoch 94/100\n",
      "\u001B[1m1/1\u001B[0m \u001B[32m━━━━━━━━━━━━━━━━━━━━\u001B[0m\u001B[37m\u001B[0m \u001B[1m0s\u001B[0m 15ms/step - loss: 3.1579 - mae: 3.1579\n",
      "Epoch 95/100\n",
      "\u001B[1m1/1\u001B[0m \u001B[32m━━━━━━━━━━━━━━━━━━━━\u001B[0m\u001B[37m\u001B[0m \u001B[1m0s\u001B[0m 15ms/step - loss: 3.1538 - mae: 3.1538\n",
      "Epoch 96/100\n",
      "\u001B[1m1/1\u001B[0m \u001B[32m━━━━━━━━━━━━━━━━━━━━\u001B[0m\u001B[37m\u001B[0m \u001B[1m0s\u001B[0m 15ms/step - loss: 3.1496 - mae: 3.1496\n",
      "Epoch 97/100\n",
      "\u001B[1m1/1\u001B[0m \u001B[32m━━━━━━━━━━━━━━━━━━━━\u001B[0m\u001B[37m\u001B[0m \u001B[1m0s\u001B[0m 15ms/step - loss: 3.1452 - mae: 3.1452\n",
      "Epoch 98/100\n",
      "\u001B[1m1/1\u001B[0m \u001B[32m━━━━━━━━━━━━━━━━━━━━\u001B[0m\u001B[37m\u001B[0m \u001B[1m0s\u001B[0m 16ms/step - loss: 3.1406 - mae: 3.1406\n",
      "Epoch 99/100\n",
      "\u001B[1m1/1\u001B[0m \u001B[32m━━━━━━━━━━━━━━━━━━━━\u001B[0m\u001B[37m\u001B[0m \u001B[1m0s\u001B[0m 15ms/step - loss: 3.1359 - mae: 3.1359\n",
      "Epoch 100/100\n",
      "\u001B[1m1/1\u001B[0m \u001B[32m━━━━━━━━━━━━━━━━━━━━\u001B[0m\u001B[37m\u001B[0m \u001B[1m0s\u001B[0m 15ms/step - loss: 3.1311 - mae: 3.1311\n",
      "WARNING:tensorflow:5 out of the last 7 calls to <function TensorFlowTrainer.make_predict_function.<locals>.one_step_on_data_distributed at 0x121c5ac10> triggered tf.function retracing. Tracing is expensive and the excessive number of tracings could be due to (1) creating @tf.function repeatedly in a loop, (2) passing tensors with different shapes, (3) passing Python objects instead of tensors. For (1), please define your @tf.function outside of the loop. For (2), @tf.function has reduce_retracing=True option that can avoid unnecessary retracing. For (3), please refer to https://www.tensorflow.org/guide/function#controlling_retracing and https://www.tensorflow.org/api_docs/python/tf/function for  more details.\n",
      "\u001B[1m1/1\u001B[0m \u001B[32m━━━━━━━━━━━━━━━━━━━━\u001B[0m\u001B[37m\u001B[0m \u001B[1m0s\u001B[0m 25ms/step\n"
     ]
    },
    {
     "data": {
      "text/plain": [
       "array([[19.132557],\n",
       "       [21.047014],\n",
       "       [22.961477],\n",
       "       [24.87594 ],\n",
       "       [26.790401],\n",
       "       [28.704863],\n",
       "       [30.619322],\n",
       "       [32.533787],\n",
       "       [34.44825 ],\n",
       "       [36.362713]], dtype=float32)"
      ]
     },
     "execution_count": 45,
     "metadata": {},
     "output_type": "execute_result"
    }
   ],
   "execution_count": 45
  },
  {
   "metadata": {
    "ExecuteTime": {
     "end_time": "2025-03-21T11:50:39.087121Z",
     "start_time": "2025-02-11T13:38:01.511932Z"
    }
   },
   "cell_type": "code",
   "source": [
    "plt.scatter(a, b, c='blue')\n",
    "plt.scatter(a_test, b_test, c='green')\n",
    "plt.scatter(a_test, b_predict, c='red')"
   ],
   "id": "b4ba368f32d7df5a",
   "outputs": [
    {
     "data": {
      "text/plain": [
       "<matplotlib.collections.PathCollection at 0x122c25160>"
      ]
     },
     "execution_count": 46,
     "metadata": {},
     "output_type": "execute_result"
    },
    {
     "data": {
      "text/plain": [
       "<Figure size 640x480 with 1 Axes>"
      ],
      "image/png": "[encoded data removed]"
     },
     "metadata": {},
     "output_type": "display_data"
    }
   ],
   "execution_count": 46
  },
  {
   "metadata": {},
   "cell_type": "markdown",
   "source": "## creating extra data for learning",
   "id": "8f46e26a0d69eff9"
  },
  {
   "metadata": {
    "ExecuteTime": {
     "end_time": "2025-03-21T11:50:39.087287Z",
     "start_time": "2025-02-11T13:38:01.601439Z"
    }
   },
   "cell_type": "code",
   "source": [
    "a_extend = []\n",
    "b_extend = []\n",
    "for i, j in zip(a, b):\n",
    "    a_extend.append(i-0.02)\n",
    "    a_extend.append(i-0.01)\n",
    "    a_extend.append(i-0.2)\n",
    "    a_extend.append(i-0.1)\n",
    "    a_extend.append(i)\n",
    "    a_extend.append(i+0.01)\n",
    "    a_extend.append(i+0.02)\n",
    "    a_extend.append(i+0.1)\n",
    "    a_extend.append(i+0.2)\n",
    "    b_extend.append(j-0.02)\n",
    "    b_extend.append(j-0.01)\n",
    "    b_extend.append(j-0.2)\n",
    "    b_extend.append(j-0.1)\n",
    "    b_extend.append(j)\n",
    "    b_extend.append(j+0.01)\n",
    "    b_extend.append(j+0.02)\n",
    "    b_extend.append(j+0.1)\n",
    "    b_extend.append(j+0.2)\n",
    "a_extend, b_extend"
   ],
   "id": "b7e54e86407e6010",
   "outputs": [
    {
     "data": {
      "text/plain": [
       "([np.float64(-0.02),\n",
       "  np.float64(-0.01),\n",
       "  np.float64(-0.2),\n",
       "  np.float64(-0.1),\n",
       "  np.int64(0),\n",
       "  np.float64(0.01),\n",
       "  np.float64(0.02),\n",
       "  np.float64(0.1),\n",
       "  np.float64(0.2),\n",
       "  np.float64(2.98),\n",
       "  np.float64(2.99),\n",
       "  np.float64(2.8),\n",
       "  np.float64(2.9),\n",
       "  np.int64(3),\n",
       "  np.float64(3.01),\n",
       "  np.float64(3.02),\n",
       "  np.float64(3.1),\n",
       "  np.float64(3.2),\n",
       "  np.float64(5.98),\n",
       "  np.float64(5.99),\n",
       "  np.float64(5.8),\n",
       "  np.float64(5.9),\n",
       "  np.int64(6),\n",
       "  np.float64(6.01),\n",
       "  np.float64(6.02),\n",
       "  np.float64(6.1),\n",
       "  np.float64(6.2),\n",
       "  np.float64(8.98),\n",
       "  np.float64(8.99),\n",
       "  np.float64(8.8),\n",
       "  np.float64(8.9),\n",
       "  np.int64(9),\n",
       "  np.float64(9.01),\n",
       "  np.float64(9.02),\n",
       "  np.float64(9.1),\n",
       "  np.float64(9.2),\n",
       "  np.float64(11.98),\n",
       "  np.float64(11.99),\n",
       "  np.float64(11.8),\n",
       "  np.float64(11.9),\n",
       "  np.int64(12),\n",
       "  np.float64(12.01),\n",
       "  np.float64(12.02),\n",
       "  np.float64(12.1),\n",
       "  np.float64(12.2),\n",
       "  np.float64(14.98),\n",
       "  np.float64(14.99),\n",
       "  np.float64(14.8),\n",
       "  np.float64(14.9),\n",
       "  np.int64(15),\n",
       "  np.float64(15.01),\n",
       "  np.float64(15.02),\n",
       "  np.float64(15.1),\n",
       "  np.float64(15.2),\n",
       "  np.float64(17.98),\n",
       "  np.float64(17.99),\n",
       "  np.float64(17.8),\n",
       "  np.float64(17.9),\n",
       "  np.int64(18),\n",
       "  np.float64(18.01),\n",
       "  np.float64(18.02),\n",
       "  np.float64(18.1),\n",
       "  np.float64(18.2),\n",
       "  np.float64(20.98),\n",
       "  np.float64(20.99),\n",
       "  np.float64(20.8),\n",
       "  np.float64(20.9),\n",
       "  np.int64(21),\n",
       "  np.float64(21.01),\n",
       "  np.float64(21.02),\n",
       "  np.float64(21.1),\n",
       "  np.float64(21.2),\n",
       "  np.float64(23.98),\n",
       "  np.float64(23.99),\n",
       "  np.float64(23.8),\n",
       "  np.float64(23.9),\n",
       "  np.int64(24),\n",
       "  np.float64(24.01),\n",
       "  np.float64(24.02),\n",
       "  np.float64(24.1),\n",
       "  np.float64(24.2),\n",
       "  np.float64(26.98),\n",
       "  np.float64(26.99),\n",
       "  np.float64(26.8),\n",
       "  np.float64(26.9),\n",
       "  np.int64(27),\n",
       "  np.float64(27.01),\n",
       "  np.float64(27.02),\n",
       "  np.float64(27.1),\n",
       "  np.float64(27.2)],\n",
       " [np.float64(-7.02),\n",
       "  np.float64(-7.01),\n",
       "  np.float64(-7.2),\n",
       "  np.float64(-7.1),\n",
       "  np.int64(-7),\n",
       "  np.float64(-6.99),\n",
       "  np.float64(-6.98),\n",
       "  np.float64(-6.9),\n",
       "  np.float64(-6.8),\n",
       "  np.float64(-4.02),\n",
       "  np.float64(-4.01),\n",
       "  np.float64(-4.2),\n",
       "  np.float64(-4.1),\n",
       "  np.int64(-4),\n",
       "  np.float64(-3.99),\n",
       "  np.float64(-3.98),\n",
       "  np.float64(-3.9),\n",
       "  np.float64(-3.8),\n",
       "  np.float64(-1.02),\n",
       "  np.float64(-1.01),\n",
       "  np.float64(-1.2),\n",
       "  np.float64(-1.1),\n",
       "  np.int64(-1),\n",
       "  np.float64(-0.99),\n",
       "  np.float64(-0.98),\n",
       "  np.float64(-0.9),\n",
       "  np.float64(-0.8),\n",
       "  np.float64(1.98),\n",
       "  np.float64(1.99),\n",
       "  np.float64(1.8),\n",
       "  np.float64(1.9),\n",
       "  np.int64(2),\n",
       "  np.float64(2.01),\n",
       "  np.float64(2.02),\n",
       "  np.float64(2.1),\n",
       "  np.float64(2.2),\n",
       "  np.float64(4.98),\n",
       "  np.float64(4.99),\n",
       "  np.float64(4.8),\n",
       "  np.float64(4.9),\n",
       "  np.int64(5),\n",
       "  np.float64(5.01),\n",
       "  np.float64(5.02),\n",
       "  np.float64(5.1),\n",
       "  np.float64(5.2),\n",
       "  np.float64(7.98),\n",
       "  np.float64(7.99),\n",
       "  np.float64(7.8),\n",
       "  np.float64(7.9),\n",
       "  np.int64(8),\n",
       "  np.float64(8.01),\n",
       "  np.float64(8.02),\n",
       "  np.float64(8.1),\n",
       "  np.float64(8.2),\n",
       "  np.float64(10.98),\n",
       "  np.float64(10.99),\n",
       "  np.float64(10.8),\n",
       "  np.float64(10.9),\n",
       "  np.int64(11),\n",
       "  np.float64(11.01),\n",
       "  np.float64(11.02),\n",
       "  np.float64(11.1),\n",
       "  np.float64(11.2),\n",
       "  np.float64(13.98),\n",
       "  np.float64(13.99),\n",
       "  np.float64(13.8),\n",
       "  np.float64(13.9),\n",
       "  np.int64(14),\n",
       "  np.float64(14.01),\n",
       "  np.float64(14.02),\n",
       "  np.float64(14.1),\n",
       "  np.float64(14.2),\n",
       "  np.float64(16.98),\n",
       "  np.float64(16.99),\n",
       "  np.float64(16.8),\n",
       "  np.float64(16.9),\n",
       "  np.int64(17),\n",
       "  np.float64(17.01),\n",
       "  np.float64(17.02),\n",
       "  np.float64(17.1),\n",
       "  np.float64(17.2),\n",
       "  np.float64(19.98),\n",
       "  np.float64(19.99),\n",
       "  np.float64(19.8),\n",
       "  np.float64(19.9),\n",
       "  np.int64(20),\n",
       "  np.float64(20.01),\n",
       "  np.float64(20.02),\n",
       "  np.float64(20.1),\n",
       "  np.float64(20.2)])"
      ]
     },
     "execution_count": 47,
     "metadata": {},
     "output_type": "execute_result"
    }
   ],
   "execution_count": 47
  },
  {
   "metadata": {
    "ExecuteTime": {
     "end_time": "2025-03-21T11:50:39.087583Z",
     "start_time": "2025-02-11T13:38:01.614587Z"
    }
   },
   "cell_type": "code",
   "source": [
    "a_extend = tf.constant(a_extend)\n",
    "b_extend = tf.constant(b_extend)\n",
    "\n",
    "model3 = ks.Sequential()\n",
    "model3.add(ks.layers.Input(shape=(1,)))\n",
    "model3.add(ks.layers.Dense(20, activation='relu'))\n",
    "model3.add(ks.layers.Dense(20, activation='relu'))\n",
    "model3.add(ks.layers.Dense(20, activation='relu'))\n",
    "model3.add(ks.layers.Dense(1))\n",
    "\n",
    "# 2. compile the model\n",
    "model3.compile(loss=ks.losses.MeanAbsoluteError,\n",
    "              optimizer=ks.optimizers.Adam(),\n",
    "              metrics=['mae'])\n",
    "\n",
    "# 3. fit the model\n",
    "model3.fit(a_extend, b_extend, epochs=90)"
   ],
   "id": "df66b91031197df5",
   "outputs": [
    {
     "name": "stdout",
     "output_type": "stream",
     "text": [
      "Epoch 1/90\n",
      "\u001B[1m3/3\u001B[0m \u001B[32m━━━━━━━━━━━━━━━━━━━━\u001B[0m\u001B[37m\u001B[0m \u001B[1m0s\u001B[0m 4ms/step - loss: 4.3646 - mae: 4.3646  \n",
      "Epoch 2/90\n",
      "\u001B[1m3/3\u001B[0m \u001B[32m━━━━━━━━━━━━━━━━━━━━\u001B[0m\u001B[37m\u001B[0m \u001B[1m0s\u001B[0m 5ms/step - loss: 4.1005 - mae: 4.1005 \n",
      "Epoch 3/90\n",
      "\u001B[1m3/3\u001B[0m \u001B[32m━━━━━━━━━━━━━━━━━━━━\u001B[0m\u001B[37m\u001B[0m \u001B[1m0s\u001B[0m 4ms/step - loss: 3.8285 - mae: 3.8285\n",
      "Epoch 4/90\n",
      "\u001B[1m3/3\u001B[0m \u001B[32m━━━━━━━━━━━━━━━━━━━━\u001B[0m\u001B[37m\u001B[0m \u001B[1m0s\u001B[0m 4ms/step - loss: 3.5529 - mae: 3.5529\n",
      "Epoch 5/90\n",
      "\u001B[1m3/3\u001B[0m \u001B[32m━━━━━━━━━━━━━━━━━━━━\u001B[0m\u001B[37m\u001B[0m \u001B[1m0s\u001B[0m 4ms/step - loss: 3.3708 - mae: 3.3708\n",
      "Epoch 6/90\n",
      "\u001B[1m3/3\u001B[0m \u001B[32m━━━━━━━━━━━━━━━━━━━━\u001B[0m\u001B[37m\u001B[0m \u001B[1m0s\u001B[0m 4ms/step - loss: 3.2153 - mae: 3.2153\n",
      "Epoch 7/90\n",
      "\u001B[1m3/3\u001B[0m \u001B[32m━━━━━━━━━━━━━━━━━━━━\u001B[0m\u001B[37m\u001B[0m \u001B[1m0s\u001B[0m 4ms/step - loss: 3.1447 - mae: 3.1447\n",
      "Epoch 8/90\n",
      "\u001B[1m3/3\u001B[0m \u001B[32m━━━━━━━━━━━━━━━━━━━━\u001B[0m\u001B[37m\u001B[0m \u001B[1m0s\u001B[0m 4ms/step - loss: 3.1239 - mae: 3.1239\n",
      "Epoch 9/90\n",
      "\u001B[1m3/3\u001B[0m \u001B[32m━━━━━━━━━━━━━━━━━━━━\u001B[0m\u001B[37m\u001B[0m \u001B[1m0s\u001B[0m 4ms/step - loss: 3.1367 - mae: 3.1367\n",
      "Epoch 10/90\n",
      "\u001B[1m3/3\u001B[0m \u001B[32m━━━━━━━━━━━━━━━━━━━━\u001B[0m\u001B[37m\u001B[0m \u001B[1m0s\u001B[0m 4ms/step - loss: 3.1240 - mae: 3.1240\n",
      "Epoch 11/90\n",
      "\u001B[1m3/3\u001B[0m \u001B[32m━━━━━━━━━━━━━━━━━━━━\u001B[0m\u001B[37m\u001B[0m \u001B[1m0s\u001B[0m 4ms/step - loss: 3.0938 - mae: 3.0938\n",
      "Epoch 12/90\n",
      "\u001B[1m3/3\u001B[0m \u001B[32m━━━━━━━━━━━━━━━━━━━━\u001B[0m\u001B[37m\u001B[0m \u001B[1m0s\u001B[0m 4ms/step - loss: 3.0817 - mae: 3.0817\n",
      "Epoch 13/90\n",
      "\u001B[1m3/3\u001B[0m \u001B[32m━━━━━━━━━━━━━━━━━━━━\u001B[0m\u001B[37m\u001B[0m \u001B[1m0s\u001B[0m 4ms/step - loss: 3.0835 - mae: 3.0835\n",
      "Epoch 14/90\n",
      "\u001B[1m3/3\u001B[0m \u001B[32m━━━━━━━━━━━━━━━━━━━━\u001B[0m\u001B[37m\u001B[0m \u001B[1m0s\u001B[0m 4ms/step - loss: 3.0810 - mae: 3.0810\n",
      "Epoch 15/90\n",
      "\u001B[1m3/3\u001B[0m \u001B[32m━━━━━━━━━━━━━━━━━━━━\u001B[0m\u001B[37m\u001B[0m \u001B[1m0s\u001B[0m 4ms/step - loss: 3.0754 - mae: 3.0754\n",
      "Epoch 16/90\n",
      "\u001B[1m3/3\u001B[0m \u001B[32m━━━━━━━━━━━━━━━━━━━━\u001B[0m\u001B[37m\u001B[0m \u001B[1m0s\u001B[0m 5ms/step - loss: 3.0674 - mae: 3.0674\n",
      "Epoch 17/90\n",
      "\u001B[1m3/3\u001B[0m \u001B[32m━━━━━━━━━━━━━━━━━━━━\u001B[0m\u001B[37m\u001B[0m \u001B[1m0s\u001B[0m 4ms/step - loss: 3.0574 - mae: 3.0574\n",
      "Epoch 18/90\n",
      "\u001B[1m3/3\u001B[0m \u001B[32m━━━━━━━━━━━━━━━━━━━━\u001B[0m\u001B[37m\u001B[0m \u001B[1m0s\u001B[0m 4ms/step - loss: 3.0456 - mae: 3.0456\n",
      "Epoch 19/90\n",
      "\u001B[1m3/3\u001B[0m \u001B[32m━━━━━━━━━━━━━━━━━━━━\u001B[0m\u001B[37m\u001B[0m \u001B[1m0s\u001B[0m 4ms/step - loss: 3.0324 - mae: 3.0324\n",
      "Epoch 20/90\n",
      "\u001B[1m3/3\u001B[0m \u001B[32m━━━━━━━━━━━━━━━━━━━━\u001B[0m\u001B[37m\u001B[0m \u001B[1m0s\u001B[0m 4ms/step - loss: 3.0204 - mae: 3.0204\n",
      "Epoch 21/90\n",
      "\u001B[1m3/3\u001B[0m \u001B[32m━━━━━━━━━━━━━━━━━━━━\u001B[0m\u001B[37m\u001B[0m \u001B[1m0s\u001B[0m 4ms/step - loss: 3.0145 - mae: 3.0145\n",
      "Epoch 22/90\n",
      "\u001B[1m3/3\u001B[0m \u001B[32m━━━━━━━━━━━━━━━━━━━━\u001B[0m\u001B[37m\u001B[0m \u001B[1m0s\u001B[0m 5ms/step - loss: 3.0029 - mae: 3.0029\n",
      "Epoch 23/90\n",
      "\u001B[1m3/3\u001B[0m \u001B[32m━━━━━━━━━━━━━━━━━━━━\u001B[0m\u001B[37m\u001B[0m \u001B[1m0s\u001B[0m 5ms/step - loss: 3.0000 - mae: 3.0000\n",
      "Epoch 24/90\n",
      "\u001B[1m3/3\u001B[0m \u001B[32m━━━━━━━━━━━━━━━━━━━━\u001B[0m\u001B[37m\u001B[0m \u001B[1m0s\u001B[0m 5ms/step - loss: 2.9930 - mae: 2.9930\n",
      "Epoch 25/90\n",
      "\u001B[1m3/3\u001B[0m \u001B[32m━━━━━━━━━━━━━━━━━━━━\u001B[0m\u001B[37m\u001B[0m \u001B[1m0s\u001B[0m 4ms/step - loss: 2.9827 - mae: 2.9827\n",
      "Epoch 26/90\n",
      "\u001B[1m3/3\u001B[0m \u001B[32m━━━━━━━━━━━━━━━━━━━━\u001B[0m\u001B[37m\u001B[0m \u001B[1m0s\u001B[0m 5ms/step - loss: 2.9715 - mae: 2.9715\n",
      "Epoch 27/90\n",
      "\u001B[1m3/3\u001B[0m \u001B[32m━━━━━━━━━━━━━━━━━━━━\u001B[0m\u001B[37m\u001B[0m \u001B[1m0s\u001B[0m 4ms/step - loss: 2.9634 - mae: 2.9634\n",
      "Epoch 28/90\n",
      "\u001B[1m3/3\u001B[0m \u001B[32m━━━━━━━━━━━━━━━━━━━━\u001B[0m\u001B[37m\u001B[0m \u001B[1m0s\u001B[0m 4ms/step - loss: 2.9481 - mae: 2.9481\n",
      "Epoch 29/90\n",
      "\u001B[1m3/3\u001B[0m \u001B[32m━━━━━━━━━━━━━━━━━━━━\u001B[0m\u001B[37m\u001B[0m \u001B[1m0s\u001B[0m 6ms/step - loss: 2.9426 - mae: 2.9426\n",
      "Epoch 30/90\n",
      "\u001B[1m3/3\u001B[0m \u001B[32m━━━━━━━━━━━━━━━━━━━━\u001B[0m\u001B[37m\u001B[0m \u001B[1m0s\u001B[0m 4ms/step - loss: 2.9323 - mae: 2.9323\n",
      "Epoch 31/90\n",
      "\u001B[1m3/3\u001B[0m \u001B[32m━━━━━━━━━━━━━━━━━━━━\u001B[0m\u001B[37m\u001B[0m \u001B[1m0s\u001B[0m 4ms/step - loss: 2.9214 - mae: 2.9214\n",
      "Epoch 32/90\n",
      "\u001B[1m3/3\u001B[0m \u001B[32m━━━━━━━━━━━━━━━━━━━━\u001B[0m\u001B[37m\u001B[0m \u001B[1m0s\u001B[0m 4ms/step - loss: 2.9105 - mae: 2.9105\n",
      "Epoch 33/90\n",
      "\u001B[1m3/3\u001B[0m \u001B[32m━━━━━━━━━━━━━━━━━━━━\u001B[0m\u001B[37m\u001B[0m \u001B[1m0s\u001B[0m 4ms/step - loss: 2.9019 - mae: 2.9019\n",
      "Epoch 34/90\n",
      "\u001B[1m3/3\u001B[0m \u001B[32m━━━━━━━━━━━━━━━━━━━━\u001B[0m\u001B[37m\u001B[0m \u001B[1m0s\u001B[0m 4ms/step - loss: 2.8910 - mae: 2.8910\n",
      "Epoch 35/90\n",
      "\u001B[1m3/3\u001B[0m \u001B[32m━━━━━━━━━━━━━━━━━━━━\u001B[0m\u001B[37m\u001B[0m \u001B[1m0s\u001B[0m 4ms/step - loss: 2.8792 - mae: 2.8792\n",
      "Epoch 36/90\n",
      "\u001B[1m3/3\u001B[0m \u001B[32m━━━━━━━━━━━━━━━━━━━━\u001B[0m\u001B[37m\u001B[0m \u001B[1m0s\u001B[0m 4ms/step - loss: 2.8695 - mae: 2.8695\n",
      "Epoch 37/90\n",
      "\u001B[1m3/3\u001B[0m \u001B[32m━━━━━━━━━━━━━━━━━━━━\u001B[0m\u001B[37m\u001B[0m \u001B[1m0s\u001B[0m 4ms/step - loss: 2.8585 - mae: 2.8585\n",
      "Epoch 38/90\n",
      "\u001B[1m3/3\u001B[0m \u001B[32m━━━━━━━━━━━━━━━━━━━━\u001B[0m\u001B[37m\u001B[0m \u001B[1m0s\u001B[0m 4ms/step - loss: 2.8474 - mae: 2.8474\n",
      "Epoch 39/90\n",
      "\u001B[1m3/3\u001B[0m \u001B[32m━━━━━━━━━━━━━━━━━━━━\u001B[0m\u001B[37m\u001B[0m \u001B[1m0s\u001B[0m 4ms/step - loss: 2.8361 - mae: 2.8361\n",
      "Epoch 40/90\n",
      "\u001B[1m3/3\u001B[0m \u001B[32m━━━━━━━━━━━━━━━━━━━━\u001B[0m\u001B[37m\u001B[0m \u001B[1m0s\u001B[0m 4ms/step - loss: 2.8241 - mae: 2.8241\n",
      "Epoch 41/90\n",
      "\u001B[1m3/3\u001B[0m \u001B[32m━━━━━━━━━━━━━━━━━━━━\u001B[0m\u001B[37m\u001B[0m \u001B[1m0s\u001B[0m 4ms/step - loss: 2.8122 - mae: 2.8122\n",
      "Epoch 42/90\n",
      "\u001B[1m3/3\u001B[0m \u001B[32m━━━━━━━━━━━━━━━━━━━━\u001B[0m\u001B[37m\u001B[0m \u001B[1m0s\u001B[0m 4ms/step - loss: 2.8001 - mae: 2.8001\n",
      "Epoch 43/90\n",
      "\u001B[1m3/3\u001B[0m \u001B[32m━━━━━━━━━━━━━━━━━━━━\u001B[0m\u001B[37m\u001B[0m \u001B[1m0s\u001B[0m 4ms/step - loss: 2.7837 - mae: 2.7837\n",
      "Epoch 44/90\n",
      "\u001B[1m3/3\u001B[0m \u001B[32m━━━━━━━━━━━━━━━━━━━━\u001B[0m\u001B[37m\u001B[0m \u001B[1m0s\u001B[0m 4ms/step - loss: 2.7658 - mae: 2.7658\n",
      "Epoch 45/90\n",
      "\u001B[1m3/3\u001B[0m \u001B[32m━━━━━━━━━━━━━━━━━━━━\u001B[0m\u001B[37m\u001B[0m \u001B[1m0s\u001B[0m 4ms/step - loss: 2.7508 - mae: 2.7508\n",
      "Epoch 46/90\n",
      "\u001B[1m3/3\u001B[0m \u001B[32m━━━━━━━━━━━━━━━━━━━━\u001B[0m\u001B[37m\u001B[0m \u001B[1m0s\u001B[0m 4ms/step - loss: 2.7345 - mae: 2.7345\n",
      "Epoch 47/90\n",
      "\u001B[1m3/3\u001B[0m \u001B[32m━━━━━━━━━━━━━━━━━━━━\u001B[0m\u001B[37m\u001B[0m \u001B[1m0s\u001B[0m 4ms/step - loss: 2.7168 - mae: 2.7168\n",
      "Epoch 48/90\n",
      "\u001B[1m3/3\u001B[0m \u001B[32m━━━━━━━━━━━━━━━━━━━━\u001B[0m\u001B[37m\u001B[0m \u001B[1m0s\u001B[0m 4ms/step - loss: 2.7003 - mae: 2.7003\n",
      "Epoch 49/90\n",
      "\u001B[1m3/3\u001B[0m \u001B[32m━━━━━━━━━━━━━━━━━━━━\u001B[0m\u001B[37m\u001B[0m \u001B[1m0s\u001B[0m 4ms/step - loss: 2.6810 - mae: 2.6810\n",
      "Epoch 50/90\n",
      "\u001B[1m3/3\u001B[0m \u001B[32m━━━━━━━━━━━━━━━━━━━━\u001B[0m\u001B[37m\u001B[0m \u001B[1m0s\u001B[0m 4ms/step - loss: 2.6557 - mae: 2.6557\n",
      "Epoch 51/90\n",
      "\u001B[1m3/3\u001B[0m \u001B[32m━━━━━━━━━━━━━━━━━━━━\u001B[0m\u001B[37m\u001B[0m \u001B[1m0s\u001B[0m 4ms/step - loss: 2.6311 - mae: 2.6311\n",
      "Epoch 52/90\n",
      "\u001B[1m3/3\u001B[0m \u001B[32m━━━━━━━━━━━━━━━━━━━━\u001B[0m\u001B[37m\u001B[0m \u001B[1m0s\u001B[0m 4ms/step - loss: 2.5943 - mae: 2.5943\n",
      "Epoch 53/90\n",
      "\u001B[1m3/3\u001B[0m \u001B[32m━━━━━━━━━━━━━━━━━━━━\u001B[0m\u001B[37m\u001B[0m \u001B[1m0s\u001B[0m 4ms/step - loss: 2.5551 - mae: 2.5551\n",
      "Epoch 54/90\n",
      "\u001B[1m3/3\u001B[0m \u001B[32m━━━━━━━━━━━━━━━━━━━━\u001B[0m\u001B[37m\u001B[0m \u001B[1m0s\u001B[0m 4ms/step - loss: 2.4792 - mae: 2.4792\n",
      "Epoch 55/90\n",
      "\u001B[1m3/3\u001B[0m \u001B[32m━━━━━━━━━━━━━━━━━━━━\u001B[0m\u001B[37m\u001B[0m \u001B[1m0s\u001B[0m 4ms/step - loss: 2.3687 - mae: 2.3687\n",
      "Epoch 56/90\n",
      "\u001B[1m3/3\u001B[0m \u001B[32m━━━━━━━━━━━━━━━━━━━━\u001B[0m\u001B[37m\u001B[0m \u001B[1m0s\u001B[0m 4ms/step - loss: 2.2855 - mae: 2.2855\n",
      "Epoch 57/90\n",
      "\u001B[1m3/3\u001B[0m \u001B[32m━━━━━━━━━━━━━━━━━━━━\u001B[0m\u001B[37m\u001B[0m \u001B[1m0s\u001B[0m 4ms/step - loss: 2.1755 - mae: 2.1755\n",
      "Epoch 58/90\n",
      "\u001B[1m3/3\u001B[0m \u001B[32m━━━━━━━━━━━━━━━━━━━━\u001B[0m\u001B[37m\u001B[0m \u001B[1m0s\u001B[0m 4ms/step - loss: 2.1350 - mae: 2.1350\n",
      "Epoch 59/90\n",
      "\u001B[1m3/3\u001B[0m \u001B[32m━━━━━━━━━━━━━━━━━━━━\u001B[0m\u001B[37m\u001B[0m \u001B[1m0s\u001B[0m 4ms/step - loss: 2.0329 - mae: 2.0329\n",
      "Epoch 60/90\n",
      "\u001B[1m3/3\u001B[0m \u001B[32m━━━━━━━━━━━━━━━━━━━━\u001B[0m\u001B[37m\u001B[0m \u001B[1m0s\u001B[0m 4ms/step - loss: 1.9735 - mae: 1.9735\n",
      "Epoch 61/90\n",
      "\u001B[1m3/3\u001B[0m \u001B[32m━━━━━━━━━━━━━━━━━━━━\u001B[0m\u001B[37m\u001B[0m \u001B[1m0s\u001B[0m 4ms/step - loss: 1.8619 - mae: 1.8619\n",
      "Epoch 62/90\n",
      "\u001B[1m3/3\u001B[0m \u001B[32m━━━━━━━━━━━━━━━━━━━━\u001B[0m\u001B[37m\u001B[0m \u001B[1m0s\u001B[0m 4ms/step - loss: 1.7505 - mae: 1.7505\n",
      "Epoch 63/90\n",
      "\u001B[1m3/3\u001B[0m \u001B[32m━━━━━━━━━━━━━━━━━━━━\u001B[0m\u001B[37m\u001B[0m \u001B[1m0s\u001B[0m 4ms/step - loss: 1.6204 - mae: 1.6204\n",
      "Epoch 64/90\n",
      "\u001B[1m3/3\u001B[0m \u001B[32m━━━━━━━━━━━━━━━━━━━━\u001B[0m\u001B[37m\u001B[0m \u001B[1m0s\u001B[0m 4ms/step - loss: 1.5242 - mae: 1.5242\n",
      "Epoch 65/90\n",
      "\u001B[1m3/3\u001B[0m \u001B[32m━━━━━━━━━━━━━━━━━━━━\u001B[0m\u001B[37m\u001B[0m \u001B[1m0s\u001B[0m 4ms/step - loss: 1.4223 - mae: 1.4223\n",
      "Epoch 66/90\n",
      "\u001B[1m3/3\u001B[0m \u001B[32m━━━━━━━━━━━━━━━━━━━━\u001B[0m\u001B[37m\u001B[0m \u001B[1m0s\u001B[0m 4ms/step - loss: 1.3020 - mae: 1.3020\n",
      "Epoch 67/90\n",
      "\u001B[1m3/3\u001B[0m \u001B[32m━━━━━━━━━━━━━━━━━━━━\u001B[0m\u001B[37m\u001B[0m \u001B[1m0s\u001B[0m 4ms/step - loss: 1.1687 - mae: 1.1687\n",
      "Epoch 68/90\n",
      "\u001B[1m3/3\u001B[0m \u001B[32m━━━━━━━━━━━━━━━━━━━━\u001B[0m\u001B[37m\u001B[0m \u001B[1m0s\u001B[0m 4ms/step - loss: 1.0681 - mae: 1.0681\n",
      "Epoch 69/90\n",
      "\u001B[1m3/3\u001B[0m \u001B[32m━━━━━━━━━━━━━━━━━━━━\u001B[0m\u001B[37m\u001B[0m \u001B[1m0s\u001B[0m 4ms/step - loss: 0.9452 - mae: 0.9452\n",
      "Epoch 70/90\n",
      "\u001B[1m3/3\u001B[0m \u001B[32m━━━━━━━━━━━━━━━━━━━━\u001B[0m\u001B[37m\u001B[0m \u001B[1m0s\u001B[0m 4ms/step - loss: 0.8681 - mae: 0.8681\n",
      "Epoch 71/90\n",
      "\u001B[1m3/3\u001B[0m \u001B[32m━━━━━━━━━━━━━━━━━━━━\u001B[0m\u001B[37m\u001B[0m \u001B[1m0s\u001B[0m 4ms/step - loss: 0.7409 - mae: 0.7409\n",
      "Epoch 72/90\n",
      "\u001B[1m3/3\u001B[0m \u001B[32m━━━━━━━━━━━━━━━━━━━━\u001B[0m\u001B[37m\u001B[0m \u001B[1m0s\u001B[0m 4ms/step - loss: 0.6459 - mae: 0.6459\n",
      "Epoch 73/90\n",
      "\u001B[1m3/3\u001B[0m \u001B[32m━━━━━━━━━━━━━━━━━━━━\u001B[0m\u001B[37m\u001B[0m \u001B[1m0s\u001B[0m 4ms/step - loss: 0.7109 - mae: 0.7109\n",
      "Epoch 74/90\n",
      "\u001B[1m3/3\u001B[0m \u001B[32m━━━━━━━━━━━━━━━━━━━━\u001B[0m\u001B[37m\u001B[0m \u001B[1m0s\u001B[0m 4ms/step - loss: 0.7889 - mae: 0.7889\n",
      "Epoch 75/90\n",
      "\u001B[1m3/3\u001B[0m \u001B[32m━━━━━━━━━━━━━━━━━━━━\u001B[0m\u001B[37m\u001B[0m \u001B[1m0s\u001B[0m 4ms/step - loss: 0.7532 - mae: 0.7532\n",
      "Epoch 76/90\n",
      "\u001B[1m3/3\u001B[0m \u001B[32m━━━━━━━━━━━━━━━━━━━━\u001B[0m\u001B[37m\u001B[0m \u001B[1m0s\u001B[0m 4ms/step - loss: 0.5812 - mae: 0.5812\n",
      "Epoch 77/90\n",
      "\u001B[1m3/3\u001B[0m \u001B[32m━━━━━━━━━━━━━━━━━━━━\u001B[0m\u001B[37m\u001B[0m \u001B[1m0s\u001B[0m 4ms/step - loss: 0.6487 - mae: 0.6487\n",
      "Epoch 78/90\n",
      "\u001B[1m3/3\u001B[0m \u001B[32m━━━━━━━━━━━━━━━━━━━━\u001B[0m\u001B[37m\u001B[0m \u001B[1m0s\u001B[0m 4ms/step - loss: 0.4649 - mae: 0.4649\n",
      "Epoch 79/90\n",
      "\u001B[1m3/3\u001B[0m \u001B[32m━━━━━━━━━━━━━━━━━━━━\u001B[0m\u001B[37m\u001B[0m \u001B[1m0s\u001B[0m 4ms/step - loss: 0.3740 - mae: 0.3740\n",
      "Epoch 80/90\n",
      "\u001B[1m3/3\u001B[0m \u001B[32m━━━━━━━━━━━━━━━━━━━━\u001B[0m\u001B[37m\u001B[0m \u001B[1m0s\u001B[0m 4ms/step - loss: 0.3927 - mae: 0.3927\n",
      "Epoch 81/90\n",
      "\u001B[1m3/3\u001B[0m \u001B[32m━━━━━━━━━━━━━━━━━━━━\u001B[0m\u001B[37m\u001B[0m \u001B[1m0s\u001B[0m 4ms/step - loss: 0.3540 - mae: 0.3540\n",
      "Epoch 82/90\n",
      "\u001B[1m3/3\u001B[0m \u001B[32m━━━━━━━━━━━━━━━━━━━━\u001B[0m\u001B[37m\u001B[0m \u001B[1m0s\u001B[0m 4ms/step - loss: 0.3219 - mae: 0.3219\n",
      "Epoch 83/90\n",
      "\u001B[1m3/3\u001B[0m \u001B[32m━━━━━━━━━━━━━━━━━━━━\u001B[0m\u001B[37m\u001B[0m \u001B[1m0s\u001B[0m 4ms/step - loss: 0.3299 - mae: 0.3299\n",
      "Epoch 84/90\n",
      "\u001B[1m3/3\u001B[0m \u001B[32m━━━━━━━━━━━━━━━━━━━━\u001B[0m\u001B[37m\u001B[0m \u001B[1m0s\u001B[0m 5ms/step - loss: 0.2781 - mae: 0.2781\n",
      "Epoch 85/90\n",
      "\u001B[1m3/3\u001B[0m \u001B[32m━━━━━━━━━━━━━━━━━━━━\u001B[0m\u001B[37m\u001B[0m \u001B[1m0s\u001B[0m 4ms/step - loss: 0.2904 - mae: 0.2904\n",
      "Epoch 86/90\n",
      "\u001B[1m3/3\u001B[0m \u001B[32m━━━━━━━━━━━━━━━━━━━━\u001B[0m\u001B[37m\u001B[0m \u001B[1m0s\u001B[0m 4ms/step - loss: 0.2422 - mae: 0.2422\n",
      "Epoch 87/90\n",
      "\u001B[1m3/3\u001B[0m \u001B[32m━━━━━━━━━━━━━━━━━━━━\u001B[0m\u001B[37m\u001B[0m \u001B[1m0s\u001B[0m 5ms/step - loss: 0.2600 - mae: 0.2600 \n",
      "Epoch 88/90\n",
      "\u001B[1m3/3\u001B[0m \u001B[32m━━━━━━━━━━━━━━━━━━━━\u001B[0m\u001B[37m\u001B[0m \u001B[1m0s\u001B[0m 4ms/step - loss: 0.2126 - mae: 0.2126\n",
      "Epoch 89/90\n",
      "\u001B[1m3/3\u001B[0m \u001B[32m━━━━━━━━━━━━━━━━━━━━\u001B[0m\u001B[37m\u001B[0m \u001B[1m0s\u001B[0m 4ms/step - loss: 0.2324 - mae: 0.2324\n",
      "Epoch 90/90\n",
      "\u001B[1m3/3\u001B[0m \u001B[32m━━━━━━━━━━━━━━━━━━━━\u001B[0m\u001B[37m\u001B[0m \u001B[1m0s\u001B[0m 4ms/step - loss: 0.1936 - mae: 0.1936\n"
     ]
    },
    {
     "data": {
      "text/plain": [
       "<keras.src.callbacks.history.History at 0x1265b07f0>"
      ]
     },
     "execution_count": 48,
     "metadata": {},
     "output_type": "execute_result"
    }
   ],
   "execution_count": 48
  },
  {
   "metadata": {
    "ExecuteTime": {
     "end_time": "2025-03-21T11:50:39.087715Z",
     "start_time": "2025-02-11T13:38:03.596632Z"
    }
   },
   "cell_type": "code",
   "source": [
    "b_extend_predict = model3.predict(a_test)\n",
    "b_extend_predict"
   ],
   "id": "defb8bc2f7883ddb",
   "outputs": [
    {
     "name": "stdout",
     "output_type": "stream",
     "text": [
      "WARNING:tensorflow:6 out of the last 8 calls to <function TensorFlowTrainer.make_predict_function.<locals>.one_step_on_data_distributed at 0x1267f1160> triggered tf.function retracing. Tracing is expensive and the excessive number of tracings could be due to (1) creating @tf.function repeatedly in a loop, (2) passing tensors with different shapes, (3) passing Python objects instead of tensors. For (1), please define your @tf.function outside of the loop. For (2), @tf.function has reduce_retracing=True option that can avoid unnecessary retracing. For (3), please refer to https://www.tensorflow.org/guide/function#controlling_retracing and https://www.tensorflow.org/api_docs/python/tf/function for  more details.\n",
      "\u001B[1m1/1\u001B[0m \u001B[32m━━━━━━━━━━━━━━━━━━━━\u001B[0m\u001B[37m\u001B[0m \u001B[1m0s\u001B[0m 27ms/step\n"
     ]
    },
    {
     "data": {
      "text/plain": [
       "array([[22.452957],\n",
       "       [25.258842],\n",
       "       [28.064735],\n",
       "       [30.870625],\n",
       "       [33.67651 ],\n",
       "       [36.482395],\n",
       "       [39.288292],\n",
       "       [42.094173],\n",
       "       [44.900063],\n",
       "       [47.705658]], dtype=float32)"
      ]
     },
     "execution_count": 49,
     "metadata": {},
     "output_type": "execute_result"
    }
   ],
   "execution_count": 49
  },
  {
   "metadata": {
    "ExecuteTime": {
     "end_time": "2025-03-21T11:50:39.087835Z",
     "start_time": "2025-02-11T13:38:03.684041Z"
    }
   },
   "cell_type": "code",
   "source": [
    "# plt.figure(figsize=(10, 7))\n",
    "plt.scatter(a, b, c='blue', label='Original train')\n",
    "plt.scatter(a_test, b_test, c='green', label='Original test')\n",
    "plt.scatter(a_test, b_extend_predict, c='red', label='Extended prediction')\n",
    "plt.scatter(a_test, b_predict, c='yellow', label='Original prediction')\n",
    "plt.legend()"
   ],
   "id": "9d2ee387990697c2",
   "outputs": [
    {
     "data": {
      "text/plain": [
       "<matplotlib.legend.Legend at 0x126996fd0>"
      ]
     },
     "execution_count": 50,
     "metadata": {},
     "output_type": "execute_result"
    },
    {
     "data": {
      "text/plain": [
       "<Figure size 640x480 with 1 Axes>"
      ],
      "image/png": "[encoded data removed]"
     },
     "metadata": {},
     "output_type": "display_data"
    }
   ],
   "execution_count": 50
  },
  {
   "metadata": {},
   "cell_type": "markdown",
   "source": [
    "removing a little bit and adding a little bit generates much more data for learning. This is a good way to generate more data for learning. This is called data augmentation. (really, just invented it for myself)\n",
    "\n",
    "how are tricks like this called in the real world copilot? Data augmentation, data preprocessing, data cleaning, data wrangling, data transformation"
   ],
   "id": "4565220cce431d02"
  },
  {
   "metadata": {},
   "cell_type": "markdown",
   "source": [
    "### Welche Optimizer gibt es?\n",
    "- Stochastic Gradient Descent (SGD): Updates weights based on the gradient of the loss function.\n",
    "- Adam: Adaptive Moment Estimation, combines the advantages of RMSprop and momentum.\n",
    "- RMSprop: Divides the learning rate by the moving average of the root mean square of the gradients.\n",
    "\n",
    "### Welche Activation funktionen gibt es?\n",
    "- ReLU\n",
    "- Sigmoid\n",
    "- Tanh\n",
    "\n",
    "Testing summary and building a nn"
   ],
   "id": "9e5feb4c30014cc7"
  },
  {
   "metadata": {
    "ExecuteTime": {
     "end_time": "2025-03-21T11:50:39.087945Z",
     "start_time": "2025-02-11T13:38:03.803268Z"
    }
   },
   "cell_type": "code",
   "source": [
    "model4 = ks.Sequential()\n",
    "model4.add(ks.layers.Input(shape=(1,)))\n",
    "model4.add(ks.layers.Dense(20, activation='relu'))\n",
    "model4.add(ks.layers.Dense(20, activation='relu'))\n",
    "model4.add(ks.layers.Dense(20, activation='relu'))\n",
    "model4.add(ks.layers.Dense(1))\n",
    "\n",
    "# 2. compile the model\n",
    "model4.compile(loss=ks.losses.MeanAbsoluteError,\n",
    "              optimizer=ks.optimizers.Adam(),\n",
    "              metrics=['mae'])\n",
    "\n",
    "# 3. fit the model\n",
    "# model3.fit(a_extend, b_extend, epochs=90)"
   ],
   "id": "4f2c2600dbec3f2c",
   "outputs": [],
   "execution_count": 51
  },
  {
   "metadata": {
    "ExecuteTime": {
     "end_time": "2025-03-21T11:50:39.088068Z",
     "start_time": "2025-02-11T13:38:03.828848Z"
    }
   },
   "cell_type": "code",
   "source": "model4.build()",
   "id": "91540ef54d3dec2e",
   "outputs": [],
   "execution_count": 52
  },
  {
   "metadata": {
    "ExecuteTime": {
     "end_time": "2025-03-21T11:50:39.088164Z",
     "start_time": "2025-02-11T13:38:03.840413Z"
    }
   },
   "cell_type": "code",
   "source": "model4.summary()",
   "id": "a9919b2268d7a545",
   "outputs": [
    {
     "data": {
      "text/plain": [
       "\u001B[1mModel: \"sequential_6\"\u001B[0m\n"
      ],
      "text/html": [
       "<pre style=\"white-space:pre;overflow-x:auto;line-height:normal;font-family:Menlo,'DejaVu Sans Mono',consolas,'Courier New',monospace\"><span style=\"font-weight: bold\">Model: \"sequential_6\"</span>\n",
       "</pre>\n"
      ]
     },
     "metadata": {},
     "output_type": "display_data"
    },
    {
     "data": {
      "text/plain": [
       "┏━━━━━━━━━━━━━━━━━━━━━━━━━━━━━━━━━┳━━━━━━━━━━━━━━━━━━━━━━━━┳━━━━━━━━━━━━━━━┓\n",
       "┃\u001B[1m \u001B[0m\u001B[1mLayer (type)                   \u001B[0m\u001B[1m \u001B[0m┃\u001B[1m \u001B[0m\u001B[1mOutput Shape          \u001B[0m\u001B[1m \u001B[0m┃\u001B[1m \u001B[0m\u001B[1m      Param #\u001B[0m\u001B[1m \u001B[0m┃\n",
       "┡━━━━━━━━━━━━━━━━━━━━━━━━━━━━━━━━━╇━━━━━━━━━━━━━━━━━━━━━━━━╇━━━━━━━━━━━━━━━┩\n",
       "│ dense_23 (\u001B[38;5;33mDense\u001B[0m)                │ (\u001B[38;5;45mNone\u001B[0m, \u001B[38;5;34m20\u001B[0m)             │            \u001B[38;5;34m40\u001B[0m │\n",
       "├─────────────────────────────────┼────────────────────────┼───────────────┤\n",
       "│ dense_24 (\u001B[38;5;33mDense\u001B[0m)                │ (\u001B[38;5;45mNone\u001B[0m, \u001B[38;5;34m20\u001B[0m)             │           \u001B[38;5;34m420\u001B[0m │\n",
       "├─────────────────────────────────┼────────────────────────┼───────────────┤\n",
       "│ dense_25 (\u001B[38;5;33mDense\u001B[0m)                │ (\u001B[38;5;45mNone\u001B[0m, \u001B[38;5;34m20\u001B[0m)             │           \u001B[38;5;34m420\u001B[0m │\n",
       "├─────────────────────────────────┼────────────────────────┼───────────────┤\n",
       "│ dense_26 (\u001B[38;5;33mDense\u001B[0m)                │ (\u001B[38;5;45mNone\u001B[0m, \u001B[38;5;34m1\u001B[0m)              │            \u001B[38;5;34m21\u001B[0m │\n",
       "└─────────────────────────────────┴────────────────────────┴───────────────┘\n"
      ],
      "text/html": [
       "<pre style=\"white-space:pre;overflow-x:auto;line-height:normal;font-family:Menlo,'DejaVu Sans Mono',consolas,'Courier New',monospace\">┏━━━━━━━━━━━━━━━━━━━━━━━━━━━━━━━━━┳━━━━━━━━━━━━━━━━━━━━━━━━┳━━━━━━━━━━━━━━━┓\n",
       "┃<span style=\"font-weight: bold\"> Layer (type)                    </span>┃<span style=\"font-weight: bold\"> Output Shape           </span>┃<span style=\"font-weight: bold\">       Param # </span>┃\n",
       "┡━━━━━━━━━━━━━━━━━━━━━━━━━━━━━━━━━╇━━━━━━━━━━━━━━━━━━━━━━━━╇━━━━━━━━━━━━━━━┩\n",
       "│ dense_23 (<span style=\"color: #0087ff; text-decoration-color: #0087ff\">Dense</span>)                │ (<span style=\"color: #00d7ff; text-decoration-color: #00d7ff\">None</span>, <span style=\"color: #00af00; text-decoration-color: #00af00\">20</span>)             │            <span style=\"color: #00af00; text-decoration-color: #00af00\">40</span> │\n",
       "├─────────────────────────────────┼────────────────────────┼───────────────┤\n",
       "│ dense_24 (<span style=\"color: #0087ff; text-decoration-color: #0087ff\">Dense</span>)                │ (<span style=\"color: #00d7ff; text-decoration-color: #00d7ff\">None</span>, <span style=\"color: #00af00; text-decoration-color: #00af00\">20</span>)             │           <span style=\"color: #00af00; text-decoration-color: #00af00\">420</span> │\n",
       "├─────────────────────────────────┼────────────────────────┼───────────────┤\n",
       "│ dense_25 (<span style=\"color: #0087ff; text-decoration-color: #0087ff\">Dense</span>)                │ (<span style=\"color: #00d7ff; text-decoration-color: #00d7ff\">None</span>, <span style=\"color: #00af00; text-decoration-color: #00af00\">20</span>)             │           <span style=\"color: #00af00; text-decoration-color: #00af00\">420</span> │\n",
       "├─────────────────────────────────┼────────────────────────┼───────────────┤\n",
       "│ dense_26 (<span style=\"color: #0087ff; text-decoration-color: #0087ff\">Dense</span>)                │ (<span style=\"color: #00d7ff; text-decoration-color: #00d7ff\">None</span>, <span style=\"color: #00af00; text-decoration-color: #00af00\">1</span>)              │            <span style=\"color: #00af00; text-decoration-color: #00af00\">21</span> │\n",
       "└─────────────────────────────────┴────────────────────────┴───────────────┘\n",
       "</pre>\n"
      ]
     },
     "metadata": {},
     "output_type": "display_data"
    },
    {
     "data": {
      "text/plain": [
       "\u001B[1m Total params: \u001B[0m\u001B[38;5;34m901\u001B[0m (3.52 KB)\n"
      ],
      "text/html": [
       "<pre style=\"white-space:pre;overflow-x:auto;line-height:normal;font-family:Menlo,'DejaVu Sans Mono',consolas,'Courier New',monospace\"><span style=\"font-weight: bold\"> Total params: </span><span style=\"color: #00af00; text-decoration-color: #00af00\">901</span> (3.52 KB)\n",
       "</pre>\n"
      ]
     },
     "metadata": {},
     "output_type": "display_data"
    },
    {
     "data": {
      "text/plain": [
       "\u001B[1m Trainable params: \u001B[0m\u001B[38;5;34m901\u001B[0m (3.52 KB)\n"
      ],
      "text/html": [
       "<pre style=\"white-space:pre;overflow-x:auto;line-height:normal;font-family:Menlo,'DejaVu Sans Mono',consolas,'Courier New',monospace\"><span style=\"font-weight: bold\"> Trainable params: </span><span style=\"color: #00af00; text-decoration-color: #00af00\">901</span> (3.52 KB)\n",
       "</pre>\n"
      ]
     },
     "metadata": {},
     "output_type": "display_data"
    },
    {
     "data": {
      "text/plain": [
       "\u001B[1m Non-trainable params: \u001B[0m\u001B[38;5;34m0\u001B[0m (0.00 B)\n"
      ],
      "text/html": [
       "<pre style=\"white-space:pre;overflow-x:auto;line-height:normal;font-family:Menlo,'DejaVu Sans Mono',consolas,'Courier New',monospace\"><span style=\"font-weight: bold\"> Non-trainable params: </span><span style=\"color: #00af00; text-decoration-color: #00af00\">0</span> (0.00 B)\n",
       "</pre>\n"
      ]
     },
     "metadata": {},
     "output_type": "display_data"
    }
   ],
   "execution_count": 53
  },
  {
   "metadata": {},
   "cell_type": "markdown",
   "source": [
    "Total params sind die neuronen welche träiniert werden können\n",
    "trainable sind diese die ihre werte verändern können\n",
    "non trainable, analag dazu.. sind häufig bereits gelernte implementierte nn die in das nn integriert worden sind"
   ],
   "id": "4c5a840b2aec0ea6"
  },
  {
   "metadata": {
    "ExecuteTime": {
     "end_time": "2025-03-21T11:50:39.089033Z",
     "start_time": "2025-02-11T16:25:51.287466Z"
    }
   },
   "cell_type": "code",
   "source": [
    "import plot_model\n",
    "from keras.src.layers import Wrapper\n",
    "\n",
    "\n",
    "model5 = ks.Sequential()\n",
    "model5.add(ks.layers.Input(shape=(1,)))\n",
    "model5.add(ks.layers.Dense(20, activation='relu'))\n",
    "model5.add(ks.layers.Dense(20, activation='relu'))\n",
    "model5.add(ks.layers.Dense(20, activation='relu'))\n",
    "model5.add(ks.layers.Dense(1))\n",
    "\n",
    "plot_model.plot_model(model=model5)"
   ],
   "id": "c6221230ce7c353d",
   "outputs": [
    {
     "name": "stderr",
     "output_type": "stream",
     "text": [
      "\n",
      "A module that was compiled using NumPy 1.x cannot be run in\n",
      "NumPy 2.0.2 as it may crash. To support both 1.x and 2.x\n",
      "versions of NumPy, modules must be compiled with NumPy 2.0.\n",
      "Some module may need to rebuild instead e.g. with 'pybind11>=2.12'.\n",
      "\n",
      "If you are a user of the module, the easiest solution will be to\n",
      "downgrade to 'numpy<2' or try to upgrade the affected module.\n",
      "We expect that some modules will need time to support NumPy 2.\n",
      "\n",
      "Traceback (most recent call last):  File \"/Library/Developer/CommandLineTools/Library/Frameworks/Python3.framework/Versions/3.9/lib/python3.9/runpy.py\", line 197, in _run_module_as_main\n",
      "    return _run_code(code, main_globals, None,\n",
      "  File \"/Library/Developer/CommandLineTools/Library/Frameworks/Python3.framework/Versions/3.9/lib/python3.9/runpy.py\", line 87, in _run_code\n",
      "    exec(code, run_globals)\n",
      "  File \"/Users/light/WORKSPACE/TensorFlow_for_Deep_Learning_Bootcamp/.venv/lib/python3.9/site-packages/ipykernel_launcher.py\", line 18, in <module>\n",
      "    app.launch_new_instance()\n",
      "  File \"/Users/light/WORKSPACE/TensorFlow_for_Deep_Learning_Bootcamp/.venv/lib/python3.9/site-packages/traitlets/config/application.py\", line 1075, in launch_instance\n",
      "    app.start()\n",
      "  File \"/Users/light/WORKSPACE/TensorFlow_for_Deep_Learning_Bootcamp/.venv/lib/python3.9/site-packages/ipykernel/kernelapp.py\", line 739, in start\n",
      "    self.io_loop.start()\n",
      "  File \"/Users/light/WORKSPACE/TensorFlow_for_Deep_Learning_Bootcamp/.venv/lib/python3.9/site-packages/tornado/platform/asyncio.py\", line 205, in start\n",
      "    self.asyncio_loop.run_forever()\n",
      "  File \"/Library/Developer/CommandLineTools/Library/Frameworks/Python3.framework/Versions/3.9/lib/python3.9/asyncio/base_events.py\", line 596, in run_forever\n",
      "    self._run_once()\n",
      "  File \"/Library/Developer/CommandLineTools/Library/Frameworks/Python3.framework/Versions/3.9/lib/python3.9/asyncio/base_events.py\", line 1890, in _run_once\n",
      "    handle._run()\n",
      "  File \"/Library/Developer/CommandLineTools/Library/Frameworks/Python3.framework/Versions/3.9/lib/python3.9/asyncio/events.py\", line 80, in _run\n",
      "    self._context.run(self._callback, *self._args)\n",
      "  File \"/Users/light/WORKSPACE/TensorFlow_for_Deep_Learning_Bootcamp/.venv/lib/python3.9/site-packages/ipykernel/kernelbase.py\", line 545, in dispatch_queue\n",
      "    await self.process_one()\n",
      "  File \"/Users/light/WORKSPACE/TensorFlow_for_Deep_Learning_Bootcamp/.venv/lib/python3.9/site-packages/ipykernel/kernelbase.py\", line 534, in process_one\n",
      "    await dispatch(*args)\n",
      "  File \"/Users/light/WORKSPACE/TensorFlow_for_Deep_Learning_Bootcamp/.venv/lib/python3.9/site-packages/ipykernel/kernelbase.py\", line 437, in dispatch_shell\n",
      "    await result\n",
      "  File \"/Users/light/WORKSPACE/TensorFlow_for_Deep_Learning_Bootcamp/.venv/lib/python3.9/site-packages/ipykernel/ipkernel.py\", line 362, in execute_request\n",
      "    await super().execute_request(stream, ident, parent)\n",
      "  File \"/Users/light/WORKSPACE/TensorFlow_for_Deep_Learning_Bootcamp/.venv/lib/python3.9/site-packages/ipykernel/kernelbase.py\", line 778, in execute_request\n",
      "    reply_content = await reply_content\n",
      "  File \"/Users/light/WORKSPACE/TensorFlow_for_Deep_Learning_Bootcamp/.venv/lib/python3.9/site-packages/ipykernel/ipkernel.py\", line 449, in do_execute\n",
      "    res = shell.run_cell(\n",
      "  File \"/Users/light/WORKSPACE/TensorFlow_for_Deep_Learning_Bootcamp/.venv/lib/python3.9/site-packages/ipykernel/zmqshell.py\", line 549, in run_cell\n",
      "    return super().run_cell(*args, **kwargs)\n",
      "  File \"/Users/light/WORKSPACE/TensorFlow_for_Deep_Learning_Bootcamp/.venv/lib/python3.9/site-packages/IPython/core/interactiveshell.py\", line 3048, in run_cell\n",
      "    result = self._run_cell(\n",
      "  File \"/Users/light/WORKSPACE/TensorFlow_for_Deep_Learning_Bootcamp/.venv/lib/python3.9/site-packages/IPython/core/interactiveshell.py\", line 3103, in _run_cell\n",
      "    result = runner(coro)\n",
      "  File \"/Users/light/WORKSPACE/TensorFlow_for_Deep_Learning_Bootcamp/.venv/lib/python3.9/site-packages/IPython/core/async_helpers.py\", line 129, in _pseudo_sync_runner\n",
      "    coro.send(None)\n",
      "  File \"/Users/light/WORKSPACE/TensorFlow_for_Deep_Learning_Bootcamp/.venv/lib/python3.9/site-packages/IPython/core/interactiveshell.py\", line 3308, in run_cell_async\n",
      "    has_raised = await self.run_ast_nodes(code_ast.body, cell_name,\n",
      "  File \"/Users/light/WORKSPACE/TensorFlow_for_Deep_Learning_Bootcamp/.venv/lib/python3.9/site-packages/IPython/core/interactiveshell.py\", line 3490, in run_ast_nodes\n",
      "    if await self.run_code(code, result, async_=asy):\n",
      "  File \"/Users/light/WORKSPACE/TensorFlow_for_Deep_Learning_Bootcamp/.venv/lib/python3.9/site-packages/IPython/core/interactiveshell.py\", line 3550, in run_code\n",
      "    exec(code_obj, self.user_global_ns, self.user_ns)\n",
      "  File \"/var/folders/ts/1s_j7lh959b7bwmjd6j26b480000gn/T/ipykernel_62771/2515278119.py\", line 1, in <module>\n",
      "    import plot_model\n",
      "  File \"/Users/light/WORKSPACE/TensorFlow_for_Deep_Learning_Bootcamp/.venv/lib/python3.9/site-packages/plot_model/__init__.py\", line 1, in <module>\n",
      "    from .plot_model import plot_model\n",
      "  File \"/Users/light/WORKSPACE/TensorFlow_for_Deep_Learning_Bootcamp/.venv/lib/python3.9/site-packages/plot_model/plot_model.py\", line 10, in <module>\n",
      "    from tensorflow.python.util import nest\n",
      "  File \"/Users/light/WORKSPACE/TensorFlow_for_Deep_Learning_Bootcamp/.venv/lib/python3.9/site-packages/tensorflow/python/util/nest.py\", line 93, in <module>\n",
      "    from tensorflow.python.util import _pywrap_nest\n",
      "  File \"/Users/light/WORKSPACE/TensorFlow_for_Deep_Learning_Bootcamp/.venv/lib/python3.9/site-packages/tensorflow/__init__.py\", line 45, in <module>\n",
      "    from tensorflow._api.v2 import __internal__\n",
      "  File \"/Users/light/WORKSPACE/TensorFlow_for_Deep_Learning_Bootcamp/.venv/lib/python3.9/site-packages/tensorflow/_api/v2/__internal__/__init__.py\", line 8, in <module>\n",
      "    from tensorflow._api.v2.__internal__ import autograph\n",
      "  File \"/Users/light/WORKSPACE/TensorFlow_for_Deep_Learning_Bootcamp/.venv/lib/python3.9/site-packages/tensorflow/_api/v2/__internal__/autograph/__init__.py\", line 8, in <module>\n",
      "    from tensorflow.python.autograph.core.ag_ctx import control_status_ctx # line: 34\n",
      "  File \"/Users/light/WORKSPACE/TensorFlow_for_Deep_Learning_Bootcamp/.venv/lib/python3.9/site-packages/tensorflow/python/autograph/core/ag_ctx.py\", line 21, in <module>\n",
      "    from tensorflow.python.autograph.utils import ag_logging\n",
      "  File \"/Users/light/WORKSPACE/TensorFlow_for_Deep_Learning_Bootcamp/.venv/lib/python3.9/site-packages/tensorflow/python/autograph/utils/__init__.py\", line 17, in <module>\n",
      "    from tensorflow.python.autograph.utils.context_managers import control_dependency_on_returns\n",
      "  File \"/Users/light/WORKSPACE/TensorFlow_for_Deep_Learning_Bootcamp/.venv/lib/python3.9/site-packages/tensorflow/python/autograph/utils/context_managers.py\", line 19, in <module>\n",
      "    from tensorflow.python.framework import ops\n",
      "  File \"/Users/light/WORKSPACE/TensorFlow_for_Deep_Learning_Bootcamp/.venv/lib/python3.9/site-packages/tensorflow/python/framework/ops.py\", line 50, in <module>\n",
      "    from tensorflow.python.eager import context\n",
      "  File \"/Users/light/WORKSPACE/TensorFlow_for_Deep_Learning_Bootcamp/.venv/lib/python3.9/site-packages/tensorflow/python/eager/context.py\", line 37, in <module>\n",
      "    from tensorflow.python.eager import execute\n",
      "  File \"/Users/light/WORKSPACE/TensorFlow_for_Deep_Learning_Bootcamp/.venv/lib/python3.9/site-packages/tensorflow/python/eager/execute.py\", line 21, in <module>\n",
      "    from tensorflow.python.framework import dtypes\n",
      "  File \"/Users/light/WORKSPACE/TensorFlow_for_Deep_Learning_Bootcamp/.venv/lib/python3.9/site-packages/tensorflow/python/framework/dtypes.py\", line 21, in <module>\n",
      "    import ml_dtypes\n",
      "  File \"/Users/light/WORKSPACE/TensorFlow_for_Deep_Learning_Bootcamp/.venv/lib/python3.9/site-packages/ml_dtypes/__init__.py\", line 32, in <module>\n",
      "    from ml_dtypes._finfo import finfo\n",
      "  File \"/Users/light/WORKSPACE/TensorFlow_for_Deep_Learning_Bootcamp/.venv/lib/python3.9/site-packages/ml_dtypes/_finfo.py\", line 19, in <module>\n",
      "    from ml_dtypes._ml_dtypes_ext import bfloat16\n"
     ]
    },
    {
     "ename": "AttributeError",
     "evalue": "_ARRAY_API not found",
     "output_type": "error",
     "traceback": [
      "\u001B[0;31m---------------------------------------------------------------------------\u001B[0m",
      "\u001B[0;31mAttributeError\u001B[0m                            Traceback (most recent call last)",
      "\u001B[0;31mAttributeError\u001B[0m: _ARRAY_API not found"
     ]
    },
    {
     "name": "stderr",
     "output_type": "stream",
     "text": [
      "\n",
      "A module that was compiled using NumPy 1.x cannot be run in\n",
      "NumPy 2.0.2 as it may crash. To support both 1.x and 2.x\n",
      "versions of NumPy, modules must be compiled with NumPy 2.0.\n",
      "Some module may need to rebuild instead e.g. with 'pybind11>=2.12'.\n",
      "\n",
      "If you are a user of the module, the easiest solution will be to\n",
      "downgrade to 'numpy<2' or try to upgrade the affected module.\n",
      "We expect that some modules will need time to support NumPy 2.\n",
      "\n",
      "Traceback (most recent call last):  File \"/Library/Developer/CommandLineTools/Library/Frameworks/Python3.framework/Versions/3.9/lib/python3.9/runpy.py\", line 197, in _run_module_as_main\n",
      "    return _run_code(code, main_globals, None,\n",
      "  File \"/Library/Developer/CommandLineTools/Library/Frameworks/Python3.framework/Versions/3.9/lib/python3.9/runpy.py\", line 87, in _run_code\n",
      "    exec(code, run_globals)\n",
      "  File \"/Users/light/WORKSPACE/TensorFlow_for_Deep_Learning_Bootcamp/.venv/lib/python3.9/site-packages/ipykernel_launcher.py\", line 18, in <module>\n",
      "    app.launch_new_instance()\n",
      "  File \"/Users/light/WORKSPACE/TensorFlow_for_Deep_Learning_Bootcamp/.venv/lib/python3.9/site-packages/traitlets/config/application.py\", line 1075, in launch_instance\n",
      "    app.start()\n",
      "  File \"/Users/light/WORKSPACE/TensorFlow_for_Deep_Learning_Bootcamp/.venv/lib/python3.9/site-packages/ipykernel/kernelapp.py\", line 739, in start\n",
      "    self.io_loop.start()\n",
      "  File \"/Users/light/WORKSPACE/TensorFlow_for_Deep_Learning_Bootcamp/.venv/lib/python3.9/site-packages/tornado/platform/asyncio.py\", line 205, in start\n",
      "    self.asyncio_loop.run_forever()\n",
      "  File \"/Library/Developer/CommandLineTools/Library/Frameworks/Python3.framework/Versions/3.9/lib/python3.9/asyncio/base_events.py\", line 596, in run_forever\n",
      "    self._run_once()\n",
      "  File \"/Library/Developer/CommandLineTools/Library/Frameworks/Python3.framework/Versions/3.9/lib/python3.9/asyncio/base_events.py\", line 1890, in _run_once\n",
      "    handle._run()\n",
      "  File \"/Library/Developer/CommandLineTools/Library/Frameworks/Python3.framework/Versions/3.9/lib/python3.9/asyncio/events.py\", line 80, in _run\n",
      "    self._context.run(self._callback, *self._args)\n",
      "  File \"/Users/light/WORKSPACE/TensorFlow_for_Deep_Learning_Bootcamp/.venv/lib/python3.9/site-packages/ipykernel/kernelbase.py\", line 545, in dispatch_queue\n",
      "    await self.process_one()\n",
      "  File \"/Users/light/WORKSPACE/TensorFlow_for_Deep_Learning_Bootcamp/.venv/lib/python3.9/site-packages/ipykernel/kernelbase.py\", line 534, in process_one\n",
      "    await dispatch(*args)\n",
      "  File \"/Users/light/WORKSPACE/TensorFlow_for_Deep_Learning_Bootcamp/.venv/lib/python3.9/site-packages/ipykernel/kernelbase.py\", line 437, in dispatch_shell\n",
      "    await result\n",
      "  File \"/Users/light/WORKSPACE/TensorFlow_for_Deep_Learning_Bootcamp/.venv/lib/python3.9/site-packages/ipykernel/ipkernel.py\", line 362, in execute_request\n",
      "    await super().execute_request(stream, ident, parent)\n",
      "  File \"/Users/light/WORKSPACE/TensorFlow_for_Deep_Learning_Bootcamp/.venv/lib/python3.9/site-packages/ipykernel/kernelbase.py\", line 778, in execute_request\n",
      "    reply_content = await reply_content\n",
      "  File \"/Users/light/WORKSPACE/TensorFlow_for_Deep_Learning_Bootcamp/.venv/lib/python3.9/site-packages/ipykernel/ipkernel.py\", line 449, in do_execute\n",
      "    res = shell.run_cell(\n",
      "  File \"/Users/light/WORKSPACE/TensorFlow_for_Deep_Learning_Bootcamp/.venv/lib/python3.9/site-packages/ipykernel/zmqshell.py\", line 549, in run_cell\n",
      "    return super().run_cell(*args, **kwargs)\n",
      "  File \"/Users/light/WORKSPACE/TensorFlow_for_Deep_Learning_Bootcamp/.venv/lib/python3.9/site-packages/IPython/core/interactiveshell.py\", line 3048, in run_cell\n",
      "    result = self._run_cell(\n",
      "  File \"/Users/light/WORKSPACE/TensorFlow_for_Deep_Learning_Bootcamp/.venv/lib/python3.9/site-packages/IPython/core/interactiveshell.py\", line 3103, in _run_cell\n",
      "    result = runner(coro)\n",
      "  File \"/Users/light/WORKSPACE/TensorFlow_for_Deep_Learning_Bootcamp/.venv/lib/python3.9/site-packages/IPython/core/async_helpers.py\", line 129, in _pseudo_sync_runner\n",
      "    coro.send(None)\n",
      "  File \"/Users/light/WORKSPACE/TensorFlow_for_Deep_Learning_Bootcamp/.venv/lib/python3.9/site-packages/IPython/core/interactiveshell.py\", line 3308, in run_cell_async\n",
      "    has_raised = await self.run_ast_nodes(code_ast.body, cell_name,\n",
      "  File \"/Users/light/WORKSPACE/TensorFlow_for_Deep_Learning_Bootcamp/.venv/lib/python3.9/site-packages/IPython/core/interactiveshell.py\", line 3490, in run_ast_nodes\n",
      "    if await self.run_code(code, result, async_=asy):\n",
      "  File \"/Users/light/WORKSPACE/TensorFlow_for_Deep_Learning_Bootcamp/.venv/lib/python3.9/site-packages/IPython/core/interactiveshell.py\", line 3550, in run_code\n",
      "    exec(code_obj, self.user_global_ns, self.user_ns)\n",
      "  File \"/var/folders/ts/1s_j7lh959b7bwmjd6j26b480000gn/T/ipykernel_62771/2515278119.py\", line 1, in <module>\n",
      "    import plot_model\n",
      "  File \"/Users/light/WORKSPACE/TensorFlow_for_Deep_Learning_Bootcamp/.venv/lib/python3.9/site-packages/plot_model/__init__.py\", line 1, in <module>\n",
      "    from .plot_model import plot_model\n",
      "  File \"/Users/light/WORKSPACE/TensorFlow_for_Deep_Learning_Bootcamp/.venv/lib/python3.9/site-packages/plot_model/plot_model.py\", line 10, in <module>\n",
      "    from tensorflow.python.util import nest\n",
      "  File \"/Users/light/WORKSPACE/TensorFlow_for_Deep_Learning_Bootcamp/.venv/lib/python3.9/site-packages/tensorflow/python/util/nest.py\", line 93, in <module>\n",
      "    from tensorflow.python.util import _pywrap_nest\n",
      "  File \"/Users/light/WORKSPACE/TensorFlow_for_Deep_Learning_Bootcamp/.venv/lib/python3.9/site-packages/tensorflow/__init__.py\", line 45, in <module>\n",
      "    from tensorflow._api.v2 import __internal__\n",
      "  File \"/Users/light/WORKSPACE/TensorFlow_for_Deep_Learning_Bootcamp/.venv/lib/python3.9/site-packages/tensorflow/_api/v2/__internal__/__init__.py\", line 8, in <module>\n",
      "    from tensorflow._api.v2.__internal__ import autograph\n",
      "  File \"/Users/light/WORKSPACE/TensorFlow_for_Deep_Learning_Bootcamp/.venv/lib/python3.9/site-packages/tensorflow/_api/v2/__internal__/autograph/__init__.py\", line 8, in <module>\n",
      "    from tensorflow.python.autograph.core.ag_ctx import control_status_ctx # line: 34\n",
      "  File \"/Users/light/WORKSPACE/TensorFlow_for_Deep_Learning_Bootcamp/.venv/lib/python3.9/site-packages/tensorflow/python/autograph/core/ag_ctx.py\", line 21, in <module>\n",
      "    from tensorflow.python.autograph.utils import ag_logging\n",
      "  File \"/Users/light/WORKSPACE/TensorFlow_for_Deep_Learning_Bootcamp/.venv/lib/python3.9/site-packages/tensorflow/python/autograph/utils/__init__.py\", line 17, in <module>\n",
      "    from tensorflow.python.autograph.utils.context_managers import control_dependency_on_returns\n",
      "  File \"/Users/light/WORKSPACE/TensorFlow_for_Deep_Learning_Bootcamp/.venv/lib/python3.9/site-packages/tensorflow/python/autograph/utils/context_managers.py\", line 19, in <module>\n",
      "    from tensorflow.python.framework import ops\n",
      "  File \"/Users/light/WORKSPACE/TensorFlow_for_Deep_Learning_Bootcamp/.venv/lib/python3.9/site-packages/tensorflow/python/framework/ops.py\", line 50, in <module>\n",
      "    from tensorflow.python.eager import context\n",
      "  File \"/Users/light/WORKSPACE/TensorFlow_for_Deep_Learning_Bootcamp/.venv/lib/python3.9/site-packages/tensorflow/python/eager/context.py\", line 37, in <module>\n",
      "    from tensorflow.python.eager import execute\n",
      "  File \"/Users/light/WORKSPACE/TensorFlow_for_Deep_Learning_Bootcamp/.venv/lib/python3.9/site-packages/tensorflow/python/eager/execute.py\", line 21, in <module>\n",
      "    from tensorflow.python.framework import dtypes\n",
      "  File \"/Users/light/WORKSPACE/TensorFlow_for_Deep_Learning_Bootcamp/.venv/lib/python3.9/site-packages/tensorflow/python/framework/dtypes.py\", line 21, in <module>\n",
      "    import ml_dtypes\n",
      "  File \"/Users/light/WORKSPACE/TensorFlow_for_Deep_Learning_Bootcamp/.venv/lib/python3.9/site-packages/ml_dtypes/__init__.py\", line 32, in <module>\n",
      "    from ml_dtypes._finfo import finfo\n",
      "  File \"/Users/light/WORKSPACE/TensorFlow_for_Deep_Learning_Bootcamp/.venv/lib/python3.9/site-packages/ml_dtypes/_finfo.py\", line 19, in <module>\n",
      "    from ml_dtypes._ml_dtypes_ext import bfloat16\n"
     ]
    },
    {
     "ename": "AttributeError",
     "evalue": "_UFUNC_API not found",
     "output_type": "error",
     "traceback": [
      "\u001B[0;31m---------------------------------------------------------------------------\u001B[0m",
      "\u001B[0;31mAttributeError\u001B[0m                            Traceback (most recent call last)",
      "\u001B[0;31mAttributeError\u001B[0m: _UFUNC_API not found"
     ]
    },
    {
     "ename": "ImportError",
     "evalue": "numpy.core.umath failed to import",
     "output_type": "error",
     "traceback": [
      "\u001B[0;31m---------------------------------------------------------------------------\u001B[0m",
      "\u001B[0;31mImportError\u001B[0m                               Traceback (most recent call last)",
      "Cell \u001B[0;32mIn[2], line 1\u001B[0m\n\u001B[0;32m----> 1\u001B[0m \u001B[38;5;28;01mimport\u001B[39;00m\u001B[38;5;250m \u001B[39m\u001B[38;5;21;01mplot_model\u001B[39;00m\n\u001B[1;32m      2\u001B[0m \u001B[38;5;28;01mfrom\u001B[39;00m\u001B[38;5;250m \u001B[39m\u001B[38;5;21;01mkeras\u001B[39;00m\u001B[38;5;21;01m.\u001B[39;00m\u001B[38;5;21;01msrc\u001B[39;00m\u001B[38;5;21;01m.\u001B[39;00m\u001B[38;5;21;01mlayers\u001B[39;00m\u001B[38;5;250m \u001B[39m\u001B[38;5;28;01mimport\u001B[39;00m Wrapper\n\u001B[1;32m      5\u001B[0m model5 \u001B[38;5;241m=\u001B[39m ks\u001B[38;5;241m.\u001B[39mSequential()\n",
      "File \u001B[0;32m~/WORKSPACE/TensorFlow_for_Deep_Learning_Bootcamp/.venv/lib/python3.9/site-packages/plot_model/__init__.py:1\u001B[0m\n\u001B[0;32m----> 1\u001B[0m \u001B[38;5;28;01mfrom\u001B[39;00m\u001B[38;5;250m \u001B[39m\u001B[38;5;21;01m.\u001B[39;00m\u001B[38;5;21;01mplot_model\u001B[39;00m\u001B[38;5;250m \u001B[39m\u001B[38;5;28;01mimport\u001B[39;00m plot_model\n",
      "File \u001B[0;32m~/WORKSPACE/TensorFlow_for_Deep_Learning_Bootcamp/.venv/lib/python3.9/site-packages/plot_model/plot_model.py:10\u001B[0m\n\u001B[1;32m      8\u001B[0m \u001B[38;5;28;01mimport\u001B[39;00m\u001B[38;5;250m \u001B[39m\u001B[38;5;21;01msys\u001B[39;00m\n\u001B[1;32m      9\u001B[0m \u001B[38;5;28;01mimport\u001B[39;00m\u001B[38;5;250m \u001B[39m\u001B[38;5;21;01mre\u001B[39;00m\n\u001B[0;32m---> 10\u001B[0m \u001B[38;5;28;01mfrom\u001B[39;00m\u001B[38;5;250m \u001B[39m\u001B[38;5;21;01mtensorflow\u001B[39;00m\u001B[38;5;21;01m.\u001B[39;00m\u001B[38;5;21;01mpython\u001B[39;00m\u001B[38;5;21;01m.\u001B[39;00m\u001B[38;5;21;01mutil\u001B[39;00m\u001B[38;5;250m \u001B[39m\u001B[38;5;28;01mimport\u001B[39;00m nest\n\u001B[1;32m     11\u001B[0m \u001B[38;5;28;01mfrom\u001B[39;00m\u001B[38;5;250m \u001B[39m\u001B[38;5;21;01mtensorflow\u001B[39;00m\u001B[38;5;21;01m.\u001B[39;00m\u001B[38;5;21;01mpython\u001B[39;00m\u001B[38;5;21;01m.\u001B[39;00m\u001B[38;5;21;01mutil\u001B[39;00m\u001B[38;5;21;01m.\u001B[39;00m\u001B[38;5;21;01mtf_export\u001B[39;00m\u001B[38;5;250m \u001B[39m\u001B[38;5;28;01mimport\u001B[39;00m keras_export\n\u001B[1;32m     14\u001B[0m \u001B[38;5;28;01mtry\u001B[39;00m:\n\u001B[1;32m     15\u001B[0m   \u001B[38;5;66;03m# pydot-ng is a fork of pydot that is better maintained.\u001B[39;00m\n",
      "File \u001B[0;32m~/WORKSPACE/TensorFlow_for_Deep_Learning_Bootcamp/.venv/lib/python3.9/site-packages/tensorflow/python/util/nest.py:93\u001B[0m\n\u001B[1;32m      1\u001B[0m \u001B[38;5;66;03m# Copyright 2021 The TensorFlow Authors. All Rights Reserved.\u001B[39;00m\n\u001B[1;32m      2\u001B[0m \u001B[38;5;66;03m#\u001B[39;00m\n\u001B[1;32m      3\u001B[0m \u001B[38;5;66;03m# Licensed under the Apache License, Version 2.0 (the \"License\");\u001B[39;00m\n\u001B[0;32m   (...)\u001B[0m\n\u001B[1;32m     13\u001B[0m \u001B[38;5;66;03m# limitations under the License.\u001B[39;00m\n\u001B[1;32m     14\u001B[0m \u001B[38;5;66;03m# ==============================================================================\u001B[39;00m\n\u001B[1;32m     16\u001B[0m \u001B[38;5;124;03m\"\"\"Functions that work with structures.\u001B[39;00m\n\u001B[1;32m     17\u001B[0m \n\u001B[1;32m     18\u001B[0m \u001B[38;5;124;03mA structure is either:\u001B[39;00m\n\u001B[0;32m   (...)\u001B[0m\n\u001B[1;32m     90\u001B[0m \u001B[38;5;124;03mAPI docstring: tensorflow.nest\u001B[39;00m\n\u001B[1;32m     91\u001B[0m \u001B[38;5;124;03m\"\"\"\u001B[39;00m\n\u001B[0;32m---> 93\u001B[0m \u001B[38;5;28;01mfrom\u001B[39;00m\u001B[38;5;250m \u001B[39m\u001B[38;5;21;01mtensorflow\u001B[39;00m\u001B[38;5;21;01m.\u001B[39;00m\u001B[38;5;21;01mpython\u001B[39;00m\u001B[38;5;21;01m.\u001B[39;00m\u001B[38;5;21;01mutil\u001B[39;00m\u001B[38;5;250m \u001B[39m\u001B[38;5;28;01mimport\u001B[39;00m _pywrap_nest\n\u001B[1;32m     94\u001B[0m \u001B[38;5;28;01mfrom\u001B[39;00m\u001B[38;5;250m \u001B[39m\u001B[38;5;21;01mtensorflow\u001B[39;00m\u001B[38;5;21;01m.\u001B[39;00m\u001B[38;5;21;01mpython\u001B[39;00m\u001B[38;5;21;01m.\u001B[39;00m\u001B[38;5;21;01mutil\u001B[39;00m\u001B[38;5;250m \u001B[39m\u001B[38;5;28;01mimport\u001B[39;00m _pywrap_utils\n\u001B[1;32m     95\u001B[0m \u001B[38;5;28;01mfrom\u001B[39;00m\u001B[38;5;250m \u001B[39m\u001B[38;5;21;01mtensorflow\u001B[39;00m\u001B[38;5;21;01m.\u001B[39;00m\u001B[38;5;21;01mpython\u001B[39;00m\u001B[38;5;21;01m.\u001B[39;00m\u001B[38;5;21;01mutil\u001B[39;00m\u001B[38;5;250m \u001B[39m\u001B[38;5;28;01mimport\u001B[39;00m nest_util\n",
      "File \u001B[0;32m~/WORKSPACE/TensorFlow_for_Deep_Learning_Bootcamp/.venv/lib/python3.9/site-packages/tensorflow/__init__.py:45\u001B[0m\n\u001B[1;32m     42\u001B[0m \u001B[38;5;28;01mfrom\u001B[39;00m\u001B[38;5;250m \u001B[39m\u001B[38;5;21;01mtensorflow\u001B[39;00m\u001B[38;5;21;01m.\u001B[39;00m\u001B[38;5;21;01mpython\u001B[39;00m\u001B[38;5;250m \u001B[39m\u001B[38;5;28;01mimport\u001B[39;00m tf2 \u001B[38;5;28;01mas\u001B[39;00m _tf2\n\u001B[1;32m     43\u001B[0m _tf2\u001B[38;5;241m.\u001B[39menable()\n\u001B[0;32m---> 45\u001B[0m \u001B[38;5;28;01mfrom\u001B[39;00m\u001B[38;5;250m \u001B[39m\u001B[38;5;21;01mtensorflow\u001B[39;00m\u001B[38;5;21;01m.\u001B[39;00m\u001B[38;5;21;01m_api\u001B[39;00m\u001B[38;5;21;01m.\u001B[39;00m\u001B[38;5;21;01mv2\u001B[39;00m\u001B[38;5;250m \u001B[39m\u001B[38;5;28;01mimport\u001B[39;00m __internal__\n\u001B[1;32m     46\u001B[0m \u001B[38;5;28;01mfrom\u001B[39;00m\u001B[38;5;250m \u001B[39m\u001B[38;5;21;01mtensorflow\u001B[39;00m\u001B[38;5;21;01m.\u001B[39;00m\u001B[38;5;21;01m_api\u001B[39;00m\u001B[38;5;21;01m.\u001B[39;00m\u001B[38;5;21;01mv2\u001B[39;00m\u001B[38;5;250m \u001B[39m\u001B[38;5;28;01mimport\u001B[39;00m __operators__\n\u001B[1;32m     47\u001B[0m \u001B[38;5;28;01mfrom\u001B[39;00m\u001B[38;5;250m \u001B[39m\u001B[38;5;21;01mtensorflow\u001B[39;00m\u001B[38;5;21;01m.\u001B[39;00m\u001B[38;5;21;01m_api\u001B[39;00m\u001B[38;5;21;01m.\u001B[39;00m\u001B[38;5;21;01mv2\u001B[39;00m\u001B[38;5;250m \u001B[39m\u001B[38;5;28;01mimport\u001B[39;00m audio\n",
      "File \u001B[0;32m~/WORKSPACE/TensorFlow_for_Deep_Learning_Bootcamp/.venv/lib/python3.9/site-packages/tensorflow/_api/v2/__internal__/__init__.py:8\u001B[0m\n\u001B[1;32m      3\u001B[0m \u001B[38;5;124;03m\"\"\"Public API for tf._api.v2.__internal__ namespace\u001B[39;00m\n\u001B[1;32m      4\u001B[0m \u001B[38;5;124;03m\"\"\"\u001B[39;00m\n\u001B[1;32m      6\u001B[0m \u001B[38;5;28;01mimport\u001B[39;00m\u001B[38;5;250m \u001B[39m\u001B[38;5;21;01msys\u001B[39;00m\u001B[38;5;250m \u001B[39m\u001B[38;5;28;01mas\u001B[39;00m\u001B[38;5;250m \u001B[39m\u001B[38;5;21;01m_sys\u001B[39;00m\n\u001B[0;32m----> 8\u001B[0m \u001B[38;5;28;01mfrom\u001B[39;00m\u001B[38;5;250m \u001B[39m\u001B[38;5;21;01mtensorflow\u001B[39;00m\u001B[38;5;21;01m.\u001B[39;00m\u001B[38;5;21;01m_api\u001B[39;00m\u001B[38;5;21;01m.\u001B[39;00m\u001B[38;5;21;01mv2\u001B[39;00m\u001B[38;5;21;01m.\u001B[39;00m\u001B[38;5;21;01m__internal__\u001B[39;00m\u001B[38;5;250m \u001B[39m\u001B[38;5;28;01mimport\u001B[39;00m autograph\n\u001B[1;32m      9\u001B[0m \u001B[38;5;28;01mfrom\u001B[39;00m\u001B[38;5;250m \u001B[39m\u001B[38;5;21;01mtensorflow\u001B[39;00m\u001B[38;5;21;01m.\u001B[39;00m\u001B[38;5;21;01m_api\u001B[39;00m\u001B[38;5;21;01m.\u001B[39;00m\u001B[38;5;21;01mv2\u001B[39;00m\u001B[38;5;21;01m.\u001B[39;00m\u001B[38;5;21;01m__internal__\u001B[39;00m\u001B[38;5;250m \u001B[39m\u001B[38;5;28;01mimport\u001B[39;00m decorator\n\u001B[1;32m     10\u001B[0m \u001B[38;5;28;01mfrom\u001B[39;00m\u001B[38;5;250m \u001B[39m\u001B[38;5;21;01mtensorflow\u001B[39;00m\u001B[38;5;21;01m.\u001B[39;00m\u001B[38;5;21;01m_api\u001B[39;00m\u001B[38;5;21;01m.\u001B[39;00m\u001B[38;5;21;01mv2\u001B[39;00m\u001B[38;5;21;01m.\u001B[39;00m\u001B[38;5;21;01m__internal__\u001B[39;00m\u001B[38;5;250m \u001B[39m\u001B[38;5;28;01mimport\u001B[39;00m dispatch\n",
      "File \u001B[0;32m~/WORKSPACE/TensorFlow_for_Deep_Learning_Bootcamp/.venv/lib/python3.9/site-packages/tensorflow/_api/v2/__internal__/autograph/__init__.py:8\u001B[0m\n\u001B[1;32m      3\u001B[0m \u001B[38;5;124;03m\"\"\"Public API for tf._api.v2.__internal__.autograph namespace\u001B[39;00m\n\u001B[1;32m      4\u001B[0m \u001B[38;5;124;03m\"\"\"\u001B[39;00m\n\u001B[1;32m      6\u001B[0m \u001B[38;5;28;01mimport\u001B[39;00m\u001B[38;5;250m \u001B[39m\u001B[38;5;21;01msys\u001B[39;00m\u001B[38;5;250m \u001B[39m\u001B[38;5;28;01mas\u001B[39;00m\u001B[38;5;250m \u001B[39m\u001B[38;5;21;01m_sys\u001B[39;00m\n\u001B[0;32m----> 8\u001B[0m \u001B[38;5;28;01mfrom\u001B[39;00m\u001B[38;5;250m \u001B[39m\u001B[38;5;21;01mtensorflow\u001B[39;00m\u001B[38;5;21;01m.\u001B[39;00m\u001B[38;5;21;01mpython\u001B[39;00m\u001B[38;5;21;01m.\u001B[39;00m\u001B[38;5;21;01mautograph\u001B[39;00m\u001B[38;5;21;01m.\u001B[39;00m\u001B[38;5;21;01mcore\u001B[39;00m\u001B[38;5;21;01m.\u001B[39;00m\u001B[38;5;21;01mag_ctx\u001B[39;00m\u001B[38;5;250m \u001B[39m\u001B[38;5;28;01mimport\u001B[39;00m control_status_ctx \u001B[38;5;66;03m# line: 34\u001B[39;00m\n\u001B[1;32m      9\u001B[0m \u001B[38;5;28;01mfrom\u001B[39;00m\u001B[38;5;250m \u001B[39m\u001B[38;5;21;01mtensorflow\u001B[39;00m\u001B[38;5;21;01m.\u001B[39;00m\u001B[38;5;21;01mpython\u001B[39;00m\u001B[38;5;21;01m.\u001B[39;00m\u001B[38;5;21;01mautograph\u001B[39;00m\u001B[38;5;21;01m.\u001B[39;00m\u001B[38;5;21;01mimpl\u001B[39;00m\u001B[38;5;21;01m.\u001B[39;00m\u001B[38;5;21;01mapi\u001B[39;00m\u001B[38;5;250m \u001B[39m\u001B[38;5;28;01mimport\u001B[39;00m tf_convert \u001B[38;5;66;03m# line: 493\u001B[39;00m\n",
      "File \u001B[0;32m~/WORKSPACE/TensorFlow_for_Deep_Learning_Bootcamp/.venv/lib/python3.9/site-packages/tensorflow/python/autograph/core/ag_ctx.py:21\u001B[0m\n\u001B[1;32m     18\u001B[0m \u001B[38;5;28;01mimport\u001B[39;00m\u001B[38;5;250m \u001B[39m\u001B[38;5;21;01minspect\u001B[39;00m\n\u001B[1;32m     19\u001B[0m \u001B[38;5;28;01mimport\u001B[39;00m\u001B[38;5;250m \u001B[39m\u001B[38;5;21;01mthreading\u001B[39;00m\n\u001B[0;32m---> 21\u001B[0m \u001B[38;5;28;01mfrom\u001B[39;00m\u001B[38;5;250m \u001B[39m\u001B[38;5;21;01mtensorflow\u001B[39;00m\u001B[38;5;21;01m.\u001B[39;00m\u001B[38;5;21;01mpython\u001B[39;00m\u001B[38;5;21;01m.\u001B[39;00m\u001B[38;5;21;01mautograph\u001B[39;00m\u001B[38;5;21;01m.\u001B[39;00m\u001B[38;5;21;01mutils\u001B[39;00m\u001B[38;5;250m \u001B[39m\u001B[38;5;28;01mimport\u001B[39;00m ag_logging\n\u001B[1;32m     22\u001B[0m \u001B[38;5;28;01mfrom\u001B[39;00m\u001B[38;5;250m \u001B[39m\u001B[38;5;21;01mtensorflow\u001B[39;00m\u001B[38;5;21;01m.\u001B[39;00m\u001B[38;5;21;01mpython\u001B[39;00m\u001B[38;5;21;01m.\u001B[39;00m\u001B[38;5;21;01mutil\u001B[39;00m\u001B[38;5;21;01m.\u001B[39;00m\u001B[38;5;21;01mtf_export\u001B[39;00m\u001B[38;5;250m \u001B[39m\u001B[38;5;28;01mimport\u001B[39;00m tf_export\n\u001B[1;32m     25\u001B[0m stacks \u001B[38;5;241m=\u001B[39m threading\u001B[38;5;241m.\u001B[39mlocal()\n",
      "File \u001B[0;32m~/WORKSPACE/TensorFlow_for_Deep_Learning_Bootcamp/.venv/lib/python3.9/site-packages/tensorflow/python/autograph/utils/__init__.py:17\u001B[0m\n\u001B[1;32m      1\u001B[0m \u001B[38;5;66;03m# Copyright 2016 The TensorFlow Authors. All Rights Reserved.\u001B[39;00m\n\u001B[1;32m      2\u001B[0m \u001B[38;5;66;03m#\u001B[39;00m\n\u001B[1;32m      3\u001B[0m \u001B[38;5;66;03m# Licensed under the Apache License, Version 2.0 (the \"License\");\u001B[39;00m\n\u001B[0;32m   (...)\u001B[0m\n\u001B[1;32m     13\u001B[0m \u001B[38;5;66;03m# limitations under the License.\u001B[39;00m\n\u001B[1;32m     14\u001B[0m \u001B[38;5;66;03m# ==============================================================================\u001B[39;00m\n\u001B[1;32m     15\u001B[0m \u001B[38;5;124;03m\"\"\"Utility module that contains APIs usable in the generated code.\"\"\"\u001B[39;00m\n\u001B[0;32m---> 17\u001B[0m \u001B[38;5;28;01mfrom\u001B[39;00m\u001B[38;5;250m \u001B[39m\u001B[38;5;21;01mtensorflow\u001B[39;00m\u001B[38;5;21;01m.\u001B[39;00m\u001B[38;5;21;01mpython\u001B[39;00m\u001B[38;5;21;01m.\u001B[39;00m\u001B[38;5;21;01mautograph\u001B[39;00m\u001B[38;5;21;01m.\u001B[39;00m\u001B[38;5;21;01mutils\u001B[39;00m\u001B[38;5;21;01m.\u001B[39;00m\u001B[38;5;21;01mcontext_managers\u001B[39;00m\u001B[38;5;250m \u001B[39m\u001B[38;5;28;01mimport\u001B[39;00m control_dependency_on_returns\n\u001B[1;32m     18\u001B[0m \u001B[38;5;28;01mfrom\u001B[39;00m\u001B[38;5;250m \u001B[39m\u001B[38;5;21;01mtensorflow\u001B[39;00m\u001B[38;5;21;01m.\u001B[39;00m\u001B[38;5;21;01mpython\u001B[39;00m\u001B[38;5;21;01m.\u001B[39;00m\u001B[38;5;21;01mautograph\u001B[39;00m\u001B[38;5;21;01m.\u001B[39;00m\u001B[38;5;21;01mutils\u001B[39;00m\u001B[38;5;21;01m.\u001B[39;00m\u001B[38;5;21;01mmisc\u001B[39;00m\u001B[38;5;250m \u001B[39m\u001B[38;5;28;01mimport\u001B[39;00m alias_tensors\n\u001B[1;32m     19\u001B[0m \u001B[38;5;28;01mfrom\u001B[39;00m\u001B[38;5;250m \u001B[39m\u001B[38;5;21;01mtensorflow\u001B[39;00m\u001B[38;5;21;01m.\u001B[39;00m\u001B[38;5;21;01mpython\u001B[39;00m\u001B[38;5;21;01m.\u001B[39;00m\u001B[38;5;21;01mautograph\u001B[39;00m\u001B[38;5;21;01m.\u001B[39;00m\u001B[38;5;21;01mutils\u001B[39;00m\u001B[38;5;21;01m.\u001B[39;00m\u001B[38;5;21;01mtensor_list\u001B[39;00m\u001B[38;5;250m \u001B[39m\u001B[38;5;28;01mimport\u001B[39;00m dynamic_list_append\n",
      "File \u001B[0;32m~/WORKSPACE/TensorFlow_for_Deep_Learning_Bootcamp/.venv/lib/python3.9/site-packages/tensorflow/python/autograph/utils/context_managers.py:19\u001B[0m\n\u001B[1;32m     15\u001B[0m \u001B[38;5;124;03m\"\"\"Various context managers.\"\"\"\u001B[39;00m\n\u001B[1;32m     17\u001B[0m \u001B[38;5;28;01mimport\u001B[39;00m\u001B[38;5;250m \u001B[39m\u001B[38;5;21;01mcontextlib\u001B[39;00m\n\u001B[0;32m---> 19\u001B[0m \u001B[38;5;28;01mfrom\u001B[39;00m\u001B[38;5;250m \u001B[39m\u001B[38;5;21;01mtensorflow\u001B[39;00m\u001B[38;5;21;01m.\u001B[39;00m\u001B[38;5;21;01mpython\u001B[39;00m\u001B[38;5;21;01m.\u001B[39;00m\u001B[38;5;21;01mframework\u001B[39;00m\u001B[38;5;250m \u001B[39m\u001B[38;5;28;01mimport\u001B[39;00m ops\n\u001B[1;32m     20\u001B[0m \u001B[38;5;28;01mfrom\u001B[39;00m\u001B[38;5;250m \u001B[39m\u001B[38;5;21;01mtensorflow\u001B[39;00m\u001B[38;5;21;01m.\u001B[39;00m\u001B[38;5;21;01mpython\u001B[39;00m\u001B[38;5;21;01m.\u001B[39;00m\u001B[38;5;21;01mops\u001B[39;00m\u001B[38;5;250m \u001B[39m\u001B[38;5;28;01mimport\u001B[39;00m tensor_array_ops\n\u001B[1;32m     23\u001B[0m \u001B[38;5;28;01mdef\u001B[39;00m\u001B[38;5;250m \u001B[39m\u001B[38;5;21mcontrol_dependency_on_returns\u001B[39m(return_value):\n",
      "File \u001B[0;32m~/WORKSPACE/TensorFlow_for_Deep_Learning_Bootcamp/.venv/lib/python3.9/site-packages/tensorflow/python/framework/ops.py:50\u001B[0m\n\u001B[1;32m     48\u001B[0m \u001B[38;5;28;01mfrom\u001B[39;00m\u001B[38;5;250m \u001B[39m\u001B[38;5;21;01mtensorflow\u001B[39;00m\u001B[38;5;21;01m.\u001B[39;00m\u001B[38;5;21;01mpython\u001B[39;00m\u001B[38;5;250m \u001B[39m\u001B[38;5;28;01mimport\u001B[39;00m tf2\n\u001B[1;32m     49\u001B[0m \u001B[38;5;28;01mfrom\u001B[39;00m\u001B[38;5;250m \u001B[39m\u001B[38;5;21;01mtensorflow\u001B[39;00m\u001B[38;5;21;01m.\u001B[39;00m\u001B[38;5;21;01mpython\u001B[39;00m\u001B[38;5;21;01m.\u001B[39;00m\u001B[38;5;21;01mclient\u001B[39;00m\u001B[38;5;250m \u001B[39m\u001B[38;5;28;01mimport\u001B[39;00m pywrap_tf_session\n\u001B[0;32m---> 50\u001B[0m \u001B[38;5;28;01mfrom\u001B[39;00m\u001B[38;5;250m \u001B[39m\u001B[38;5;21;01mtensorflow\u001B[39;00m\u001B[38;5;21;01m.\u001B[39;00m\u001B[38;5;21;01mpython\u001B[39;00m\u001B[38;5;21;01m.\u001B[39;00m\u001B[38;5;21;01meager\u001B[39;00m\u001B[38;5;250m \u001B[39m\u001B[38;5;28;01mimport\u001B[39;00m context\n\u001B[1;32m     51\u001B[0m \u001B[38;5;28;01mfrom\u001B[39;00m\u001B[38;5;250m \u001B[39m\u001B[38;5;21;01mtensorflow\u001B[39;00m\u001B[38;5;21;01m.\u001B[39;00m\u001B[38;5;21;01mpython\u001B[39;00m\u001B[38;5;21;01m.\u001B[39;00m\u001B[38;5;21;01meager\u001B[39;00m\u001B[38;5;250m \u001B[39m\u001B[38;5;28;01mimport\u001B[39;00m core\n\u001B[1;32m     52\u001B[0m \u001B[38;5;28;01mfrom\u001B[39;00m\u001B[38;5;250m \u001B[39m\u001B[38;5;21;01mtensorflow\u001B[39;00m\u001B[38;5;21;01m.\u001B[39;00m\u001B[38;5;21;01mpython\u001B[39;00m\u001B[38;5;21;01m.\u001B[39;00m\u001B[38;5;21;01meager\u001B[39;00m\u001B[38;5;250m \u001B[39m\u001B[38;5;28;01mimport\u001B[39;00m monitoring\n",
      "File \u001B[0;32m~/WORKSPACE/TensorFlow_for_Deep_Learning_Bootcamp/.venv/lib/python3.9/site-packages/tensorflow/python/eager/context.py:37\u001B[0m\n\u001B[1;32m     35\u001B[0m \u001B[38;5;28;01mfrom\u001B[39;00m\u001B[38;5;250m \u001B[39m\u001B[38;5;21;01mtensorflow\u001B[39;00m\u001B[38;5;21;01m.\u001B[39;00m\u001B[38;5;21;01mpython\u001B[39;00m\u001B[38;5;21;01m.\u001B[39;00m\u001B[38;5;21;01mclient\u001B[39;00m\u001B[38;5;250m \u001B[39m\u001B[38;5;28;01mimport\u001B[39;00m pywrap_tf_session\n\u001B[1;32m     36\u001B[0m \u001B[38;5;28;01mfrom\u001B[39;00m\u001B[38;5;250m \u001B[39m\u001B[38;5;21;01mtensorflow\u001B[39;00m\u001B[38;5;21;01m.\u001B[39;00m\u001B[38;5;21;01mpython\u001B[39;00m\u001B[38;5;21;01m.\u001B[39;00m\u001B[38;5;21;01meager\u001B[39;00m\u001B[38;5;250m \u001B[39m\u001B[38;5;28;01mimport\u001B[39;00m cancellation\n\u001B[0;32m---> 37\u001B[0m \u001B[38;5;28;01mfrom\u001B[39;00m\u001B[38;5;250m \u001B[39m\u001B[38;5;21;01mtensorflow\u001B[39;00m\u001B[38;5;21;01m.\u001B[39;00m\u001B[38;5;21;01mpython\u001B[39;00m\u001B[38;5;21;01m.\u001B[39;00m\u001B[38;5;21;01meager\u001B[39;00m\u001B[38;5;250m \u001B[39m\u001B[38;5;28;01mimport\u001B[39;00m execute\n\u001B[1;32m     38\u001B[0m \u001B[38;5;28;01mfrom\u001B[39;00m\u001B[38;5;250m \u001B[39m\u001B[38;5;21;01mtensorflow\u001B[39;00m\u001B[38;5;21;01m.\u001B[39;00m\u001B[38;5;21;01mpython\u001B[39;00m\u001B[38;5;21;01m.\u001B[39;00m\u001B[38;5;21;01meager\u001B[39;00m\u001B[38;5;250m \u001B[39m\u001B[38;5;28;01mimport\u001B[39;00m executor\n\u001B[1;32m     39\u001B[0m \u001B[38;5;28;01mfrom\u001B[39;00m\u001B[38;5;250m \u001B[39m\u001B[38;5;21;01mtensorflow\u001B[39;00m\u001B[38;5;21;01m.\u001B[39;00m\u001B[38;5;21;01mpython\u001B[39;00m\u001B[38;5;21;01m.\u001B[39;00m\u001B[38;5;21;01meager\u001B[39;00m\u001B[38;5;250m \u001B[39m\u001B[38;5;28;01mimport\u001B[39;00m monitoring\n",
      "File \u001B[0;32m~/WORKSPACE/TensorFlow_for_Deep_Learning_Bootcamp/.venv/lib/python3.9/site-packages/tensorflow/python/eager/execute.py:21\u001B[0m\n\u001B[1;32m     19\u001B[0m \u001B[38;5;28;01mfrom\u001B[39;00m\u001B[38;5;250m \u001B[39m\u001B[38;5;21;01mtensorflow\u001B[39;00m\u001B[38;5;21;01m.\u001B[39;00m\u001B[38;5;21;01mpython\u001B[39;00m\u001B[38;5;250m \u001B[39m\u001B[38;5;28;01mimport\u001B[39;00m pywrap_tfe\n\u001B[1;32m     20\u001B[0m \u001B[38;5;28;01mfrom\u001B[39;00m\u001B[38;5;250m \u001B[39m\u001B[38;5;21;01mtensorflow\u001B[39;00m\u001B[38;5;21;01m.\u001B[39;00m\u001B[38;5;21;01mpython\u001B[39;00m\u001B[38;5;21;01m.\u001B[39;00m\u001B[38;5;21;01meager\u001B[39;00m\u001B[38;5;250m \u001B[39m\u001B[38;5;28;01mimport\u001B[39;00m core\n\u001B[0;32m---> 21\u001B[0m \u001B[38;5;28;01mfrom\u001B[39;00m\u001B[38;5;250m \u001B[39m\u001B[38;5;21;01mtensorflow\u001B[39;00m\u001B[38;5;21;01m.\u001B[39;00m\u001B[38;5;21;01mpython\u001B[39;00m\u001B[38;5;21;01m.\u001B[39;00m\u001B[38;5;21;01mframework\u001B[39;00m\u001B[38;5;250m \u001B[39m\u001B[38;5;28;01mimport\u001B[39;00m dtypes\n\u001B[1;32m     22\u001B[0m \u001B[38;5;28;01mfrom\u001B[39;00m\u001B[38;5;250m \u001B[39m\u001B[38;5;21;01mtensorflow\u001B[39;00m\u001B[38;5;21;01m.\u001B[39;00m\u001B[38;5;21;01mpython\u001B[39;00m\u001B[38;5;21;01m.\u001B[39;00m\u001B[38;5;21;01mframework\u001B[39;00m\u001B[38;5;250m \u001B[39m\u001B[38;5;28;01mimport\u001B[39;00m tensor_conversion_registry\n\u001B[1;32m     23\u001B[0m \u001B[38;5;28;01mfrom\u001B[39;00m\u001B[38;5;250m \u001B[39m\u001B[38;5;21;01mtensorflow\u001B[39;00m\u001B[38;5;21;01m.\u001B[39;00m\u001B[38;5;21;01mpython\u001B[39;00m\u001B[38;5;21;01m.\u001B[39;00m\u001B[38;5;21;01mframework\u001B[39;00m\u001B[38;5;250m \u001B[39m\u001B[38;5;28;01mimport\u001B[39;00m tensor_shape\n",
      "File \u001B[0;32m~/WORKSPACE/TensorFlow_for_Deep_Learning_Bootcamp/.venv/lib/python3.9/site-packages/tensorflow/python/framework/dtypes.py:21\u001B[0m\n\u001B[1;32m     18\u001B[0m \u001B[38;5;28;01mimport\u001B[39;00m\u001B[38;5;250m \u001B[39m\u001B[38;5;21;01mdataclasses\u001B[39;00m\n\u001B[1;32m     19\u001B[0m \u001B[38;5;28;01mfrom\u001B[39;00m\u001B[38;5;250m \u001B[39m\u001B[38;5;21;01mtyping\u001B[39;00m\u001B[38;5;250m \u001B[39m\u001B[38;5;28;01mimport\u001B[39;00m Type, Sequence, Optional\n\u001B[0;32m---> 21\u001B[0m \u001B[38;5;28;01mimport\u001B[39;00m\u001B[38;5;250m \u001B[39m\u001B[38;5;21;01mml_dtypes\u001B[39;00m\n\u001B[1;32m     22\u001B[0m \u001B[38;5;28;01mimport\u001B[39;00m\u001B[38;5;250m \u001B[39m\u001B[38;5;21;01mnumpy\u001B[39;00m\u001B[38;5;250m \u001B[39m\u001B[38;5;28;01mas\u001B[39;00m\u001B[38;5;250m \u001B[39m\u001B[38;5;21;01mnp\u001B[39;00m\n\u001B[1;32m     24\u001B[0m \u001B[38;5;28;01mfrom\u001B[39;00m\u001B[38;5;250m \u001B[39m\u001B[38;5;21;01mtensorflow\u001B[39;00m\u001B[38;5;21;01m.\u001B[39;00m\u001B[38;5;21;01mcore\u001B[39;00m\u001B[38;5;21;01m.\u001B[39;00m\u001B[38;5;21;01mframework\u001B[39;00m\u001B[38;5;250m \u001B[39m\u001B[38;5;28;01mimport\u001B[39;00m types_pb2\n",
      "File \u001B[0;32m~/WORKSPACE/TensorFlow_for_Deep_Learning_Bootcamp/.venv/lib/python3.9/site-packages/ml_dtypes/__init__.py:32\u001B[0m\n\u001B[1;32m     16\u001B[0m __all__ \u001B[38;5;241m=\u001B[39m [\n\u001B[1;32m     17\u001B[0m     \u001B[38;5;124m'\u001B[39m\u001B[38;5;124m__version__\u001B[39m\u001B[38;5;124m'\u001B[39m,\n\u001B[1;32m     18\u001B[0m     \u001B[38;5;124m'\u001B[39m\u001B[38;5;124mbfloat16\u001B[39m\u001B[38;5;124m'\u001B[39m,\n\u001B[0;32m   (...)\u001B[0m\n\u001B[1;32m     27\u001B[0m     \u001B[38;5;124m'\u001B[39m\u001B[38;5;124muint4\u001B[39m\u001B[38;5;124m'\u001B[39m,\n\u001B[1;32m     28\u001B[0m ]\n\u001B[1;32m     30\u001B[0m \u001B[38;5;28;01mfrom\u001B[39;00m\u001B[38;5;250m \u001B[39m\u001B[38;5;21;01mtyping\u001B[39;00m\u001B[38;5;250m \u001B[39m\u001B[38;5;28;01mimport\u001B[39;00m Type\n\u001B[0;32m---> 32\u001B[0m \u001B[38;5;28;01mfrom\u001B[39;00m\u001B[38;5;250m \u001B[39m\u001B[38;5;21;01mml_dtypes\u001B[39;00m\u001B[38;5;21;01m.\u001B[39;00m\u001B[38;5;21;01m_finfo\u001B[39;00m\u001B[38;5;250m \u001B[39m\u001B[38;5;28;01mimport\u001B[39;00m finfo\n\u001B[1;32m     33\u001B[0m \u001B[38;5;28;01mfrom\u001B[39;00m\u001B[38;5;250m \u001B[39m\u001B[38;5;21;01mml_dtypes\u001B[39;00m\u001B[38;5;21;01m.\u001B[39;00m\u001B[38;5;21;01m_iinfo\u001B[39;00m\u001B[38;5;250m \u001B[39m\u001B[38;5;28;01mimport\u001B[39;00m iinfo\n\u001B[1;32m     34\u001B[0m \u001B[38;5;28;01mfrom\u001B[39;00m\u001B[38;5;250m \u001B[39m\u001B[38;5;21;01mml_dtypes\u001B[39;00m\u001B[38;5;21;01m.\u001B[39;00m\u001B[38;5;21;01m_ml_dtypes_ext\u001B[39;00m\u001B[38;5;250m \u001B[39m\u001B[38;5;28;01mimport\u001B[39;00m bfloat16\n",
      "File \u001B[0;32m~/WORKSPACE/TensorFlow_for_Deep_Learning_Bootcamp/.venv/lib/python3.9/site-packages/ml_dtypes/_finfo.py:19\u001B[0m\n\u001B[1;32m     15\u001B[0m \u001B[38;5;124;03m\"\"\"Overload of numpy.finfo to handle dtypes defined in ml_dtypes.\"\"\"\u001B[39;00m\n\u001B[1;32m     17\u001B[0m \u001B[38;5;28;01mfrom\u001B[39;00m\u001B[38;5;250m \u001B[39m\u001B[38;5;21;01mtyping\u001B[39;00m\u001B[38;5;250m \u001B[39m\u001B[38;5;28;01mimport\u001B[39;00m Dict\n\u001B[0;32m---> 19\u001B[0m \u001B[38;5;28;01mfrom\u001B[39;00m\u001B[38;5;250m \u001B[39m\u001B[38;5;21;01mml_dtypes\u001B[39;00m\u001B[38;5;21;01m.\u001B[39;00m\u001B[38;5;21;01m_ml_dtypes_ext\u001B[39;00m\u001B[38;5;250m \u001B[39m\u001B[38;5;28;01mimport\u001B[39;00m bfloat16\n\u001B[1;32m     20\u001B[0m \u001B[38;5;28;01mfrom\u001B[39;00m\u001B[38;5;250m \u001B[39m\u001B[38;5;21;01mml_dtypes\u001B[39;00m\u001B[38;5;21;01m.\u001B[39;00m\u001B[38;5;21;01m_ml_dtypes_ext\u001B[39;00m\u001B[38;5;250m \u001B[39m\u001B[38;5;28;01mimport\u001B[39;00m float8_e4m3b11fnuz\n\u001B[1;32m     21\u001B[0m \u001B[38;5;28;01mfrom\u001B[39;00m\u001B[38;5;250m \u001B[39m\u001B[38;5;21;01mml_dtypes\u001B[39;00m\u001B[38;5;21;01m.\u001B[39;00m\u001B[38;5;21;01m_ml_dtypes_ext\u001B[39;00m\u001B[38;5;250m \u001B[39m\u001B[38;5;28;01mimport\u001B[39;00m float8_e4m3fn\n",
      "\u001B[0;31mImportError\u001B[0m: numpy.core.umath failed to import"
     ]
    }
   ],
   "execution_count": 2
  }
 ],
 "metadata": {
  "kernelspec": {
   "display_name": "Python 3",
   "language": "python",
   "name": "python3"
  },
  "language_info": {
   "codemirror_mode": {
    "name": "ipython",
    "version": 2
   },
   "file_extension": ".py",
   "mimetype": "text/x-python",
   "name": "python",
   "nbconvert_exporter": "python",
   "pygments_lexer": "ipython2",
   "version": "2.7.6"
  }
 },
 "nbformat": 4,
 "nbformat_minor": 5
}
