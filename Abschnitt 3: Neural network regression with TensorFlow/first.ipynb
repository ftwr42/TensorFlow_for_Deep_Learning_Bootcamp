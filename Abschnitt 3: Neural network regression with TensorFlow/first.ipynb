{
 "cells": [
  {
   "metadata": {},
   "cell_type": "markdown",
   "source": [
    "## Video 39\n",
    "\n",
    "\n",
    " What is a regression problem?\n",
    " - predict something out of the data, the question is not a yes or no question, but a number. So the solution might be, the thing on that image is a cat for about 75%.\n",
    "  - Questions like: How much, how many, how ... can be answered with regression."
   ],
   "id": "b94301de5172f179"
  },
  {
   "metadata": {},
   "cell_type": "markdown",
   "source": [
    "## Video 40\n",
    "\n",
    "\n",
    "What kind of data is needed for a regression problem?\n",
    "Ok some kind of data what you think are relevant to predict the answer from the neural network.\n",
    "\n",
    "The way data has to be converted for a nn is for example the one hot encoding. So this means you create a list as long as all possible interpretations the data can have.\n",
    "Is the data a cat or a dog or a mouse? One-Hot list maybe [0,1,0] for a dog.\n",
    "\n",
    "This interpretation is also called a feature encoding and data representation.\n",
    "1. Categorical Data Encoding\n",
    "    - One-Hot Encoding: Converts categorical variables into binary vectors.\n",
    "    - Label Encoding: Assigns each category a unique integer.\n",
    "    - Ordinal Encoding: Like label encoding, but assumes an order in the categories.\n",
    "    - Binary Encoding: Converts category indices to binary and stores them in multiple bits.\n",
    "    - Target Encoding (Mean Encoding): Replaces categories with the mean of the target variable (useful for supervised learning).\n",
    "2. Numerical Data Scaling & Normalization\n",
    "    - Min-Max Scaling: Rescales values between 0 and 1.\n",
    "    - Standardization (Z-score normalization): Centers values around 0 with unit variance.\n",
    "    - Log Transformation: Used for skewed distributions.\n",
    "    - Quantile Transformation: Maps data to a normal distribution.\n",
    "3. Text Data Encoding\n",
    "    - Bag of Words (BoW): Counts word occurrences.\n",
    "    - TF-IDF (Term Frequency-Inverse Document Frequency): Adjusts word importance based on frequency across documents.\n",
    "    - Word Embeddings (Word2Vec, GloVe, FastText): Maps words to dense vector spaces.\n",
    "    - Character-Level Encoding: Similar to word embeddings, but on a character level.\n",
    "4. Image Data Encoding\n",
    "    - Raw Pixel Values: Direct input of pixel intensities.\n",
    "    - Normalized Pixel Values: Pixels scaled to a range (e.g., 0-1 or -1 to 1).\n",
    "    - Feature Extraction (HOG, SIFT, CNNs): Extracts meaningful features instead of raw pixels.\n",
    "5. Graph Data Encoding\n",
    "    - Adjacency Matrix Encoding: Represents connections between nodes as a matrix.\n",
    "    - Graph Embeddings (Node2Vec, GCNs): Maps nodes to vector spaces.\n",
    "6. Time Series & Sequential Data Encoding\n",
    "    - Sliding Windows: Transforms time series into overlapping windows for learning.\n",
    "    - Fourier Transform / Wavelet Transform: Extracts frequency-domain features.\n",
    "    - Lag Features: Uses past values as inputs.\n",
    "\n"
   ],
   "id": "3032e7a1fccee16b"
  },
  {
   "metadata": {},
   "cell_type": "markdown",
   "source": [
    "## Video 41\n",
    "\n",
    "Architectures of Neural Networks\n",
    "1. Feedforward Neural Networks (FNNs)\n",
    "    - Basic neural network architecture\n",
    "    - No feedback loops between neurons\n",
    "    - Used for regression and classification tasks.\n",
    "    - Variants\n",
    "        - Single-layer perceptron: One layer of input nodes and one layer of output nodes, no hidden layers.\n",
    "        - Multi-layer perceptron: Contains one or more hidden layers between the input and output layers.\n",
    "2. Convolutional Neural Networks (CNNs)\n",
    "    - Specialized for image data\n",
    "    - Contains convolutional layers for feature extraction\n",
    "        - Convolutional layers: Apply filters to input data to detect patterns.\n",
    "        - Pooling layers: Reduce spatial dimensions of the data.\n",
    "        - Fully connected layers: Perform classification based on extracted features.\n",
    "    - Used for image classification, object detection, and segmentation tasks.\n",
    "3. Recurrent Neural Networks (RNNs)\n",
    "4. Transformer Neural Networks\n",
    "5. Autoencoder Neural Networks\n",
    "6. Generative Adversarial Networks (GANs)\n",
    "7. Graph Neural Networks (GNNs)\n",
    "8. Spike Neural Networks\n",
    "9. etc.\n",
    "\n"
   ],
   "id": "999d52f46faf3a78"
  },
  {
   "metadata": {},
   "cell_type": "markdown",
   "source": [
    "## Video 42\n",
    "\n",
    "**Definition of a regression problem:**\n",
    "Method of the smallest absolute deviation ..."
   ],
   "id": "d51e70067bd464a9"
  },
  {
   "metadata": {
    "ExecuteTime": {
     "end_time": "2025-03-21T12:36:15.416854Z",
     "start_time": "2025-03-21T12:36:15.414729Z"
    }
   },
   "cell_type": "code",
   "source": [
    "import os\n",
    "import numpy\n",
    "from fontTools.subset.svg import xpath"
   ],
   "id": "91bb8bb1a391ecec",
   "outputs": [],
   "execution_count": 143
  },
  {
   "metadata": {
    "ExecuteTime": {
     "end_time": "2025-03-21T12:36:15.433340Z",
     "start_time": "2025-03-21T12:36:15.430585Z"
    }
   },
   "cell_type": "code",
   "source": [
    "# disable the NUMA warning/support\n",
    "# import os\n",
    "# from cProfile import label\n",
    "\n",
    "# from keras.src.backend import shape\n",
    "# from keras.src.backend.jax.core import unstack\n",
    "\n",
    "os.environ['TF_NUMA_ENABLED'] = '0'"
   ],
   "id": "71bad6c4345fea1d",
   "outputs": [],
   "execution_count": 144
  },
  {
   "metadata": {
    "ExecuteTime": {
     "end_time": "2025-03-21T12:36:15.448030Z",
     "start_time": "2025-03-21T12:36:15.445746Z"
    }
   },
   "cell_type": "code",
   "source": [
    "import numpy as np\n",
    "import tensorflow as tf\n",
    "import matplotlib.pyplot as plt\n",
    "import pandas as pd\n",
    "from tensorflow import keras as ks\n",
    "# import keras as ks\n",
    "import os\n",
    "import logging\n",
    "os.environ['TF_CPP_MIN_LOG_LEVEL'] = '2'\n",
    "logging.getLogger('absl').setLevel(logging.ERROR)\n",
    "\n",
    "# print(tf.__version__)"
   ],
   "id": "ef4d879f9231ec8a",
   "outputs": [],
   "execution_count": 145
  },
  {
   "metadata": {
    "ExecuteTime": {
     "end_time": "2025-03-21T12:36:15.536338Z",
     "start_time": "2025-03-21T12:36:15.462559Z"
    }
   },
   "cell_type": "code",
   "source": [
    "# create some data for first regression example\n",
    "\n",
    "x = np.array([-7.0, -4.0, -1.0, 2.0, 5.0, 8.0, 11.0, 14.0])\n",
    "y = np.array([3.0, 6.0, 9.0, 12.0, 15.0, 18.0, 21.0, 24.0])\n",
    "\n",
    "plt.scatter(x, y)"
   ],
   "id": "fef168d166d09045",
   "outputs": [
    {
     "data": {
      "text/plain": [
       "<matplotlib.collections.PathCollection at 0x30f427460>"
      ]
     },
     "execution_count": 146,
     "metadata": {},
     "output_type": "execute_result"
    },
    {
     "data": {
      "text/plain": [
       "<Figure size 640x480 with 1 Axes>"
      ],
      "image/png": "[encoded data removed]"
     },
     "metadata": {},
     "output_type": "display_data"
    }
   ],
   "execution_count": 146
  },
  {
   "metadata": {
    "ExecuteTime": {
     "end_time": "2025-03-21T12:36:15.558536Z",
     "start_time": "2025-03-21T12:36:15.553081Z"
    }
   },
   "cell_type": "code",
   "source": [
    "# check the pattern in the data idea\n",
    "x + 10"
   ],
   "id": "d11d7047d0cf1154",
   "outputs": [
    {
     "data": {
      "text/plain": [
       "array([ 3.,  6.,  9., 12., 15., 18., 21., 24.])"
      ]
     },
     "execution_count": 147,
     "metadata": {},
     "output_type": "execute_result"
    }
   ],
   "execution_count": 147
  },
  {
   "metadata": {
    "ExecuteTime": {
     "end_time": "2025-03-21T12:36:15.579060Z",
     "start_time": "2025-03-21T12:36:15.575463Z"
    }
   },
   "cell_type": "code",
   "source": "y == x + 10",
   "id": "f54279a2c46b5295",
   "outputs": [
    {
     "data": {
      "text/plain": [
       "array([ True,  True,  True,  True,  True,  True,  True,  True])"
      ]
     },
     "execution_count": 148,
     "metadata": {},
     "output_type": "execute_result"
    }
   ],
   "execution_count": 148
  },
  {
   "metadata": {
    "ExecuteTime": {
     "end_time": "2025-03-21T12:36:15.607511Z",
     "start_time": "2025-03-21T12:36:15.602622Z"
    }
   },
   "cell_type": "code",
   "source": [
    "# example of housing info, video example\n",
    "house_info = tf.constant(['bedroom', 'bathroom', 'garage'])\n",
    "house_price = tf.constant([939700])\n",
    "house_info, house_price"
   ],
   "id": "df75da7178243e93",
   "outputs": [
    {
     "data": {
      "text/plain": [
       "(<tf.Tensor: shape=(3,), dtype=string, numpy=array([b'bedroom', b'bathroom', b'garage'], dtype=object)>,\n",
       " <tf.Tensor: shape=(1,), dtype=int32, numpy=array([939700], dtype=int32)>)"
      ]
     },
     "execution_count": 149,
     "metadata": {},
     "output_type": "execute_result"
    }
   ],
   "execution_count": 149
  },
  {
   "metadata": {},
   "cell_type": "markdown",
   "source": [
    "in this example the house_info has  the shape of 3 and the house_price has the shape of 1.\n",
    "So what wr are trying to do is to make conclusions of the house_price out of the house_info."
   ],
   "id": "2e3deb930ecceaf5"
  },
  {
   "metadata": {},
   "cell_type": "markdown",
   "source": [
    "## Video 44\n",
    "\n"
   ],
   "id": "eae60a2a3dac384a"
  },
  {
   "metadata": {
    "ExecuteTime": {
     "end_time": "2025-03-21T12:36:15.635612Z",
     "start_time": "2025-03-21T12:36:15.625638Z"
    }
   },
   "cell_type": "code",
   "source": [
    "# turn numpy arrays into tensors\n",
    "x = tf.constant(x)\n",
    "y = tf.constant(y)\n",
    "x, y"
   ],
   "id": "63b5f3621df7e822",
   "outputs": [
    {
     "data": {
      "text/plain": [
       "(<tf.Tensor: shape=(8,), dtype=float64, numpy=array([-7., -4., -1.,  2.,  5.,  8., 11., 14.])>,\n",
       " <tf.Tensor: shape=(8,), dtype=float64, numpy=array([ 3.,  6.,  9., 12., 15., 18., 21., 24.])>)"
      ]
     },
     "execution_count": 150,
     "metadata": {},
     "output_type": "execute_result"
    }
   ],
   "execution_count": 150
  },
  {
   "metadata": {
    "ExecuteTime": {
     "end_time": "2025-03-21T12:36:15.662011Z",
     "start_time": "2025-03-21T12:36:15.655860Z"
    }
   },
   "cell_type": "code",
   "source": [
    "input_shape_x = x[0].shape\n",
    "input_shape_y = y[0].shape\n",
    "input_shape_x, input_shape_y"
   ],
   "id": "278e8ee3d7912a9d",
   "outputs": [
    {
     "data": {
      "text/plain": [
       "(TensorShape([]), TensorShape([]))"
      ]
     },
     "execution_count": 151,
     "metadata": {},
     "output_type": "execute_result"
    }
   ],
   "execution_count": 151
  },
  {
   "metadata": {
    "ExecuteTime": {
     "end_time": "2025-03-21T12:36:15.769665Z",
     "start_time": "2025-03-21T12:36:15.687762Z"
    }
   },
   "cell_type": "code",
   "source": "plt.scatter(x, y)",
   "id": "b4dd8d870c764256",
   "outputs": [
    {
     "data": {
      "text/plain": [
       "<matplotlib.collections.PathCollection at 0x30f5bfcd0>"
      ]
     },
     "execution_count": 152,
     "metadata": {},
     "output_type": "execute_result"
    },
    {
     "data": {
      "text/plain": [
       "<Figure size 640x480 with 1 Axes>"
      ],
      "image/png": "[encoded data removed]"
     },
     "metadata": {},
     "output_type": "display_data"
    }
   ],
   "execution_count": 152
  },
  {
   "metadata": {},
   "cell_type": "markdown",
   "source": [
    "## Start modelling with TensorFlow\n",
    "\n",
    "1. Create a model: define input layer and hidden layers and output layer\n",
    "2. Compile a model: define the loss function and the optimizer\n",
    "3. Fit a model: let the model find patterns between X and y\n",
    "4. Evaluate a model: check how well the model is doing"
   ],
   "id": "bab1652fd5e302ff"
  },
  {
   "metadata": {
    "ExecuteTime": {
     "end_time": "2025-03-21T12:36:16.014430Z",
     "start_time": "2025-03-21T12:36:15.781746Z"
    }
   },
   "cell_type": "code",
   "source": [
    "# x = tf.cast(x, dtype=tf.float32)\n",
    "# y = tf.cast(y, dtype=tf.float32)# set random seed\n",
    "\n",
    "tf.random.set_seed(42)\n",
    "\n",
    "# 1. create a model\n",
    "model = ks.Sequential()\n",
    "model.add(ks.layers.Input(shape=(1,)))\n",
    "model.add(ks.layers.Dense(1))\n",
    "\n",
    "# 2. compile the model\n",
    "model.compile(loss=ks.losses.mae,\n",
    "              optimizer=tf.keras.optimizers.SGD(),\n",
    "              metrics=['mae'])\n",
    "\n",
    "model.fit(x, y, epochs=5)\n"
   ],
   "id": "efd982b96443f24a",
   "outputs": [
    {
     "name": "stdout",
     "output_type": "stream",
     "text": [
      "Epoch 1/5\n",
      "1/1 [==============================] - 0s 137ms/step - loss: 9.1083 - mae: 9.1083\n",
      "Epoch 2/5\n",
      "1/1 [==============================] - 0s 6ms/step - loss: 8.9758 - mae: 8.9758\n",
      "Epoch 3/5\n",
      "1/1 [==============================] - 0s 7ms/step - loss: 8.8433 - mae: 8.8433\n",
      "Epoch 4/5\n",
      "1/1 [==============================] - 0s 6ms/step - loss: 8.7108 - mae: 8.7108\n",
      "Epoch 5/5\n",
      "1/1 [==============================] - 0s 7ms/step - loss: 8.5783 - mae: 8.5783\n"
     ]
    },
    {
     "name": "stderr",
     "output_type": "stream",
     "text": [
      "2025-03-21 13:36:15.914277: I tensorflow/core/grappler/optimizers/custom_graph_optimizer_registry.cc:114] Plugin optimizer for device_type GPU is enabled.\n"
     ]
    },
    {
     "data": {
      "text/plain": [
       "<keras.src.callbacks.History at 0x30f78ecd0>"
      ]
     },
     "execution_count": 153,
     "metadata": {},
     "output_type": "execute_result"
    }
   ],
   "execution_count": 153
  },
  {
   "metadata": {
    "ExecuteTime": {
     "end_time": "2025-03-21T12:36:16.033011Z",
     "start_time": "2025-03-21T12:36:16.030293Z"
    }
   },
   "cell_type": "code",
   "source": "x.dtype, y.dtype",
   "id": "c6b548870bd0e039",
   "outputs": [
    {
     "data": {
      "text/plain": [
       "(tf.float64, tf.float64)"
      ]
     },
     "execution_count": 154,
     "metadata": {},
     "output_type": "execute_result"
    }
   ],
   "execution_count": 154
  },
  {
   "metadata": {
    "ExecuteTime": {
     "end_time": "2025-03-21T12:36:16.051628Z",
     "start_time": "2025-03-21T12:36:16.046577Z"
    }
   },
   "cell_type": "code",
   "source": [
    "x = tf.cast(x, dtype=tf.float32)\n",
    "y = tf.cast(y, dtype=tf.float32)\n",
    "x.dtype, y.dtype"
   ],
   "id": "9c6e3065da47b102",
   "outputs": [
    {
     "data": {
      "text/plain": [
       "(tf.float32, tf.float32)"
      ]
     },
     "execution_count": 155,
     "metadata": {},
     "output_type": "execute_result"
    }
   ],
   "execution_count": 155
  },
  {
   "metadata": {
    "ExecuteTime": {
     "end_time": "2025-03-21T12:36:16.089102Z",
     "start_time": "2025-03-21T12:36:16.084459Z"
    }
   },
   "cell_type": "code",
   "source": "x, y",
   "id": "71f590104df8ea23",
   "outputs": [
    {
     "data": {
      "text/plain": [
       "(<tf.Tensor: shape=(8,), dtype=float32, numpy=array([-7., -4., -1.,  2.,  5.,  8., 11., 14.], dtype=float32)>,\n",
       " <tf.Tensor: shape=(8,), dtype=float32, numpy=array([ 3.,  6.,  9., 12., 15., 18., 21., 24.], dtype=float32)>)"
      ]
     },
     "execution_count": 156,
     "metadata": {},
     "output_type": "execute_result"
    }
   ],
   "execution_count": 156
  },
  {
   "metadata": {
    "ExecuteTime": {
     "end_time": "2025-03-21T12:36:16.125472Z",
     "start_time": "2025-03-21T12:36:16.122063Z"
    }
   },
   "cell_type": "code",
   "source": [
    "# 3. fit the model\n",
    "type(x), type(y)"
   ],
   "id": "40233e7ca2b18f52",
   "outputs": [
    {
     "data": {
      "text/plain": [
       "(tensorflow.python.framework.ops.EagerTensor,\n",
       " tensorflow.python.framework.ops.EagerTensor)"
      ]
     },
     "execution_count": 157,
     "metadata": {},
     "output_type": "execute_result"
    }
   ],
   "execution_count": 157
  },
  {
   "metadata": {
    "ExecuteTime": {
     "end_time": "2025-03-21T12:36:16.447550Z",
     "start_time": "2025-03-21T12:36:16.162359Z"
    }
   },
   "cell_type": "code",
   "source": "model.fit(x, y, epochs=20)",
   "id": "58a2bbbf51a17fc4",
   "outputs": [
    {
     "name": "stdout",
     "output_type": "stream",
     "text": [
      "Epoch 1/20\n",
      "1/1 [==============================] - 0s 99ms/step - loss: 8.4458 - mae: 8.4458\n",
      "Epoch 2/20\n",
      "1/1 [==============================] - 0s 6ms/step - loss: 8.3133 - mae: 8.3133\n",
      "Epoch 3/20\n",
      "1/1 [==============================] - 0s 6ms/step - loss: 8.1808 - mae: 8.1808\n",
      "Epoch 4/20\n",
      "1/1 [==============================] - 0s 6ms/step - loss: 8.0483 - mae: 8.0483\n",
      "Epoch 5/20\n",
      "1/1 [==============================] - 0s 6ms/step - loss: 7.9158 - mae: 7.9158\n",
      "Epoch 6/20\n",
      "1/1 [==============================] - 0s 6ms/step - loss: 7.7833 - mae: 7.7833\n",
      "Epoch 7/20\n",
      "1/1 [==============================] - 0s 6ms/step - loss: 7.6508 - mae: 7.6508\n",
      "Epoch 8/20\n",
      "1/1 [==============================] - 0s 6ms/step - loss: 7.5183 - mae: 7.5183\n",
      "Epoch 9/20\n",
      "1/1 [==============================] - 0s 6ms/step - loss: 7.4025 - mae: 7.4025\n",
      "Epoch 10/20\n",
      "1/1 [==============================] - 0s 6ms/step - loss: 7.3969 - mae: 7.3969\n",
      "Epoch 11/20\n",
      "1/1 [==============================] - 0s 6ms/step - loss: 7.3913 - mae: 7.3913\n",
      "Epoch 12/20\n",
      "1/1 [==============================] - 0s 6ms/step - loss: 7.3856 - mae: 7.3856\n",
      "Epoch 13/20\n",
      "1/1 [==============================] - 0s 6ms/step - loss: 7.3800 - mae: 7.3800\n",
      "Epoch 14/20\n",
      "1/1 [==============================] - 0s 5ms/step - loss: 7.3744 - mae: 7.3744\n",
      "Epoch 15/20\n",
      "1/1 [==============================] - 0s 6ms/step - loss: 7.3688 - mae: 7.3688\n",
      "Epoch 16/20\n",
      "1/1 [==============================] - 0s 6ms/step - loss: 7.3631 - mae: 7.3631\n",
      "Epoch 17/20\n",
      "1/1 [==============================] - 0s 6ms/step - loss: 7.3575 - mae: 7.3575\n",
      "Epoch 18/20\n",
      "1/1 [==============================] - 0s 6ms/step - loss: 7.3519 - mae: 7.3519\n",
      "Epoch 19/20\n",
      "1/1 [==============================] - 0s 7ms/step - loss: 7.3462 - mae: 7.3462\n",
      "Epoch 20/20\n",
      "1/1 [==============================] - 0s 6ms/step - loss: 7.3406 - mae: 7.3406\n"
     ]
    },
    {
     "name": "stderr",
     "output_type": "stream",
     "text": [
      "2025-03-21 13:36:16.248160: I tensorflow/core/grappler/optimizers/custom_graph_optimizer_registry.cc:114] Plugin optimizer for device_type GPU is enabled.\n"
     ]
    },
    {
     "data": {
      "text/plain": [
       "<keras.src.callbacks.History at 0x30e199b20>"
      ]
     },
     "execution_count": 158,
     "metadata": {},
     "output_type": "execute_result"
    }
   ],
   "execution_count": 158
  },
  {
   "metadata": {
    "ExecuteTime": {
     "end_time": "2025-03-21T12:36:16.465215Z",
     "start_time": "2025-03-21T12:36:16.461304Z"
    }
   },
   "cell_type": "code",
   "source": [
    "try_1 = tf.constant([17.0])\n",
    "try_1"
   ],
   "id": "a8533cf0b77737f4",
   "outputs": [
    {
     "data": {
      "text/plain": [
       "<tf.Tensor: shape=(1,), dtype=float32, numpy=array([17.], dtype=float32)>"
      ]
     },
     "execution_count": 159,
     "metadata": {},
     "output_type": "execute_result"
    }
   ],
   "execution_count": 159
  },
  {
   "metadata": {
    "ExecuteTime": {
     "end_time": "2025-03-21T12:36:16.537095Z",
     "start_time": "2025-03-21T12:36:16.488853Z"
    }
   },
   "cell_type": "code",
   "source": [
    "pred_1 = model.predict(try_1)\n",
    "pred_1"
   ],
   "id": "be2100db304f197d",
   "outputs": [
    {
     "name": "stdout",
     "output_type": "stream",
     "text": [
      "1/1 [==============================] - 0s 23ms/step\n"
     ]
    },
    {
     "name": "stderr",
     "output_type": "stream",
     "text": [
      "2025-03-21 13:36:16.524954: I tensorflow/core/grappler/optimizers/custom_graph_optimizer_registry.cc:114] Plugin optimizer for device_type GPU is enabled.\n"
     ]
    },
    {
     "data": {
      "text/plain": [
       "array([[29.285955]], dtype=float32)"
      ]
     },
     "execution_count": 160,
     "metadata": {},
     "output_type": "execute_result"
    }
   ],
   "execution_count": 160
  },
  {
   "metadata": {
    "ExecuteTime": {
     "end_time": "2025-03-21T12:36:16.588617Z",
     "start_time": "2025-03-21T12:36:16.585665Z"
    }
   },
   "cell_type": "code",
   "source": "type(pred_1)",
   "id": "b6f87d4b55325083",
   "outputs": [
    {
     "data": {
      "text/plain": [
       "numpy.ndarray"
      ]
     },
     "execution_count": 161,
     "metadata": {},
     "output_type": "execute_result"
    }
   ],
   "execution_count": 161
  },
  {
   "metadata": {
    "ExecuteTime": {
     "end_time": "2025-03-21T12:36:16.694907Z",
     "start_time": "2025-03-21T12:36:16.628187Z"
    }
   },
   "cell_type": "code",
   "source": [
    "X_test = tf.constant([17, 20, 23, 26, 29, 31, 34, 37], dtype=tf.float32, shape=(8,))\n",
    "predict = tf.cast(model.predict(X_test), dtype=tf.float32)\n",
    "predict = tf.reshape(predict, shape=(8,))\n",
    "X_test, predict"
   ],
   "id": "66c770ea332b8207",
   "outputs": [
    {
     "name": "stdout",
     "output_type": "stream",
     "text": [
      "1/1 [==============================] - 0s 21ms/step\n"
     ]
    },
    {
     "data": {
      "text/plain": [
       "(<tf.Tensor: shape=(8,), dtype=float32, numpy=array([17., 20., 23., 26., 29., 31., 34., 37.], dtype=float32)>,\n",
       " <tf.Tensor: shape=(8,), dtype=float32, numpy=\n",
       " array([29.285955, 34.415245, 39.54453 , 44.673817, 49.8031  , 53.222626,\n",
       "        58.351913, 63.481197], dtype=float32)>)"
      ]
     },
     "execution_count": 162,
     "metadata": {},
     "output_type": "execute_result"
    }
   ],
   "execution_count": 162
  },
  {
   "metadata": {
    "ExecuteTime": {
     "end_time": "2025-03-21T12:36:17.086046Z",
     "start_time": "2025-03-21T12:36:16.719563Z"
    }
   },
   "cell_type": "code",
   "source": [
    "x_all = tf.concat([x, X_test], axis=0)\n",
    "y_all = tf.concat([y, predict], axis=0)\n",
    "plt.scatter(x_all, y_all)"
   ],
   "id": "e49cfcf266919a0f",
   "outputs": [
    {
     "data": {
      "text/plain": [
       "<matplotlib.collections.PathCollection at 0x310c9cd60>"
      ]
     },
     "execution_count": 163,
     "metadata": {},
     "output_type": "execute_result"
    },
    {
     "data": {
      "text/plain": [
       "<Figure size 640x480 with 1 Axes>"
      ],
      "image/png": "[encoded data removed]"
     },
     "metadata": {},
     "output_type": "display_data"
    }
   ],
   "execution_count": 163
  },
  {
   "metadata": {
    "ExecuteTime": {
     "end_time": "2025-03-21T12:36:17.302848Z",
     "start_time": "2025-03-21T12:36:17.293720Z"
    }
   },
   "cell_type": "code",
   "source": [
    "def concat_pred_and_print(x_test: list, x, y, model):\n",
    "    test = tf.cast(x_test, dtype=tf.float32)\n",
    "\n",
    "    test_predict = model.predict(test)\n",
    "    test_reshape = tf.reshape(test_predict, shape=(len(x_test),))\n",
    "\n",
    "    x_all = tf.concat([x, test], axis=0)\n",
    "    y_all = tf.concat([y, test_reshape], axis=0)\n",
    "    plt.scatter(x_all, y_all)"
   ],
   "id": "4ea06ff605dd10de",
   "outputs": [],
   "execution_count": 164
  },
  {
   "metadata": {
    "ExecuteTime": {
     "end_time": "2025-03-21T12:36:17.680576Z",
     "start_time": "2025-03-21T12:36:17.468683Z"
    }
   },
   "cell_type": "code",
   "source": "concat_pred_and_print([17, 20, 23, 26, 29, 31, 34, 37], x, y, model)",
   "id": "c583524354d8186d",
   "outputs": [
    {
     "name": "stdout",
     "output_type": "stream",
     "text": [
      "1/1 [==============================] - 0s 18ms/step\n"
     ]
    },
    {
     "data": {
      "text/plain": [
       "<Figure size 640x480 with 1 Axes>"
      ],
      "image/png": "[encoded data removed]"
     },
     "metadata": {},
     "output_type": "display_data"
    }
   ],
   "execution_count": 165
  },
  {
   "metadata": {},
   "cell_type": "markdown",
   "source": [
    "## Video 45\n",
    "\n",
    "Optimierung des Modells\n",
    "\n",
    "Idea, test to shuffle the learn data"
   ],
   "id": "7bd49a065685749d"
  },
  {
   "metadata": {
    "ExecuteTime": {
     "end_time": "2025-03-21T12:36:17.705680Z",
     "start_time": "2025-03-21T12:36:17.699448Z"
    }
   },
   "cell_type": "code",
   "source": [
    "stacked = tf.stack([x, y], axis=1)\n",
    "stacked"
   ],
   "id": "2cf7aee4d4dd7c5c",
   "outputs": [
    {
     "data": {
      "text/plain": [
       "<tf.Tensor: shape=(8, 2), dtype=float32, numpy=\n",
       "array([[-7.,  3.],\n",
       "       [-4.,  6.],\n",
       "       [-1.,  9.],\n",
       "       [ 2., 12.],\n",
       "       [ 5., 15.],\n",
       "       [ 8., 18.],\n",
       "       [11., 21.],\n",
       "       [14., 24.]], dtype=float32)>"
      ]
     },
     "execution_count": 166,
     "metadata": {},
     "output_type": "execute_result"
    }
   ],
   "execution_count": 166
  },
  {
   "metadata": {
    "ExecuteTime": {
     "end_time": "2025-03-21T12:36:17.790449Z",
     "start_time": "2025-03-21T12:36:17.783694Z"
    }
   },
   "cell_type": "code",
   "source": [
    "shuffled = tf.random.shuffle(stacked)\n",
    "shuffled"
   ],
   "id": "4fe7b4b5a3c832ad",
   "outputs": [
    {
     "data": {
      "text/plain": [
       "<tf.Tensor: shape=(8, 2), dtype=float32, numpy=\n",
       "array([[14., 24.],\n",
       "       [-1.,  9.],\n",
       "       [-7.,  3.],\n",
       "       [ 5., 15.],\n",
       "       [ 2., 12.],\n",
       "       [-4.,  6.],\n",
       "       [ 8., 18.],\n",
       "       [11., 21.]], dtype=float32)>"
      ]
     },
     "execution_count": 167,
     "metadata": {},
     "output_type": "execute_result"
    }
   ],
   "execution_count": 167
  },
  {
   "metadata": {
    "ExecuteTime": {
     "end_time": "2025-03-21T12:36:17.957391Z",
     "start_time": "2025-03-21T12:36:17.944476Z"
    }
   },
   "cell_type": "code",
   "source": [
    "x, y = tf.unstack(shuffled, axis=1)\n",
    "x, y"
   ],
   "id": "19f47efb6ac616e3",
   "outputs": [
    {
     "data": {
      "text/plain": [
       "(<tf.Tensor: shape=(8,), dtype=float32, numpy=array([14., -1., -7.,  5.,  2., -4.,  8., 11.], dtype=float32)>,\n",
       " <tf.Tensor: shape=(8,), dtype=float32, numpy=array([24.,  9.,  3., 15., 12.,  6., 18., 21.], dtype=float32)>)"
      ]
     },
     "execution_count": 168,
     "metadata": {},
     "output_type": "execute_result"
    }
   ],
   "execution_count": 168
  },
  {
   "metadata": {
    "ExecuteTime": {
     "end_time": "2025-03-21T12:36:18.410361Z",
     "start_time": "2025-03-21T12:36:18.157305Z"
    }
   },
   "cell_type": "code",
   "source": "model.fit(x, y, epochs=5)",
   "id": "b1dc96cf19a6a669",
   "outputs": [
    {
     "name": "stdout",
     "output_type": "stream",
     "text": [
      "Epoch 1/5\n",
      "1/1 [==============================] - 0s 19ms/step - loss: 7.3350 - mae: 7.3350\n",
      "Epoch 2/5\n",
      "1/1 [==============================] - 0s 22ms/step - loss: 7.3294 - mae: 7.3294\n",
      "Epoch 3/5\n",
      "1/1 [==============================] - 0s 32ms/step - loss: 7.3237 - mae: 7.3237\n",
      "Epoch 4/5\n",
      "1/1 [==============================] - 0s 30ms/step - loss: 7.3181 - mae: 7.3181\n",
      "Epoch 5/5\n",
      "1/1 [==============================] - 0s 33ms/step - loss: 7.3125 - mae: 7.3125\n"
     ]
    },
    {
     "data": {
      "text/plain": [
       "<keras.src.callbacks.History at 0x30cd525b0>"
      ]
     },
     "execution_count": 169,
     "metadata": {},
     "output_type": "execute_result"
    }
   ],
   "execution_count": 169
  },
  {
   "metadata": {
    "ExecuteTime": {
     "end_time": "2025-03-21T12:36:18.625548Z",
     "start_time": "2025-03-21T12:36:18.439642Z"
    }
   },
   "cell_type": "code",
   "source": "concat_pred_and_print([17, 20, 23, 26, 29, 31, 34, 37], x, y, model)",
   "id": "8645fd2fbfbd546e",
   "outputs": [
    {
     "name": "stdout",
     "output_type": "stream",
     "text": [
      "1/1 [==============================] - 0s 16ms/step\n"
     ]
    },
    {
     "data": {
      "text/plain": [
       "<Figure size 640x480 with 1 Axes>"
      ],
      "image/png": "[encoded data removed]"
     },
     "metadata": {},
     "output_type": "display_data"
    }
   ],
   "execution_count": 170
  },
  {
   "metadata": {
    "ExecuteTime": {
     "end_time": "2025-03-21T12:39:47.770540Z",
     "start_time": "2025-03-21T12:39:45.631109Z"
    }
   },
   "cell_type": "code",
   "source": [
    "x = tf.constant([-7.0, -4.0, -1.0, 2.0, 5.0, 8.0, 11.0, 14.0], dtype=tf.float32) # 17, 20\n",
    "y = tf.constant([3.0, 6.0, 9.0, 12.0, 15.0, 18.0, 21.0, 24.0], dtype=tf.float32) # 27, 30\n",
    "\n",
    "# 1. create a model\n",
    "model = ks.Sequential()\n",
    "model.add(ks.layers.Input(shape=(1,)))\n",
    "model.add(ks.layers.Dense(100,  activation='relu'))\n",
    "model.add(ks.layers.Dense(100, activation='relu'))\n",
    "model.add(ks.layers.Dense(100, activation='relu'))\n",
    "model.add(ks.layers.Dense(1, activation='relu'))\n",
    "\n",
    "# 2. compile the model\n",
    "model.compile(loss=ks.losses.MAE,\n",
    "              optimizer=ks.optimizers.Adam(learning_rate=0.001),\n",
    "              metrics=['mae'])\n",
    "\n",
    "# 3. fit the model\n",
    "model.fit(x, y, epochs=40)"
   ],
   "id": "e98af34a6d4584f",
   "outputs": [
    {
     "name": "stdout",
     "output_type": "stream",
     "text": [
      "Epoch 1/40\n"
     ]
    },
    {
     "name": "stderr",
     "output_type": "stream",
     "text": [
      "2025-03-21 13:39:45.838963: I tensorflow/core/grappler/optimizers/custom_graph_optimizer_registry.cc:114] Plugin optimizer for device_type GPU is enabled.\n"
     ]
    },
    {
     "name": "stdout",
     "output_type": "stream",
     "text": [
      "1/1 [==============================] - 2s 2s/step - loss: 14.8606 - mae: 14.8606\n",
      "Epoch 2/40\n",
      "1/1 [==============================] - 0s 12ms/step - loss: 15.5330 - mae: 15.5330\n",
      "Epoch 3/40\n",
      "1/1 [==============================] - 0s 12ms/step - loss: 15.9283 - mae: 15.9283\n",
      "Epoch 4/40\n",
      "1/1 [==============================] - 0s 11ms/step - loss: 16.1290 - mae: 16.1290\n",
      "Epoch 5/40\n",
      "1/1 [==============================] - 0s 12ms/step - loss: 16.2054 - mae: 16.2054\n",
      "Epoch 6/40\n",
      "1/1 [==============================] - 0s 13ms/step - loss: 16.1931 - mae: 16.1931\n",
      "Epoch 7/40\n",
      "1/1 [==============================] - 0s 12ms/step - loss: 16.1163 - mae: 16.1163\n",
      "Epoch 8/40\n",
      "1/1 [==============================] - 0s 10ms/step - loss: 15.9880 - mae: 15.9880\n",
      "Epoch 9/40\n",
      "1/1 [==============================] - 0s 14ms/step - loss: 15.8187 - mae: 15.8187\n",
      "Epoch 10/40\n",
      "1/1 [==============================] - 0s 14ms/step - loss: 15.6151 - mae: 15.6151\n",
      "Epoch 11/40\n",
      "1/1 [==============================] - 0s 21ms/step - loss: 15.3831 - mae: 15.3831\n",
      "Epoch 12/40\n",
      "1/1 [==============================] - 0s 15ms/step - loss: 15.1271 - mae: 15.1271\n",
      "Epoch 13/40\n",
      "1/1 [==============================] - 0s 15ms/step - loss: 14.8499 - mae: 14.8499\n",
      "Epoch 14/40\n",
      "1/1 [==============================] - 0s 14ms/step - loss: 14.6240 - mae: 14.6240\n",
      "Epoch 15/40\n",
      "1/1 [==============================] - 0s 14ms/step - loss: 14.6276 - mae: 14.6276\n",
      "Epoch 16/40\n",
      "1/1 [==============================] - 0s 8ms/step - loss: 14.7469 - mae: 14.7469\n",
      "Epoch 17/40\n",
      "1/1 [==============================] - 0s 8ms/step - loss: 14.8823 - mae: 14.8823\n",
      "Epoch 18/40\n",
      "1/1 [==============================] - 0s 8ms/step - loss: 14.9762 - mae: 14.9762\n",
      "Epoch 19/40\n",
      "1/1 [==============================] - 0s 8ms/step - loss: 15.0319 - mae: 15.0319\n",
      "Epoch 20/40\n",
      "1/1 [==============================] - 0s 8ms/step - loss: 15.0533 - mae: 15.0533\n",
      "Epoch 21/40\n",
      "1/1 [==============================] - 0s 7ms/step - loss: 15.0431 - mae: 15.0431\n",
      "Epoch 22/40\n",
      "1/1 [==============================] - 0s 8ms/step - loss: 15.0014 - mae: 15.0014\n",
      "Epoch 23/40\n",
      "1/1 [==============================] - 0s 8ms/step - loss: 14.9308 - mae: 14.9308\n",
      "Epoch 24/40\n",
      "1/1 [==============================] - 0s 9ms/step - loss: 14.8327 - mae: 14.8327\n",
      "Epoch 25/40\n",
      "1/1 [==============================] - 0s 8ms/step - loss: 14.7096 - mae: 14.7096\n",
      "Epoch 26/40\n",
      "1/1 [==============================] - 0s 8ms/step - loss: 14.5647 - mae: 14.5647\n",
      "Epoch 27/40\n",
      "1/1 [==============================] - 0s 8ms/step - loss: 14.4450 - mae: 14.4450\n",
      "Epoch 28/40\n",
      "1/1 [==============================] - 0s 9ms/step - loss: 14.4624 - mae: 14.4624\n",
      "Epoch 29/40\n",
      "1/1 [==============================] - 0s 8ms/step - loss: 14.6263 - mae: 14.6263\n",
      "Epoch 30/40\n",
      "1/1 [==============================] - 0s 8ms/step - loss: 14.7786 - mae: 14.7786\n",
      "Epoch 31/40\n",
      "1/1 [==============================] - 0s 7ms/step - loss: 14.8938 - mae: 14.8938\n",
      "Epoch 32/40\n",
      "1/1 [==============================] - 0s 7ms/step - loss: 14.9671 - mae: 14.9671\n",
      "Epoch 33/40\n",
      "1/1 [==============================] - 0s 8ms/step - loss: 15.0020 - mae: 15.0020\n",
      "Epoch 34/40\n",
      "1/1 [==============================] - 0s 8ms/step - loss: 15.0000 - mae: 15.0000\n",
      "Epoch 35/40\n",
      "1/1 [==============================] - 0s 8ms/step - loss: 14.9654 - mae: 14.9654\n",
      "Epoch 36/40\n",
      "1/1 [==============================] - 0s 8ms/step - loss: 14.8980 - mae: 14.8980\n",
      "Epoch 37/40\n",
      "1/1 [==============================] - 0s 8ms/step - loss: 14.8002 - mae: 14.8002\n",
      "Epoch 38/40\n",
      "1/1 [==============================] - 0s 7ms/step - loss: 14.6747 - mae: 14.6747\n",
      "Epoch 39/40\n",
      "1/1 [==============================] - 0s 8ms/step - loss: 14.5377 - mae: 14.5377\n",
      "Epoch 40/40\n",
      "1/1 [==============================] - 0s 7ms/step - loss: 14.3912 - mae: 14.3912\n"
     ]
    },
    {
     "data": {
      "text/plain": [
       "<keras.src.callbacks.History at 0x311b3a580>"
      ]
     },
     "execution_count": 174,
     "metadata": {},
     "output_type": "execute_result"
    }
   ],
   "execution_count": 174
  },
  {
   "metadata": {},
   "cell_type": "markdown",
   "source": [
    "Optimizers\n",
    "- Stochastic Gradient Descent (SGD): Updates weights based on the gradient of the loss function.\n",
    "- Adam: Adaptive Moment Estimation, combines the advantages of RMSprop and momentum.\n",
    "- RMSprop: Divides the learning rate by the moving average of the root mean square of the gradients.\n",
    "- Adagrad: Adapts the learning rate to the parameters.\n",
    "- Adadelta: Extends Adagrad to reduce aggressive, monotonically decreasing learning rates.\n",
    "- Adamax: Generalization of Adam based on the infinity norm.\n",
    "- Nadam: Adam with Nesterov momentum.\n",
    "- FTRL: Follow the regularized leader optimizer."
   ],
   "id": "d54dd86dc3202743"
  },
  {
   "metadata": {
    "ExecuteTime": {
     "end_time": "2025-03-21T12:40:12.491791Z",
     "start_time": "2025-03-21T12:40:12.486097Z"
    }
   },
   "cell_type": "code",
   "source": [
    "x_test = tf.constant([17.0, 20.0, 23.0, 26.0, 29.0, 31.0, 34.0, 37.0], dtype=tf.float32, shape=(8,))\n",
    "y_test = tf.constant([27.0, 30.0, 33.0, 36.0, 39.0, 42.0, 45.0, 48.0], dtype=tf.float32)\n",
    "x_test, y_test"
   ],
   "id": "6f435b1fabae78ea",
   "outputs": [
    {
     "data": {
      "text/plain": [
       "(<tf.Tensor: shape=(8,), dtype=float32, numpy=array([17., 20., 23., 26., 29., 31., 34., 37.], dtype=float32)>,\n",
       " <tf.Tensor: shape=(8,), dtype=float32, numpy=array([27., 30., 33., 36., 39., 42., 45., 48.], dtype=float32)>)"
      ]
     },
     "execution_count": 176,
     "metadata": {},
     "output_type": "execute_result"
    }
   ],
   "execution_count": 176
  },
  {
   "metadata": {},
   "cell_type": "markdown",
   "source": [
    "## Video 48\n",
    "\n",
    "Visualize, Visualize, Visualize"
   ],
   "id": "a0c6e782175dff72"
  },
  {
   "metadata": {
    "ExecuteTime": {
     "end_time": "2025-03-21T12:40:24.237676Z",
     "start_time": "2025-03-21T12:40:24.229679Z"
    }
   },
   "cell_type": "code",
   "source": [
    "x1_generated = [-7.0 + i*3 for i in range(100)]\n",
    "y1_generated = [3.0 + i*3 for i in range(100)]\n",
    "stack = tf.stack([x1_generated, y1_generated], axis=1)\n",
    "stack"
   ],
   "id": "f733dcf513b632f4",
   "outputs": [
    {
     "data": {
      "text/plain": [
       "<tf.Tensor: shape=(100, 2), dtype=float32, numpy=\n",
       "array([[ -7.,   3.],\n",
       "       [ -4.,   6.],\n",
       "       [ -1.,   9.],\n",
       "       [  2.,  12.],\n",
       "       [  5.,  15.],\n",
       "       [  8.,  18.],\n",
       "       [ 11.,  21.],\n",
       "       [ 14.,  24.],\n",
       "       [ 17.,  27.],\n",
       "       [ 20.,  30.],\n",
       "       [ 23.,  33.],\n",
       "       [ 26.,  36.],\n",
       "       [ 29.,  39.],\n",
       "       [ 32.,  42.],\n",
       "       [ 35.,  45.],\n",
       "       [ 38.,  48.],\n",
       "       [ 41.,  51.],\n",
       "       [ 44.,  54.],\n",
       "       [ 47.,  57.],\n",
       "       [ 50.,  60.],\n",
       "       [ 53.,  63.],\n",
       "       [ 56.,  66.],\n",
       "       [ 59.,  69.],\n",
       "       [ 62.,  72.],\n",
       "       [ 65.,  75.],\n",
       "       [ 68.,  78.],\n",
       "       [ 71.,  81.],\n",
       "       [ 74.,  84.],\n",
       "       [ 77.,  87.],\n",
       "       [ 80.,  90.],\n",
       "       [ 83.,  93.],\n",
       "       [ 86.,  96.],\n",
       "       [ 89.,  99.],\n",
       "       [ 92., 102.],\n",
       "       [ 95., 105.],\n",
       "       [ 98., 108.],\n",
       "       [101., 111.],\n",
       "       [104., 114.],\n",
       "       [107., 117.],\n",
       "       [110., 120.],\n",
       "       [113., 123.],\n",
       "       [116., 126.],\n",
       "       [119., 129.],\n",
       "       [122., 132.],\n",
       "       [125., 135.],\n",
       "       [128., 138.],\n",
       "       [131., 141.],\n",
       "       [134., 144.],\n",
       "       [137., 147.],\n",
       "       [140., 150.],\n",
       "       [143., 153.],\n",
       "       [146., 156.],\n",
       "       [149., 159.],\n",
       "       [152., 162.],\n",
       "       [155., 165.],\n",
       "       [158., 168.],\n",
       "       [161., 171.],\n",
       "       [164., 174.],\n",
       "       [167., 177.],\n",
       "       [170., 180.],\n",
       "       [173., 183.],\n",
       "       [176., 186.],\n",
       "       [179., 189.],\n",
       "       [182., 192.],\n",
       "       [185., 195.],\n",
       "       [188., 198.],\n",
       "       [191., 201.],\n",
       "       [194., 204.],\n",
       "       [197., 207.],\n",
       "       [200., 210.],\n",
       "       [203., 213.],\n",
       "       [206., 216.],\n",
       "       [209., 219.],\n",
       "       [212., 222.],\n",
       "       [215., 225.],\n",
       "       [218., 228.],\n",
       "       [221., 231.],\n",
       "       [224., 234.],\n",
       "       [227., 237.],\n",
       "       [230., 240.],\n",
       "       [233., 243.],\n",
       "       [236., 246.],\n",
       "       [239., 249.],\n",
       "       [242., 252.],\n",
       "       [245., 255.],\n",
       "       [248., 258.],\n",
       "       [251., 261.],\n",
       "       [254., 264.],\n",
       "       [257., 267.],\n",
       "       [260., 270.],\n",
       "       [263., 273.],\n",
       "       [266., 276.],\n",
       "       [269., 279.],\n",
       "       [272., 282.],\n",
       "       [275., 285.],\n",
       "       [278., 288.],\n",
       "       [281., 291.],\n",
       "       [284., 294.],\n",
       "       [287., 297.],\n",
       "       [290., 300.]], dtype=float32)>"
      ]
     },
     "execution_count": 177,
     "metadata": {},
     "output_type": "execute_result"
    }
   ],
   "execution_count": 177
  },
  {
   "metadata": {
    "ExecuteTime": {
     "end_time": "2025-03-21T12:41:21.019517Z",
     "start_time": "2025-03-21T12:41:17.047723Z"
    }
   },
   "cell_type": "code",
   "source": [
    "x1, y1 = tf.unstack(stack, axis=1)\n",
    "\n",
    "model1 = ks.Sequential()\n",
    "model1.add(ks.layers.Input(shape=(1,)))\n",
    "model1.add(ks.layers.Dense(20, activation='relu'))\n",
    "model1.add(ks.layers.Dense(20, activation='relu'))\n",
    "model1.add(ks.layers.Dense(20, activation='relu'))\n",
    "model1.add(ks.layers.Dense(20, activation='relu'))\n",
    "model1.add(ks.layers.Dense(1))\n",
    "\n",
    "# 2. compile the model\n",
    "model1.compile(loss=ks.losses.MAE,\n",
    "              optimizer=ks.optimizers.Adam(),\n",
    "              metrics=['mae'])\n",
    "\n",
    "# 3. fit the model\n",
    "model1.fit(x1, y1, epochs=100)"
   ],
   "id": "90aaa9434376d02",
   "outputs": [
    {
     "name": "stdout",
     "output_type": "stream",
     "text": [
      "Epoch 1/100\n"
     ]
    },
    {
     "name": "stderr",
     "output_type": "stream",
     "text": [
      "2025-03-21 13:41:17.229038: I tensorflow/core/grappler/optimizers/custom_graph_optimizer_registry.cc:114] Plugin optimizer for device_type GPU is enabled.\n"
     ]
    },
    {
     "name": "stdout",
     "output_type": "stream",
     "text": [
      "4/4 [==============================] - 1s 266ms/step - loss: 194.3825 - mae: 194.3825\n",
      "Epoch 2/100\n",
      "4/4 [==============================] - 0s 6ms/step - loss: 190.4517 - mae: 190.4517\n",
      "Epoch 3/100\n",
      "4/4 [==============================] - 0s 6ms/step - loss: 181.7684 - mae: 181.7684\n",
      "Epoch 4/100\n",
      "4/4 [==============================] - 0s 6ms/step - loss: 173.7532 - mae: 173.7532\n",
      "Epoch 5/100\n",
      "4/4 [==============================] - 0s 6ms/step - loss: 166.4778 - mae: 166.4778\n",
      "Epoch 6/100\n",
      "4/4 [==============================] - 0s 7ms/step - loss: 159.1253 - mae: 159.1253\n",
      "Epoch 7/100\n",
      "4/4 [==============================] - 0s 7ms/step - loss: 152.4181 - mae: 152.4181\n",
      "Epoch 8/100\n",
      "4/4 [==============================] - 0s 6ms/step - loss: 145.5865 - mae: 145.5865\n",
      "Epoch 9/100\n",
      "4/4 [==============================] - 0s 6ms/step - loss: 135.3255 - mae: 135.3255\n",
      "Epoch 10/100\n",
      "4/4 [==============================] - 0s 5ms/step - loss: 118.6685 - mae: 118.6685\n",
      "Epoch 11/100\n",
      "4/4 [==============================] - 0s 5ms/step - loss: 98.6758 - mae: 98.6758\n",
      "Epoch 12/100\n",
      "4/4 [==============================] - 0s 6ms/step - loss: 72.6911 - mae: 72.6911\n",
      "Epoch 13/100\n",
      "4/4 [==============================] - 0s 6ms/step - loss: 40.3995 - mae: 40.3995\n",
      "Epoch 14/100\n",
      "4/4 [==============================] - 0s 7ms/step - loss: 9.6773 - mae: 9.6773\n",
      "Epoch 15/100\n",
      "4/4 [==============================] - 0s 6ms/step - loss: 18.8337 - mae: 18.8337\n",
      "Epoch 16/100\n",
      "4/4 [==============================] - 0s 5ms/step - loss: 8.1843 - mae: 8.1843\n",
      "Epoch 17/100\n",
      "4/4 [==============================] - 0s 6ms/step - loss: 14.5768 - mae: 14.5768\n",
      "Epoch 18/100\n",
      "4/4 [==============================] - 0s 5ms/step - loss: 11.8003 - mae: 11.8003\n",
      "Epoch 19/100\n",
      "4/4 [==============================] - 0s 5ms/step - loss: 7.8220 - mae: 7.8220\n",
      "Epoch 20/100\n",
      "4/4 [==============================] - 0s 5ms/step - loss: 7.6846 - mae: 7.6846\n",
      "Epoch 21/100\n",
      "4/4 [==============================] - 0s 5ms/step - loss: 6.8833 - mae: 6.8833\n",
      "Epoch 22/100\n",
      "4/4 [==============================] - 0s 5ms/step - loss: 4.5764 - mae: 4.5764\n",
      "Epoch 23/100\n",
      "4/4 [==============================] - 0s 5ms/step - loss: 4.8683 - mae: 4.8683\n",
      "Epoch 24/100\n",
      "4/4 [==============================] - 0s 5ms/step - loss: 4.1238 - mae: 4.1238\n",
      "Epoch 25/100\n",
      "4/4 [==============================] - 0s 6ms/step - loss: 5.2715 - mae: 5.2715\n",
      "Epoch 26/100\n",
      "4/4 [==============================] - 0s 5ms/step - loss: 5.0897 - mae: 5.0897\n",
      "Epoch 27/100\n",
      "4/4 [==============================] - 0s 6ms/step - loss: 5.5320 - mae: 5.5320\n",
      "Epoch 28/100\n",
      "4/4 [==============================] - 0s 6ms/step - loss: 5.9007 - mae: 5.9007\n",
      "Epoch 29/100\n",
      "4/4 [==============================] - 0s 6ms/step - loss: 6.7495 - mae: 6.7495\n",
      "Epoch 30/100\n",
      "4/4 [==============================] - 0s 6ms/step - loss: 4.2280 - mae: 4.2280\n",
      "Epoch 31/100\n",
      "4/4 [==============================] - 0s 6ms/step - loss: 5.3834 - mae: 5.3834\n",
      "Epoch 32/100\n",
      "4/4 [==============================] - 0s 6ms/step - loss: 4.4407 - mae: 4.4407\n",
      "Epoch 33/100\n",
      "4/4 [==============================] - 0s 6ms/step - loss: 4.5232 - mae: 4.5232\n",
      "Epoch 34/100\n",
      "4/4 [==============================] - 0s 5ms/step - loss: 4.5890 - mae: 4.5890\n",
      "Epoch 35/100\n",
      "4/4 [==============================] - 0s 5ms/step - loss: 6.3433 - mae: 6.3433\n",
      "Epoch 36/100\n",
      "4/4 [==============================] - 0s 5ms/step - loss: 4.7952 - mae: 4.7952\n",
      "Epoch 37/100\n",
      "4/4 [==============================] - 0s 6ms/step - loss: 4.6868 - mae: 4.6868\n",
      "Epoch 38/100\n",
      "4/4 [==============================] - 0s 5ms/step - loss: 4.2602 - mae: 4.2602\n",
      "Epoch 39/100\n",
      "4/4 [==============================] - 0s 5ms/step - loss: 4.9381 - mae: 4.9381\n",
      "Epoch 40/100\n",
      "4/4 [==============================] - 0s 5ms/step - loss: 4.2858 - mae: 4.2858\n",
      "Epoch 41/100\n",
      "4/4 [==============================] - 0s 6ms/step - loss: 3.9428 - mae: 3.9428\n",
      "Epoch 42/100\n",
      "4/4 [==============================] - 0s 5ms/step - loss: 4.3098 - mae: 4.3098\n",
      "Epoch 43/100\n",
      "4/4 [==============================] - 0s 5ms/step - loss: 6.2677 - mae: 6.2677\n",
      "Epoch 44/100\n",
      "4/4 [==============================] - 0s 5ms/step - loss: 5.0708 - mae: 5.0708\n",
      "Epoch 45/100\n",
      "4/4 [==============================] - 0s 5ms/step - loss: 4.0438 - mae: 4.0438\n",
      "Epoch 46/100\n",
      "4/4 [==============================] - 0s 5ms/step - loss: 4.3684 - mae: 4.3684\n",
      "Epoch 47/100\n",
      "4/4 [==============================] - 0s 6ms/step - loss: 5.9656 - mae: 5.9656\n",
      "Epoch 48/100\n",
      "4/4 [==============================] - 0s 5ms/step - loss: 5.8609 - mae: 5.8609\n",
      "Epoch 49/100\n",
      "4/4 [==============================] - 0s 5ms/step - loss: 5.4999 - mae: 5.4999\n",
      "Epoch 50/100\n",
      "4/4 [==============================] - 0s 5ms/step - loss: 22.5793 - mae: 22.5793\n",
      "Epoch 51/100\n",
      "4/4 [==============================] - 0s 5ms/step - loss: 11.8461 - mae: 11.8461\n",
      "Epoch 52/100\n",
      "4/4 [==============================] - 0s 6ms/step - loss: 14.3006 - mae: 14.3006\n",
      "Epoch 53/100\n",
      "4/4 [==============================] - 0s 5ms/step - loss: 22.5530 - mae: 22.5530\n",
      "Epoch 54/100\n",
      "4/4 [==============================] - 0s 6ms/step - loss: 11.6965 - mae: 11.6965\n",
      "Epoch 55/100\n",
      "4/4 [==============================] - 0s 5ms/step - loss: 10.2443 - mae: 10.2443\n",
      "Epoch 56/100\n",
      "4/4 [==============================] - 0s 5ms/step - loss: 7.8215 - mae: 7.8215\n",
      "Epoch 57/100\n",
      "4/4 [==============================] - 0s 6ms/step - loss: 5.5892 - mae: 5.5892\n",
      "Epoch 58/100\n",
      "4/4 [==============================] - 0s 6ms/step - loss: 5.4775 - mae: 5.4775\n",
      "Epoch 59/100\n",
      "4/4 [==============================] - 0s 6ms/step - loss: 5.1124 - mae: 5.1124\n",
      "Epoch 60/100\n",
      "4/4 [==============================] - 0s 6ms/step - loss: 10.2056 - mae: 10.2056\n",
      "Epoch 61/100\n",
      "4/4 [==============================] - 0s 5ms/step - loss: 9.3186 - mae: 9.3186\n",
      "Epoch 62/100\n",
      "4/4 [==============================] - 0s 5ms/step - loss: 11.0048 - mae: 11.0048\n",
      "Epoch 63/100\n",
      "4/4 [==============================] - 0s 6ms/step - loss: 8.2736 - mae: 8.2736\n",
      "Epoch 64/100\n",
      "4/4 [==============================] - 0s 6ms/step - loss: 14.4802 - mae: 14.4802\n",
      "Epoch 65/100\n",
      "4/4 [==============================] - 0s 5ms/step - loss: 7.8003 - mae: 7.8003\n",
      "Epoch 66/100\n",
      "4/4 [==============================] - 0s 6ms/step - loss: 4.5654 - mae: 4.5654\n",
      "Epoch 67/100\n",
      "4/4 [==============================] - 0s 8ms/step - loss: 7.7217 - mae: 7.7217\n",
      "Epoch 68/100\n",
      "4/4 [==============================] - 0s 7ms/step - loss: 8.3442 - mae: 8.3442\n",
      "Epoch 69/100\n",
      "4/4 [==============================] - 0s 8ms/step - loss: 7.3255 - mae: 7.3255\n",
      "Epoch 70/100\n",
      "4/4 [==============================] - 0s 7ms/step - loss: 4.1938 - mae: 4.1938\n",
      "Epoch 71/100\n",
      "4/4 [==============================] - 0s 9ms/step - loss: 8.8910 - mae: 8.8910\n",
      "Epoch 72/100\n",
      "4/4 [==============================] - 0s 7ms/step - loss: 7.0157 - mae: 7.0157\n",
      "Epoch 73/100\n",
      "4/4 [==============================] - 0s 8ms/step - loss: 8.1209 - mae: 8.1209\n",
      "Epoch 74/100\n",
      "4/4 [==============================] - 0s 7ms/step - loss: 12.6929 - mae: 12.6929\n",
      "Epoch 75/100\n",
      "4/4 [==============================] - 0s 6ms/step - loss: 5.8956 - mae: 5.8956\n",
      "Epoch 76/100\n",
      "4/4 [==============================] - 0s 5ms/step - loss: 14.2068 - mae: 14.2068\n",
      "Epoch 77/100\n",
      "4/4 [==============================] - 0s 5ms/step - loss: 21.4308 - mae: 21.4308\n",
      "Epoch 78/100\n",
      "4/4 [==============================] - 0s 6ms/step - loss: 9.8478 - mae: 9.8478\n",
      "Epoch 79/100\n",
      "4/4 [==============================] - 0s 5ms/step - loss: 9.2711 - mae: 9.2711\n",
      "Epoch 80/100\n",
      "4/4 [==============================] - 0s 5ms/step - loss: 9.0889 - mae: 9.0889\n",
      "Epoch 81/100\n",
      "4/4 [==============================] - 0s 5ms/step - loss: 5.9460 - mae: 5.9460\n",
      "Epoch 82/100\n",
      "4/4 [==============================] - 0s 5ms/step - loss: 10.3544 - mae: 10.3544\n",
      "Epoch 83/100\n",
      "4/4 [==============================] - 0s 5ms/step - loss: 5.4838 - mae: 5.4838\n",
      "Epoch 84/100\n",
      "4/4 [==============================] - 0s 6ms/step - loss: 6.9460 - mae: 6.9460\n",
      "Epoch 85/100\n",
      "4/4 [==============================] - 0s 5ms/step - loss: 6.8208 - mae: 6.8208\n",
      "Epoch 86/100\n",
      "4/4 [==============================] - 0s 5ms/step - loss: 13.7026 - mae: 13.7026\n",
      "Epoch 87/100\n",
      "4/4 [==============================] - 0s 5ms/step - loss: 11.2625 - mae: 11.2625\n",
      "Epoch 88/100\n",
      "4/4 [==============================] - 0s 6ms/step - loss: 25.3571 - mae: 25.3571\n",
      "Epoch 89/100\n",
      "4/4 [==============================] - 0s 5ms/step - loss: 46.6623 - mae: 46.6623\n",
      "Epoch 90/100\n",
      "4/4 [==============================] - 0s 5ms/step - loss: 37.7283 - mae: 37.7283\n",
      "Epoch 91/100\n",
      "4/4 [==============================] - 0s 6ms/step - loss: 46.4598 - mae: 46.4598\n",
      "Epoch 92/100\n",
      "4/4 [==============================] - 0s 6ms/step - loss: 61.9393 - mae: 61.9393\n",
      "Epoch 93/100\n",
      "4/4 [==============================] - 0s 5ms/step - loss: 47.7632 - mae: 47.7632\n",
      "Epoch 94/100\n",
      "4/4 [==============================] - 0s 5ms/step - loss: 29.1065 - mae: 29.1065\n",
      "Epoch 95/100\n",
      "4/4 [==============================] - 0s 14ms/step - loss: 38.2830 - mae: 38.2830\n",
      "Epoch 96/100\n",
      "4/4 [==============================] - 0s 6ms/step - loss: 38.5016 - mae: 38.5016\n",
      "Epoch 97/100\n",
      "4/4 [==============================] - 0s 5ms/step - loss: 20.2726 - mae: 20.2726\n",
      "Epoch 98/100\n",
      "4/4 [==============================] - 0s 5ms/step - loss: 36.4194 - mae: 36.4194\n",
      "Epoch 99/100\n",
      "4/4 [==============================] - 0s 5ms/step - loss: 46.1599 - mae: 46.1599\n",
      "Epoch 100/100\n",
      "4/4 [==============================] - 0s 5ms/step - loss: 76.5284 - mae: 76.5284\n"
     ]
    },
    {
     "data": {
      "text/plain": [
       "<keras.src.callbacks.History at 0x3110cf280>"
      ]
     },
     "execution_count": 180,
     "metadata": {},
     "output_type": "execute_result"
    }
   ],
   "execution_count": 180
  },
  {
   "metadata": {
    "ExecuteTime": {
     "end_time": "2025-03-21T12:41:26.843744Z",
     "start_time": "2025-03-21T12:41:26.509719Z"
    }
   },
   "cell_type": "code",
   "source": [
    "a = np.arange(0, 9, 0.3)\n",
    "model1.predict(a)"
   ],
   "id": "dae57573099520c3",
   "outputs": [
    {
     "name": "stderr",
     "output_type": "stream",
     "text": [
      "2025-03-21 13:41:26.573274: I tensorflow/core/grappler/optimizers/custom_graph_optimizer_registry.cc:114] Plugin optimizer for device_type GPU is enabled.\n"
     ]
    },
    {
     "name": "stdout",
     "output_type": "stream",
     "text": [
      "1/1 [==============================] - 0s 299ms/step\n"
     ]
    },
    {
     "data": {
      "text/plain": [
       "array([[ 1.8474083],\n",
       "       [ 2.1430507],\n",
       "       [ 2.438694 ],\n",
       "       [ 2.7343416],\n",
       "       [ 3.0299902],\n",
       "       [ 3.3256254],\n",
       "       [ 3.6212683],\n",
       "       [ 3.9169264],\n",
       "       [ 4.212558 ],\n",
       "       [ 4.5082197],\n",
       "       [ 4.8038435],\n",
       "       [ 5.099498 ],\n",
       "       [ 5.3951445],\n",
       "       [ 5.690791 ],\n",
       "       [ 5.9864225],\n",
       "       [ 6.2820463],\n",
       "       [ 6.577716 ],\n",
       "       [ 6.87337  ],\n",
       "       [ 7.168994 ],\n",
       "       [ 7.4646177],\n",
       "       [ 7.760272 ],\n",
       "       [ 8.055926 ],\n",
       "       [ 8.351565 ],\n",
       "       [ 8.647143 ],\n",
       "       [ 8.942874 ],\n",
       "       [ 9.238467 ],\n",
       "       [ 9.534137 ],\n",
       "       [ 9.829791 ],\n",
       "       [10.125445 ],\n",
       "       [10.420978 ]], dtype=float32)"
      ]
     },
     "execution_count": 181,
     "metadata": {},
     "output_type": "execute_result"
    }
   ],
   "execution_count": 181
  },
  {
   "metadata": {
    "ExecuteTime": {
     "end_time": "2025-03-21T12:41:33.051844Z",
     "start_time": "2025-03-21T12:41:33.048522Z"
    }
   },
   "cell_type": "code",
   "source": [
    "a = np.arange(0, 30, 3)\n",
    "a_test = np.arange(30, 60, 3)\n",
    "b = np.arange(-7, 23, 3)\n",
    "b_test = np.arange(23, 51, 3)\n",
    "a, b, a_test, b_test"
   ],
   "id": "99a5c692abf5019f",
   "outputs": [
    {
     "data": {
      "text/plain": [
       "(array([ 0,  3,  6,  9, 12, 15, 18, 21, 24, 27]),\n",
       " array([-7, -4, -1,  2,  5,  8, 11, 14, 17, 20]),\n",
       " array([30, 33, 36, 39, 42, 45, 48, 51, 54, 57]),\n",
       " array([23, 26, 29, 32, 35, 38, 41, 44, 47, 50]))"
      ]
     },
     "execution_count": 182,
     "metadata": {},
     "output_type": "execute_result"
    }
   ],
   "execution_count": 182
  },
  {
   "metadata": {
    "ExecuteTime": {
     "end_time": "2025-03-21T12:41:35.204351Z",
     "start_time": "2025-03-21T12:41:35.099498Z"
    }
   },
   "cell_type": "code",
   "source": [
    "plt.scatter(a, b, c='blue')\n",
    "plt.scatter(a_test, b_test, c='green')"
   ],
   "id": "367a9a8aef561009",
   "outputs": [
    {
     "data": {
      "text/plain": [
       "<matplotlib.collections.PathCollection at 0x30d5cbe80>"
      ]
     },
     "execution_count": 183,
     "metadata": {},
     "output_type": "execute_result"
    },
    {
     "data": {
      "text/plain": [
       "<Figure size 640x480 with 1 Axes>"
      ],
      "image/png": "[encoded data removed]"
     },
     "metadata": {},
     "output_type": "display_data"
    }
   ],
   "execution_count": 183
  },
  {
   "metadata": {},
   "cell_type": "markdown",
   "source": "## creating extra data for learning",
   "id": "8f46e26a0d69eff9"
  },
  {
   "metadata": {
    "ExecuteTime": {
     "end_time": "2025-03-21T12:42:13.019875Z",
     "start_time": "2025-03-21T12:42:13.014604Z"
    }
   },
   "cell_type": "code",
   "source": [
    "a_extend = []\n",
    "b_extend = []\n",
    "for i, j in zip(a, b):\n",
    "    a_extend.append(i-0.02)\n",
    "    a_extend.append(i-0.01)\n",
    "    a_extend.append(i-0.2)\n",
    "    a_extend.append(i-0.1)\n",
    "    a_extend.append(i)\n",
    "    a_extend.append(i+0.01)\n",
    "    a_extend.append(i+0.02)\n",
    "    a_extend.append(i+0.1)\n",
    "    a_extend.append(i+0.2)\n",
    "    b_extend.append(j-0.02)\n",
    "    b_extend.append(j-0.01)\n",
    "    b_extend.append(j-0.2)\n",
    "    b_extend.append(j-0.1)\n",
    "    b_extend.append(j)\n",
    "    b_extend.append(j+0.01)\n",
    "    b_extend.append(j+0.02)\n",
    "    b_extend.append(j+0.1)\n",
    "    b_extend.append(j+0.2)\n",
    "a_extend, b_extend"
   ],
   "id": "b7e54e86407e6010",
   "outputs": [
    {
     "data": {
      "text/plain": [
       "([-0.02,\n",
       "  -0.01,\n",
       "  -0.2,\n",
       "  -0.1,\n",
       "  0,\n",
       "  0.01,\n",
       "  0.02,\n",
       "  0.1,\n",
       "  0.2,\n",
       "  2.98,\n",
       "  2.99,\n",
       "  2.8,\n",
       "  2.9,\n",
       "  3,\n",
       "  3.01,\n",
       "  3.02,\n",
       "  3.1,\n",
       "  3.2,\n",
       "  5.98,\n",
       "  5.99,\n",
       "  5.8,\n",
       "  5.9,\n",
       "  6,\n",
       "  6.01,\n",
       "  6.02,\n",
       "  6.1,\n",
       "  6.2,\n",
       "  8.98,\n",
       "  8.99,\n",
       "  8.8,\n",
       "  8.9,\n",
       "  9,\n",
       "  9.01,\n",
       "  9.02,\n",
       "  9.1,\n",
       "  9.2,\n",
       "  11.98,\n",
       "  11.99,\n",
       "  11.8,\n",
       "  11.9,\n",
       "  12,\n",
       "  12.01,\n",
       "  12.02,\n",
       "  12.1,\n",
       "  12.2,\n",
       "  14.98,\n",
       "  14.99,\n",
       "  14.8,\n",
       "  14.9,\n",
       "  15,\n",
       "  15.01,\n",
       "  15.02,\n",
       "  15.1,\n",
       "  15.2,\n",
       "  17.98,\n",
       "  17.99,\n",
       "  17.8,\n",
       "  17.9,\n",
       "  18,\n",
       "  18.01,\n",
       "  18.02,\n",
       "  18.1,\n",
       "  18.2,\n",
       "  20.98,\n",
       "  20.99,\n",
       "  20.8,\n",
       "  20.9,\n",
       "  21,\n",
       "  21.01,\n",
       "  21.02,\n",
       "  21.1,\n",
       "  21.2,\n",
       "  23.98,\n",
       "  23.99,\n",
       "  23.8,\n",
       "  23.9,\n",
       "  24,\n",
       "  24.01,\n",
       "  24.02,\n",
       "  24.1,\n",
       "  24.2,\n",
       "  26.98,\n",
       "  26.99,\n",
       "  26.8,\n",
       "  26.9,\n",
       "  27,\n",
       "  27.01,\n",
       "  27.02,\n",
       "  27.1,\n",
       "  27.2],\n",
       " [-7.02,\n",
       "  -7.01,\n",
       "  -7.2,\n",
       "  -7.1,\n",
       "  -7,\n",
       "  -6.99,\n",
       "  -6.98,\n",
       "  -6.9,\n",
       "  -6.8,\n",
       "  -4.02,\n",
       "  -4.01,\n",
       "  -4.2,\n",
       "  -4.1,\n",
       "  -4,\n",
       "  -3.99,\n",
       "  -3.98,\n",
       "  -3.9,\n",
       "  -3.8,\n",
       "  -1.02,\n",
       "  -1.01,\n",
       "  -1.2,\n",
       "  -1.1,\n",
       "  -1,\n",
       "  -0.99,\n",
       "  -0.98,\n",
       "  -0.9,\n",
       "  -0.8,\n",
       "  1.98,\n",
       "  1.99,\n",
       "  1.8,\n",
       "  1.9,\n",
       "  2,\n",
       "  2.01,\n",
       "  2.02,\n",
       "  2.1,\n",
       "  2.2,\n",
       "  4.98,\n",
       "  4.99,\n",
       "  4.8,\n",
       "  4.9,\n",
       "  5,\n",
       "  5.01,\n",
       "  5.02,\n",
       "  5.1,\n",
       "  5.2,\n",
       "  7.98,\n",
       "  7.99,\n",
       "  7.8,\n",
       "  7.9,\n",
       "  8,\n",
       "  8.01,\n",
       "  8.02,\n",
       "  8.1,\n",
       "  8.2,\n",
       "  10.98,\n",
       "  10.99,\n",
       "  10.8,\n",
       "  10.9,\n",
       "  11,\n",
       "  11.01,\n",
       "  11.02,\n",
       "  11.1,\n",
       "  11.2,\n",
       "  13.98,\n",
       "  13.99,\n",
       "  13.8,\n",
       "  13.9,\n",
       "  14,\n",
       "  14.01,\n",
       "  14.02,\n",
       "  14.1,\n",
       "  14.2,\n",
       "  16.98,\n",
       "  16.99,\n",
       "  16.8,\n",
       "  16.9,\n",
       "  17,\n",
       "  17.01,\n",
       "  17.02,\n",
       "  17.1,\n",
       "  17.2,\n",
       "  19.98,\n",
       "  19.99,\n",
       "  19.8,\n",
       "  19.9,\n",
       "  20,\n",
       "  20.01,\n",
       "  20.02,\n",
       "  20.1,\n",
       "  20.2])"
      ]
     },
     "execution_count": 185,
     "metadata": {},
     "output_type": "execute_result"
    }
   ],
   "execution_count": 185
  },
  {
   "metadata": {
    "ExecuteTime": {
     "end_time": "2025-03-21T12:50:25.633406Z",
     "start_time": "2025-03-21T12:50:22.913900Z"
    }
   },
   "cell_type": "code",
   "source": [
    "\n",
    "\n",
    "model3 = ks.Sequential()\n",
    "model3.add(ks.layers.Input(shape=(1,)))\n",
    "model3.add(ks.layers.Dense(20, activation='relu'))\n",
    "model3.add(ks.layers.Dense(20, activation='relu'))\n",
    "model3.add(ks.layers.Dense(20, activation='relu'))\n",
    "model3.add(ks.layers.Dense(1))\n",
    "\n",
    "# 2. compile the model\n",
    "model3.compile(loss=ks.losses.MAE,\n",
    "              optimizer=ks.optimizers.Adam(),\n",
    "              metrics=['mae'])\n",
    "\n",
    "# 3. fit the model\n",
    "model3.fit(a_extend, b_extend, epochs=90)"
   ],
   "id": "df66b91031197df5",
   "outputs": [
    {
     "name": "stdout",
     "output_type": "stream",
     "text": [
      "Epoch 1/90\n",
      "1/3 [=========>....................] - ETA: 0s - loss: 3.5362 - mae: 3.5362"
     ]
    },
    {
     "name": "stderr",
     "output_type": "stream",
     "text": [
      "2025-03-21 13:50:23.081780: I tensorflow/core/grappler/optimizers/custom_graph_optimizer_registry.cc:114] Plugin optimizer for device_type GPU is enabled.\n"
     ]
    },
    {
     "name": "stdout",
     "output_type": "stream",
     "text": [
      "3/3 [==============================] - 1s 268ms/step - loss: 3.2865 - mae: 3.2865\n",
      "Epoch 2/90\n",
      "3/3 [==============================] - 0s 8ms/step - loss: 3.2078 - mae: 3.2078\n",
      "Epoch 3/90\n",
      "3/3 [==============================] - 0s 8ms/step - loss: 3.3906 - mae: 3.3906\n",
      "Epoch 4/90\n",
      "3/3 [==============================] - 0s 7ms/step - loss: 3.2748 - mae: 3.2748\n",
      "Epoch 5/90\n",
      "3/3 [==============================] - 0s 7ms/step - loss: 3.1073 - mae: 3.1073\n",
      "Epoch 6/90\n",
      "3/3 [==============================] - 0s 7ms/step - loss: 3.0286 - mae: 3.0286\n",
      "Epoch 7/90\n",
      "3/3 [==============================] - 0s 8ms/step - loss: 3.0355 - mae: 3.0355\n",
      "Epoch 8/90\n",
      "3/3 [==============================] - 0s 7ms/step - loss: 3.0261 - mae: 3.0261\n",
      "Epoch 9/90\n",
      "3/3 [==============================] - 0s 6ms/step - loss: 3.0027 - mae: 3.0027\n",
      "Epoch 10/90\n",
      "3/3 [==============================] - 0s 6ms/step - loss: 2.9914 - mae: 2.9914\n",
      "Epoch 11/90\n",
      "3/3 [==============================] - 0s 6ms/step - loss: 2.9728 - mae: 2.9728\n",
      "Epoch 12/90\n",
      "3/3 [==============================] - 0s 6ms/step - loss: 2.9529 - mae: 2.9529\n",
      "Epoch 13/90\n",
      "3/3 [==============================] - 0s 6ms/step - loss: 2.9344 - mae: 2.9344\n",
      "Epoch 14/90\n",
      "3/3 [==============================] - 0s 6ms/step - loss: 2.9126 - mae: 2.9126\n",
      "Epoch 15/90\n",
      "3/3 [==============================] - 0s 6ms/step - loss: 2.8864 - mae: 2.8864\n",
      "Epoch 16/90\n",
      "3/3 [==============================] - 0s 6ms/step - loss: 2.8563 - mae: 2.8563\n",
      "Epoch 17/90\n",
      "3/3 [==============================] - 0s 6ms/step - loss: 2.8451 - mae: 2.8451\n",
      "Epoch 18/90\n",
      "3/3 [==============================] - 0s 6ms/step - loss: 2.8536 - mae: 2.8536\n",
      "Epoch 19/90\n",
      "3/3 [==============================] - 0s 6ms/step - loss: 2.8247 - mae: 2.8247\n",
      "Epoch 20/90\n",
      "3/3 [==============================] - 0s 6ms/step - loss: 2.7865 - mae: 2.7865\n",
      "Epoch 21/90\n",
      "3/3 [==============================] - 0s 6ms/step - loss: 2.7652 - mae: 2.7652\n",
      "Epoch 22/90\n",
      "3/3 [==============================] - 0s 6ms/step - loss: 2.7378 - mae: 2.7378\n",
      "Epoch 23/90\n",
      "3/3 [==============================] - 0s 6ms/step - loss: 2.7019 - mae: 2.7019\n",
      "Epoch 24/90\n",
      "3/3 [==============================] - 0s 6ms/step - loss: 2.6752 - mae: 2.6752\n",
      "Epoch 25/90\n",
      "3/3 [==============================] - 0s 6ms/step - loss: 2.6321 - mae: 2.6321\n",
      "Epoch 26/90\n",
      "3/3 [==============================] - 0s 6ms/step - loss: 2.5876 - mae: 2.5876\n",
      "Epoch 27/90\n",
      "3/3 [==============================] - 0s 6ms/step - loss: 2.5518 - mae: 2.5518\n",
      "Epoch 28/90\n",
      "3/3 [==============================] - 0s 6ms/step - loss: 2.5188 - mae: 2.5188\n",
      "Epoch 29/90\n",
      "3/3 [==============================] - 0s 6ms/step - loss: 2.4836 - mae: 2.4836\n",
      "Epoch 30/90\n",
      "3/3 [==============================] - 0s 6ms/step - loss: 2.4364 - mae: 2.4364\n",
      "Epoch 31/90\n",
      "3/3 [==============================] - 0s 6ms/step - loss: 2.4003 - mae: 2.4003\n",
      "Epoch 32/90\n",
      "3/3 [==============================] - 0s 6ms/step - loss: 2.3420 - mae: 2.3420\n",
      "Epoch 33/90\n",
      "3/3 [==============================] - 0s 7ms/step - loss: 2.3121 - mae: 2.3121\n",
      "Epoch 34/90\n",
      "3/3 [==============================] - 0s 8ms/step - loss: 2.2612 - mae: 2.2612\n",
      "Epoch 35/90\n",
      "3/3 [==============================] - 0s 8ms/step - loss: 2.2132 - mae: 2.2132\n",
      "Epoch 36/90\n",
      "3/3 [==============================] - 0s 9ms/step - loss: 2.1480 - mae: 2.1480\n",
      "Epoch 37/90\n",
      "3/3 [==============================] - 0s 9ms/step - loss: 2.0712 - mae: 2.0712\n",
      "Epoch 38/90\n",
      "3/3 [==============================] - 0s 8ms/step - loss: 2.0051 - mae: 2.0051\n",
      "Epoch 39/90\n",
      "3/3 [==============================] - 0s 9ms/step - loss: 1.9325 - mae: 1.9325\n",
      "Epoch 40/90\n",
      "3/3 [==============================] - 0s 8ms/step - loss: 1.8884 - mae: 1.8884\n",
      "Epoch 41/90\n",
      "3/3 [==============================] - 0s 10ms/step - loss: 1.8248 - mae: 1.8248\n",
      "Epoch 42/90\n",
      "3/3 [==============================] - 0s 9ms/step - loss: 1.7526 - mae: 1.7526\n",
      "Epoch 43/90\n",
      "3/3 [==============================] - 0s 8ms/step - loss: 1.6377 - mae: 1.6377\n",
      "Epoch 44/90\n",
      "3/3 [==============================] - 0s 8ms/step - loss: 1.5760 - mae: 1.5760\n",
      "Epoch 45/90\n",
      "3/3 [==============================] - 0s 8ms/step - loss: 1.4642 - mae: 1.4642\n",
      "Epoch 46/90\n",
      "3/3 [==============================] - 0s 6ms/step - loss: 1.3988 - mae: 1.3988\n",
      "Epoch 47/90\n",
      "3/3 [==============================] - 0s 7ms/step - loss: 1.2668 - mae: 1.2668\n",
      "Epoch 48/90\n",
      "3/3 [==============================] - 0s 6ms/step - loss: 1.1664 - mae: 1.1664\n",
      "Epoch 49/90\n",
      "3/3 [==============================] - 0s 6ms/step - loss: 1.0469 - mae: 1.0469\n",
      "Epoch 50/90\n",
      "3/3 [==============================] - 0s 8ms/step - loss: 1.0113 - mae: 1.0113\n",
      "Epoch 51/90\n",
      "3/3 [==============================] - 0s 7ms/step - loss: 0.8243 - mae: 0.8243\n",
      "Epoch 52/90\n",
      "3/3 [==============================] - 0s 7ms/step - loss: 0.6800 - mae: 0.6800\n",
      "Epoch 53/90\n",
      "3/3 [==============================] - 0s 8ms/step - loss: 0.5831 - mae: 0.5831\n",
      "Epoch 54/90\n",
      "3/3 [==============================] - 0s 8ms/step - loss: 0.3773 - mae: 0.3773\n",
      "Epoch 55/90\n",
      "3/3 [==============================] - 0s 8ms/step - loss: 0.2981 - mae: 0.2981\n",
      "Epoch 56/90\n",
      "3/3 [==============================] - 0s 6ms/step - loss: 0.2905 - mae: 0.2905\n",
      "Epoch 57/90\n",
      "3/3 [==============================] - 0s 6ms/step - loss: 0.2031 - mae: 0.2031\n",
      "Epoch 58/90\n",
      "3/3 [==============================] - 0s 6ms/step - loss: 0.3907 - mae: 0.3907\n",
      "Epoch 59/90\n",
      "3/3 [==============================] - 0s 6ms/step - loss: 0.3264 - mae: 0.3264\n",
      "Epoch 60/90\n",
      "3/3 [==============================] - 0s 7ms/step - loss: 0.4775 - mae: 0.4775\n",
      "Epoch 61/90\n",
      "3/3 [==============================] - 0s 6ms/step - loss: 0.3979 - mae: 0.3979\n",
      "Epoch 62/90\n",
      "3/3 [==============================] - 0s 7ms/step - loss: 0.2921 - mae: 0.2921\n",
      "Epoch 63/90\n",
      "3/3 [==============================] - 0s 7ms/step - loss: 0.2904 - mae: 0.2904\n",
      "Epoch 64/90\n",
      "3/3 [==============================] - 0s 6ms/step - loss: 0.1916 - mae: 0.1916\n",
      "Epoch 65/90\n",
      "3/3 [==============================] - 0s 6ms/step - loss: 0.1358 - mae: 0.1358\n",
      "Epoch 66/90\n",
      "3/3 [==============================] - 0s 7ms/step - loss: 0.1546 - mae: 0.1546\n",
      "Epoch 67/90\n",
      "3/3 [==============================] - 0s 6ms/step - loss: 0.2494 - mae: 0.2494\n",
      "Epoch 68/90\n",
      "3/3 [==============================] - 0s 6ms/step - loss: 0.1998 - mae: 0.1998\n",
      "Epoch 69/90\n",
      "3/3 [==============================] - 0s 6ms/step - loss: 0.1669 - mae: 0.1669\n",
      "Epoch 70/90\n",
      "3/3 [==============================] - 0s 6ms/step - loss: 0.1968 - mae: 0.1968\n",
      "Epoch 71/90\n",
      "3/3 [==============================] - 0s 6ms/step - loss: 0.3065 - mae: 0.3065\n",
      "Epoch 72/90\n",
      "3/3 [==============================] - 0s 6ms/step - loss: 0.4953 - mae: 0.4953\n",
      "Epoch 73/90\n",
      "3/3 [==============================] - 0s 6ms/step - loss: 0.2170 - mae: 0.2170\n",
      "Epoch 74/90\n",
      "3/3 [==============================] - 0s 6ms/step - loss: 0.0976 - mae: 0.0976\n",
      "Epoch 75/90\n",
      "3/3 [==============================] - 0s 6ms/step - loss: 0.0777 - mae: 0.0777\n",
      "Epoch 76/90\n",
      "3/3 [==============================] - 0s 6ms/step - loss: 0.1403 - mae: 0.1403\n",
      "Epoch 77/90\n",
      "3/3 [==============================] - 0s 6ms/step - loss: 0.1684 - mae: 0.1684\n",
      "Epoch 78/90\n",
      "3/3 [==============================] - 0s 6ms/step - loss: 0.1811 - mae: 0.1811\n",
      "Epoch 79/90\n",
      "3/3 [==============================] - 0s 6ms/step - loss: 0.1601 - mae: 0.1601\n",
      "Epoch 80/90\n",
      "3/3 [==============================] - 0s 6ms/step - loss: 0.1542 - mae: 0.1542\n",
      "Epoch 81/90\n",
      "3/3 [==============================] - 0s 6ms/step - loss: 0.1958 - mae: 0.1958\n",
      "Epoch 82/90\n",
      "3/3 [==============================] - 0s 7ms/step - loss: 0.1398 - mae: 0.1398\n",
      "Epoch 83/90\n",
      "3/3 [==============================] - 0s 6ms/step - loss: 0.0738 - mae: 0.0738\n",
      "Epoch 84/90\n",
      "3/3 [==============================] - 0s 6ms/step - loss: 0.0990 - mae: 0.0990\n",
      "Epoch 85/90\n",
      "3/3 [==============================] - 0s 6ms/step - loss: 0.0698 - mae: 0.0698\n",
      "Epoch 86/90\n",
      "3/3 [==============================] - 0s 6ms/step - loss: 0.0998 - mae: 0.0998\n",
      "Epoch 87/90\n",
      "3/3 [==============================] - 0s 6ms/step - loss: 0.1061 - mae: 0.1061\n",
      "Epoch 88/90\n",
      "3/3 [==============================] - 0s 7ms/step - loss: 0.0770 - mae: 0.0770\n",
      "Epoch 89/90\n",
      "3/3 [==============================] - 0s 6ms/step - loss: 0.0804 - mae: 0.0804\n",
      "Epoch 90/90\n",
      "3/3 [==============================] - 0s 6ms/step - loss: 0.0353 - mae: 0.0353\n"
     ]
    },
    {
     "data": {
      "text/plain": [
       "<keras.src.callbacks.History at 0x3147cc5e0>"
      ]
     },
     "execution_count": 188,
     "metadata": {},
     "output_type": "execute_result"
    }
   ],
   "execution_count": 188
  },
  {
   "metadata": {
    "ExecuteTime": {
     "end_time": "2025-03-21T12:50:31.039716Z",
     "start_time": "2025-03-21T12:50:30.706287Z"
    }
   },
   "cell_type": "code",
   "source": [
    "b_extend_predict = model3.predict(a_test)\n",
    "b_extend_predict"
   ],
   "id": "defb8bc2f7883ddb",
   "outputs": [
    {
     "name": "stderr",
     "output_type": "stream",
     "text": [
      "2025-03-21 13:50:30.757376: I tensorflow/core/grappler/optimizers/custom_graph_optimizer_registry.cc:114] Plugin optimizer for device_type GPU is enabled.\n"
     ]
    },
    {
     "name": "stdout",
     "output_type": "stream",
     "text": [
      "WARNING:tensorflow:5 out of the last 12 calls to <function Model.make_predict_function.<locals>.predict_function at 0x310ea9c10> triggered tf.function retracing. Tracing is expensive and the excessive number of tracings could be due to (1) creating @tf.function repeatedly in a loop, (2) passing tensors with different shapes, (3) passing Python objects instead of tensors. For (1), please define your @tf.function outside of the loop. For (2), @tf.function has reduce_retracing=True option that can avoid unnecessary retracing. For (3), please refer to https://www.tensorflow.org/guide/function#controlling_retracing and https://www.tensorflow.org/api_docs/python/tf/function for  more details.\n"
     ]
    },
    {
     "name": "stderr",
     "output_type": "stream",
     "text": [
      "WARNING:tensorflow:5 out of the last 12 calls to <function Model.make_predict_function.<locals>.predict_function at 0x310ea9c10> triggered tf.function retracing. Tracing is expensive and the excessive number of tracings could be due to (1) creating @tf.function repeatedly in a loop, (2) passing tensors with different shapes, (3) passing Python objects instead of tensors. For (1), please define your @tf.function outside of the loop. For (2), @tf.function has reduce_retracing=True option that can avoid unnecessary retracing. For (3), please refer to https://www.tensorflow.org/guide/function#controlling_retracing and https://www.tensorflow.org/api_docs/python/tf/function for  more details.\n"
     ]
    },
    {
     "name": "stdout",
     "output_type": "stream",
     "text": [
      "1/1 [==============================] - 0s 304ms/step\n"
     ]
    },
    {
     "data": {
      "text/plain": [
       "array([[22.918259],\n",
       "       [25.909616],\n",
       "       [28.900974],\n",
       "       [31.892328],\n",
       "       [34.883694],\n",
       "       [37.87505 ],\n",
       "       [40.866417],\n",
       "       [43.857773],\n",
       "       [46.849136],\n",
       "       [49.8405  ]], dtype=float32)"
      ]
     },
     "execution_count": 189,
     "metadata": {},
     "output_type": "execute_result"
    }
   ],
   "execution_count": 189
  },
  {
   "metadata": {
    "ExecuteTime": {
     "end_time": "2025-03-21T12:51:26.390574Z",
     "start_time": "2025-03-21T12:51:26.172887Z"
    }
   },
   "cell_type": "code",
   "source": [
    "# plt.figure(figsize=(10, 7))\n",
    "plt.scatter(a, b, c='blue', label='Original train')\n",
    "plt.scatter(a_test, b_test, c='green', label='Original test')\n",
    "plt.scatter(a_test, b_extend_predict, c='red', label='Extended prediction')\n",
    "# plt.scatter(a_test, b_predict, c='yellow', label='Original prediction')\n",
    "plt.legend()"
   ],
   "id": "9d2ee387990697c2",
   "outputs": [
    {
     "data": {
      "text/plain": [
       "<matplotlib.legend.Legend at 0x312ec14c0>"
      ]
     },
     "execution_count": 190,
     "metadata": {},
     "output_type": "execute_result"
    },
    {
     "data": {
      "text/plain": [
       "<Figure size 640x480 with 1 Axes>"
      ],
      "image/png": "[encoded data removed]"
     },
     "metadata": {},
     "output_type": "display_data"
    }
   ],
   "execution_count": 190
  },
  {
   "metadata": {},
   "cell_type": "markdown",
   "source": [
    "removing a little bit and adding a little bit generates much more data for learning. This is a good way to generate more data for learning. This is called data augmentation. (really, just invented it for myself)\n",
    "\n",
    "how are tricks like this called in the real world copilot? Data augmentation, data preprocessing, data cleaning, data wrangling, data transformation"
   ],
   "id": "4565220cce431d02"
  },
  {
   "metadata": {},
   "cell_type": "markdown",
   "source": [
    "### Welche Optimizer gibt es?\n",
    "- Stochastic Gradient Descent (SGD): Updates weights based on the gradient of the loss function.\n",
    "- Adam: Adaptive Moment Estimation, combines the advantages of RMSprop and momentum.\n",
    "- RMSprop: Divides the learning rate by the moving average of the root mean square of the gradients.\n",
    "\n",
    "### Welche Activation funktionen gibt es?\n",
    "- ReLU\n",
    "- Sigmoid\n",
    "- Tanh\n",
    "\n",
    "Testing summary and building a nn"
   ],
   "id": "9e5feb4c30014cc7"
  },
  {
   "metadata": {
    "ExecuteTime": {
     "end_time": "2025-03-21T12:51:56.020109Z",
     "start_time": "2025-03-21T12:51:55.985275Z"
    }
   },
   "cell_type": "code",
   "source": [
    "model4 = ks.Sequential()\n",
    "model4.add(ks.layers.Input(shape=(1,)))\n",
    "model4.add(ks.layers.Dense(20, activation='relu'))\n",
    "model4.add(ks.layers.Dense(20, activation='relu'))\n",
    "model4.add(ks.layers.Dense(20, activation='relu'))\n",
    "model4.add(ks.layers.Dense(1))\n",
    "\n",
    "# 2. compile the model\n",
    "model4.compile(loss=ks.losses.MeanAbsoluteError,\n",
    "              optimizer=ks.optimizers.Adam(),\n",
    "              metrics=['mae'])\n",
    "\n",
    "# 3. fit the model\n",
    "# model3.fit(a_extend, b_extend, epochs=90)"
   ],
   "id": "4f2c2600dbec3f2c",
   "outputs": [],
   "execution_count": 191
  },
  {
   "metadata": {
    "ExecuteTime": {
     "end_time": "2025-03-21T12:52:00.902638Z",
     "start_time": "2025-03-21T12:52:00.899338Z"
    }
   },
   "cell_type": "code",
   "source": "model4.build()",
   "id": "91540ef54d3dec2e",
   "outputs": [],
   "execution_count": 192
  },
  {
   "metadata": {
    "ExecuteTime": {
     "end_time": "2025-03-21T12:52:06.733777Z",
     "start_time": "2025-03-21T12:52:06.721174Z"
    }
   },
   "cell_type": "code",
   "source": "model4.summary()",
   "id": "a9919b2268d7a545",
   "outputs": [
    {
     "name": "stdout",
     "output_type": "stream",
     "text": [
      "Model: \"sequential_38\"\n",
      "_________________________________________________________________\n",
      " Layer (type)                Output Shape              Param #   \n",
      "=================================================================\n",
      " dense_87 (Dense)            (None, 20)                40        \n",
      "                                                                 \n",
      " dense_88 (Dense)            (None, 20)                420       \n",
      "                                                                 \n",
      " dense_89 (Dense)            (None, 20)                420       \n",
      "                                                                 \n",
      " dense_90 (Dense)            (None, 1)                 21        \n",
      "                                                                 \n",
      "=================================================================\n",
      "Total params: 901 (3.52 KB)\n",
      "Trainable params: 901 (3.52 KB)\n",
      "Non-trainable params: 0 (0.00 Byte)\n",
      "_________________________________________________________________\n"
     ]
    }
   ],
   "execution_count": 193
  },
  {
   "metadata": {},
   "cell_type": "markdown",
   "source": [
    "Total params sind die neuronen welche träiniert werden können\n",
    "trainable sind diese die ihre werte verändern können\n",
    "non trainable, analag dazu.. sind häufig bereits gelernte implementierte nn die in das nn integriert worden sind"
   ],
   "id": "4c5a840b2aec0ea6"
  }
 ],
 "metadata": {
  "kernelspec": {
   "display_name": "Python 3",
   "language": "python",
   "name": "python3"
  },
  "language_info": {
   "codemirror_mode": {
    "name": "ipython",
    "version": 2
   },
   "file_extension": ".py",
   "mimetype": "text/x-python",
   "name": "python",
   "nbconvert_exporter": "python",
   "pygments_lexer": "ipython2",
   "version": "2.7.6"
  }
 },
 "nbformat": 4,
 "nbformat_minor": 5
}
