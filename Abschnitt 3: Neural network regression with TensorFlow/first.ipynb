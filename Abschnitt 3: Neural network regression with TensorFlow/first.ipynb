{
 "cells": [
  {
   "metadata": {},
   "cell_type": "markdown",
   "source": [
    "## Video 39\n",
    "\n",
    "\n",
    " What is a regression problem?\n",
    " - predict something out of the data, the question is not a yes or no question, but a number. So the solution might be, the thing on that image is a cat for about 75%.\n",
    "  - Questions like: How much, how many, how ... can be answered with regression."
   ],
   "id": "b94301de5172f179"
  },
  {
   "metadata": {},
   "cell_type": "markdown",
   "source": [
    "## Video 40\n",
    "\n",
    "\n",
    "What kind of data is needed for a regression problem?\n",
    "Ok some kind of data what you think are relevant to predict the answer from the neural network.\n",
    "\n",
    "The way data has to be converted for a nn is for example the one hot encoding. So this means you create a list as long as all possible interpretations the data can have.\n",
    "Is the data a cat or a dog or a mouse? One-Hot list maybe [0,1,0] for a dog.\n",
    "\n",
    "This interpretation is also called a feature encoding and data representation.\n",
    "1. Categorical Data Encoding\n",
    "    - One-Hot Encoding: Converts categorical variables into binary vectors.\n",
    "    - Label Encoding: Assigns each category a unique integer.\n",
    "    - Ordinal Encoding: Like label encoding, but assumes an order in the categories.\n",
    "    - Binary Encoding: Converts category indices to binary and stores them in multiple bits.\n",
    "    - Target Encoding (Mean Encoding): Replaces categories with the mean of the target variable (useful for supervised learning).\n",
    "2. Numerical Data Scaling & Normalization\n",
    "    - Min-Max Scaling: Rescales values between 0 and 1.\n",
    "    - Standardization (Z-score normalization): Centers values around 0 with unit variance.\n",
    "    - Log Transformation: Used for skewed distributions.\n",
    "    - Quantile Transformation: Maps data to a normal distribution.\n",
    "3. Text Data Encoding\n",
    "    - Bag of Words (BoW): Counts word occurrences.\n",
    "    - TF-IDF (Term Frequency-Inverse Document Frequency): Adjusts word importance based on frequency across documents.\n",
    "    - Word Embeddings (Word2Vec, GloVe, FastText): Maps words to dense vector spaces.\n",
    "    - Character-Level Encoding: Similar to word embeddings, but on a character level.\n",
    "4. Image Data Encoding\n",
    "    - Raw Pixel Values: Direct input of pixel intensities.\n",
    "    - Normalized Pixel Values: Pixels scaled to a range (e.g., 0-1 or -1 to 1).\n",
    "    - Feature Extraction (HOG, SIFT, CNNs): Extracts meaningful features instead of raw pixels.\n",
    "5. Graph Data Encoding\n",
    "    - Adjacency Matrix Encoding: Represents connections between nodes as a matrix.\n",
    "    - Graph Embeddings (Node2Vec, GCNs): Maps nodes to vector spaces.\n",
    "6. Time Series & Sequential Data Encoding\n",
    "    - Sliding Windows: Transforms time series into overlapping windows for learning.\n",
    "    - Fourier Transform / Wavelet Transform: Extracts frequency-domain features.\n",
    "    - Lag Features: Uses past values as inputs.\n",
    "\n"
   ],
   "id": "3032e7a1fccee16b"
  },
  {
   "metadata": {},
   "cell_type": "markdown",
   "source": [
    "## Video 41\n",
    "\n",
    "Architectures of Neural Networks\n",
    "1. Feedforward Neural Networks (FNNs)\n",
    "    - Basic neural network architecture\n",
    "    - No feedback loops between neurons\n",
    "    - Used for regression and classification tasks.\n",
    "    - Variants\n",
    "        - Single-layer perceptron: One layer of input nodes and one layer of output nodes, no hidden layers.\n",
    "        - Multi-layer perceptron: Contains one or more hidden layers between the input and output layers.\n",
    "2. Convolutional Neural Networks (CNNs)\n",
    "    - Specialized for image data\n",
    "    - Contains convolutional layers for feature extraction\n",
    "        - Convolutional layers: Apply filters to input data to detect patterns.\n",
    "        - Pooling layers: Reduce spatial dimensions of the data.\n",
    "        - Fully connected layers: Perform classification based on extracted features.\n",
    "    - Used for image classification, object detection, and segmentation tasks.\n",
    "3. Recurrent Neural Networks (RNNs)\n",
    "4. Transformer Neural Networks\n",
    "5. Autoencoder Neural Networks\n",
    "6. Generative Adversarial Networks (GANs)\n",
    "7. Graph Neural Networks (GNNs)\n",
    "8. Spike Neural Networks\n",
    "9. etc.\n",
    "\n"
   ],
   "id": "999d52f46faf3a78"
  },
  {
   "metadata": {},
   "cell_type": "markdown",
   "source": [
    "## Video 42\n",
    "\n",
    "**Definition of a regression problem:**\n",
    "Method of the smallest absolute deviation ..."
   ],
   "id": "d51e70067bd464a9"
  },
  {
   "metadata": {
    "ExecuteTime": {
     "end_time": "2025-02-01T08:08:28.112518Z",
     "start_time": "2025-02-01T08:08:28.109130Z"
    }
   },
   "cell_type": "code",
   "source": [
    "# disable the NUMA warning/support\n",
    "import os\n",
    "os.environ['TF_NUMA_ENABLED'] = '0'"
   ],
   "id": "71bad6c4345fea1d",
   "outputs": [],
   "execution_count": 17
  },
  {
   "metadata": {
    "ExecuteTime": {
     "end_time": "2025-02-01T08:08:28.129314Z",
     "start_time": "2025-02-01T08:08:28.126364Z"
    }
   },
   "cell_type": "code",
   "source": [
    "import numpy as np\n",
    "import tensorflow as tf\n",
    "import matplotlib.pyplot as plt\n",
    "import pandas as pd\n",
    "# from tensorflow import keras as ks\n",
    "import keras as ks\n",
    "\n",
    "print(tf.__version__)"
   ],
   "id": "ef4d879f9231ec8a",
   "outputs": [
    {
     "name": "stdout",
     "output_type": "stream",
     "text": [
      "2.16.2\n"
     ]
    }
   ],
   "execution_count": 18
  },
  {
   "metadata": {
    "ExecuteTime": {
     "end_time": "2025-02-01T08:08:28.187757Z",
     "start_time": "2025-02-01T08:08:28.143992Z"
    }
   },
   "cell_type": "code",
   "source": [
    "# create some data for first regression example\n",
    "\n",
    "X = np.array([-7.0, -4.0, -1.0, 2.0, 5.0, 8.0, 11.0, 14.0])\n",
    "y = np.array([3.0, 6.0, 9.0, 12.0, 15.0, 18.0, 21.0, 24.0])\n",
    "\n",
    "plt.scatter(X, y)"
   ],
   "id": "fef168d166d09045",
   "outputs": [
    {
     "data": {
      "text/plain": [
       "<matplotlib.collections.PathCollection at 0x30308c6d0>"
      ]
     },
     "execution_count": 19,
     "metadata": {},
     "output_type": "execute_result"
    },
    {
     "data": {
      "text/plain": [
       "<Figure size 640x480 with 1 Axes>"
      ],
      "image/png": "[encoded data removed]"
     },
     "metadata": {},
     "output_type": "display_data"
    }
   ],
   "execution_count": 19
  },
  {
   "metadata": {
    "ExecuteTime": {
     "end_time": "2025-02-01T08:08:28.201119Z",
     "start_time": "2025-02-01T08:08:28.197586Z"
    }
   },
   "cell_type": "code",
   "source": [
    "# check the pattern in the data idea\n",
    "X + 10"
   ],
   "id": "d11d7047d0cf1154",
   "outputs": [
    {
     "data": {
      "text/plain": [
       "array([ 3.,  6.,  9., 12., 15., 18., 21., 24.])"
      ]
     },
     "execution_count": 20,
     "metadata": {},
     "output_type": "execute_result"
    }
   ],
   "execution_count": 20
  },
  {
   "metadata": {
    "ExecuteTime": {
     "end_time": "2025-02-01T08:08:28.215379Z",
     "start_time": "2025-02-01T08:08:28.212094Z"
    }
   },
   "cell_type": "code",
   "source": "y == X + 10",
   "id": "f54279a2c46b5295",
   "outputs": [
    {
     "data": {
      "text/plain": [
       "array([ True,  True,  True,  True,  True,  True,  True,  True])"
      ]
     },
     "execution_count": 21,
     "metadata": {},
     "output_type": "execute_result"
    }
   ],
   "execution_count": 21
  },
  {
   "metadata": {
    "ExecuteTime": {
     "end_time": "2025-02-01T08:08:28.233348Z",
     "start_time": "2025-02-01T08:08:28.227334Z"
    }
   },
   "cell_type": "code",
   "source": [
    "# example of housing info, video example\n",
    "house_info = tf.constant(['bedroom', 'bathroom', 'garage'])\n",
    "house_price = tf.constant([939700])\n",
    "house_info, house_price"
   ],
   "id": "df75da7178243e93",
   "outputs": [
    {
     "data": {
      "text/plain": [
       "(<tf.Tensor: shape=(3,), dtype=string, numpy=array([b'bedroom', b'bathroom', b'garage'], dtype=object)>,\n",
       " <tf.Tensor: shape=(1,), dtype=int32, numpy=array([939700], dtype=int32)>)"
      ]
     },
     "execution_count": 22,
     "metadata": {},
     "output_type": "execute_result"
    }
   ],
   "execution_count": 22
  },
  {
   "metadata": {},
   "cell_type": "markdown",
   "source": [
    "in this example the house_info has  the shape of 3 and the house_price has the shape of 1.\n",
    "So what wr are trying to do is to make conclusions of the house_price out of the house_info."
   ],
   "id": "2e3deb930ecceaf5"
  }
 ],
 "metadata": {
  "kernelspec": {
   "display_name": "Python 3",
   "language": "python",
   "name": "python3"
  },
  "language_info": {
   "codemirror_mode": {
    "name": "ipython",
    "version": 2
   },
   "file_extension": ".py",
   "mimetype": "text/x-python",
   "name": "python",
   "nbconvert_exporter": "python",
   "pygments_lexer": "ipython2",
   "version": "2.7.6"
  }
 },
 "nbformat": 4,
 "nbformat_minor": 5
}
